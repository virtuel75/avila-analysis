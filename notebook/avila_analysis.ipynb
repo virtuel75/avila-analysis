{
  "nbformat": 4,
  "nbformat_minor": 0,
  "metadata": {
    "colab": {
      "name": "avila_analysis.ipynb",
      "provenance": [],
      "collapsed_sections": [],
      "toc_visible": true
    },
    "kernelspec": {
      "name": "python3",
      "display_name": "Python 3"
    }
  },
  "cells": [
    {
      "cell_type": "markdown",
      "metadata": {
        "id": "RjhGXsHNew0V"
      },
      "source": [
        "### Lecture & restructuration des données"
      ]
    },
    {
      "cell_type": "markdown",
      "metadata": {
        "id": "x1ZHUnxJgH9J"
      },
      "source": [
        "Les données d'analyse d'Avila nous sont données sous 2 ensemble de données :\r\n",
        "\r\n",
        "*   avila-tr : contenant des données d'entrainement\r\n",
        "*   avila-ts : contenant des données de test\r\n",
        "\r\n"
      ]
    },
    {
      "cell_type": "code",
      "metadata": {
        "id": "pVugWPGQhgXw"
      },
      "source": [
        "# train file\r\n",
        "avila_tr_filename = './dataset/avila-tr.txt'\r\n",
        "\r\n",
        "# test file\r\n",
        "avila_ts_filename = './dataset/avila-ts.txt'"
      ],
      "execution_count": 132,
      "outputs": []
    },
    {
      "cell_type": "code",
      "metadata": {
        "id": "f1TuqQ7eaHbY"
      },
      "source": [
        "import pandas as pd\r\n",
        "\r\n",
        "df_train = pd.read_csv(avila_tr_filename, '\\n', ',', header=None)\r\n",
        "df_test = pd.read_csv(avila_ts_filename, '\\n', ',', header=None)"
      ],
      "execution_count": 133,
      "outputs": []
    },
    {
      "cell_type": "markdown",
      "metadata": {
        "id": "5WVDO0lwf8i0"
      },
      "source": [
        "##### Visionnage des datasets"
      ]
    },
    {
      "cell_type": "code",
      "metadata": {
        "id": "dmQznMXSfYDF",
        "outputId": "8b3b19d9-a286-46d8-d550-0c0958577638",
        "colab": {
          "base_uri": "https://localhost:8080/",
          "height": 0
        }
      },
      "source": [
        "df_train.sample(5)"
      ],
      "execution_count": 134,
      "outputs": [
        {
          "output_type": "execute_result",
          "data": {
            "text/html": [
              "<div>\n",
              "<style scoped>\n",
              "    .dataframe tbody tr th:only-of-type {\n",
              "        vertical-align: middle;\n",
              "    }\n",
              "\n",
              "    .dataframe tbody tr th {\n",
              "        vertical-align: top;\n",
              "    }\n",
              "\n",
              "    .dataframe thead th {\n",
              "        text-align: right;\n",
              "    }\n",
              "</style>\n",
              "<table border=\"1\" class=\"dataframe\">\n",
              "  <thead>\n",
              "    <tr style=\"text-align: right;\">\n",
              "      <th></th>\n",
              "      <th>0</th>\n",
              "      <th>1</th>\n",
              "      <th>2</th>\n",
              "      <th>3</th>\n",
              "      <th>4</th>\n",
              "      <th>5</th>\n",
              "      <th>6</th>\n",
              "      <th>7</th>\n",
              "      <th>8</th>\n",
              "      <th>9</th>\n",
              "      <th>10</th>\n",
              "    </tr>\n",
              "  </thead>\n",
              "  <tbody>\n",
              "    <tr>\n",
              "      <th>4412</th>\n",
              "      <td>0.080916</td>\n",
              "      <td>0.203385</td>\n",
              "      <td>0.249852</td>\n",
              "      <td>-0.423061</td>\n",
              "      <td>0.261718</td>\n",
              "      <td>-0.141884</td>\n",
              "      <td>1.503691</td>\n",
              "      <td>-0.530992</td>\n",
              "      <td>0.251173</td>\n",
              "      <td>-0.759485</td>\n",
              "      <td>H</td>\n",
              "    </tr>\n",
              "    <tr>\n",
              "      <th>6795</th>\n",
              "      <td>-0.017834</td>\n",
              "      <td>-0.330495</td>\n",
              "      <td>0.488131</td>\n",
              "      <td>-0.183313</td>\n",
              "      <td>0.172340</td>\n",
              "      <td>-0.474083</td>\n",
              "      <td>0.106925</td>\n",
              "      <td>-0.249916</td>\n",
              "      <td>-0.029461</td>\n",
              "      <td>-0.363510</td>\n",
              "      <td>F</td>\n",
              "    </tr>\n",
              "    <tr>\n",
              "      <th>10190</th>\n",
              "      <td>-0.079554</td>\n",
              "      <td>0.187683</td>\n",
              "      <td>0.335206</td>\n",
              "      <td>0.745008</td>\n",
              "      <td>0.172340</td>\n",
              "      <td>0.231839</td>\n",
              "      <td>-0.081827</td>\n",
              "      <td>0.532661</td>\n",
              "      <td>1.810246</td>\n",
              "      <td>0.397422</td>\n",
              "      <td>X</td>\n",
              "    </tr>\n",
              "    <tr>\n",
              "      <th>187</th>\n",
              "      <td>0.142636</td>\n",
              "      <td>-0.448263</td>\n",
              "      <td>0.438342</td>\n",
              "      <td>0.978909</td>\n",
              "      <td>0.261718</td>\n",
              "      <td>1.643684</td>\n",
              "      <td>-0.044076</td>\n",
              "      <td>-0.621721</td>\n",
              "      <td>-0.434820</td>\n",
              "      <td>1.668154</td>\n",
              "      <td>F</td>\n",
              "    </tr>\n",
              "    <tr>\n",
              "      <th>9813</th>\n",
              "      <td>0.043885</td>\n",
              "      <td>0.407516</td>\n",
              "      <td>0.047137</td>\n",
              "      <td>0.460921</td>\n",
              "      <td>0.261718</td>\n",
              "      <td>1.602159</td>\n",
              "      <td>0.748682</td>\n",
              "      <td>-1.164362</td>\n",
              "      <td>-0.559546</td>\n",
              "      <td>1.102153</td>\n",
              "      <td>F</td>\n",
              "    </tr>\n",
              "  </tbody>\n",
              "</table>\n",
              "</div>"
            ],
            "text/plain": [
              "             0         1         2         3   ...        7         8         9   10\n",
              "4412   0.080916  0.203385  0.249852 -0.423061  ... -0.530992  0.251173 -0.759485   H\n",
              "6795  -0.017834 -0.330495  0.488131 -0.183313  ... -0.249916 -0.029461 -0.363510   F\n",
              "10190 -0.079554  0.187683  0.335206  0.745008  ...  0.532661  1.810246  0.397422   X\n",
              "187    0.142636 -0.448263  0.438342  0.978909  ... -0.621721 -0.434820  1.668154   F\n",
              "9813   0.043885  0.407516  0.047137  0.460921  ... -1.164362 -0.559546  1.102153   F\n",
              "\n",
              "[5 rows x 11 columns]"
            ]
          },
          "metadata": {
            "tags": []
          },
          "execution_count": 134
        }
      ]
    },
    {
      "cell_type": "code",
      "metadata": {
        "id": "RDZjVqnVfnhM",
        "outputId": "9b4a6274-6a75-413e-d088-e67f4ef71837",
        "colab": {
          "base_uri": "https://localhost:8080/",
          "height": 0
        }
      },
      "source": [
        "df_test.sample(5)"
      ],
      "execution_count": 135,
      "outputs": [
        {
          "output_type": "execute_result",
          "data": {
            "text/html": [
              "<div>\n",
              "<style scoped>\n",
              "    .dataframe tbody tr th:only-of-type {\n",
              "        vertical-align: middle;\n",
              "    }\n",
              "\n",
              "    .dataframe tbody tr th {\n",
              "        vertical-align: top;\n",
              "    }\n",
              "\n",
              "    .dataframe thead th {\n",
              "        text-align: right;\n",
              "    }\n",
              "</style>\n",
              "<table border=\"1\" class=\"dataframe\">\n",
              "  <thead>\n",
              "    <tr style=\"text-align: right;\">\n",
              "      <th></th>\n",
              "      <th>0</th>\n",
              "      <th>1</th>\n",
              "      <th>2</th>\n",
              "      <th>3</th>\n",
              "      <th>4</th>\n",
              "      <th>5</th>\n",
              "      <th>6</th>\n",
              "      <th>7</th>\n",
              "      <th>8</th>\n",
              "      <th>9</th>\n",
              "      <th>10</th>\n",
              "    </tr>\n",
              "  </thead>\n",
              "  <tbody>\n",
              "    <tr>\n",
              "      <th>2548</th>\n",
              "      <td>0.080916</td>\n",
              "      <td>-0.291239</td>\n",
              "      <td>0.356544</td>\n",
              "      <td>0.226662</td>\n",
              "      <td>0.261718</td>\n",
              "      <td>-0.141884</td>\n",
              "      <td>0.182426</td>\n",
              "      <td>0.440574</td>\n",
              "      <td>0.282354</td>\n",
              "      <td>-0.109219</td>\n",
              "      <td>F</td>\n",
              "    </tr>\n",
              "    <tr>\n",
              "      <th>9926</th>\n",
              "      <td>0.192011</td>\n",
              "      <td>0.085618</td>\n",
              "      <td>0.278304</td>\n",
              "      <td>-1.347355</td>\n",
              "      <td>0.261718</td>\n",
              "      <td>-0.681707</td>\n",
              "      <td>0.182426</td>\n",
              "      <td>-0.113134</td>\n",
              "      <td>0.188810</td>\n",
              "      <td>-0.589760</td>\n",
              "      <td>F</td>\n",
              "    </tr>\n",
              "    <tr>\n",
              "      <th>1</th>\n",
              "      <td>0.204355</td>\n",
              "      <td>-0.354049</td>\n",
              "      <td>0.320980</td>\n",
              "      <td>0.410166</td>\n",
              "      <td>-0.989576</td>\n",
              "      <td>-2.218127</td>\n",
              "      <td>0.220177</td>\n",
              "      <td>0.181844</td>\n",
              "      <td>2.090879</td>\n",
              "      <td>-2.009758</td>\n",
              "      <td>A</td>\n",
              "    </tr>\n",
              "    <tr>\n",
              "      <th>129</th>\n",
              "      <td>-3.498799</td>\n",
              "      <td>-0.087108</td>\n",
              "      <td>0.438342</td>\n",
              "      <td>-1.227108</td>\n",
              "      <td>-4.922215</td>\n",
              "      <td>-0.515608</td>\n",
              "      <td>0.522180</td>\n",
              "      <td>-0.173885</td>\n",
              "      <td>0.064084</td>\n",
              "      <td>-0.614606</td>\n",
              "      <td>C</td>\n",
              "    </tr>\n",
              "    <tr>\n",
              "      <th>695</th>\n",
              "      <td>0.006853</td>\n",
              "      <td>-0.181323</td>\n",
              "      <td>0.388552</td>\n",
              "      <td>0.301377</td>\n",
              "      <td>-0.095795</td>\n",
              "      <td>0.273364</td>\n",
              "      <td>0.371178</td>\n",
              "      <td>-0.094554</td>\n",
              "      <td>-0.060642</td>\n",
              "      <td>0.166325</td>\n",
              "      <td>A</td>\n",
              "    </tr>\n",
              "  </tbody>\n",
              "</table>\n",
              "</div>"
            ],
            "text/plain": [
              "            0         1         2         3   ...        7         8         9   10\n",
              "2548  0.080916 -0.291239  0.356544  0.226662  ...  0.440574  0.282354 -0.109219   F\n",
              "9926  0.192011  0.085618  0.278304 -1.347355  ... -0.113134  0.188810 -0.589760   F\n",
              "1     0.204355 -0.354049  0.320980  0.410166  ...  0.181844  2.090879 -2.009758   A\n",
              "129  -3.498799 -0.087108  0.438342 -1.227108  ... -0.173885  0.064084 -0.614606   C\n",
              "695   0.006853 -0.181323  0.388552  0.301377  ... -0.094554 -0.060642  0.166325   A\n",
              "\n",
              "[5 rows x 11 columns]"
            ]
          },
          "metadata": {
            "tags": []
          },
          "execution_count": 135
        }
      ]
    },
    {
      "cell_type": "markdown",
      "metadata": {
        "id": "0CJBEHRRfse1"
      },
      "source": [
        "##### Renommage des colonnes"
      ]
    },
    {
      "cell_type": "code",
      "metadata": {
        "id": "Im2f6HdgfXjc"
      },
      "source": [
        "columns = [f'F{i}' for i in range(10)] + ['Class']\r\n",
        "\r\n",
        "df_train.columns = columns\r\n",
        "df_test.columns = columns"
      ],
      "execution_count": 136,
      "outputs": []
    },
    {
      "cell_type": "code",
      "metadata": {
        "colab": {
          "base_uri": "https://localhost:8080/",
          "height": 0
        },
        "id": "8sC4MWnGbx4L",
        "outputId": "730e4493-151e-4919-b61e-1c1fcc0e2885"
      },
      "source": [
        "df_train.sample(5)"
      ],
      "execution_count": 137,
      "outputs": [
        {
          "output_type": "execute_result",
          "data": {
            "text/html": [
              "<div>\n",
              "<style scoped>\n",
              "    .dataframe tbody tr th:only-of-type {\n",
              "        vertical-align: middle;\n",
              "    }\n",
              "\n",
              "    .dataframe tbody tr th {\n",
              "        vertical-align: top;\n",
              "    }\n",
              "\n",
              "    .dataframe thead th {\n",
              "        text-align: right;\n",
              "    }\n",
              "</style>\n",
              "<table border=\"1\" class=\"dataframe\">\n",
              "  <thead>\n",
              "    <tr style=\"text-align: right;\">\n",
              "      <th></th>\n",
              "      <th>F0</th>\n",
              "      <th>F1</th>\n",
              "      <th>F2</th>\n",
              "      <th>F3</th>\n",
              "      <th>F4</th>\n",
              "      <th>F5</th>\n",
              "      <th>F6</th>\n",
              "      <th>F7</th>\n",
              "      <th>F8</th>\n",
              "      <th>F9</th>\n",
              "      <th>Class</th>\n",
              "    </tr>\n",
              "  </thead>\n",
              "  <tbody>\n",
              "    <tr>\n",
              "      <th>8820</th>\n",
              "      <td>-0.091897</td>\n",
              "      <td>0.344707</td>\n",
              "      <td>0.182281</td>\n",
              "      <td>0.722749</td>\n",
              "      <td>0.261718</td>\n",
              "      <td>0.397939</td>\n",
              "      <td>0.371178</td>\n",
              "      <td>0.045257</td>\n",
              "      <td>0.531806</td>\n",
              "      <td>0.276159</td>\n",
              "      <td>H</td>\n",
              "    </tr>\n",
              "    <tr>\n",
              "      <th>719</th>\n",
              "      <td>-0.165960</td>\n",
              "      <td>-0.267686</td>\n",
              "      <td>0.256965</td>\n",
              "      <td>0.051662</td>\n",
              "      <td>0.261718</td>\n",
              "      <td>0.979286</td>\n",
              "      <td>0.220177</td>\n",
              "      <td>-0.396813</td>\n",
              "      <td>-0.341275</td>\n",
              "      <td>0.877313</td>\n",
              "      <td>A</td>\n",
              "    </tr>\n",
              "    <tr>\n",
              "      <th>2481</th>\n",
              "      <td>0.426544</td>\n",
              "      <td>0.588093</td>\n",
              "      <td>0.160942</td>\n",
              "      <td>-0.889699</td>\n",
              "      <td>0.261718</td>\n",
              "      <td>-0.017310</td>\n",
              "      <td>0.484429</td>\n",
              "      <td>1.091339</td>\n",
              "      <td>0.251173</td>\n",
              "      <td>-0.163672</td>\n",
              "      <td>F</td>\n",
              "    </tr>\n",
              "    <tr>\n",
              "      <th>54</th>\n",
              "      <td>-0.277055</td>\n",
              "      <td>0.038511</td>\n",
              "      <td>0.420560</td>\n",
              "      <td>3.987152</td>\n",
              "      <td>0.172340</td>\n",
              "      <td>-0.141884</td>\n",
              "      <td>-3.177361</td>\n",
              "      <td>1.869684</td>\n",
              "      <td>0.905984</td>\n",
              "      <td>0.221755</td>\n",
              "      <td>X</td>\n",
              "    </tr>\n",
              "    <tr>\n",
              "      <th>664</th>\n",
              "      <td>1.043737</td>\n",
              "      <td>-0.401156</td>\n",
              "      <td>0.473906</td>\n",
              "      <td>0.506215</td>\n",
              "      <td>0.261718</td>\n",
              "      <td>0.273364</td>\n",
              "      <td>0.333428</td>\n",
              "      <td>0.275290</td>\n",
              "      <td>-0.372457</td>\n",
              "      <td>0.192292</td>\n",
              "      <td>A</td>\n",
              "    </tr>\n",
              "  </tbody>\n",
              "</table>\n",
              "</div>"
            ],
            "text/plain": [
              "            F0        F1        F2  ...        F8        F9  Class\n",
              "8820 -0.091897  0.344707  0.182281  ...  0.531806  0.276159      H\n",
              "719  -0.165960 -0.267686  0.256965  ... -0.341275  0.877313      A\n",
              "2481  0.426544  0.588093  0.160942  ...  0.251173 -0.163672      F\n",
              "54   -0.277055  0.038511  0.420560  ...  0.905984  0.221755      X\n",
              "664   1.043737 -0.401156  0.473906  ... -0.372457  0.192292      A\n",
              "\n",
              "[5 rows x 11 columns]"
            ]
          },
          "metadata": {
            "tags": []
          },
          "execution_count": 137
        }
      ]
    },
    {
      "cell_type": "markdown",
      "metadata": {
        "id": "dyjMOchTkhwf"
      },
      "source": [
        "Description des colonnes :\r\n",
        "\r\n",
        "* F1       intercolumnar distance\r\n",
        "* F2       upper margin \r\n",
        "* F3       lower margin \r\n",
        "* F4       exploitation \r\n",
        "* F5       row number \r\n",
        "* F6       modular ratio \r\n",
        "* F7       interlinear spacing \r\n",
        "* F8       weight \r\n",
        "* F9       peak number \r\n",
        "* F10      modular ratio/ interlinear spacing\r\n",
        "* Class    A, B, C, D, E, F, G, H, I, W, X, Y (12 classes)"
      ]
    },
    {
      "cell_type": "markdown",
      "metadata": {
        "id": "4hKhT4-Zl91n"
      },
      "source": [
        "##### Vérification des types"
      ]
    },
    {
      "cell_type": "code",
      "metadata": {
        "colab": {
          "base_uri": "https://localhost:8080/"
        },
        "id": "IDn8_sK2cOC5",
        "outputId": "c96e24f1-ea51-495f-b669-2f6f99d6924e"
      },
      "source": [
        "df_train.dtypes"
      ],
      "execution_count": 138,
      "outputs": [
        {
          "output_type": "execute_result",
          "data": {
            "text/plain": [
              "F0       float64\n",
              "F1       float64\n",
              "F2       float64\n",
              "F3       float64\n",
              "F4       float64\n",
              "F5       float64\n",
              "F6       float64\n",
              "F7       float64\n",
              "F8       float64\n",
              "F9       float64\n",
              "Class     object\n",
              "dtype: object"
            ]
          },
          "metadata": {
            "tags": []
          },
          "execution_count": 138
        }
      ]
    },
    {
      "cell_type": "markdown",
      "metadata": {
        "id": "mfY03mO_mKlx"
      },
      "source": [
        "Vérification que le nombre de classes différentes est bien de 12"
      ]
    },
    {
      "cell_type": "code",
      "metadata": {
        "id": "CP1J2RxWlDTj",
        "outputId": "e5d20e8b-1b68-4377-ba29-2c87de5b61ca",
        "colab": {
          "base_uri": "https://localhost:8080/"
        }
      },
      "source": [
        "len(df_train.groupby('Class')) == len(df_test.groupby('Class')) == 12"
      ],
      "execution_count": 139,
      "outputs": [
        {
          "output_type": "execute_result",
          "data": {
            "text/plain": [
              "True"
            ]
          },
          "metadata": {
            "tags": []
          },
          "execution_count": 139
        }
      ]
    },
    {
      "cell_type": "markdown",
      "metadata": {
        "id": "yTFmdtHEmX2v"
      },
      "source": [
        "Remplacement du type de la colonne Class par un type 'categorie'"
      ]
    },
    {
      "cell_type": "code",
      "metadata": {
        "id": "_ajENedtkvgL"
      },
      "source": [
        "df_train['Class'] = df_train['Class'].astype(\"category\")\r\n",
        "df_test['Class'] = df_test['Class'].astype(\"category\")"
      ],
      "execution_count": 140,
      "outputs": []
    },
    {
      "cell_type": "code",
      "metadata": {
        "id": "Eu4eV232nO8B",
        "outputId": "de4f1a24-0b8b-4d13-d1ae-b59b0dcf6664",
        "colab": {
          "base_uri": "https://localhost:8080/"
        }
      },
      "source": [
        "df_train['Class'].cat.categories"
      ],
      "execution_count": 141,
      "outputs": [
        {
          "output_type": "execute_result",
          "data": {
            "text/plain": [
              "Index(['A', 'B', 'C', 'D', 'E', 'F', 'G', 'H', 'I', 'W', 'X', 'Y'], dtype='object')"
            ]
          },
          "metadata": {
            "tags": []
          },
          "execution_count": 141
        }
      ]
    },
    {
      "cell_type": "code",
      "metadata": {
        "id": "hcMNvrjDoVIR",
        "outputId": "46c31f62-8b4c-4316-a882-ab32ea0ffceb",
        "colab": {
          "base_uri": "https://localhost:8080/"
        }
      },
      "source": [
        "df_test['Class'].cat.categories"
      ],
      "execution_count": 142,
      "outputs": [
        {
          "output_type": "execute_result",
          "data": {
            "text/plain": [
              "Index(['A', 'B', 'C', 'D', 'E', 'F', 'G', 'H', 'I', 'W', 'X', 'Y'], dtype='object')"
            ]
          },
          "metadata": {
            "tags": []
          },
          "execution_count": 142
        }
      ]
    },
    {
      "cell_type": "markdown",
      "metadata": {
        "id": "gxBSMfWpqcwK"
      },
      "source": [
        "### Analyses des données"
      ]
    }
  ]
}