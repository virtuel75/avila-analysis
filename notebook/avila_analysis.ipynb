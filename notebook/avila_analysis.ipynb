{
  "nbformat": 4,
  "nbformat_minor": 0,
  "metadata": {
    "colab": {
      "name": "avila_analysis.ipynb",
      "provenance": [],
      "collapsed_sections": [],
      "include_colab_link": true
    },
    "kernelspec": {
      "name": "python3",
      "display_name": "Python 3"
    }
  },
  "cells": [
    {
      "cell_type": "markdown",
      "metadata": {
        "id": "view-in-github",
        "colab_type": "text"
      },
      "source": [
        "<a href=\"https://colab.research.google.com/github/virtuel75/avila-analysis/blob/main/notebook/avila_analysis.ipynb\" target=\"_parent\"><img src=\"https://colab.research.google.com/assets/colab-badge.svg\" alt=\"Open In Colab\"/></a>"
      ]
    },
    {
      "cell_type": "markdown",
      "metadata": {
        "id": "KXbx7mGfo3Hz"
      },
      "source": [
        "# Recuperation des données"
      ]
    },
    {
      "cell_type": "code",
      "metadata": {
        "id": "VPdj-GMIp3K8",
        "outputId": "3fbc279d-15ae-4660-e95f-89636a580dd2",
        "colab": {
          "base_uri": "https://localhost:8080/"
        }
      },
      "source": [
        "!pip install wget"
      ],
      "execution_count": 1,
      "outputs": [
        {
          "output_type": "stream",
          "text": [
            "Requirement already satisfied: wget in /usr/local/lib/python3.6/dist-packages (3.2)\n"
          ],
          "name": "stdout"
        }
      ]
    },
    {
      "cell_type": "code",
      "metadata": {
        "id": "Ua-x3zVlqccB"
      },
      "source": [
        "from os import path\r\n",
        "import wget"
      ],
      "execution_count": 2,
      "outputs": []
    },
    {
      "cell_type": "code",
      "metadata": {
        "id": "XxwDrEN6pARa"
      },
      "source": [
        "data_file = 'avila.zip'"
      ],
      "execution_count": 3,
      "outputs": []
    },
    {
      "cell_type": "markdown",
      "metadata": {
        "id": "Gla2ynHDrtpG"
      },
      "source": [
        "## Téléchargement des données"
      ]
    },
    {
      "cell_type": "code",
      "metadata": {
        "id": "IEVZUQH0p7ho"
      },
      "source": [
        "data_url = 'https://archive.ics.uci.edu/ml/machine-learning-databases/00459/avila.zip'\r\n",
        "\r\n",
        "if not path.exists(data_file):\r\n",
        "  wget.download(url=data_url, out=data_file)"
      ],
      "execution_count": 4,
      "outputs": []
    },
    {
      "cell_type": "markdown",
      "metadata": {
        "id": "lRcnqTr8rxAD"
      },
      "source": [
        "## Extraction des données"
      ]
    },
    {
      "cell_type": "code",
      "metadata": {
        "id": "CbrkGSdJr0UV"
      },
      "source": [
        "from zipfile import ZipFile"
      ],
      "execution_count": 5,
      "outputs": []
    },
    {
      "cell_type": "code",
      "metadata": {
        "id": "CaA46r6Rr85v"
      },
      "source": [
        "with ZipFile(data_file, 'r') as zip_ref:\r\n",
        "    zip_ref.extractall()"
      ],
      "execution_count": 6,
      "outputs": []
    },
    {
      "cell_type": "markdown",
      "metadata": {
        "id": "E67nM-UGo7YM"
      },
      "source": [
        "# Lecture"
      ]
    },
    {
      "cell_type": "code",
      "metadata": {
        "id": "DofkJhqKudB4"
      },
      "source": [
        "import pandas as pd"
      ],
      "execution_count": 7,
      "outputs": []
    },
    {
      "cell_type": "code",
      "metadata": {
        "id": "itCAna7Qo_6E"
      },
      "source": [
        "# train file\r\n",
        "avila_tr_filename = './avila/avila-tr.txt'\r\n",
        "\r\n",
        "# test file\r\n",
        "avila_ts_filename = './avila/avila-ts.txt'"
      ],
      "execution_count": 8,
      "outputs": []
    },
    {
      "cell_type": "code",
      "metadata": {
        "id": "uPTA47oWuWdv"
      },
      "source": [
        "data_tr = pd.read_csv(avila_tr_filename, '\\n', ',', header=None)\r\n",
        "data_ts = pd.read_csv(avila_ts_filename, '\\n', ',', header=None)"
      ],
      "execution_count": 9,
      "outputs": []
    },
    {
      "cell_type": "code",
      "metadata": {
        "id": "wEFPd17Lux0s",
        "outputId": "827f1ad2-4ebe-49d4-db77-c291edfa4378",
        "colab": {
          "base_uri": "https://localhost:8080/",
          "height": 0
        }
      },
      "source": [
        "data_tr.sample(5)"
      ],
      "execution_count": 10,
      "outputs": [
        {
          "output_type": "execute_result",
          "data": {
            "text/html": [
              "<div>\n",
              "<style scoped>\n",
              "    .dataframe tbody tr th:only-of-type {\n",
              "        vertical-align: middle;\n",
              "    }\n",
              "\n",
              "    .dataframe tbody tr th {\n",
              "        vertical-align: top;\n",
              "    }\n",
              "\n",
              "    .dataframe thead th {\n",
              "        text-align: right;\n",
              "    }\n",
              "</style>\n",
              "<table border=\"1\" class=\"dataframe\">\n",
              "  <thead>\n",
              "    <tr style=\"text-align: right;\">\n",
              "      <th></th>\n",
              "      <th>0</th>\n",
              "      <th>1</th>\n",
              "      <th>2</th>\n",
              "      <th>3</th>\n",
              "      <th>4</th>\n",
              "      <th>5</th>\n",
              "      <th>6</th>\n",
              "      <th>7</th>\n",
              "      <th>8</th>\n",
              "      <th>9</th>\n",
              "      <th>10</th>\n",
              "    </tr>\n",
              "  </thead>\n",
              "  <tbody>\n",
              "    <tr>\n",
              "      <th>1384</th>\n",
              "      <td>-0.054866</td>\n",
              "      <td>-0.330495</td>\n",
              "      <td>-3.210528</td>\n",
              "      <td>-0.267456</td>\n",
              "      <td>0.261718</td>\n",
              "      <td>1.353010</td>\n",
              "      <td>0.635431</td>\n",
              "      <td>-0.572192</td>\n",
              "      <td>-0.466001</td>\n",
              "      <td>0.958950</td>\n",
              "      <td>F</td>\n",
              "    </tr>\n",
              "    <tr>\n",
              "      <th>2335</th>\n",
              "      <td>-0.301743</td>\n",
              "      <td>0.352558</td>\n",
              "      <td>0.288973</td>\n",
              "      <td>1.638181</td>\n",
              "      <td>0.261718</td>\n",
              "      <td>1.228436</td>\n",
              "      <td>0.446679</td>\n",
              "      <td>0.695634</td>\n",
              "      <td>0.843621</td>\n",
              "      <td>0.989691</td>\n",
              "      <td>E</td>\n",
              "    </tr>\n",
              "    <tr>\n",
              "      <th>9748</th>\n",
              "      <td>0.154980</td>\n",
              "      <td>-0.040001</td>\n",
              "      <td>0.363657</td>\n",
              "      <td>1.200934</td>\n",
              "      <td>0.261718</td>\n",
              "      <td>-0.266459</td>\n",
              "      <td>0.559930</td>\n",
              "      <td>1.361893</td>\n",
              "      <td>0.438262</td>\n",
              "      <td>-0.418541</td>\n",
              "      <td>A</td>\n",
              "    </tr>\n",
              "    <tr>\n",
              "      <th>5745</th>\n",
              "      <td>0.105604</td>\n",
              "      <td>0.556689</td>\n",
              "      <td>-0.031104</td>\n",
              "      <td>0.619301</td>\n",
              "      <td>0.172340</td>\n",
              "      <td>-0.764757</td>\n",
              "      <td>0.182426</td>\n",
              "      <td>0.173961</td>\n",
              "      <td>-0.621908</td>\n",
              "      <td>-0.664912</td>\n",
              "      <td>A</td>\n",
              "    </tr>\n",
              "    <tr>\n",
              "      <th>4491</th>\n",
              "      <td>-0.067210</td>\n",
              "      <td>0.462474</td>\n",
              "      <td>0.104040</td>\n",
              "      <td>0.463129</td>\n",
              "      <td>0.261718</td>\n",
              "      <td>0.273364</td>\n",
              "      <td>0.371178</td>\n",
              "      <td>0.592247</td>\n",
              "      <td>-0.029461</td>\n",
              "      <td>0.163733</td>\n",
              "      <td>F</td>\n",
              "    </tr>\n",
              "  </tbody>\n",
              "</table>\n",
              "</div>"
            ],
            "text/plain": [
              "            0         1         2         3   ...        7         8         9   10\n",
              "1384 -0.054866 -0.330495 -3.210528 -0.267456  ... -0.572192 -0.466001  0.958950   F\n",
              "2335 -0.301743  0.352558  0.288973  1.638181  ...  0.695634  0.843621  0.989691   E\n",
              "9748  0.154980 -0.040001  0.363657  1.200934  ...  1.361893  0.438262 -0.418541   A\n",
              "5745  0.105604  0.556689 -0.031104  0.619301  ...  0.173961 -0.621908 -0.664912   A\n",
              "4491 -0.067210  0.462474  0.104040  0.463129  ...  0.592247 -0.029461  0.163733   F\n",
              "\n",
              "[5 rows x 11 columns]"
            ]
          },
          "metadata": {
            "tags": []
          },
          "execution_count": 10
        }
      ]
    },
    {
      "cell_type": "code",
      "metadata": {
        "id": "8przYkNQu02D",
        "outputId": "60470431-f50f-4028-9488-5fb0b1d418e6",
        "colab": {
          "base_uri": "https://localhost:8080/",
          "height": 0
        }
      },
      "source": [
        "data_ts.sample(5)"
      ],
      "execution_count": 11,
      "outputs": [
        {
          "output_type": "execute_result",
          "data": {
            "text/html": [
              "<div>\n",
              "<style scoped>\n",
              "    .dataframe tbody tr th:only-of-type {\n",
              "        vertical-align: middle;\n",
              "    }\n",
              "\n",
              "    .dataframe tbody tr th {\n",
              "        vertical-align: top;\n",
              "    }\n",
              "\n",
              "    .dataframe thead th {\n",
              "        text-align: right;\n",
              "    }\n",
              "</style>\n",
              "<table border=\"1\" class=\"dataframe\">\n",
              "  <thead>\n",
              "    <tr style=\"text-align: right;\">\n",
              "      <th></th>\n",
              "      <th>0</th>\n",
              "      <th>1</th>\n",
              "      <th>2</th>\n",
              "      <th>3</th>\n",
              "      <th>4</th>\n",
              "      <th>5</th>\n",
              "      <th>6</th>\n",
              "      <th>7</th>\n",
              "      <th>8</th>\n",
              "      <th>9</th>\n",
              "      <th>10</th>\n",
              "    </tr>\n",
              "  </thead>\n",
              "  <tbody>\n",
              "    <tr>\n",
              "      <th>6065</th>\n",
              "      <td>0.031541</td>\n",
              "      <td>0.203385</td>\n",
              "      <td>0.086258</td>\n",
              "      <td>0.045008</td>\n",
              "      <td>0.172340</td>\n",
              "      <td>-0.681707</td>\n",
              "      <td>0.106925</td>\n",
              "      <td>0.741998</td>\n",
              "      <td>0.313536</td>\n",
              "      <td>-0.553981</td>\n",
              "      <td>F</td>\n",
              "    </tr>\n",
              "    <tr>\n",
              "      <th>9961</th>\n",
              "      <td>0.179667</td>\n",
              "      <td>-0.330495</td>\n",
              "      <td>0.530808</td>\n",
              "      <td>-0.314183</td>\n",
              "      <td>0.082961</td>\n",
              "      <td>-0.515608</td>\n",
              "      <td>0.069175</td>\n",
              "      <td>-1.204824</td>\n",
              "      <td>-1.120812</td>\n",
              "      <td>-0.396746</td>\n",
              "      <td>A</td>\n",
              "    </tr>\n",
              "    <tr>\n",
              "      <th>5125</th>\n",
              "      <td>0.327793</td>\n",
              "      <td>-2.426761</td>\n",
              "      <td>-2.324983</td>\n",
              "      <td>-1.744082</td>\n",
              "      <td>0.440474</td>\n",
              "      <td>0.480988</td>\n",
              "      <td>0.144676</td>\n",
              "      <td>1.621807</td>\n",
              "      <td>0.937165</td>\n",
              "      <td>0.477493</td>\n",
              "      <td>A</td>\n",
              "    </tr>\n",
              "    <tr>\n",
              "      <th>3107</th>\n",
              "      <td>0.043885</td>\n",
              "      <td>0.007106</td>\n",
              "      <td>1.348781</td>\n",
              "      <td>-1.249397</td>\n",
              "      <td>-0.185173</td>\n",
              "      <td>0.730137</td>\n",
              "      <td>-0.044076</td>\n",
              "      <td>1.512421</td>\n",
              "      <td>0.937165</td>\n",
              "      <td>0.827392</td>\n",
              "      <td>E</td>\n",
              "    </tr>\n",
              "    <tr>\n",
              "      <th>5829</th>\n",
              "      <td>0.167323</td>\n",
              "      <td>0.148427</td>\n",
              "      <td>0.278304</td>\n",
              "      <td>-0.289596</td>\n",
              "      <td>0.261718</td>\n",
              "      <td>0.480988</td>\n",
              "      <td>0.106925</td>\n",
              "      <td>-0.502549</td>\n",
              "      <td>0.219991</td>\n",
              "      <td>0.549811</td>\n",
              "      <td>H</td>\n",
              "    </tr>\n",
              "  </tbody>\n",
              "</table>\n",
              "</div>"
            ],
            "text/plain": [
              "            0         1         2         3   ...        7         8         9   10\n",
              "6065  0.031541  0.203385  0.086258  0.045008  ...  0.741998  0.313536 -0.553981   F\n",
              "9961  0.179667 -0.330495  0.530808 -0.314183  ... -1.204824 -1.120812 -0.396746   A\n",
              "5125  0.327793 -2.426761 -2.324983 -1.744082  ...  1.621807  0.937165  0.477493   A\n",
              "3107  0.043885  0.007106  1.348781 -1.249397  ...  1.512421  0.937165  0.827392   E\n",
              "5829  0.167323  0.148427  0.278304 -0.289596  ... -0.502549  0.219991  0.549811   H\n",
              "\n",
              "[5 rows x 11 columns]"
            ]
          },
          "metadata": {
            "tags": []
          },
          "execution_count": 11
        }
      ]
    },
    {
      "cell_type": "markdown",
      "metadata": {
        "id": "aHRJBpeNpG8W"
      },
      "source": [
        "# Pré-traitement"
      ]
    },
    {
      "cell_type": "markdown",
      "metadata": {
        "id": "9F5n_-IIy029"
      },
      "source": [
        "## Test de chauvechement"
      ]
    },
    {
      "cell_type": "code",
      "metadata": {
        "id": "WBEeOju9zaf6",
        "outputId": "97930e74-ddc4-4fa5-cd38-7c7f00dc364e",
        "colab": {
          "base_uri": "https://localhost:8080/"
        }
      },
      "source": [
        "# on vérifie d'abord que les données d'entrainement et les données\r\n",
        "# ont la même structure\r\n",
        "len(data_tr.columns) == len(data_ts.columns)"
      ],
      "execution_count": 12,
      "outputs": [
        {
          "output_type": "execute_result",
          "data": {
            "text/plain": [
              "True"
            ]
          },
          "metadata": {
            "tags": []
          },
          "execution_count": 12
        }
      ]
    },
    {
      "cell_type": "code",
      "metadata": {
        "id": "TjjsFMg_zk3k",
        "outputId": "d389ad16-deb4-435e-dbf6-290c51d3c6f9",
        "colab": {
          "base_uri": "https://localhost:8080/"
        }
      },
      "source": [
        "# on vérifie que les données d'entrainement et les données\r\n",
        "# ne se chevauche pas\r\n",
        "len(data_tr.merge(data_ts, how = 'inner' ,indicator=False)) > 0"
      ],
      "execution_count": 13,
      "outputs": [
        {
          "output_type": "execute_result",
          "data": {
            "text/plain": [
              "False"
            ]
          },
          "metadata": {
            "tags": []
          },
          "execution_count": 13
        }
      ]
    },
    {
      "cell_type": "markdown",
      "metadata": {
        "id": "XEcfdn4dvRot"
      },
      "source": [
        "## Renommage des colonnes"
      ]
    },
    {
      "cell_type": "code",
      "metadata": {
        "id": "6VYRIMARpNpn"
      },
      "source": [
        "columns = [f'f{i}' for i in range(10)] + ['class']\r\n",
        "\r\n",
        "data_tr.columns = columns\r\n",
        "data_ts.columns = columns"
      ],
      "execution_count": 14,
      "outputs": []
    },
    {
      "cell_type": "markdown",
      "metadata": {
        "id": "D4D2Hs9Vveeh"
      },
      "source": [
        "## Vérification des types d'attributs"
      ]
    },
    {
      "cell_type": "code",
      "metadata": {
        "id": "FA1XrNCYvpXZ",
        "outputId": "5226bdfa-e72a-4ca1-84fa-791d17cd6a65",
        "colab": {
          "base_uri": "https://localhost:8080/"
        }
      },
      "source": [
        "data_tr.dtypes"
      ],
      "execution_count": 15,
      "outputs": [
        {
          "output_type": "execute_result",
          "data": {
            "text/plain": [
              "f0       float64\n",
              "f1       float64\n",
              "f2       float64\n",
              "f3       float64\n",
              "f4       float64\n",
              "f5       float64\n",
              "f6       float64\n",
              "f7       float64\n",
              "f8       float64\n",
              "f9       float64\n",
              "class     object\n",
              "dtype: object"
            ]
          },
          "metadata": {
            "tags": []
          },
          "execution_count": 15
        }
      ]
    },
    {
      "cell_type": "code",
      "metadata": {
        "id": "dYjdqZWDv15s",
        "outputId": "a18417cc-74cb-4834-d734-b33a2b00bc9a",
        "colab": {
          "base_uri": "https://localhost:8080/"
        }
      },
      "source": [
        "data_ts.dtypes"
      ],
      "execution_count": 16,
      "outputs": [
        {
          "output_type": "execute_result",
          "data": {
            "text/plain": [
              "f0       float64\n",
              "f1       float64\n",
              "f2       float64\n",
              "f3       float64\n",
              "f4       float64\n",
              "f5       float64\n",
              "f6       float64\n",
              "f7       float64\n",
              "f8       float64\n",
              "f9       float64\n",
              "class     object\n",
              "dtype: object"
            ]
          },
          "metadata": {
            "tags": []
          },
          "execution_count": 16
        }
      ]
    },
    {
      "cell_type": "markdown",
      "metadata": {
        "id": "wXxKJAZtv583"
      },
      "source": [
        "Remplacement du type de l'attribut **class** par le type `category`"
      ]
    },
    {
      "cell_type": "code",
      "metadata": {
        "id": "0_hxHa5Sv5FX"
      },
      "source": [
        "data_tr['class'] = data_tr['class'].astype('category')\r\n",
        "data_ts['class'] = data_ts['class'].astype('category')"
      ],
      "execution_count": 17,
      "outputs": []
    },
    {
      "cell_type": "code",
      "metadata": {
        "id": "AyOTnVTS2beT",
        "outputId": "59049248-a5c7-4cf8-8c4c-2ff8e44f41e0",
        "colab": {
          "base_uri": "https://localhost:8080/"
        }
      },
      "source": [
        "data_tr.dtypes"
      ],
      "execution_count": 18,
      "outputs": [
        {
          "output_type": "execute_result",
          "data": {
            "text/plain": [
              "f0        float64\n",
              "f1        float64\n",
              "f2        float64\n",
              "f3        float64\n",
              "f4        float64\n",
              "f5        float64\n",
              "f6        float64\n",
              "f7        float64\n",
              "f8        float64\n",
              "f9        float64\n",
              "class    category\n",
              "dtype: object"
            ]
          },
          "metadata": {
            "tags": []
          },
          "execution_count": 18
        }
      ]
    },
    {
      "cell_type": "code",
      "metadata": {
        "id": "fJSH8hm22cB9",
        "outputId": "c544a09c-16f5-48f8-8e35-c56e595dac36",
        "colab": {
          "base_uri": "https://localhost:8080/"
        }
      },
      "source": [
        "data_ts.dtypes"
      ],
      "execution_count": 19,
      "outputs": [
        {
          "output_type": "execute_result",
          "data": {
            "text/plain": [
              "f0        float64\n",
              "f1        float64\n",
              "f2        float64\n",
              "f3        float64\n",
              "f4        float64\n",
              "f5        float64\n",
              "f6        float64\n",
              "f7        float64\n",
              "f8        float64\n",
              "f9        float64\n",
              "class    category\n",
              "dtype: object"
            ]
          },
          "metadata": {
            "tags": []
          },
          "execution_count": 19
        }
      ]
    },
    {
      "cell_type": "markdown",
      "metadata": {
        "id": "egKGzaq_3JUx"
      },
      "source": [
        "## Vérification de présence de valeurs manquante"
      ]
    },
    {
      "cell_type": "code",
      "metadata": {
        "id": "iipq4_m97BiF"
      },
      "source": [
        "data_all = pd.concat([data_tr, data_ts])"
      ],
      "execution_count": 20,
      "outputs": []
    },
    {
      "cell_type": "code",
      "metadata": {
        "id": "AOC5pGnq3Rwp",
        "outputId": "9d4055d3-f4d9-4707-bbf8-0693fa379f52",
        "colab": {
          "base_uri": "https://localhost:8080/"
        }
      },
      "source": [
        "data_all.iloc[:, :10].isnull().any()"
      ],
      "execution_count": 21,
      "outputs": [
        {
          "output_type": "execute_result",
          "data": {
            "text/plain": [
              "f0    False\n",
              "f1    False\n",
              "f2    False\n",
              "f3    False\n",
              "f4    False\n",
              "f5    False\n",
              "f6    False\n",
              "f7    False\n",
              "f8    False\n",
              "f9    False\n",
              "dtype: bool"
            ]
          },
          "metadata": {
            "tags": []
          },
          "execution_count": 21
        }
      ]
    },
    {
      "cell_type": "code",
      "metadata": {
        "id": "0Jzotp2633eb",
        "outputId": "a11124a0-f4c7-4526-ca71-c5b18b068794",
        "colab": {
          "base_uri": "https://localhost:8080/"
        }
      },
      "source": [
        "data_all.iloc[:, :10].isna().any()"
      ],
      "execution_count": 22,
      "outputs": [
        {
          "output_type": "execute_result",
          "data": {
            "text/plain": [
              "f0    False\n",
              "f1    False\n",
              "f2    False\n",
              "f3    False\n",
              "f4    False\n",
              "f5    False\n",
              "f6    False\n",
              "f7    False\n",
              "f8    False\n",
              "f9    False\n",
              "dtype: bool"
            ]
          },
          "metadata": {
            "tags": []
          },
          "execution_count": 22
        }
      ]
    },
    {
      "cell_type": "markdown",
      "metadata": {
        "id": "WGfgRwegpN6d"
      },
      "source": [
        "# Analyse"
      ]
    },
    {
      "cell_type": "code",
      "metadata": {
        "id": "2vF7ZLNypPpq",
        "outputId": "d5566617-021e-4ae2-fbd6-d4b9c5b2383f",
        "colab": {
          "base_uri": "https://localhost:8080/"
        }
      },
      "source": [
        "!pip install seaborn"
      ],
      "execution_count": 23,
      "outputs": [
        {
          "output_type": "stream",
          "text": [
            "Requirement already satisfied: seaborn in /usr/local/lib/python3.6/dist-packages (0.11.0)\n",
            "Requirement already satisfied: scipy>=1.0 in /usr/local/lib/python3.6/dist-packages (from seaborn) (1.4.1)\n",
            "Requirement already satisfied: matplotlib>=2.2 in /usr/local/lib/python3.6/dist-packages (from seaborn) (3.2.2)\n",
            "Requirement already satisfied: pandas>=0.23 in /usr/local/lib/python3.6/dist-packages (from seaborn) (1.1.5)\n",
            "Requirement already satisfied: numpy>=1.15 in /usr/local/lib/python3.6/dist-packages (from seaborn) (1.19.4)\n",
            "Requirement already satisfied: cycler>=0.10 in /usr/local/lib/python3.6/dist-packages (from matplotlib>=2.2->seaborn) (0.10.0)\n",
            "Requirement already satisfied: kiwisolver>=1.0.1 in /usr/local/lib/python3.6/dist-packages (from matplotlib>=2.2->seaborn) (1.3.1)\n",
            "Requirement already satisfied: python-dateutil>=2.1 in /usr/local/lib/python3.6/dist-packages (from matplotlib>=2.2->seaborn) (2.8.1)\n",
            "Requirement already satisfied: pyparsing!=2.0.4,!=2.1.2,!=2.1.6,>=2.0.1 in /usr/local/lib/python3.6/dist-packages (from matplotlib>=2.2->seaborn) (2.4.7)\n",
            "Requirement already satisfied: pytz>=2017.2 in /usr/local/lib/python3.6/dist-packages (from pandas>=0.23->seaborn) (2018.9)\n",
            "Requirement already satisfied: six in /usr/local/lib/python3.6/dist-packages (from cycler>=0.10->matplotlib>=2.2->seaborn) (1.15.0)\n"
          ],
          "name": "stdout"
        }
      ]
    },
    {
      "cell_type": "code",
      "metadata": {
        "id": "qIcEx482xfCG"
      },
      "source": [
        "import matplotlib.pyplot as plt\r\n",
        "import seaborn as sns"
      ],
      "execution_count": 24,
      "outputs": []
    },
    {
      "cell_type": "markdown",
      "metadata": {
        "id": "TRushklUxlqp"
      },
      "source": [
        "## Description des attributs"
      ]
    },
    {
      "cell_type": "code",
      "metadata": {
        "id": "pxt8hdOyxoqO",
        "outputId": "44f66a17-3aa8-461c-b0c2-55e9f7af40c0",
        "colab": {
          "base_uri": "https://localhost:8080/"
        }
      },
      "source": [
        "n_attributes = len(data_tr.columns)\r\n",
        "print(f'Number of attributes: {n_attributes}')"
      ],
      "execution_count": 25,
      "outputs": [
        {
          "output_type": "stream",
          "text": [
            "Number of attributes: 11\n"
          ],
          "name": "stdout"
        }
      ]
    },
    {
      "cell_type": "markdown",
      "metadata": {
        "id": "wR7FgJNr1e_C"
      },
      "source": [
        "* `f1` :       intercolumnar distance\r\n",
        "* `f2` :       upper margin \r\n",
        "* `f3` :       lower margin \r\n",
        "* `f4` :       exploitation \r\n",
        "* `f5` :       row number \r\n",
        "* `f6` :       modular ratio \r\n",
        "* `f7` :       interlinear spacing \r\n",
        "* `f8` :       weight \r\n",
        "* `f9` :       peak number \r\n",
        "* `f10` :      modular ratio/ interlinear spacing\r\n",
        "* `class` :\r\n",
        "  - A\r\n",
        "  - B\r\n",
        "  - C\r\n",
        "  - D\r\n",
        "  - E\r\n",
        "  - F\r\n",
        "  - G\r\n",
        "  - I\r\n",
        "  - W\r\n",
        "  - X\r\n",
        "  - Y"
      ]
    },
    {
      "cell_type": "code",
      "metadata": {
        "id": "Ll46HB_t2gMA"
      },
      "source": [
        "target_attribute = 'class'"
      ],
      "execution_count": 26,
      "outputs": []
    },
    {
      "cell_type": "markdown",
      "metadata": {
        "id": "g9W8D2DY2tm3"
      },
      "source": [
        "## Etude des classes"
      ]
    },
    {
      "cell_type": "code",
      "metadata": {
        "id": "fDRvJVrT23Ck"
      },
      "source": [
        "n_target_type = data_all[target_attribute].nunique()"
      ],
      "execution_count": 27,
      "outputs": []
    },
    {
      "cell_type": "markdown",
      "metadata": {
        "id": "lKDL0LTW5R79"
      },
      "source": [
        "On vérifie que les données d'entrainement comporte bien toutes les type de classes"
      ]
    },
    {
      "cell_type": "code",
      "metadata": {
        "id": "TPOS4mM45MdH",
        "outputId": "19d24211-bff1-46c2-c7f6-be425f655c86",
        "colab": {
          "base_uri": "https://localhost:8080/"
        }
      },
      "source": [
        "data_tr[target_attribute].nunique() == n_target_type"
      ],
      "execution_count": 28,
      "outputs": [
        {
          "output_type": "execute_result",
          "data": {
            "text/plain": [
              "True"
            ]
          },
          "metadata": {
            "tags": []
          },
          "execution_count": 28
        }
      ]
    },
    {
      "cell_type": "markdown",
      "metadata": {
        "id": "P44UD2t16DP9"
      },
      "source": [
        "Nombre de type de classe"
      ]
    },
    {
      "cell_type": "code",
      "metadata": {
        "id": "buJA2an45Qyj",
        "outputId": "edd63da0-54b9-42ce-9c4f-a88797924234",
        "colab": {
          "base_uri": "https://localhost:8080/"
        }
      },
      "source": [
        "print(f'Nombre de type de classe : {n_target_type}')"
      ],
      "execution_count": 29,
      "outputs": [
        {
          "output_type": "stream",
          "text": [
            "Nombre de type de classe : 12\n"
          ],
          "name": "stdout"
        }
      ]
    },
    {
      "cell_type": "markdown",
      "metadata": {
        "id": "ubIR1eVM6J8k"
      },
      "source": [
        "Distribution de l'ensemble des données par classe"
      ]
    },
    {
      "cell_type": "code",
      "metadata": {
        "id": "Cjsp3Xz754ps",
        "outputId": "73219a11-cf0a-44ba-c0a5-bf9192d02776",
        "colab": {
          "base_uri": "https://localhost:8080/",
          "height": 0
        }
      },
      "source": [
        "n_sample_per_target_type = data_all.groupby(target_attribute).size().reset_index()\r\n",
        "n_sample_per_target_type.columns = [target_attribute, 'count']\r\n",
        "n_sample_per_target_type"
      ],
      "execution_count": 30,
      "outputs": [
        {
          "output_type": "execute_result",
          "data": {
            "text/html": [
              "<div>\n",
              "<style scoped>\n",
              "    .dataframe tbody tr th:only-of-type {\n",
              "        vertical-align: middle;\n",
              "    }\n",
              "\n",
              "    .dataframe tbody tr th {\n",
              "        vertical-align: top;\n",
              "    }\n",
              "\n",
              "    .dataframe thead th {\n",
              "        text-align: right;\n",
              "    }\n",
              "</style>\n",
              "<table border=\"1\" class=\"dataframe\">\n",
              "  <thead>\n",
              "    <tr style=\"text-align: right;\">\n",
              "      <th></th>\n",
              "      <th>class</th>\n",
              "      <th>count</th>\n",
              "    </tr>\n",
              "  </thead>\n",
              "  <tbody>\n",
              "    <tr>\n",
              "      <th>0</th>\n",
              "      <td>A</td>\n",
              "      <td>8572</td>\n",
              "    </tr>\n",
              "    <tr>\n",
              "      <th>1</th>\n",
              "      <td>B</td>\n",
              "      <td>10</td>\n",
              "    </tr>\n",
              "    <tr>\n",
              "      <th>2</th>\n",
              "      <td>C</td>\n",
              "      <td>206</td>\n",
              "    </tr>\n",
              "    <tr>\n",
              "      <th>3</th>\n",
              "      <td>D</td>\n",
              "      <td>705</td>\n",
              "    </tr>\n",
              "    <tr>\n",
              "      <th>4</th>\n",
              "      <td>E</td>\n",
              "      <td>2190</td>\n",
              "    </tr>\n",
              "    <tr>\n",
              "      <th>5</th>\n",
              "      <td>F</td>\n",
              "      <td>3923</td>\n",
              "    </tr>\n",
              "    <tr>\n",
              "      <th>6</th>\n",
              "      <td>G</td>\n",
              "      <td>893</td>\n",
              "    </tr>\n",
              "    <tr>\n",
              "      <th>7</th>\n",
              "      <td>H</td>\n",
              "      <td>1039</td>\n",
              "    </tr>\n",
              "    <tr>\n",
              "      <th>8</th>\n",
              "      <td>I</td>\n",
              "      <td>1663</td>\n",
              "    </tr>\n",
              "    <tr>\n",
              "      <th>9</th>\n",
              "      <td>W</td>\n",
              "      <td>89</td>\n",
              "    </tr>\n",
              "    <tr>\n",
              "      <th>10</th>\n",
              "      <td>X</td>\n",
              "      <td>1044</td>\n",
              "    </tr>\n",
              "    <tr>\n",
              "      <th>11</th>\n",
              "      <td>Y</td>\n",
              "      <td>533</td>\n",
              "    </tr>\n",
              "  </tbody>\n",
              "</table>\n",
              "</div>"
            ],
            "text/plain": [
              "   class  count\n",
              "0      A   8572\n",
              "1      B     10\n",
              "2      C    206\n",
              "3      D    705\n",
              "4      E   2190\n",
              "5      F   3923\n",
              "6      G    893\n",
              "7      H   1039\n",
              "8      I   1663\n",
              "9      W     89\n",
              "10     X   1044\n",
              "11     Y    533"
            ]
          },
          "metadata": {
            "tags": []
          },
          "execution_count": 30
        }
      ]
    },
    {
      "cell_type": "markdown",
      "metadata": {
        "id": "P9inuDkj8aMV"
      },
      "source": [
        "## Résumé statistique"
      ]
    },
    {
      "cell_type": "code",
      "metadata": {
        "id": "_qcGV82p8hI4",
        "outputId": "f60d389f-563e-4849-afbd-c71d574ce22f",
        "colab": {
          "base_uri": "https://localhost:8080/",
          "height": 0
        }
      },
      "source": [
        "data_all.describe().loc[['mean', 'std', 'min', 'max']]"
      ],
      "execution_count": 31,
      "outputs": [
        {
          "output_type": "execute_result",
          "data": {
            "text/html": [
              "<div>\n",
              "<style scoped>\n",
              "    .dataframe tbody tr th:only-of-type {\n",
              "        vertical-align: middle;\n",
              "    }\n",
              "\n",
              "    .dataframe tbody tr th {\n",
              "        vertical-align: top;\n",
              "    }\n",
              "\n",
              "    .dataframe thead th {\n",
              "        text-align: right;\n",
              "    }\n",
              "</style>\n",
              "<table border=\"1\" class=\"dataframe\">\n",
              "  <thead>\n",
              "    <tr style=\"text-align: right;\">\n",
              "      <th></th>\n",
              "      <th>f0</th>\n",
              "      <th>f1</th>\n",
              "      <th>f2</th>\n",
              "      <th>f3</th>\n",
              "      <th>f4</th>\n",
              "      <th>f5</th>\n",
              "      <th>f6</th>\n",
              "      <th>f7</th>\n",
              "      <th>f8</th>\n",
              "      <th>f9</th>\n",
              "    </tr>\n",
              "  </thead>\n",
              "  <tbody>\n",
              "    <tr>\n",
              "      <th>mean</th>\n",
              "      <td>-3.306656e-09</td>\n",
              "      <td>0.018498</td>\n",
              "      <td>0.002329</td>\n",
              "      <td>0.000115</td>\n",
              "      <td>5.697992e-08</td>\n",
              "      <td>0.002540</td>\n",
              "      <td>0.003977</td>\n",
              "      <td>0.000028</td>\n",
              "      <td>0.002108</td>\n",
              "      <td>0.000069</td>\n",
              "    </tr>\n",
              "    <tr>\n",
              "      <th>std</th>\n",
              "      <td>1.000007e+00</td>\n",
              "      <td>2.853117</td>\n",
              "      <td>1.058203</td>\n",
              "      <td>0.999997</td>\n",
              "      <td>9.999948e-01</td>\n",
              "      <td>1.065179</td>\n",
              "      <td>1.153325</td>\n",
              "      <td>1.000003</td>\n",
              "      <td>1.045362</td>\n",
              "      <td>1.000010</td>\n",
              "    </tr>\n",
              "    <tr>\n",
              "      <th>min</th>\n",
              "      <td>-3.498799e+00</td>\n",
              "      <td>-2.426761</td>\n",
              "      <td>-3.210528</td>\n",
              "      <td>-5.440122</td>\n",
              "      <td>-4.922215e+00</td>\n",
              "      <td>-7.450257</td>\n",
              "      <td>-11.935457</td>\n",
              "      <td>-4.247781</td>\n",
              "      <td>-5.486218</td>\n",
              "      <td>-6.719324</td>\n",
              "    </tr>\n",
              "    <tr>\n",
              "      <th>max</th>\n",
              "      <td>1.181992e+01</td>\n",
              "      <td>386.000000</td>\n",
              "      <td>50.000000</td>\n",
              "      <td>3.987152</td>\n",
              "      <td>1.066121e+00</td>\n",
              "      <td>53.000000</td>\n",
              "      <td>83.000000</td>\n",
              "      <td>13.173081</td>\n",
              "      <td>44.000000</td>\n",
              "      <td>11.911338</td>\n",
              "    </tr>\n",
              "  </tbody>\n",
              "</table>\n",
              "</div>"
            ],
            "text/plain": [
              "                f0          f1         f2  ...         f7         f8         f9\n",
              "mean -3.306656e-09    0.018498   0.002329  ...   0.000028   0.002108   0.000069\n",
              "std   1.000007e+00    2.853117   1.058203  ...   1.000003   1.045362   1.000010\n",
              "min  -3.498799e+00   -2.426761  -3.210528  ...  -4.247781  -5.486218  -6.719324\n",
              "max   1.181992e+01  386.000000  50.000000  ...  13.173081  44.000000  11.911338\n",
              "\n",
              "[4 rows x 10 columns]"
            ]
          },
          "metadata": {
            "tags": []
          },
          "execution_count": 31
        }
      ]
    },
    {
      "cell_type": "markdown",
      "metadata": {
        "id": "NYGf7G2k8qNv"
      },
      "source": [
        "## Correlation des attributs"
      ]
    },
    {
      "cell_type": "code",
      "metadata": {
        "id": "DmFmW-gU8sMN",
        "outputId": "fcd790ff-9c7c-49bd-a9ee-ff9419224c30",
        "colab": {
          "base_uri": "https://localhost:8080/",
          "height": 0
        }
      },
      "source": [
        "attributes_correlation = data_all.corr().abs()\r\n",
        "\r\n",
        "plt.figure(figsize=(10, 10))\r\n",
        "sns.heatmap(attributes_correlation, annot=True)\r\n",
        "plt.title('Correlation des attributs')\r\n",
        "plt.show()"
      ],
      "execution_count": 32,
      "outputs": [
        {
          "output_type": "display_data",
          "data": {
            "image/png": "[encoded data removed]",
            "text/plain": [
              "<Figure size 720x720 with 2 Axes>"
            ]
          },
          "metadata": {
            "tags": [],
            "needs_background": "light"
          }
        }
      ]
    },
    {
      "cell_type": "markdown",
      "metadata": {
        "id": "2_SI7JKa9bCR"
      },
      "source": [
        "# Entrainement des modeles"
      ]
    },
    {
      "cell_type": "code",
      "metadata": {
        "id": "hTJa9DLe9mYq",
        "outputId": "9329e38c-c33a-4764-b14e-115463d98051",
        "colab": {
          "base_uri": "https://localhost:8080/"
        }
      },
      "source": [
        "!pip install scikit-learn"
      ],
      "execution_count": 33,
      "outputs": [
        {
          "output_type": "stream",
          "text": [
            "Requirement already satisfied: scikit-learn in /usr/local/lib/python3.6/dist-packages (0.22.2.post1)\n",
            "Requirement already satisfied: numpy>=1.11.0 in /usr/local/lib/python3.6/dist-packages (from scikit-learn) (1.19.4)\n",
            "Requirement already satisfied: joblib>=0.11 in /usr/local/lib/python3.6/dist-packages (from scikit-learn) (1.0.0)\n",
            "Requirement already satisfied: scipy>=0.17.0 in /usr/local/lib/python3.6/dist-packages (from scikit-learn) (1.4.1)\n"
          ],
          "name": "stdout"
        }
      ]
    },
    {
      "cell_type": "code",
      "metadata": {
        "id": "NYVyjIz8-oIP"
      },
      "source": [
        "import numpy as np\r\n",
        "from sklearn import metrics"
      ],
      "execution_count": 34,
      "outputs": []
    },
    {
      "cell_type": "code",
      "metadata": {
        "id": "ohoGAtie-qU7"
      },
      "source": [
        "def test_model(model, train, test, target_attribute):\r\n",
        "  # train\r\n",
        "  X_train = train.loc[:, train.columns != target_attribute] # train input\r\n",
        "  y_train = train[target_attribute]                         # train target\r\n",
        "\r\n",
        "  # test\r\n",
        "  X_test = test.loc[:, test.columns != target_attribute]    # test input\r\n",
        "  y_test = test[target_attribute]                           # test target\r\n",
        "\r\n",
        "  model.fit(X_train, y_train)\r\n",
        "\r\n",
        "  predictions = model.predict(X_test)\r\n",
        "  accuracy = metrics.accuracy_score(y_test, predictions)\r\n",
        "\r\n",
        "  return accuracy, predictions"
      ],
      "execution_count": 35,
      "outputs": []
    },
    {
      "cell_type": "code",
      "metadata": {
        "id": "b2pxvq-0STJ_"
      },
      "source": [
        "def test_model_multi(model, train_test, target_attribute):\r\n",
        "  accuracies = []\r\n",
        "  predictions = []\r\n",
        "\r\n",
        "  for train, test in train_test:\r\n",
        "    accuracy, pred = test_model(model, train, test, target_attribute)\r\n",
        "    accuracies.append(accuracy)\r\n",
        "    predictions.append(pred)\r\n",
        "\r\n",
        "  return accuracies, predictions"
      ],
      "execution_count": 36,
      "outputs": []
    },
    {
      "cell_type": "markdown",
      "metadata": {
        "id": "1fe-JzOg9_RC"
      },
      "source": [
        "## Données d'entrainement"
      ]
    },
    {
      "cell_type": "code",
      "metadata": {
        "id": "COdpA8qv9wow"
      },
      "source": [
        "from sklearn.model_selection import train_test_split"
      ],
      "execution_count": 37,
      "outputs": []
    },
    {
      "cell_type": "markdown",
      "metadata": {
        "id": "qOlREMrxL3v0"
      },
      "source": [
        ""
      ]
    },
    {
      "cell_type": "code",
      "metadata": {
        "id": "aRvxUuWnKnnf"
      },
      "source": [
        "max_train_test = 20\r\n",
        "\r\n",
        "train_test = []\r\n",
        "\r\n",
        "while len(train_test) < max_train_test:\r\n",
        "  train, test = train_test_split(data_tr, test_size=0.25)\r\n",
        "\r\n",
        "  if train[target_attribute].nunique() == data_all[target_attribute].nunique():\r\n",
        "    train_test.append((train, test))"
      ],
      "execution_count": 38,
      "outputs": []
    },
    {
      "cell_type": "markdown",
      "metadata": {
        "id": "OHosZv8--b4n"
      },
      "source": [
        ""
      ]
    },
    {
      "cell_type": "markdown",
      "metadata": {
        "id": "kNP5xO1B-2mW"
      },
      "source": [
        "## K-NN"
      ]
    },
    {
      "cell_type": "code",
      "metadata": {
        "id": "iYFXl-Vh-7Io"
      },
      "source": [
        "from sklearn.neighbors import KNeighborsClassifier"
      ],
      "execution_count": 39,
      "outputs": []
    },
    {
      "cell_type": "markdown",
      "metadata": {
        "id": "lphAikPs_mju"
      },
      "source": [
        "### Recherche du meilleur K"
      ]
    },
    {
      "cell_type": "code",
      "metadata": {
        "id": "_NnByjdJ_qRy"
      },
      "source": [
        "from math import sqrt"
      ],
      "execution_count": 40,
      "outputs": []
    },
    {
      "cell_type": "code",
      "metadata": {
        "id": "Fqzt0Jsr_tu6"
      },
      "source": [
        "max_k = 20\r\n",
        "p_value = 1\r\n",
        "\r\n",
        "knn_result = []\r\n",
        "\r\n",
        "# test k values\r\n",
        "for k in range(1, max_k):\r\n",
        "  knn_k_model = KNeighborsClassifier(n_neighbors=k, p=p_value)\r\n",
        "  train, test = train_test[0]\r\n",
        "  accuracy, _ = test_model(knn_k_model, train, test, target_attribute)\r\n",
        "\r\n",
        "  knn_result.append((k, accuracy))"
      ],
      "execution_count": 41,
      "outputs": []
    },
    {
      "cell_type": "code",
      "metadata": {
        "id": "MXrQwFGm__qA"
      },
      "source": [
        "k_values = [i for i in range(1, max_k)]\r\n",
        "k_accuracies = [accuracy for _, accuracy in knn_result]"
      ],
      "execution_count": 42,
      "outputs": []
    },
    {
      "cell_type": "code",
      "metadata": {
        "id": "48w5Efb8AEAA",
        "outputId": "fa722c2e-adaa-46c9-a648-b1f82f583245",
        "colab": {
          "base_uri": "https://localhost:8080/",
          "height": 0
        }
      },
      "source": [
        "plt.figure(figsize=(10,6))\r\n",
        "plt.plot(k_values, k_accuracies, linestyle='dashed', marker='o', color='#3498db')\r\n",
        "plt.xticks(np.arange(0, len(k_values) + 1, 4.0))\r\n",
        "plt.xlabel('k value')\r\n",
        "plt.ylabel('accuracy')\r\n",
        "plt.title('Accuracy vs. k value')\r\n",
        "plt.grid(b=True, which='major', color='#bdc3c7', linestyle='--')\r\n",
        "plt.show()"
      ],
      "execution_count": 43,
      "outputs": [
        {
          "output_type": "display_data",
          "data": {
            "image/png": "[encoded data removed]",
            "text/plain": [
              "<Figure size 720x432 with 1 Axes>"
            ]
          },
          "metadata": {
            "tags": [],
            "needs_background": "light"
          }
        }
      ]
    },
    {
      "cell_type": "code",
      "metadata": {
        "id": "ISglNyiNAaXC",
        "outputId": "f9d211b0-b2fb-47e1-cec1-5d95722d95e4",
        "colab": {
          "base_uri": "https://localhost:8080/"
        }
      },
      "source": [
        "best_k_accuracy = max(k_accuracies)\r\n",
        "best_k = k_accuracies.index(best_k_accuracy) + 1\r\n",
        "\r\n",
        "print(f'Meilleur valeur pour k: {best_k}')\r\n",
        "print(f'Precision: {best_k_accuracy}')"
      ],
      "execution_count": 44,
      "outputs": [
        {
          "output_type": "stream",
          "text": [
            "Meilleur valeur pour k: 1\n",
            "Precision: 0.8136503067484663\n"
          ],
          "name": "stdout"
        }
      ]
    },
    {
      "cell_type": "markdown",
      "metadata": {
        "id": "Cdc0iLZkDfEZ"
      },
      "source": [
        "### Définition du model"
      ]
    },
    {
      "cell_type": "code",
      "metadata": {
        "id": "LmWiMDltDN62"
      },
      "source": [
        "knn_model = KNeighborsClassifier(n_neighbors=best_k, p=p_value)"
      ],
      "execution_count": 45,
      "outputs": []
    },
    {
      "cell_type": "code",
      "metadata": {
        "id": "55cP-FmFKbAd"
      },
      "source": [
        "knn_accuracy, knn_predictions = test_model_multi(knn_model, train_test, target_attribute)"
      ],
      "execution_count": 46,
      "outputs": []
    },
    {
      "cell_type": "code",
      "metadata": {
        "id": "dlXzr1n9UxmU"
      },
      "source": [
        "knn_accuracy_mean = sum(knn_accuracy) / len(knn_accuracy)\r\n",
        "knn_accuracy_min = min(knn_accuracy)\r\n",
        "knn_accuracy_max = max(knn_accuracy)"
      ],
      "execution_count": 47,
      "outputs": []
    },
    {
      "cell_type": "code",
      "metadata": {
        "id": "SoBgj2CUPl2t",
        "outputId": "0bddaaf3-dcc3-488b-d2d4-b9caf009d85b",
        "colab": {
          "base_uri": "https://localhost:8080/"
        }
      },
      "source": [
        "print(f'precision moy.: {round(knn_accuracy_mean, 6)}') \r\n",
        "print(f'precision min.: {round(knn_accuracy_min, 6)}')\r\n",
        "print(f'precision max.: {round(knn_accuracy_max, 6)}')"
      ],
      "execution_count": 48,
      "outputs": [
        {
          "output_type": "stream",
          "text": [
            "precision moy.: 0.816162\n",
            "precision min.: 0.80138\n",
            "precision max.: 0.827837\n"
          ],
          "name": "stdout"
        }
      ]
    },
    {
      "cell_type": "markdown",
      "metadata": {
        "id": "w7rGmar3-8Yk"
      },
      "source": [
        "## Logistic regression"
      ]
    },
    {
      "cell_type": "code",
      "metadata": {
        "id": "yHinZP6b--p3"
      },
      "source": [
        "from sklearn.linear_model import LogisticRegression"
      ],
      "execution_count": 49,
      "outputs": []
    },
    {
      "cell_type": "markdown",
      "metadata": {
        "id": "EwOagZRhDmea"
      },
      "source": [
        "### Définition du model"
      ]
    },
    {
      "cell_type": "code",
      "metadata": {
        "id": "R21TGMWlDorN"
      },
      "source": [
        "lr_model = LogisticRegression(multi_class='multinomial', max_iter=500)"
      ],
      "execution_count": 50,
      "outputs": []
    },
    {
      "cell_type": "code",
      "metadata": {
        "id": "o5T4WNRGDtHz",
        "outputId": "e68ca288-12a6-4eef-a73e-8256b72fe323",
        "colab": {
          "base_uri": "https://localhost:8080/"
        }
      },
      "source": [
        "lr_accuracy, lr_predictions = test_model_multi(lr_model, train_test, target_attribute)"
      ],
      "execution_count": 51,
      "outputs": [
        {
          "output_type": "stream",
          "text": [
            "/usr/local/lib/python3.6/dist-packages/sklearn/linear_model/_logistic.py:940: ConvergenceWarning: lbfgs failed to converge (status=1):\n",
            "STOP: TOTAL NO. of ITERATIONS REACHED LIMIT.\n",
            "\n",
            "Increase the number of iterations (max_iter) or scale the data as shown in:\n",
            "    https://scikit-learn.org/stable/modules/preprocessing.html\n",
            "Please also refer to the documentation for alternative solver options:\n",
            "    https://scikit-learn.org/stable/modules/linear_model.html#logistic-regression\n",
            "  extra_warning_msg=_LOGISTIC_SOLVER_CONVERGENCE_MSG)\n"
          ],
          "name": "stderr"
        }
      ]
    },
    {
      "cell_type": "code",
      "metadata": {
        "id": "7oSirgnPVp54"
      },
      "source": [
        "lr_accuracy_mean = sum(lr_accuracy) / len(lr_accuracy)\r\n",
        "lr_accuracy_min = min(lr_accuracy)\r\n",
        "lr_accuracy_max = max(lr_accuracy)"
      ],
      "execution_count": 52,
      "outputs": []
    },
    {
      "cell_type": "code",
      "metadata": {
        "id": "4nl34UUEQQMm",
        "outputId": "0d20a6dd-c2c1-4fb8-e21f-98cb51c3d1c4",
        "colab": {
          "base_uri": "https://localhost:8080/"
        }
      },
      "source": [
        "print(f'precision moy.: {round(lr_accuracy_mean, 6)}') \r\n",
        "print(f'precision min.: {round(lr_accuracy_min, 6)}')\r\n",
        "print(f'precision max.: {round(lr_accuracy_max, 6)}')"
      ],
      "execution_count": 53,
      "outputs": [
        {
          "output_type": "stream",
          "text": [
            "precision moy.: 0.565088\n",
            "precision min.: 0.54908\n",
            "precision max.: 0.592791\n"
          ],
          "name": "stdout"
        }
      ]
    },
    {
      "cell_type": "markdown",
      "metadata": {
        "id": "QAwLRH4C-_A7"
      },
      "source": [
        "## Support Vector Machine (SVM)"
      ]
    },
    {
      "cell_type": "code",
      "metadata": {
        "id": "e6As91SI_HsS"
      },
      "source": [
        "from sklearn.svm import SVC"
      ],
      "execution_count": 54,
      "outputs": []
    },
    {
      "cell_type": "markdown",
      "metadata": {
        "id": "seNMTxNZElGl"
      },
      "source": [
        "### Définition du model"
      ]
    },
    {
      "cell_type": "code",
      "metadata": {
        "id": "SvkwtJLrEYX7"
      },
      "source": [
        "svm_model = SVC()"
      ],
      "execution_count": 55,
      "outputs": []
    },
    {
      "cell_type": "code",
      "metadata": {
        "id": "2etYKcaJEaXY"
      },
      "source": [
        "svm_accuracy, svm_predictions = test_model_multi(svm_model, train_test, target_attribute)"
      ],
      "execution_count": 56,
      "outputs": []
    },
    {
      "cell_type": "code",
      "metadata": {
        "id": "dg_zScsRUItI"
      },
      "source": [
        "svm_accuracy_mean = sum(svm_accuracy) / len(svm_accuracy)\r\n",
        "svm_accuracy_min = min(svm_accuracy)\r\n",
        "svm_accuracy_max = max(svm_accuracy)"
      ],
      "execution_count": 57,
      "outputs": []
    },
    {
      "cell_type": "code",
      "metadata": {
        "id": "wVWeUzQXRlc9",
        "outputId": "cec3c58c-4a7c-4343-a2b7-545cfa6a2efa",
        "colab": {
          "base_uri": "https://localhost:8080/"
        }
      },
      "source": [
        "print(f'precision moy.: {round(svm_accuracy_mean, 6)}') \r\n",
        "print(f'precision min.: {round(svm_accuracy_min, 6)}')\r\n",
        "print(f'precision max.: {round(svm_accuracy_max, 6)}')"
      ],
      "execution_count": 58,
      "outputs": [
        {
          "output_type": "stream",
          "text": [
            "precision moy.: 0.675153\n",
            "precision min.: 0.642255\n",
            "precision max.: 0.715874\n"
          ],
          "name": "stdout"
        }
      ]
    },
    {
      "cell_type": "markdown",
      "metadata": {
        "id": "IWzewIUm_JpO"
      },
      "source": [
        "## Random forest"
      ]
    },
    {
      "cell_type": "code",
      "metadata": {
        "id": "E3Y8t14u_NS1"
      },
      "source": [
        "from sklearn.ensemble import RandomForestClassifier"
      ],
      "execution_count": 59,
      "outputs": []
    },
    {
      "cell_type": "markdown",
      "metadata": {
        "id": "NEr97SOaFVks"
      },
      "source": [
        "### Définition du model"
      ]
    },
    {
      "cell_type": "code",
      "metadata": {
        "id": "KQeVpFknFOc-"
      },
      "source": [
        "rf_model = RandomForestClassifier()"
      ],
      "execution_count": 60,
      "outputs": []
    },
    {
      "cell_type": "code",
      "metadata": {
        "id": "pmRHFxbBFRoo"
      },
      "source": [
        "rf_accuracy, rf_predictions = test_model_multi(rf_model, train_test, target_attribute)"
      ],
      "execution_count": 61,
      "outputs": []
    },
    {
      "cell_type": "code",
      "metadata": {
        "id": "_wAqwXd5WJAG"
      },
      "source": [
        "rf_accuracy_mean = sum(rf_accuracy) / len(rf_accuracy)\r\n",
        "rf_accuracy_min = min(rf_accuracy)\r\n",
        "rf_accuracy_max = max(rf_accuracy)"
      ],
      "execution_count": 62,
      "outputs": []
    },
    {
      "cell_type": "code",
      "metadata": {
        "id": "d85QGcy1WQGB",
        "outputId": "afda13ae-3aeb-48bd-88b7-9d7dfb1cdc90",
        "colab": {
          "base_uri": "https://localhost:8080/"
        }
      },
      "source": [
        "print(f'precision moy.: {round(rf_accuracy_mean, 6)}') \r\n",
        "print(f'precision min.: {round(rf_accuracy_min, 6)}')\r\n",
        "print(f'precision max.: {round(rf_accuracy_max, 6)}')"
      ],
      "execution_count": 63,
      "outputs": [
        {
          "output_type": "stream",
          "text": [
            "precision moy.: 0.977186\n",
            "precision min.: 0.972009\n",
            "precision max.: 0.983896\n"
          ],
          "name": "stdout"
        }
      ]
    },
    {
      "cell_type": "markdown",
      "metadata": {
        "id": "mMY272r4_NiI"
      },
      "source": [
        "## Decision tree"
      ]
    },
    {
      "cell_type": "code",
      "metadata": {
        "id": "jE8VAORt_Ru9"
      },
      "source": [
        "from sklearn.tree import DecisionTreeClassifier"
      ],
      "execution_count": 64,
      "outputs": []
    },
    {
      "cell_type": "markdown",
      "metadata": {
        "id": "z0H6myARFnuk"
      },
      "source": [
        "### Définition du model"
      ]
    },
    {
      "cell_type": "code",
      "metadata": {
        "id": "1yqNAchuFuEQ"
      },
      "source": [
        "dt_model = DecisionTreeClassifier()"
      ],
      "execution_count": 65,
      "outputs": []
    },
    {
      "cell_type": "code",
      "metadata": {
        "id": "T_QBbaGyFp23"
      },
      "source": [
        "dt_accuracy, dt_predictions = test_model_multi(dt_model, train_test, target_attribute)"
      ],
      "execution_count": 66,
      "outputs": []
    },
    {
      "cell_type": "code",
      "metadata": {
        "id": "ZdFN1-BNWbTo"
      },
      "source": [
        "dt_accuracy_mean = sum(dt_accuracy) / len(dt_accuracy)\r\n",
        "dt_accuracy_min = min(dt_accuracy)\r\n",
        "dt_accuracy_max = max(dt_accuracy)"
      ],
      "execution_count": 67,
      "outputs": []
    },
    {
      "cell_type": "code",
      "metadata": {
        "id": "leEtYORvWh0u",
        "outputId": "3eb98554-e536-4bb7-f1b6-91b4599846bd",
        "colab": {
          "base_uri": "https://localhost:8080/"
        }
      },
      "source": [
        "print(f'precision moy.: {round(dt_accuracy_mean, 6)}')\r\n",
        "print(f'precision min.: {round(dt_accuracy_min, 6)}')\r\n",
        "print(f'precision max.: {round(dt_accuracy_max, 6)}')"
      ],
      "execution_count": 68,
      "outputs": [
        {
          "output_type": "stream",
          "text": [
            "precision moy.: 0.958167\n",
            "precision min.: 0.927914\n",
            "precision max.: 0.975844\n"
          ],
          "name": "stdout"
        }
      ]
    },
    {
      "cell_type": "markdown",
      "metadata": {
        "id": "gjEaO1uf_XBW"
      },
      "source": [
        "## Naive Bayes"
      ]
    },
    {
      "cell_type": "code",
      "metadata": {
        "id": "cnjmwCMJ_Y3U"
      },
      "source": [
        "from sklearn.naive_bayes import GaussianNB"
      ],
      "execution_count": 69,
      "outputs": []
    },
    {
      "cell_type": "markdown",
      "metadata": {
        "id": "CBYyY_AGF-8Q"
      },
      "source": [
        "### Définition du model"
      ]
    },
    {
      "cell_type": "code",
      "metadata": {
        "id": "2aBaAKuaGBH1"
      },
      "source": [
        "nb_model = GaussianNB()"
      ],
      "execution_count": 70,
      "outputs": []
    },
    {
      "cell_type": "code",
      "metadata": {
        "id": "vWFW6_EMGDc7"
      },
      "source": [
        "nb_accuracy, nb_predictions = test_model_multi(nb_model, train_test, target_attribute)"
      ],
      "execution_count": 71,
      "outputs": []
    },
    {
      "cell_type": "code",
      "metadata": {
        "id": "eKDWwH-9WtH_"
      },
      "source": [
        "nb_accuracy_mean = sum(nb_accuracy) / len(nb_accuracy)\r\n",
        "nb_accuracy_min = min(nb_accuracy)\r\n",
        "nb_accuracy_max = max(nb_accuracy)"
      ],
      "execution_count": 72,
      "outputs": []
    },
    {
      "cell_type": "code",
      "metadata": {
        "id": "gOJ1dOqAWysE",
        "outputId": "ceb8a647-cb8e-40ec-b529-eb1c21fe90d1",
        "colab": {
          "base_uri": "https://localhost:8080/"
        }
      },
      "source": [
        "print(f'precision moy.: {round(nb_accuracy_mean, 6)}')\r\n",
        "print(f'precision min.: {round(nb_accuracy_min, 6)}')\r\n",
        "print(f'precision max.: {round(nb_accuracy_max, 6)}')"
      ],
      "execution_count": 73,
      "outputs": [
        {
          "output_type": "stream",
          "text": [
            "precision moy.: 0.305426\n",
            "precision min.: 0.270322\n",
            "precision max.: 0.345475\n"
          ],
          "name": "stdout"
        }
      ]
    },
    {
      "cell_type": "markdown",
      "metadata": {
        "id": "bEngKTKJG_tW"
      },
      "source": [
        "# Evaluation des modeles"
      ]
    },
    {
      "cell_type": "markdown",
      "metadata": {
        "id": "EvV8RY0-aMYF"
      },
      "source": [
        "## Enumération des modeles"
      ]
    },
    {
      "cell_type": "code",
      "metadata": {
        "id": "GHp094skHBji"
      },
      "source": [
        "model_enum = {\r\n",
        "    'knn' : (knn_model, 'K-NN'),\r\n",
        "    'lr'  : (lr_model, 'Logstic Regression'),\r\n",
        "    'svm' : (svm_model, 'SVM'),\r\n",
        "    'rf'  : (rf_model, 'Random Forest'),\r\n",
        "    'dt'  : (dt_model, 'Decision Tree'),\r\n",
        "    'nb'  : (nb_model, 'Naive Bayes')\r\n",
        "}"
      ],
      "execution_count": 74,
      "outputs": []
    },
    {
      "cell_type": "markdown",
      "metadata": {
        "id": "f3I2ogM1aPsn"
      },
      "source": [
        "## Test des modeles"
      ]
    },
    {
      "cell_type": "code",
      "metadata": {
        "id": "f7gFF864HGa1"
      },
      "source": [
        "model_result = {}\r\n",
        "\r\n",
        "for model_name in model_enum:\r\n",
        "  model, _ = model_enum.get(model_name)\r\n",
        "  accuracy, _ = test_model(model, data_tr, data_ts, target_attribute)\r\n",
        "\r\n",
        "  model_result[model_name] = accuracy"
      ],
      "execution_count": 75,
      "outputs": []
    },
    {
      "cell_type": "markdown",
      "metadata": {
        "id": "tesuLX8Fae3U"
      },
      "source": [
        "## Récupération du meilleure modele"
      ]
    },
    {
      "cell_type": "code",
      "metadata": {
        "id": "VXhTsSzHHslE",
        "outputId": "fe37c661-da0c-4bc4-bb6c-0f89d65b1f3c",
        "colab": {
          "base_uri": "https://localhost:8080/"
        }
      },
      "source": [
        "best_result = None\r\n",
        "\r\n",
        "for key in model_result.keys():\r\n",
        "  accuracy = model_result[key]\r\n",
        "\r\n",
        "  _, model_name = model_enum.get(key)\r\n",
        "\r\n",
        "  if best_result is None:\r\n",
        "    best_result = (key, model_name, accuracy)\r\n",
        "  else:\r\n",
        "    if best_result[2] < accuracy:\r\n",
        "      best_result = (key, model_name, accuracy)\r\n",
        "\r\n",
        "  name = model_name.ljust(18, ' ')\r\n",
        "\r\n",
        "  print(f'{key}\\t', f'{name}\\t', f'accuracy: {round(accuracy, 6)}')"
      ],
      "execution_count": 76,
      "outputs": [
        {
          "output_type": "stream",
          "text": [
            "knn\t K-NN              \t accuracy: 0.840663\n",
            "lr\t Logstic Regression\t accuracy: 0.561368\n",
            "svm\t SVM               \t accuracy: 0.674523\n",
            "rf\t Random Forest     \t accuracy: 0.984862\n",
            "dt\t Decision Tree     \t accuracy: 0.970969\n",
            "nb\t Naive Bayes       \t accuracy: 0.293284\n"
          ],
          "name": "stdout"
        }
      ]
    },
    {
      "cell_type": "code",
      "metadata": {
        "id": "4hRt98BsH6Hl",
        "outputId": "5d85c14d-93b6-4aa2-e400-ccad050863e0",
        "colab": {
          "base_uri": "https://localhost:8080/"
        }
      },
      "source": [
        "best_model_name = best_result[0]\r\n",
        "\r\n",
        "print(f'Best model: {best_model_name}')\r\n",
        "\r\n",
        "best_model, _ = model_enum.get(best_model_name)"
      ],
      "execution_count": 77,
      "outputs": [
        {
          "output_type": "stream",
          "text": [
            "Best model: rf\n"
          ],
          "name": "stdout"
        }
      ]
    },
    {
      "cell_type": "markdown",
      "metadata": {
        "id": "S-xfTt6udvvS"
      },
      "source": [
        "# Enregistrement du meilleure modele"
      ]
    },
    {
      "cell_type": "code",
      "metadata": {
        "id": "Sme-6z5tcz3d"
      },
      "source": [
        "import joblib"
      ],
      "execution_count": 78,
      "outputs": []
    },
    {
      "cell_type": "code",
      "metadata": {
        "id": "PmXENGikd3o0",
        "outputId": "098d01f3-e6b4-4d09-e31e-048afe83089e",
        "colab": {
          "base_uri": "https://localhost:8080/"
        }
      },
      "source": [
        "model_filename = 'model.sav'\r\n",
        "\r\n",
        "joblib.dump(best_model, model_filename)"
      ],
      "execution_count": 79,
      "outputs": [
        {
          "output_type": "execute_result",
          "data": {
            "text/plain": [
              "['model.sav']"
            ]
          },
          "metadata": {
            "tags": []
          },
          "execution_count": 79
        }
      ]
    },
    {
      "cell_type": "markdown",
      "metadata": {
        "id": "1PVtBJWdeDfo"
      },
      "source": [
        "# Chargement de modele"
      ]
    },
    {
      "cell_type": "code",
      "metadata": {
        "id": "APKOGpJ_eB4U"
      },
      "source": [
        "loaded_model = joblib.load(model_filename)"
      ],
      "execution_count": 80,
      "outputs": []
    },
    {
      "cell_type": "code",
      "metadata": {
        "id": "zyPW4Uh9eLG8",
        "outputId": "28f56984-90af-4ca4-ac14-780105305194",
        "colab": {
          "base_uri": "https://localhost:8080/"
        }
      },
      "source": [
        "# resultat attendu : A\r\n",
        "x = [[0.31545, -0.236281, 0.37077, 0.812174, 0.261718, 0.14879, 0.408929, 0.690469, -0.123005, 0.029367]]\r\n",
        "\r\n",
        "prediction = loaded_model.predict(x)[0]\r\n",
        "print(f'Classe prédit: {prediction}')"
      ],
      "execution_count": 81,
      "outputs": [
        {
          "output_type": "stream",
          "text": [
            "Classe prédit: A\n"
          ],
          "name": "stdout"
        }
      ]
    }
  ]
}