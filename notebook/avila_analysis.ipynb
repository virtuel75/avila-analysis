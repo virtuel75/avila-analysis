{
  "nbformat": 4,
  "nbformat_minor": 0,
  "metadata": {
    "colab": {
      "name": "avila_analysis.ipynb",
      "provenance": [],
      "collapsed_sections": [],
      "include_colab_link": true
    },
    "kernelspec": {
      "name": "python3",
      "display_name": "Python 3"
    },
    "accelerator": "GPU"
  },
  "cells": [
    {
      "cell_type": "markdown",
      "metadata": {
        "id": "view-in-github",
        "colab_type": "text"
      },
      "source": [
        "<a href=\"https://colab.research.google.com/github/virtuel75/avila-analysis/blob/main/notebook/avila_analysis.ipynb\" target=\"_parent\"><img src=\"https://colab.research.google.com/assets/colab-badge.svg\" alt=\"Open In Colab\"/></a>"
      ]
    },
    {
      "cell_type": "markdown",
      "metadata": {
        "id": "KXbx7mGfo3Hz"
      },
      "source": [
        "# Recuperation des données"
      ]
    },
    {
      "cell_type": "code",
      "metadata": {
        "id": "VPdj-GMIp3K8"
      },
      "source": [
        "!pip install wget"
      ],
      "execution_count": null,
      "outputs": []
    },
    {
      "cell_type": "code",
      "metadata": {
        "id": "Ua-x3zVlqccB"
      },
      "source": [
        "from os import path\r\n",
        "import wget"
      ],
      "execution_count": 148,
      "outputs": []
    },
    {
      "cell_type": "code",
      "metadata": {
        "id": "XxwDrEN6pARa"
      },
      "source": [
        "data_file = 'avila.zip'"
      ],
      "execution_count": 149,
      "outputs": []
    },
    {
      "cell_type": "markdown",
      "metadata": {
        "id": "Gla2ynHDrtpG"
      },
      "source": [
        "## Téléchargement des données"
      ]
    },
    {
      "cell_type": "code",
      "metadata": {
        "id": "IEVZUQH0p7ho"
      },
      "source": [
        "data_url = 'https://archive.ics.uci.edu/ml/machine-learning-databases/00459/avila.zip'\r\n",
        "\r\n",
        "if not path.exists(data_file):\r\n",
        "  wget.download(url=data_url, out=data_file)"
      ],
      "execution_count": 150,
      "outputs": []
    },
    {
      "cell_type": "markdown",
      "metadata": {
        "id": "lRcnqTr8rxAD"
      },
      "source": [
        "## Extraction des données"
      ]
    },
    {
      "cell_type": "code",
      "metadata": {
        "id": "CbrkGSdJr0UV"
      },
      "source": [
        "from zipfile import ZipFile"
      ],
      "execution_count": 151,
      "outputs": []
    },
    {
      "cell_type": "code",
      "metadata": {
        "id": "oWmOETt0oXrL"
      },
      "source": [
        "# train file\r\n",
        "avila_tr_filename = './avila/avila-tr.txt'\r\n",
        "\r\n",
        "# test file\r\n",
        "avila_ts_filename = './avila/avila-ts.txt'"
      ],
      "execution_count": 152,
      "outputs": []
    },
    {
      "cell_type": "code",
      "metadata": {
        "id": "CaA46r6Rr85v"
      },
      "source": [
        "if not path.exists(avila_tr_filename) or not path.exists(avila_ts_filename):\r\n",
        "  with ZipFile(data_file, 'r') as zip_ref:\r\n",
        "      zip_ref.extractall()"
      ],
      "execution_count": 153,
      "outputs": []
    },
    {
      "cell_type": "markdown",
      "metadata": {
        "id": "E67nM-UGo7YM"
      },
      "source": [
        "# Lecture"
      ]
    },
    {
      "cell_type": "code",
      "metadata": {
        "id": "DofkJhqKudB4"
      },
      "source": [
        "import pandas as pd"
      ],
      "execution_count": 154,
      "outputs": []
    },
    {
      "cell_type": "code",
      "metadata": {
        "id": "uPTA47oWuWdv"
      },
      "source": [
        "data_tr = pd.read_csv(avila_tr_filename, '\\n', ',', header=None)\r\n",
        "data_ts = pd.read_csv(avila_ts_filename, '\\n', ',', header=None)"
      ],
      "execution_count": 155,
      "outputs": []
    },
    {
      "cell_type": "code",
      "metadata": {
        "colab": {
          "base_uri": "https://localhost:8080/",
          "height": 204
        },
        "id": "wEFPd17Lux0s",
        "outputId": "e3f778c4-7d26-4b02-cd0c-5c9d84fa840a"
      },
      "source": [
        "data_tr.sample(5)"
      ],
      "execution_count": 156,
      "outputs": [
        {
          "output_type": "execute_result",
          "data": {
            "text/html": [
              "<div>\n",
              "<style scoped>\n",
              "    .dataframe tbody tr th:only-of-type {\n",
              "        vertical-align: middle;\n",
              "    }\n",
              "\n",
              "    .dataframe tbody tr th {\n",
              "        vertical-align: top;\n",
              "    }\n",
              "\n",
              "    .dataframe thead th {\n",
              "        text-align: right;\n",
              "    }\n",
              "</style>\n",
              "<table border=\"1\" class=\"dataframe\">\n",
              "  <thead>\n",
              "    <tr style=\"text-align: right;\">\n",
              "      <th></th>\n",
              "      <th>0</th>\n",
              "      <th>1</th>\n",
              "      <th>2</th>\n",
              "      <th>3</th>\n",
              "      <th>4</th>\n",
              "      <th>5</th>\n",
              "      <th>6</th>\n",
              "      <th>7</th>\n",
              "      <th>8</th>\n",
              "      <th>9</th>\n",
              "      <th>10</th>\n",
              "    </tr>\n",
              "  </thead>\n",
              "  <tbody>\n",
              "    <tr>\n",
              "      <th>10135</th>\n",
              "      <td>-0.128929</td>\n",
              "      <td>0.705861</td>\n",
              "      <td>0.413447</td>\n",
              "      <td>2.004055</td>\n",
              "      <td>0.619230</td>\n",
              "      <td>1.809783</td>\n",
              "      <td>-1.742845</td>\n",
              "      <td>-0.085953</td>\n",
              "      <td>0.064084</td>\n",
              "      <td>3.257562</td>\n",
              "      <td>Y</td>\n",
              "    </tr>\n",
              "    <tr>\n",
              "      <th>7441</th>\n",
              "      <td>-0.017834</td>\n",
              "      <td>-0.440412</td>\n",
              "      <td>0.267634</td>\n",
              "      <td>1.395150</td>\n",
              "      <td>0.261718</td>\n",
              "      <td>0.439463</td>\n",
              "      <td>-0.119577</td>\n",
              "      <td>-1.037424</td>\n",
              "      <td>-1.151994</td>\n",
              "      <td>0.600769</td>\n",
              "      <td>A</td>\n",
              "    </tr>\n",
              "    <tr>\n",
              "      <th>9431</th>\n",
              "      <td>-0.227680</td>\n",
              "      <td>0.250492</td>\n",
              "      <td>0.207175</td>\n",
              "      <td>-0.481276</td>\n",
              "      <td>0.261718</td>\n",
              "      <td>-0.515608</td>\n",
              "      <td>-0.044076</td>\n",
              "      <td>-0.107115</td>\n",
              "      <td>0.313536</td>\n",
              "      <td>-0.327850</td>\n",
              "      <td>E</td>\n",
              "    </tr>\n",
              "    <tr>\n",
              "      <th>2799</th>\n",
              "      <td>-3.498799</td>\n",
              "      <td>0.438921</td>\n",
              "      <td>-0.052442</td>\n",
              "      <td>-5.440122</td>\n",
              "      <td>-0.453307</td>\n",
              "      <td>0.065740</td>\n",
              "      <td>-0.044076</td>\n",
              "      <td>-1.497045</td>\n",
              "      <td>-0.808997</td>\n",
              "      <td>0.205287</td>\n",
              "      <td>A</td>\n",
              "    </tr>\n",
              "    <tr>\n",
              "      <th>8027</th>\n",
              "      <td>-0.227680</td>\n",
              "      <td>0.289748</td>\n",
              "      <td>-0.006209</td>\n",
              "      <td>0.395814</td>\n",
              "      <td>0.261718</td>\n",
              "      <td>0.522513</td>\n",
              "      <td>-0.119577</td>\n",
              "      <td>-0.650805</td>\n",
              "      <td>0.313536</td>\n",
              "      <td>0.679572</td>\n",
              "      <td>A</td>\n",
              "    </tr>\n",
              "  </tbody>\n",
              "</table>\n",
              "</div>"
            ],
            "text/plain": [
              "             0         1         2         3   ...        7         8         9   10\n",
              "10135 -0.128929  0.705861  0.413447  2.004055  ... -0.085953  0.064084  3.257562   Y\n",
              "7441  -0.017834 -0.440412  0.267634  1.395150  ... -1.037424 -1.151994  0.600769   A\n",
              "9431  -0.227680  0.250492  0.207175 -0.481276  ... -0.107115  0.313536 -0.327850   E\n",
              "2799  -3.498799  0.438921 -0.052442 -5.440122  ... -1.497045 -0.808997  0.205287   A\n",
              "8027  -0.227680  0.289748 -0.006209  0.395814  ... -0.650805  0.313536  0.679572   A\n",
              "\n",
              "[5 rows x 11 columns]"
            ]
          },
          "metadata": {
            "tags": []
          },
          "execution_count": 156
        }
      ]
    },
    {
      "cell_type": "code",
      "metadata": {
        "colab": {
          "base_uri": "https://localhost:8080/",
          "height": 204
        },
        "id": "8przYkNQu02D",
        "outputId": "329657c1-2fee-4bb2-9809-0731cc441158"
      },
      "source": [
        "data_ts.sample(5)"
      ],
      "execution_count": 157,
      "outputs": [
        {
          "output_type": "execute_result",
          "data": {
            "text/html": [
              "<div>\n",
              "<style scoped>\n",
              "    .dataframe tbody tr th:only-of-type {\n",
              "        vertical-align: middle;\n",
              "    }\n",
              "\n",
              "    .dataframe tbody tr th {\n",
              "        vertical-align: top;\n",
              "    }\n",
              "\n",
              "    .dataframe thead th {\n",
              "        text-align: right;\n",
              "    }\n",
              "</style>\n",
              "<table border=\"1\" class=\"dataframe\">\n",
              "  <thead>\n",
              "    <tr style=\"text-align: right;\">\n",
              "      <th></th>\n",
              "      <th>0</th>\n",
              "      <th>1</th>\n",
              "      <th>2</th>\n",
              "      <th>3</th>\n",
              "      <th>4</th>\n",
              "      <th>5</th>\n",
              "      <th>6</th>\n",
              "      <th>7</th>\n",
              "      <th>8</th>\n",
              "      <th>9</th>\n",
              "      <th>10</th>\n",
              "    </tr>\n",
              "  </thead>\n",
              "  <tbody>\n",
              "    <tr>\n",
              "      <th>4371</th>\n",
              "      <td>0.019197</td>\n",
              "      <td>-0.338346</td>\n",
              "      <td>-0.358293</td>\n",
              "      <td>-0.113223</td>\n",
              "      <td>0.172340</td>\n",
              "      <td>-1.429155</td>\n",
              "      <td>-0.195078</td>\n",
              "      <td>-0.218696</td>\n",
              "      <td>-3.178789</td>\n",
              "      <td>-1.095075</td>\n",
              "      <td>A</td>\n",
              "    </tr>\n",
              "    <tr>\n",
              "      <th>3010</th>\n",
              "      <td>-0.202992</td>\n",
              "      <td>0.368260</td>\n",
              "      <td>0.388552</td>\n",
              "      <td>0.915832</td>\n",
              "      <td>0.172340</td>\n",
              "      <td>0.397939</td>\n",
              "      <td>0.106925</td>\n",
              "      <td>0.914348</td>\n",
              "      <td>0.687713</td>\n",
              "      <td>0.414782</td>\n",
              "      <td>D</td>\n",
              "    </tr>\n",
              "    <tr>\n",
              "      <th>3703</th>\n",
              "      <td>-0.091897</td>\n",
              "      <td>0.431070</td>\n",
              "      <td>0.047137</td>\n",
              "      <td>-0.048505</td>\n",
              "      <td>0.261718</td>\n",
              "      <td>-0.266459</td>\n",
              "      <td>-0.232828</td>\n",
              "      <td>-0.395629</td>\n",
              "      <td>0.032902</td>\n",
              "      <td>0.014841</td>\n",
              "      <td>G</td>\n",
              "    </tr>\n",
              "    <tr>\n",
              "      <th>4873</th>\n",
              "      <td>0.241386</td>\n",
              "      <td>-0.322644</td>\n",
              "      <td>0.281860</td>\n",
              "      <td>0.274612</td>\n",
              "      <td>0.261718</td>\n",
              "      <td>-0.100360</td>\n",
              "      <td>0.559930</td>\n",
              "      <td>0.040383</td>\n",
              "      <td>0.219991</td>\n",
              "      <td>-0.276677</td>\n",
              "      <td>F</td>\n",
              "    </tr>\n",
              "    <tr>\n",
              "      <th>8926</th>\n",
              "      <td>1.216550</td>\n",
              "      <td>0.156278</td>\n",
              "      <td>-0.013322</td>\n",
              "      <td>0.353593</td>\n",
              "      <td>0.172340</td>\n",
              "      <td>1.353010</td>\n",
              "      <td>0.295677</td>\n",
              "      <td>-0.888236</td>\n",
              "      <td>-1.120812</td>\n",
              "      <td>1.168601</td>\n",
              "      <td>A</td>\n",
              "    </tr>\n",
              "  </tbody>\n",
              "</table>\n",
              "</div>"
            ],
            "text/plain": [
              "            0         1         2         3   ...        7         8         9   10\n",
              "4371  0.019197 -0.338346 -0.358293 -0.113223  ... -0.218696 -3.178789 -1.095075   A\n",
              "3010 -0.202992  0.368260  0.388552  0.915832  ...  0.914348  0.687713  0.414782   D\n",
              "3703 -0.091897  0.431070  0.047137 -0.048505  ... -0.395629  0.032902  0.014841   G\n",
              "4873  0.241386 -0.322644  0.281860  0.274612  ...  0.040383  0.219991 -0.276677   F\n",
              "8926  1.216550  0.156278 -0.013322  0.353593  ... -0.888236 -1.120812  1.168601   A\n",
              "\n",
              "[5 rows x 11 columns]"
            ]
          },
          "metadata": {
            "tags": []
          },
          "execution_count": 157
        }
      ]
    },
    {
      "cell_type": "markdown",
      "metadata": {
        "id": "aHRJBpeNpG8W"
      },
      "source": [
        "# Pré-traitement"
      ]
    },
    {
      "cell_type": "markdown",
      "metadata": {
        "id": "9F5n_-IIy029"
      },
      "source": [
        "## Test de chauvechement"
      ]
    },
    {
      "cell_type": "code",
      "metadata": {
        "colab": {
          "base_uri": "https://localhost:8080/"
        },
        "id": "WBEeOju9zaf6",
        "outputId": "d1f56af8-54d6-46a3-ce3e-5bfeb8243c5d"
      },
      "source": [
        "# on vérifie d'abord que les données d'entrainement et les données\r\n",
        "# ont la même structure\r\n",
        "len(data_tr.columns) == len(data_ts.columns)"
      ],
      "execution_count": 158,
      "outputs": [
        {
          "output_type": "execute_result",
          "data": {
            "text/plain": [
              "True"
            ]
          },
          "metadata": {
            "tags": []
          },
          "execution_count": 158
        }
      ]
    },
    {
      "cell_type": "code",
      "metadata": {
        "colab": {
          "base_uri": "https://localhost:8080/"
        },
        "id": "TjjsFMg_zk3k",
        "outputId": "f6d8920b-d230-41ca-c689-5150e767690e"
      },
      "source": [
        "# on vérifie que les données d'entrainement et les données\r\n",
        "# ne se chevauche pas\r\n",
        "len(data_tr.merge(data_ts, how = 'inner' ,indicator=False)) == 0"
      ],
      "execution_count": 159,
      "outputs": [
        {
          "output_type": "execute_result",
          "data": {
            "text/plain": [
              "True"
            ]
          },
          "metadata": {
            "tags": []
          },
          "execution_count": 159
        }
      ]
    },
    {
      "cell_type": "markdown",
      "metadata": {
        "id": "XEcfdn4dvRot"
      },
      "source": [
        "## Renommage des colonnes"
      ]
    },
    {
      "cell_type": "code",
      "metadata": {
        "id": "6VYRIMARpNpn"
      },
      "source": [
        "columns = [f'f{i}' for i in range(10)] + ['class']\r\n",
        "\r\n",
        "data_tr.columns = columns\r\n",
        "data_ts.columns = columns"
      ],
      "execution_count": 160,
      "outputs": []
    },
    {
      "cell_type": "markdown",
      "metadata": {
        "id": "D4D2Hs9Vveeh"
      },
      "source": [
        "## Vérification des types d'attributs"
      ]
    },
    {
      "cell_type": "code",
      "metadata": {
        "colab": {
          "base_uri": "https://localhost:8080/"
        },
        "id": "FA1XrNCYvpXZ",
        "outputId": "4b35b422-1783-43fb-c07c-7ec8f1cc9ddf"
      },
      "source": [
        "data_tr.dtypes"
      ],
      "execution_count": 161,
      "outputs": [
        {
          "output_type": "execute_result",
          "data": {
            "text/plain": [
              "f0       float64\n",
              "f1       float64\n",
              "f2       float64\n",
              "f3       float64\n",
              "f4       float64\n",
              "f5       float64\n",
              "f6       float64\n",
              "f7       float64\n",
              "f8       float64\n",
              "f9       float64\n",
              "class     object\n",
              "dtype: object"
            ]
          },
          "metadata": {
            "tags": []
          },
          "execution_count": 161
        }
      ]
    },
    {
      "cell_type": "code",
      "metadata": {
        "colab": {
          "base_uri": "https://localhost:8080/"
        },
        "id": "dYjdqZWDv15s",
        "outputId": "7f395411-8e96-4973-d301-a0fafd39df64"
      },
      "source": [
        "data_ts.dtypes"
      ],
      "execution_count": 162,
      "outputs": [
        {
          "output_type": "execute_result",
          "data": {
            "text/plain": [
              "f0       float64\n",
              "f1       float64\n",
              "f2       float64\n",
              "f3       float64\n",
              "f4       float64\n",
              "f5       float64\n",
              "f6       float64\n",
              "f7       float64\n",
              "f8       float64\n",
              "f9       float64\n",
              "class     object\n",
              "dtype: object"
            ]
          },
          "metadata": {
            "tags": []
          },
          "execution_count": 162
        }
      ]
    },
    {
      "cell_type": "markdown",
      "metadata": {
        "id": "wXxKJAZtv583"
      },
      "source": [
        "Remplacement du type de l'attribut **class** par le type `category`"
      ]
    },
    {
      "cell_type": "code",
      "metadata": {
        "id": "0_hxHa5Sv5FX"
      },
      "source": [
        "data_tr['class'] = data_tr['class'].astype('category')\r\n",
        "data_ts['class'] = data_ts['class'].astype('category')"
      ],
      "execution_count": 163,
      "outputs": []
    },
    {
      "cell_type": "code",
      "metadata": {
        "colab": {
          "base_uri": "https://localhost:8080/"
        },
        "id": "AyOTnVTS2beT",
        "outputId": "64b13534-8f71-427b-a320-19b01b9d3c2e"
      },
      "source": [
        "data_tr.dtypes"
      ],
      "execution_count": 164,
      "outputs": [
        {
          "output_type": "execute_result",
          "data": {
            "text/plain": [
              "f0        float64\n",
              "f1        float64\n",
              "f2        float64\n",
              "f3        float64\n",
              "f4        float64\n",
              "f5        float64\n",
              "f6        float64\n",
              "f7        float64\n",
              "f8        float64\n",
              "f9        float64\n",
              "class    category\n",
              "dtype: object"
            ]
          },
          "metadata": {
            "tags": []
          },
          "execution_count": 164
        }
      ]
    },
    {
      "cell_type": "code",
      "metadata": {
        "colab": {
          "base_uri": "https://localhost:8080/"
        },
        "id": "fJSH8hm22cB9",
        "outputId": "57cff432-a746-4227-c938-bd49fb797935"
      },
      "source": [
        "data_ts.dtypes"
      ],
      "execution_count": 165,
      "outputs": [
        {
          "output_type": "execute_result",
          "data": {
            "text/plain": [
              "f0        float64\n",
              "f1        float64\n",
              "f2        float64\n",
              "f3        float64\n",
              "f4        float64\n",
              "f5        float64\n",
              "f6        float64\n",
              "f7        float64\n",
              "f8        float64\n",
              "f9        float64\n",
              "class    category\n",
              "dtype: object"
            ]
          },
          "metadata": {
            "tags": []
          },
          "execution_count": 165
        }
      ]
    },
    {
      "cell_type": "markdown",
      "metadata": {
        "id": "egKGzaq_3JUx"
      },
      "source": [
        "## Vérification des valeurs manquantes"
      ]
    },
    {
      "cell_type": "code",
      "metadata": {
        "id": "iipq4_m97BiF"
      },
      "source": [
        "data_all = pd.concat([data_tr, data_ts])"
      ],
      "execution_count": 166,
      "outputs": []
    },
    {
      "cell_type": "code",
      "metadata": {
        "colab": {
          "base_uri": "https://localhost:8080/"
        },
        "id": "AOC5pGnq3Rwp",
        "outputId": "483f7c4d-b237-4037-c0fd-57d813ae924c"
      },
      "source": [
        "data_all.iloc[:, :10].isnull().any()"
      ],
      "execution_count": 167,
      "outputs": [
        {
          "output_type": "execute_result",
          "data": {
            "text/plain": [
              "f0    False\n",
              "f1    False\n",
              "f2    False\n",
              "f3    False\n",
              "f4    False\n",
              "f5    False\n",
              "f6    False\n",
              "f7    False\n",
              "f8    False\n",
              "f9    False\n",
              "dtype: bool"
            ]
          },
          "metadata": {
            "tags": []
          },
          "execution_count": 167
        }
      ]
    },
    {
      "cell_type": "code",
      "metadata": {
        "colab": {
          "base_uri": "https://localhost:8080/"
        },
        "id": "0Jzotp2633eb",
        "outputId": "4a418db9-7f08-4016-e7ba-f41a61d566d6"
      },
      "source": [
        "data_all.iloc[:, :10].isna().any()"
      ],
      "execution_count": 168,
      "outputs": [
        {
          "output_type": "execute_result",
          "data": {
            "text/plain": [
              "f0    False\n",
              "f1    False\n",
              "f2    False\n",
              "f3    False\n",
              "f4    False\n",
              "f5    False\n",
              "f6    False\n",
              "f7    False\n",
              "f8    False\n",
              "f9    False\n",
              "dtype: bool"
            ]
          },
          "metadata": {
            "tags": []
          },
          "execution_count": 168
        }
      ]
    },
    {
      "cell_type": "markdown",
      "metadata": {
        "id": "WGfgRwegpN6d"
      },
      "source": [
        "# Analyse"
      ]
    },
    {
      "cell_type": "code",
      "metadata": {
        "id": "2vF7ZLNypPpq"
      },
      "source": [
        "!pip install seaborn"
      ],
      "execution_count": null,
      "outputs": []
    },
    {
      "cell_type": "code",
      "metadata": {
        "id": "qIcEx482xfCG"
      },
      "source": [
        "import matplotlib.pyplot as plt\r\n",
        "import seaborn as sns"
      ],
      "execution_count": 170,
      "outputs": []
    },
    {
      "cell_type": "markdown",
      "metadata": {
        "id": "TRushklUxlqp"
      },
      "source": [
        "## Description des attributs"
      ]
    },
    {
      "cell_type": "code",
      "metadata": {
        "colab": {
          "base_uri": "https://localhost:8080/"
        },
        "id": "pxt8hdOyxoqO",
        "outputId": "961ee32d-e004-46b2-c031-6bcd548d07c0"
      },
      "source": [
        "n_attributes = len(data_tr.columns)\r\n",
        "print(f'Numbre d\\'attributes: {n_attributes}')"
      ],
      "execution_count": 171,
      "outputs": [
        {
          "output_type": "stream",
          "text": [
            "Numbre d'attributes: 11\n"
          ],
          "name": "stdout"
        }
      ]
    },
    {
      "cell_type": "markdown",
      "metadata": {
        "id": "wR7FgJNr1e_C"
      },
      "source": [
        "* `f1` :       intercolumnar distance\r\n",
        "* `f2` :       upper margin \r\n",
        "* `f3` :       lower margin \r\n",
        "* `f4` :       exploitation \r\n",
        "* `f5` :       row number \r\n",
        "* `f6` :       modular ratio \r\n",
        "* `f7` :       interlinear spacing \r\n",
        "* `f8` :       weight \r\n",
        "* `f9` :       peak number \r\n",
        "* `f10` :      modular ratio/ interlinear spacing\r\n",
        "* `class` :\r\n",
        "  - A\r\n",
        "  - B\r\n",
        "  - C\r\n",
        "  - D\r\n",
        "  - E\r\n",
        "  - F\r\n",
        "  - G\r\n",
        "  - I\r\n",
        "  - W\r\n",
        "  - X\r\n",
        "  - Y"
      ]
    },
    {
      "cell_type": "code",
      "metadata": {
        "id": "Ll46HB_t2gMA"
      },
      "source": [
        "target_attribute = 'class'"
      ],
      "execution_count": 172,
      "outputs": []
    },
    {
      "cell_type": "markdown",
      "metadata": {
        "id": "g9W8D2DY2tm3"
      },
      "source": [
        "## Etude des classes"
      ]
    },
    {
      "cell_type": "code",
      "metadata": {
        "id": "fDRvJVrT23Ck"
      },
      "source": [
        "n_target_type = data_all[target_attribute].nunique()"
      ],
      "execution_count": 173,
      "outputs": []
    },
    {
      "cell_type": "markdown",
      "metadata": {
        "id": "lKDL0LTW5R79"
      },
      "source": [
        "On vérifie que les données d'entrainement comporte bien toutes les type de classes"
      ]
    },
    {
      "cell_type": "code",
      "metadata": {
        "colab": {
          "base_uri": "https://localhost:8080/"
        },
        "id": "TPOS4mM45MdH",
        "outputId": "951908fe-b9ca-4458-9c2d-7f7f991fd345"
      },
      "source": [
        "data_tr[target_attribute].nunique() == n_target_type"
      ],
      "execution_count": 174,
      "outputs": [
        {
          "output_type": "execute_result",
          "data": {
            "text/plain": [
              "True"
            ]
          },
          "metadata": {
            "tags": []
          },
          "execution_count": 174
        }
      ]
    },
    {
      "cell_type": "markdown",
      "metadata": {
        "id": "P44UD2t16DP9"
      },
      "source": [
        "Nombre de type de classe"
      ]
    },
    {
      "cell_type": "code",
      "metadata": {
        "colab": {
          "base_uri": "https://localhost:8080/"
        },
        "id": "buJA2an45Qyj",
        "outputId": "3a642d72-7039-4f92-ef64-44f51f3eb18a"
      },
      "source": [
        "print(f'Nombre de type de classe : {n_target_type}')"
      ],
      "execution_count": 175,
      "outputs": [
        {
          "output_type": "stream",
          "text": [
            "Nombre de type de classe : 12\n"
          ],
          "name": "stdout"
        }
      ]
    },
    {
      "cell_type": "markdown",
      "metadata": {
        "id": "ubIR1eVM6J8k"
      },
      "source": [
        "Distribution de l'ensemble des données par classe"
      ]
    },
    {
      "cell_type": "code",
      "metadata": {
        "colab": {
          "base_uri": "https://localhost:8080/",
          "height": 421
        },
        "id": "Cjsp3Xz754ps",
        "outputId": "989f1ee5-26b2-4504-bc9a-62806cf077a0"
      },
      "source": [
        "n_sample_per_target_type = data_all.groupby(target_attribute).size().reset_index()\r\n",
        "n_sample_per_target_type.columns = [target_attribute, 'count']\r\n",
        "n_sample_per_target_type"
      ],
      "execution_count": 176,
      "outputs": [
        {
          "output_type": "execute_result",
          "data": {
            "text/html": [
              "<div>\n",
              "<style scoped>\n",
              "    .dataframe tbody tr th:only-of-type {\n",
              "        vertical-align: middle;\n",
              "    }\n",
              "\n",
              "    .dataframe tbody tr th {\n",
              "        vertical-align: top;\n",
              "    }\n",
              "\n",
              "    .dataframe thead th {\n",
              "        text-align: right;\n",
              "    }\n",
              "</style>\n",
              "<table border=\"1\" class=\"dataframe\">\n",
              "  <thead>\n",
              "    <tr style=\"text-align: right;\">\n",
              "      <th></th>\n",
              "      <th>class</th>\n",
              "      <th>count</th>\n",
              "    </tr>\n",
              "  </thead>\n",
              "  <tbody>\n",
              "    <tr>\n",
              "      <th>0</th>\n",
              "      <td>A</td>\n",
              "      <td>8572</td>\n",
              "    </tr>\n",
              "    <tr>\n",
              "      <th>1</th>\n",
              "      <td>B</td>\n",
              "      <td>10</td>\n",
              "    </tr>\n",
              "    <tr>\n",
              "      <th>2</th>\n",
              "      <td>C</td>\n",
              "      <td>206</td>\n",
              "    </tr>\n",
              "    <tr>\n",
              "      <th>3</th>\n",
              "      <td>D</td>\n",
              "      <td>705</td>\n",
              "    </tr>\n",
              "    <tr>\n",
              "      <th>4</th>\n",
              "      <td>E</td>\n",
              "      <td>2190</td>\n",
              "    </tr>\n",
              "    <tr>\n",
              "      <th>5</th>\n",
              "      <td>F</td>\n",
              "      <td>3923</td>\n",
              "    </tr>\n",
              "    <tr>\n",
              "      <th>6</th>\n",
              "      <td>G</td>\n",
              "      <td>893</td>\n",
              "    </tr>\n",
              "    <tr>\n",
              "      <th>7</th>\n",
              "      <td>H</td>\n",
              "      <td>1039</td>\n",
              "    </tr>\n",
              "    <tr>\n",
              "      <th>8</th>\n",
              "      <td>I</td>\n",
              "      <td>1663</td>\n",
              "    </tr>\n",
              "    <tr>\n",
              "      <th>9</th>\n",
              "      <td>W</td>\n",
              "      <td>89</td>\n",
              "    </tr>\n",
              "    <tr>\n",
              "      <th>10</th>\n",
              "      <td>X</td>\n",
              "      <td>1044</td>\n",
              "    </tr>\n",
              "    <tr>\n",
              "      <th>11</th>\n",
              "      <td>Y</td>\n",
              "      <td>533</td>\n",
              "    </tr>\n",
              "  </tbody>\n",
              "</table>\n",
              "</div>"
            ],
            "text/plain": [
              "   class  count\n",
              "0      A   8572\n",
              "1      B     10\n",
              "2      C    206\n",
              "3      D    705\n",
              "4      E   2190\n",
              "5      F   3923\n",
              "6      G    893\n",
              "7      H   1039\n",
              "8      I   1663\n",
              "9      W     89\n",
              "10     X   1044\n",
              "11     Y    533"
            ]
          },
          "metadata": {
            "tags": []
          },
          "execution_count": 176
        }
      ]
    },
    {
      "cell_type": "markdown",
      "metadata": {
        "id": "P9inuDkj8aMV"
      },
      "source": [
        "## Résumé statistique"
      ]
    },
    {
      "cell_type": "code",
      "metadata": {
        "colab": {
          "base_uri": "https://localhost:8080/",
          "height": 173
        },
        "id": "_qcGV82p8hI4",
        "outputId": "c82f16ce-22fc-488c-d95b-d5f71ebd0616"
      },
      "source": [
        "data_all.describe().loc[['mean', 'std', 'min', 'max']]"
      ],
      "execution_count": 177,
      "outputs": [
        {
          "output_type": "execute_result",
          "data": {
            "text/html": [
              "<div>\n",
              "<style scoped>\n",
              "    .dataframe tbody tr th:only-of-type {\n",
              "        vertical-align: middle;\n",
              "    }\n",
              "\n",
              "    .dataframe tbody tr th {\n",
              "        vertical-align: top;\n",
              "    }\n",
              "\n",
              "    .dataframe thead th {\n",
              "        text-align: right;\n",
              "    }\n",
              "</style>\n",
              "<table border=\"1\" class=\"dataframe\">\n",
              "  <thead>\n",
              "    <tr style=\"text-align: right;\">\n",
              "      <th></th>\n",
              "      <th>f0</th>\n",
              "      <th>f1</th>\n",
              "      <th>f2</th>\n",
              "      <th>f3</th>\n",
              "      <th>f4</th>\n",
              "      <th>f5</th>\n",
              "      <th>f6</th>\n",
              "      <th>f7</th>\n",
              "      <th>f8</th>\n",
              "      <th>f9</th>\n",
              "    </tr>\n",
              "  </thead>\n",
              "  <tbody>\n",
              "    <tr>\n",
              "      <th>mean</th>\n",
              "      <td>-3.306656e-09</td>\n",
              "      <td>0.018498</td>\n",
              "      <td>0.002329</td>\n",
              "      <td>0.000115</td>\n",
              "      <td>5.697992e-08</td>\n",
              "      <td>0.002540</td>\n",
              "      <td>0.003977</td>\n",
              "      <td>0.000028</td>\n",
              "      <td>0.002108</td>\n",
              "      <td>0.000069</td>\n",
              "    </tr>\n",
              "    <tr>\n",
              "      <th>std</th>\n",
              "      <td>1.000007e+00</td>\n",
              "      <td>2.853117</td>\n",
              "      <td>1.058203</td>\n",
              "      <td>0.999997</td>\n",
              "      <td>9.999948e-01</td>\n",
              "      <td>1.065179</td>\n",
              "      <td>1.153325</td>\n",
              "      <td>1.000003</td>\n",
              "      <td>1.045362</td>\n",
              "      <td>1.000010</td>\n",
              "    </tr>\n",
              "    <tr>\n",
              "      <th>min</th>\n",
              "      <td>-3.498799e+00</td>\n",
              "      <td>-2.426761</td>\n",
              "      <td>-3.210528</td>\n",
              "      <td>-5.440122</td>\n",
              "      <td>-4.922215e+00</td>\n",
              "      <td>-7.450257</td>\n",
              "      <td>-11.935457</td>\n",
              "      <td>-4.247781</td>\n",
              "      <td>-5.486218</td>\n",
              "      <td>-6.719324</td>\n",
              "    </tr>\n",
              "    <tr>\n",
              "      <th>max</th>\n",
              "      <td>1.181992e+01</td>\n",
              "      <td>386.000000</td>\n",
              "      <td>50.000000</td>\n",
              "      <td>3.987152</td>\n",
              "      <td>1.066121e+00</td>\n",
              "      <td>53.000000</td>\n",
              "      <td>83.000000</td>\n",
              "      <td>13.173081</td>\n",
              "      <td>44.000000</td>\n",
              "      <td>11.911338</td>\n",
              "    </tr>\n",
              "  </tbody>\n",
              "</table>\n",
              "</div>"
            ],
            "text/plain": [
              "                f0          f1         f2  ...         f7         f8         f9\n",
              "mean -3.306656e-09    0.018498   0.002329  ...   0.000028   0.002108   0.000069\n",
              "std   1.000007e+00    2.853117   1.058203  ...   1.000003   1.045362   1.000010\n",
              "min  -3.498799e+00   -2.426761  -3.210528  ...  -4.247781  -5.486218  -6.719324\n",
              "max   1.181992e+01  386.000000  50.000000  ...  13.173081  44.000000  11.911338\n",
              "\n",
              "[4 rows x 10 columns]"
            ]
          },
          "metadata": {
            "tags": []
          },
          "execution_count": 177
        }
      ]
    },
    {
      "cell_type": "markdown",
      "metadata": {
        "id": "NYGf7G2k8qNv"
      },
      "source": [
        "## Correlation des attributs"
      ]
    },
    {
      "cell_type": "code",
      "metadata": {
        "colab": {
          "base_uri": "https://localhost:8080/",
          "height": 607
        },
        "id": "DmFmW-gU8sMN",
        "outputId": "f5ca4a62-2aef-46bf-a140-d8786c484164"
      },
      "source": [
        "attributes_correlation = data_all.corr().abs()\r\n",
        "\r\n",
        "plt.figure(figsize=(10, 10))\r\n",
        "sns.heatmap(attributes_correlation, annot=True)\r\n",
        "plt.title('Correlation des attributs')\r\n",
        "plt.show()"
      ],
      "execution_count": 178,
      "outputs": [
        {
          "output_type": "display_data",
          "data": {
            "image/png": "[encoded data removed]",
            "text/plain": [
              "<Figure size 720x720 with 2 Axes>"
            ]
          },
          "metadata": {
            "tags": [],
            "needs_background": "light"
          }
        }
      ]
    },
    {
      "cell_type": "markdown",
      "metadata": {
        "id": "2_SI7JKa9bCR"
      },
      "source": [
        "# Entrainement des modeles"
      ]
    },
    {
      "cell_type": "code",
      "metadata": {
        "id": "hTJa9DLe9mYq"
      },
      "source": [
        "!pip install scikit-learn"
      ],
      "execution_count": null,
      "outputs": []
    },
    {
      "cell_type": "markdown",
      "metadata": {
        "id": "C9IIw_4T-UBB"
      },
      "source": [
        "### Fonctions"
      ]
    },
    {
      "cell_type": "code",
      "metadata": {
        "id": "NYVyjIz8-oIP"
      },
      "source": [
        "import numpy as np\r\n",
        "from sklearn.model_selection import train_test_split\r\n",
        "from sklearn import metrics\r\n",
        "from sklearn.model_selection import GridSearchCV\r\n",
        "from sklearn.utils.testing import ignore_warnings\r\n",
        "from sklearn.exceptions import ConvergenceWarning\r\n",
        "from math import sqrt"
      ],
      "execution_count": 180,
      "outputs": []
    },
    {
      "cell_type": "code",
      "metadata": {
        "id": "ohoGAtie-qU7"
      },
      "source": [
        "@ignore_warnings(category=ConvergenceWarning)\r\n",
        "def test_model(model, data, target_attribute, n=10):\r\n",
        "  \"\"\"\r\n",
        "  Tester un modele\r\n",
        "  \"\"\"\r\n",
        "  X = data.loc[:, data.columns != target_attribute]   # data input\r\n",
        "  y = data[target_attribute]                          # data target\r\n",
        "\r\n",
        "  accuracy = []\r\n",
        "  predictions = []\r\n",
        "\r\n",
        "  for i in range(n):\r\n",
        "    X_train, X_test, y_train, y_test = train_test_split(X, y, test_size=0.25)\r\n",
        "\r\n",
        "    model.fit(X_train, y_train)\r\n",
        "\r\n",
        "    pred = model.predict(X_test)\r\n",
        "    acc = metrics.accuracy_score(y_test, pred)\r\n",
        "\r\n",
        "    predictions.append(pred)\r\n",
        "    accuracy.append(acc)\r\n",
        "\r\n",
        "  return accuracy, predictions"
      ],
      "execution_count": 181,
      "outputs": []
    },
    {
      "cell_type": "code",
      "metadata": {
        "id": "YbdsvQqd5Z3J"
      },
      "source": [
        "@ignore_warnings(category=ConvergenceWarning)\r\n",
        "def train_model(model, params, data, target_attribute):\r\n",
        "  \"\"\"\r\n",
        "  Entrainer un modele\r\n",
        "  \"\"\"\r\n",
        "  grid = GridSearchCV(model, params, n_jobs=-1, verbose=1, cv=3)\r\n",
        "\r\n",
        "  x_train = data.loc[:, data.columns != target_attribute]\r\n",
        "  y_train = data[target_attribute]\r\n",
        "\r\n",
        "  grid.fit(x_train, y_train)\r\n",
        "\r\n",
        "  best_params = grid.best_params_\r\n",
        "  best_model = grid.best_estimator_\r\n",
        "\r\n",
        "  return best_params, best_model"
      ],
      "execution_count": 182,
      "outputs": []
    },
    {
      "cell_type": "code",
      "metadata": {
        "id": "vhJ1tz3PUOju"
      },
      "source": [
        "def acc_statistic(accuracies):\r\n",
        "  \"\"\"\r\n",
        "  Génère les stats de plusieur précision\r\n",
        "  \"\"\"\r\n",
        "  mean_val = sum(accuracies) / len(accuracies)\r\n",
        "  min_val = min(accuracies)\r\n",
        "  max_val = max(accuracies)\r\n",
        "\r\n",
        "  return mean_val, min_val, max_val"
      ],
      "execution_count": 183,
      "outputs": []
    },
    {
      "cell_type": "code",
      "metadata": {
        "id": "i6l8Q85a6-D8"
      },
      "source": [
        "def analyse_result_with_plot(x, y1, y2, y3, x_label, y_label, title, figsize=(12, 6)):\r\n",
        "  \"\"\"\r\n",
        "  Génerer une analyse visuel\r\n",
        "  \"\"\"\r\n",
        "  plt.figure(figsize=figsize)\r\n",
        "  plt.plot(x, y1, linestyle='dashed', marker='o', label='précision moy.')\r\n",
        "  plt.plot(x, y2, linestyle='dashed', marker='o', label='précision min.')\r\n",
        "  plt.plot(x, y3, linestyle='dashed', marker='o', label='précision max.')\r\n",
        "  plt.xlabel(x_label)\r\n",
        "  plt.ylabel(y_label)\r\n",
        "  plt.title(title)\r\n",
        "  plt.legend()\r\n",
        "  plt.grid(b=True, which='major', color='#bdc3c7', linestyle='--')\r\n",
        "  plt.show()"
      ],
      "execution_count": 184,
      "outputs": []
    },
    {
      "cell_type": "code",
      "metadata": {
        "id": "UPgxCIEI7Vox"
      },
      "source": [
        "def analyse_result_with_bar(x, y1, y2, y3, x_label, y_label, title, figsize=(12, 6)):\r\n",
        "  \"\"\"\r\n",
        "  Générer une analyse visuel\r\n",
        "  \"\"\"\r\n",
        "  x_values = np.arange(len(x)) \r\n",
        "  barWidth = 0.15\r\n",
        "\r\n",
        "  plt.figure(figsize=(12,6))\r\n",
        "  plt.bar(x_values, y1, width=barWidth, label='precision moy.')\r\n",
        "  plt.bar(x_values - barWidth, y2, width=barWidth, label='precision min.')\r\n",
        "  plt.bar(x_values + barWidth, y3, width=barWidth, label='precision max.')\r\n",
        "  plt.xlabel(x_label)\r\n",
        "  plt.ylabel(y_label)\r\n",
        "  plt.xticks([r for r in range(len(y1))], x)\r\n",
        "  plt.legend()\r\n",
        "  plt.title(title)\r\n",
        "  plt.show()"
      ],
      "execution_count": 185,
      "outputs": []
    },
    {
      "cell_type": "markdown",
      "metadata": {
        "id": "kNP5xO1B-2mW"
      },
      "source": [
        "## K-NN"
      ]
    },
    {
      "cell_type": "code",
      "metadata": {
        "id": "iYFXl-Vh-7Io"
      },
      "source": [
        "from sklearn.neighbors import KNeighborsClassifier"
      ],
      "execution_count": 186,
      "outputs": []
    },
    {
      "cell_type": "code",
      "metadata": {
        "id": "Bg1-7o1GU_Sj"
      },
      "source": [
        "knn_model = KNeighborsClassifier()"
      ],
      "execution_count": 187,
      "outputs": []
    },
    {
      "cell_type": "markdown",
      "metadata": {
        "id": "jXYxUjdGVBbS"
      },
      "source": [
        "### Test du modele par defaut"
      ]
    },
    {
      "cell_type": "code",
      "metadata": {
        "id": "zUY9-utONFwA"
      },
      "source": [
        "knn_accuracy, knn_predictions = test_model(knn_model, data_tr, target_attribute)"
      ],
      "execution_count": 188,
      "outputs": []
    },
    {
      "cell_type": "code",
      "metadata": {
        "colab": {
          "base_uri": "https://localhost:8080/"
        },
        "id": "RD3QdvIbQlkU",
        "outputId": "edfdb3b5-7466-4145-f7d0-47de16caea5e"
      },
      "source": [
        "knn_accuracy_mean, knn_accuracy_min, knn_accuracy_max = acc_statistic(knn_accuracy)\r\n",
        "\r\n",
        "print(f'Précision\\t', \r\n",
        "      f'moy.: {round(knn_accuracy_mean, 8)}\\t',\r\n",
        "      f'min.: {round(knn_accuracy_min, 8)}\\t',\r\n",
        "      f'max.: {round(knn_accuracy_max, 8)}\\t')"
      ],
      "execution_count": 189,
      "outputs": [
        {
          "output_type": "stream",
          "text": [
            "Précision\t moy.: 0.71330521\t min.: 0.69708589\t max.: 0.73312883\t\n"
          ],
          "name": "stdout"
        }
      ]
    },
    {
      "cell_type": "markdown",
      "metadata": {
        "id": "lphAikPs_mju"
      },
      "source": [
        "### Recherche des meilleurs parametres"
      ]
    },
    {
      "cell_type": "code",
      "metadata": {
        "id": "_NnByjdJ_qRy"
      },
      "source": [
        "from math import sqrt"
      ],
      "execution_count": 190,
      "outputs": []
    },
    {
      "cell_type": "markdown",
      "metadata": {
        "id": "sd7BCfV7VoiB"
      },
      "source": [
        "#### Influence de `k` (nombre de voisins)"
      ]
    },
    {
      "cell_type": "code",
      "metadata": {
        "id": "Eo-Y4ndbkhEA"
      },
      "source": [
        "knn_min_k = 1\r\n",
        "knn_max_k = int(sqrt(len(data_tr)))"
      ],
      "execution_count": 191,
      "outputs": []
    },
    {
      "cell_type": "code",
      "metadata": {
        "id": "Fqzt0Jsr_tu6"
      },
      "source": [
        "knn_k_result = []\r\n",
        "\r\n",
        "for k in range(knn_min_k, knn_max_k):\r\n",
        "  model = KNeighborsClassifier(n_neighbors=k)\r\n",
        "  accuracy, _ = test_model(model, data_tr, target_attribute)\r\n",
        "\r\n",
        "  knn_k_result.append((k, accuracy))"
      ],
      "execution_count": 192,
      "outputs": []
    },
    {
      "cell_type": "code",
      "metadata": {
        "id": "MXrQwFGm__qA"
      },
      "source": [
        "knn_k_values = [i for i in range(knn_min_k, knn_max_k)]\r\n",
        "knn_k_acc_stats = [acc_statistic(accuracy) for _, accuracy in knn_k_result]\r\n",
        "knn_k_mean_accuracy = [mean_acc for mean_acc, _, _ in knn_k_acc_stats]\r\n",
        "knn_k_min_accuracy = [min_acc for _, min_acc, _ in knn_k_acc_stats]\r\n",
        "knn_k_max_accuracy = [max_acc for _, _, max_acc in knn_k_acc_stats]"
      ],
      "execution_count": 193,
      "outputs": []
    },
    {
      "cell_type": "code",
      "metadata": {
        "colab": {
          "base_uri": "https://localhost:8080/",
          "height": 404
        },
        "id": "48w5Efb8AEAA",
        "outputId": "d5eac07a-b17b-4395-8fdc-77261ea0c896"
      },
      "source": [
        "analyse_result_with_plot(knn_k_values, \r\n",
        "                         knn_k_mean_accuracy, \r\n",
        "                         knn_k_min_accuracy, \r\n",
        "                         knn_k_max_accuracy, \r\n",
        "                         'Valeur de k',\r\n",
        "                         'Précision',\r\n",
        "                         'Précision en fonction de la valeur de k')"
      ],
      "execution_count": 194,
      "outputs": [
        {
          "output_type": "display_data",
          "data": {
            "image/png": "[encoded data removed]",
            "text/plain": [
              "<Figure size 864x432 with 1 Axes>"
            ]
          },
          "metadata": {
            "tags": [],
            "needs_background": "light"
          }
        }
      ]
    },
    {
      "cell_type": "code",
      "metadata": {
        "id": "rZEr2MTaaRPo"
      },
      "source": [
        "knn_max_k = 9"
      ],
      "execution_count": 195,
      "outputs": []
    },
    {
      "cell_type": "markdown",
      "metadata": {
        "id": "qdzKkzTQaTgz"
      },
      "source": [
        "#### Influence de `weights`"
      ]
    },
    {
      "cell_type": "code",
      "metadata": {
        "id": "ynD6mphEkqke"
      },
      "source": [
        "knn_weights_type = ['uniform', 'distance']"
      ],
      "execution_count": 196,
      "outputs": []
    },
    {
      "cell_type": "code",
      "metadata": {
        "id": "Jqx1o_KCa0H1"
      },
      "source": [
        "knn_weights_result = []\r\n",
        "\r\n",
        "for weights in knn_weights_type:\r\n",
        "  model = KNeighborsClassifier(weights=weights)\r\n",
        "  accuracy, _ = test_model(model, data_tr, target_attribute)\r\n",
        "\r\n",
        "  knn_weights_result.append((k, accuracy))"
      ],
      "execution_count": 197,
      "outputs": []
    },
    {
      "cell_type": "code",
      "metadata": {
        "id": "g-_pKWTjbJTl"
      },
      "source": [
        "knn_weights_values = knn_weights_type[:]\r\n",
        "knn_weights_acc_stats = [acc_statistic(accuracy) for _, accuracy in knn_weights_result]\r\n",
        "knn_weights_mean_accuracy = [mean_acc for mean_acc, _, _ in knn_weights_acc_stats]\r\n",
        "knn_weights_min_accuracy = [min_acc for _, min_acc, _ in knn_weights_acc_stats]\r\n",
        "knn_weights_max_accuracy = [max_acc for _, _, max_acc in knn_weights_acc_stats]"
      ],
      "execution_count": 198,
      "outputs": []
    },
    {
      "cell_type": "code",
      "metadata": {
        "colab": {
          "base_uri": "https://localhost:8080/",
          "height": 404
        },
        "id": "TdWtVoi7bhFq",
        "outputId": "4f0474e4-d147-4be3-9f10-4e813b1c5258"
      },
      "source": [
        "analyse_result_with_bar(knn_weights_values,\r\n",
        "                        knn_weights_mean_accuracy, \r\n",
        "                        knn_weights_min_accuracy, \r\n",
        "                        knn_weights_max_accuracy, \r\n",
        "                        'Type de weights',\r\n",
        "                        'Précision',\r\n",
        "                        'Précision en fonction du type de weights')"
      ],
      "execution_count": 199,
      "outputs": [
        {
          "output_type": "display_data",
          "data": {
            "image/png": "[encoded data removed]",
            "text/plain": [
              "<Figure size 864x432 with 1 Axes>"
            ]
          },
          "metadata": {
            "tags": [],
            "needs_background": "light"
          }
        }
      ]
    },
    {
      "cell_type": "code",
      "metadata": {
        "id": "xi6ooXRTpoBn"
      },
      "source": [
        "knn_weights_type = ['distance']"
      ],
      "execution_count": 200,
      "outputs": []
    },
    {
      "cell_type": "markdown",
      "metadata": {
        "id": "BROE2DU2huih"
      },
      "source": [
        "#### Influence de `p`"
      ]
    },
    {
      "cell_type": "code",
      "metadata": {
        "id": "JF3P86ODkwNs"
      },
      "source": [
        "knn_min_p = 1\r\n",
        "knn_max_p = 10"
      ],
      "execution_count": 201,
      "outputs": []
    },
    {
      "cell_type": "code",
      "metadata": {
        "id": "l2WaZOf8iC1J"
      },
      "source": [
        "knn_p_result = []\r\n",
        "\r\n",
        "for p in range(knn_min_p, knn_max_p):\r\n",
        "  model = KNeighborsClassifier(p=p)\r\n",
        "  accuracy, _ = test_model(model, data_tr, target_attribute)\r\n",
        "\r\n",
        "  knn_p_result.append((p, accuracy))"
      ],
      "execution_count": 202,
      "outputs": []
    },
    {
      "cell_type": "code",
      "metadata": {
        "id": "zF3N3RqciNze"
      },
      "source": [
        "knn_p_values = [p for p in range(knn_min_p, knn_max_p)]\r\n",
        "knn_p_acc_stats = [acc_statistic(accuracy) for _, accuracy in knn_p_result]\r\n",
        "knn_p_mean_accuracy = [mean_acc for mean_acc, _, _ in knn_p_acc_stats]\r\n",
        "knn_p_min_accuracy = [min_acc for _, min_acc, _ in knn_p_acc_stats]\r\n",
        "knn_p_max_accuracy = [max_acc for _, _, max_acc in knn_p_acc_stats]"
      ],
      "execution_count": 203,
      "outputs": []
    },
    {
      "cell_type": "code",
      "metadata": {
        "colab": {
          "base_uri": "https://localhost:8080/",
          "height": 404
        },
        "id": "HojDtOMsiele",
        "outputId": "c89b03c4-46cd-41b5-f7a2-5c6391cbe114"
      },
      "source": [
        "analyse_result_with_plot(knn_p_values,\r\n",
        "                         knn_p_mean_accuracy,\r\n",
        "                         knn_p_min_accuracy,\r\n",
        "                         knn_p_max_accuracy,\r\n",
        "                         'Valeur de p',\r\n",
        "                         'Précision',\r\n",
        "                         'Précision en fonction de p')"
      ],
      "execution_count": 204,
      "outputs": [
        {
          "output_type": "display_data",
          "data": {
            "image/png": "[encoded data removed]",
            "text/plain": [
              "<Figure size 864x432 with 1 Axes>"
            ]
          },
          "metadata": {
            "tags": [],
            "needs_background": "light"
          }
        }
      ]
    },
    {
      "cell_type": "code",
      "metadata": {
        "id": "pWrmZjfWi-XS"
      },
      "source": [
        "knn_max_p = 3"
      ],
      "execution_count": 205,
      "outputs": []
    },
    {
      "cell_type": "markdown",
      "metadata": {
        "id": "gjf68a0vh89c"
      },
      "source": [
        "### Recherche du meilleur modele"
      ]
    },
    {
      "cell_type": "code",
      "metadata": {
        "colab": {
          "base_uri": "https://localhost:8080/"
        },
        "id": "wy2aFz8wh_pI",
        "outputId": "53fb6312-a1fc-4a6a-907f-67a1b6415fda"
      },
      "source": [
        "knn_parameters = {\r\n",
        "    'n_neighbors': [k for k in range(knn_min_k, knn_max_k)], \r\n",
        "    'weights': knn_weights_type, \r\n",
        "    'p': [p for p in range(knn_min_p, knn_max_p)]\r\n",
        "}\r\n",
        "\r\n",
        "knn_best_param, knn_best_model = train_model(knn_model, knn_parameters, data_tr, target_attribute)"
      ],
      "execution_count": 206,
      "outputs": [
        {
          "output_type": "stream",
          "text": [
            "Fitting 3 folds for each of 16 candidates, totalling 48 fits\n"
          ],
          "name": "stdout"
        },
        {
          "output_type": "stream",
          "text": [
            "[Parallel(n_jobs=-1)]: Using backend LokyBackend with 2 concurrent workers.\n",
            "[Parallel(n_jobs=-1)]: Done  48 out of  48 | elapsed:   13.1s finished\n"
          ],
          "name": "stderr"
        }
      ]
    },
    {
      "cell_type": "code",
      "metadata": {
        "colab": {
          "base_uri": "https://localhost:8080/"
        },
        "id": "-LQTPpTXl3U9",
        "outputId": "d9902d86-06cf-42fe-c2d7-6e1e024a2bf4"
      },
      "source": [
        "print(\"Meilleure parametres trouvés :\")\r\n",
        "print(knn_best_param)"
      ],
      "execution_count": 207,
      "outputs": [
        {
          "output_type": "stream",
          "text": [
            "Meilleure parametres trouvés :\n",
            "{'n_neighbors': 4, 'p': 1, 'weights': 'distance'}\n"
          ],
          "name": "stdout"
        }
      ]
    },
    {
      "cell_type": "code",
      "metadata": {
        "id": "9hyWeG_CmIr8"
      },
      "source": [
        "knn_model = knn_best_model"
      ],
      "execution_count": 208,
      "outputs": []
    },
    {
      "cell_type": "markdown",
      "metadata": {
        "id": "Cdc0iLZkDfEZ"
      },
      "source": [
        "### Comparaison"
      ]
    },
    {
      "cell_type": "code",
      "metadata": {
        "id": "J6toZVpgvfyg"
      },
      "source": [
        "knn_accuracy_mean_old, knn_accuracy_min_old, knn_accuracy_max_old = knn_accuracy_mean, knn_accuracy_min, knn_accuracy_max"
      ],
      "execution_count": 209,
      "outputs": []
    },
    {
      "cell_type": "code",
      "metadata": {
        "id": "55cP-FmFKbAd"
      },
      "source": [
        "knn_accuracy, knn_predictions = test_model(knn_model, data_tr, target_attribute)"
      ],
      "execution_count": 210,
      "outputs": []
    },
    {
      "cell_type": "code",
      "metadata": {
        "colab": {
          "base_uri": "https://localhost:8080/"
        },
        "id": "8c4mQLmJvrGg",
        "outputId": "0a40f530-9b53-4553-e810-82b66c83a37b"
      },
      "source": [
        "knn_accuracy_mean, knn_accuracy_min, knn_accuracy_max = acc_statistic(knn_accuracy)\r\n",
        "\r\n",
        "print(f'Ancienne précision\\t', \r\n",
        "      f'moy.: {round(knn_accuracy_mean_old, 8)}\\t',\r\n",
        "      f'min.: {round(knn_accuracy_min_old, 8)}\\t',\r\n",
        "      f'max.: {round(knn_accuracy_max_old, 8)}\\t')\r\n",
        "\r\n",
        "print(f'Nouvelle précision\\t', \r\n",
        "      f'moy.: {round(knn_accuracy_mean, 8)}\\t',\r\n",
        "      f'min.: {round(knn_accuracy_min, 8)}\\t',\r\n",
        "      f'max.: {round(knn_accuracy_max, 8)}\\t')"
      ],
      "execution_count": 211,
      "outputs": [
        {
          "output_type": "stream",
          "text": [
            "Ancienne précision\t moy.: 0.71330521\t min.: 0.69708589\t max.: 0.73312883\t\n",
            "Nouvelle précision\t moy.: 0.82358129\t min.: 0.8178681\t max.: 0.83473926\t\n"
          ],
          "name": "stdout"
        }
      ]
    },
    {
      "cell_type": "markdown",
      "metadata": {
        "id": "w7rGmar3-8Yk"
      },
      "source": [
        "## Logistic regression"
      ]
    },
    {
      "cell_type": "code",
      "metadata": {
        "id": "yHinZP6b--p3"
      },
      "source": [
        "from sklearn.linear_model import LogisticRegression"
      ],
      "execution_count": 212,
      "outputs": []
    },
    {
      "cell_type": "code",
      "metadata": {
        "id": "FnPUNYKdwmQK"
      },
      "source": [
        "lr_model = LogisticRegression(multi_class='multinomial')"
      ],
      "execution_count": 213,
      "outputs": []
    },
    {
      "cell_type": "markdown",
      "metadata": {
        "id": "BtDvpzfowiqh"
      },
      "source": [
        "### Test du modele par defaut"
      ]
    },
    {
      "cell_type": "code",
      "metadata": {
        "id": "X9zZmYulyM02"
      },
      "source": [
        "lr_accuracy, lr_predictions = test_model(lr_model, data_tr, target_attribute)"
      ],
      "execution_count": 214,
      "outputs": []
    },
    {
      "cell_type": "code",
      "metadata": {
        "colab": {
          "base_uri": "https://localhost:8080/"
        },
        "id": "C0U5JVAxyU5J",
        "outputId": "3c019487-7cba-4eb8-d005-5293e0150850"
      },
      "source": [
        "lr_accuracy_mean, lr_accuracy_min, lr_accuracy_max = acc_statistic(lr_accuracy)\r\n",
        "\r\n",
        "print(f'Précision\\t', \r\n",
        "      f'moy.: {round(lr_accuracy_mean, 8)}\\t',\r\n",
        "      f'min.: {round(lr_accuracy_min, 8)}\\t',\r\n",
        "      f'max.: {round(lr_accuracy_max, 8)}\\t')"
      ],
      "execution_count": 215,
      "outputs": [
        {
          "output_type": "stream",
          "text": [
            "Précision\t moy.: 0.56445552\t min.: 0.54639571\t max.: 0.58550613\t\n"
          ],
          "name": "stdout"
        }
      ]
    },
    {
      "cell_type": "markdown",
      "metadata": {
        "id": "dgVu9uwvyZTZ"
      },
      "source": [
        "### Recherche des meilleurs parametres"
      ]
    },
    {
      "cell_type": "markdown",
      "metadata": {
        "id": "lqrjJ16H6BGz"
      },
      "source": [
        "#### Influence de `max_iter`"
      ]
    },
    {
      "cell_type": "code",
      "metadata": {
        "id": "jUswOQ8Y6JNV"
      },
      "source": [
        "lr_max_iter_range = [i for i in range(100, 1000, 100)]"
      ],
      "execution_count": 216,
      "outputs": []
    },
    {
      "cell_type": "code",
      "metadata": {
        "id": "ASwve6Yb6Sdt"
      },
      "source": [
        "lr_max_iter_result = []\r\n",
        "\r\n",
        "for max_iter in lr_max_iter_range:\r\n",
        "  model = LogisticRegression(multi_class='multinomial', max_iter=max_iter)\r\n",
        "  accuracy, _ = test_model(model, data_tr, target_attribute)\r\n",
        "\r\n",
        "  lr_max_iter_result.append((k, accuracy))"
      ],
      "execution_count": 217,
      "outputs": []
    },
    {
      "cell_type": "code",
      "metadata": {
        "id": "R2ibTKFa6eaN"
      },
      "source": [
        "lr_max_iter_values = lr_max_iter_range[:]\r\n",
        "lr_max_iter_acc_stats = [acc_statistic(accuracy) for _, accuracy in lr_max_iter_result]\r\n",
        "lr_max_iter_mean_accuracy = [mean_acc for mean_acc, _, _ in lr_max_iter_acc_stats]\r\n",
        "lr_max_iter_min_accuracy = [min_acc for _, min_acc, _ in lr_max_iter_acc_stats]\r\n",
        "lr_max_iter_max_accuracy = [max_acc for _, _, max_acc in lr_max_iter_acc_stats]"
      ],
      "execution_count": 218,
      "outputs": []
    },
    {
      "cell_type": "code",
      "metadata": {
        "colab": {
          "base_uri": "https://localhost:8080/",
          "height": 404
        },
        "id": "f55PMsX57oNw",
        "outputId": "44352089-f379-4397-ade6-76c792275ff4"
      },
      "source": [
        "analyse_result_with_plot(lr_max_iter_values, \r\n",
        "                         lr_max_iter_mean_accuracy, \r\n",
        "                         lr_max_iter_min_accuracy, \r\n",
        "                         lr_max_iter_max_accuracy, \r\n",
        "                         'Nom d\\'iteration maximale',\r\n",
        "                         'Précision',\r\n",
        "                         'Précision en fonction di nombre d\\'iteration maximale')"
      ],
      "execution_count": 219,
      "outputs": [
        {
          "output_type": "display_data",
          "data": {
            "image/png": "[encoded data removed]",
            "text/plain": [
              "<Figure size 864x432 with 1 Axes>"
            ]
          },
          "metadata": {
            "tags": [],
            "needs_background": "light"
          }
        }
      ]
    },
    {
      "cell_type": "code",
      "metadata": {
        "id": "IMrlaOt59Bo_"
      },
      "source": [
        "lr_max_iter_range = [i for i in range(100, 600, 100)]"
      ],
      "execution_count": 220,
      "outputs": []
    },
    {
      "cell_type": "markdown",
      "metadata": {
        "id": "R-nS3WLcyceS"
      },
      "source": [
        "#### Influence de `c`"
      ]
    },
    {
      "cell_type": "code",
      "metadata": {
        "id": "2b6ChqeCymBP"
      },
      "source": [
        "lr_c_range = [0.001, 0.01, 0.1, 1, 10, 100, 1000]"
      ],
      "execution_count": 221,
      "outputs": []
    },
    {
      "cell_type": "code",
      "metadata": {
        "id": "WRJ5vhuHzCG8"
      },
      "source": [
        "lr_c_result = []\r\n",
        "\r\n",
        "for c in lr_c_range:\r\n",
        "  model = LogisticRegression(multi_class='multinomial')\r\n",
        "  accuracy, _ = test_model(model, data_tr, target_attribute)\r\n",
        "\r\n",
        "  lr_c_result.append((k, accuracy))"
      ],
      "execution_count": 222,
      "outputs": []
    },
    {
      "cell_type": "code",
      "metadata": {
        "id": "ihGFHc7VzcVr"
      },
      "source": [
        "lr_c_values = lr_c_range[:]\r\n",
        "lr_c_acc_stats = [acc_statistic(accuracy) for _, accuracy in lr_c_result]\r\n",
        "lr_c_mean_accuracy = [mean_acc for mean_acc, _, _ in lr_c_acc_stats]\r\n",
        "lr_c_min_accuracy = [min_acc for _, min_acc, _ in lr_c_acc_stats]\r\n",
        "lr_c_max_accuracy = [max_acc for _, _, max_acc in lr_c_acc_stats]"
      ],
      "execution_count": 223,
      "outputs": []
    },
    {
      "cell_type": "code",
      "metadata": {
        "colab": {
          "base_uri": "https://localhost:8080/",
          "height": 404
        },
        "id": "dL2apQp4zqSd",
        "outputId": "c9017bbb-e8cd-4e31-f5b5-3f2bf201c778"
      },
      "source": [
        "analyse_result_with_plot(lr_c_values, \r\n",
        "                         lr_c_mean_accuracy, \r\n",
        "                         lr_c_min_accuracy, \r\n",
        "                         lr_c_max_accuracy, \r\n",
        "                         'Valeur de c',\r\n",
        "                         'Précision',\r\n",
        "                         'Précision en fonction de la valeur de c')"
      ],
      "execution_count": 224,
      "outputs": [
        {
          "output_type": "display_data",
          "data": {
            "image/png": "[encoded data removed]",
            "text/plain": [
              "<Figure size 864x432 with 1 Axes>"
            ]
          },
          "metadata": {
            "tags": [],
            "needs_background": "light"
          }
        }
      ]
    },
    {
      "cell_type": "code",
      "metadata": {
        "id": "4sI0P0fW1CQd"
      },
      "source": [
        "lr_c_range = [1, 10, 100]"
      ],
      "execution_count": 225,
      "outputs": []
    },
    {
      "cell_type": "markdown",
      "metadata": {
        "id": "P8osM8701xe0"
      },
      "source": [
        "#### Influence de `solver`"
      ]
    },
    {
      "cell_type": "code",
      "metadata": {
        "id": "A7R03pSi2VVw"
      },
      "source": [
        "lr_solver_type = ['newton-cg', 'sag', 'saga', 'lbfgs']"
      ],
      "execution_count": 226,
      "outputs": []
    },
    {
      "cell_type": "code",
      "metadata": {
        "id": "QKC7tdNP2nkl"
      },
      "source": [
        "lr_solver_result = []\r\n",
        "\r\n",
        "for solver in lr_solver_type:\r\n",
        "  model = LogisticRegression(multi_class='multinomial', solver=solver)\r\n",
        "  accuracy, _ = test_model(model, data_tr, target_attribute)\r\n",
        "\r\n",
        "  lr_solver_result.append((solver, accuracy))"
      ],
      "execution_count": 227,
      "outputs": []
    },
    {
      "cell_type": "code",
      "metadata": {
        "id": "_FvPOAQ728Fu"
      },
      "source": [
        "lr_solver_values = lr_solver_type[:]\r\n",
        "lr_solver_acc_stats = [acc_statistic(accuracy) for _, accuracy in lr_solver_result]\r\n",
        "lr_solver_mean_accuracy = [mean_acc for mean_acc, _, _ in lr_solver_acc_stats]\r\n",
        "lr_solver_min_accuracy = [min_acc for _, min_acc, _ in lr_solver_acc_stats]\r\n",
        "lr_solver_max_accuracy = [max_acc for _, _, max_acc in lr_solver_acc_stats]"
      ],
      "execution_count": 228,
      "outputs": []
    },
    {
      "cell_type": "code",
      "metadata": {
        "colab": {
          "base_uri": "https://localhost:8080/",
          "height": 404
        },
        "id": "ZUs6JsNy_cbS",
        "outputId": "8e9b8448-fb16-4176-f57d-70dfdc9a5ffd"
      },
      "source": [
        "analyse_result_with_bar(lr_solver_values,\r\n",
        "                        lr_solver_mean_accuracy, \r\n",
        "                        lr_solver_min_accuracy, \r\n",
        "                        lr_solver_max_accuracy, \r\n",
        "                        'Type de solver',\r\n",
        "                        'Précision',\r\n",
        "                        'Précision en fonction du solver')"
      ],
      "execution_count": 229,
      "outputs": [
        {
          "output_type": "display_data",
          "data": {
            "image/png": "[encoded data removed]",
            "text/plain": [
              "<Figure size 864x432 with 1 Axes>"
            ]
          },
          "metadata": {
            "tags": [],
            "needs_background": "light"
          }
        }
      ]
    },
    {
      "cell_type": "code",
      "metadata": {
        "id": "iakDTa-kAAbf"
      },
      "source": [
        "lr_solver_type = ['newton-cg', 'sag', 'saga', 'lbfgs']"
      ],
      "execution_count": 230,
      "outputs": []
    },
    {
      "cell_type": "markdown",
      "metadata": {
        "id": "EwOagZRhDmea"
      },
      "source": [
        "### Recherche du meilleur modele"
      ]
    },
    {
      "cell_type": "code",
      "metadata": {
        "colab": {
          "base_uri": "https://localhost:8080/"
        },
        "id": "R21TGMWlDorN",
        "outputId": "86590705-56e9-42ca-a786-a9eef5123a4e"
      },
      "source": [
        "lr_parameters = {\r\n",
        "    'max_iter': lr_max_iter_range, \r\n",
        "    'C': lr_c_range, \r\n",
        "    'solver': lr_solver_type\r\n",
        "}\r\n",
        "\r\n",
        "lr_best_param, lr_best_model = train_model(lr_model, lr_parameters, data_tr, target_attribute)"
      ],
      "execution_count": 231,
      "outputs": [
        {
          "output_type": "stream",
          "text": [
            "Fitting 3 folds for each of 60 candidates, totalling 180 fits\n"
          ],
          "name": "stdout"
        },
        {
          "output_type": "stream",
          "text": [
            "[Parallel(n_jobs=-1)]: Using backend LokyBackend with 2 concurrent workers.\n",
            "[Parallel(n_jobs=-1)]: Done  46 tasks      | elapsed:  1.0min\n",
            "[Parallel(n_jobs=-1)]: Done 180 out of 180 | elapsed:  5.5min finished\n"
          ],
          "name": "stderr"
        }
      ]
    },
    {
      "cell_type": "code",
      "metadata": {
        "colab": {
          "base_uri": "https://localhost:8080/"
        },
        "id": "o5T4WNRGDtHz",
        "outputId": "773842e2-aaec-4ebc-830a-c6eb00f1b0b0"
      },
      "source": [
        "print(\"Meilleure parametres trouvés :\")\r\n",
        "print(lr_best_param)"
      ],
      "execution_count": 232,
      "outputs": [
        {
          "output_type": "stream",
          "text": [
            "Meilleure parametres trouvés :\n",
            "{'C': 10, 'max_iter': 400, 'solver': 'lbfgs'}\n"
          ],
          "name": "stdout"
        }
      ]
    },
    {
      "cell_type": "code",
      "metadata": {
        "id": "7oSirgnPVp54"
      },
      "source": [
        "lr_model = lr_best_model"
      ],
      "execution_count": 233,
      "outputs": []
    },
    {
      "cell_type": "markdown",
      "metadata": {
        "id": "l3ih75lCBkIO"
      },
      "source": [
        "### Comparaison"
      ]
    },
    {
      "cell_type": "code",
      "metadata": {
        "id": "JcDKxDbVBzYW"
      },
      "source": [
        "lr_accuracy_mean_old, lr_accuracy_min_old, lr_accuracy_max_old = lr_accuracy_mean, lr_accuracy_min, lr_accuracy_max"
      ],
      "execution_count": 234,
      "outputs": []
    },
    {
      "cell_type": "code",
      "metadata": {
        "id": "WHaE1ULhB6-g"
      },
      "source": [
        "lr_accuracy, lr_predictions = test_model(lr_model, data_tr, target_attribute)"
      ],
      "execution_count": 235,
      "outputs": []
    },
    {
      "cell_type": "code",
      "metadata": {
        "colab": {
          "base_uri": "https://localhost:8080/"
        },
        "id": "PTvVSZH8CEXa",
        "outputId": "2c959699-2dcc-4a73-a640-8094c848b958"
      },
      "source": [
        "lr_accuracy_mean, lr_accuracy_min, lr_accuracy_max = acc_statistic(lr_accuracy)\r\n",
        "\r\n",
        "print(f'Ancienne précision\\t', \r\n",
        "      f'moy.: {round(lr_accuracy_mean_old, 8)}\\t',\r\n",
        "      f'min.: {round(lr_accuracy_min_old, 8)}\\t',\r\n",
        "      f'max.: {round(lr_accuracy_max_old, 8)}\\t')\r\n",
        "\r\n",
        "print(f'Nouvelle précision\\t', \r\n",
        "      f'moy.: {round(lr_accuracy_mean, 8)}\\t',\r\n",
        "      f'min.: {round(lr_accuracy_min, 8)}\\t',\r\n",
        "      f'max.: {round(lr_accuracy_max, 8)}\\t')"
      ],
      "execution_count": 236,
      "outputs": [
        {
          "output_type": "stream",
          "text": [
            "Ancienne précision\t moy.: 0.56445552\t min.: 0.54639571\t max.: 0.58550613\t\n",
            "Nouvelle précision\t moy.: 0.56273006\t min.: 0.5517638\t max.: 0.57668712\t\n"
          ],
          "name": "stdout"
        }
      ]
    },
    {
      "cell_type": "markdown",
      "metadata": {
        "id": "QAwLRH4C-_A7"
      },
      "source": [
        "## Support Vector Machine (SVM)"
      ]
    },
    {
      "cell_type": "code",
      "metadata": {
        "id": "e6As91SI_HsS"
      },
      "source": [
        "from sklearn.svm import SVC"
      ],
      "execution_count": 237,
      "outputs": []
    },
    {
      "cell_type": "code",
      "metadata": {
        "id": "V75kPZR3H4Qs"
      },
      "source": [
        "svm_model = SVC()"
      ],
      "execution_count": 238,
      "outputs": []
    },
    {
      "cell_type": "markdown",
      "metadata": {
        "id": "t_Ps2pABIFa9"
      },
      "source": [
        "### Test du modele par defaut"
      ]
    },
    {
      "cell_type": "code",
      "metadata": {
        "id": "mx5ngxZ2IKMC"
      },
      "source": [
        "svm_accuracy, svm_predictions = test_model(svm_model, data_tr, target_attribute)"
      ],
      "execution_count": 239,
      "outputs": []
    },
    {
      "cell_type": "code",
      "metadata": {
        "colab": {
          "base_uri": "https://localhost:8080/"
        },
        "id": "wdAjBN71IQJV",
        "outputId": "c40533f7-6fd0-4b92-ae4a-c230f6bd8518"
      },
      "source": [
        "svm_accuracy_mean, svm_accuracy_min, svm_accuracy_max = acc_statistic(svm_accuracy)\r\n",
        "\r\n",
        "print(f'Précision\\t', \r\n",
        "      f'moy.: {round(svm_accuracy_mean, 8)}\\t',\r\n",
        "      f'min.: {round(svm_accuracy_min, 8)}\\t',\r\n",
        "      f'max.: {round(svm_accuracy_max, 8)}\\t')"
      ],
      "execution_count": 240,
      "outputs": [
        {
          "output_type": "stream",
          "text": [
            "Précision\t moy.: 0.66119632\t min.: 0.63611963\t max.: 0.70513804\t\n"
          ],
          "name": "stdout"
        }
      ]
    },
    {
      "cell_type": "markdown",
      "metadata": {
        "id": "TncqLpU7qZkk"
      },
      "source": [
        "### Recherche des meilleurs parametres"
      ]
    },
    {
      "cell_type": "markdown",
      "metadata": {
        "id": "4SrwOt-2Ihw7"
      },
      "source": [
        "#### Influence du `kernel`"
      ]
    },
    {
      "cell_type": "code",
      "metadata": {
        "id": "2vUhhGUjIlCT"
      },
      "source": [
        "svm_kernel_type = ['rbf', 'sigmoid', 'linear']"
      ],
      "execution_count": 241,
      "outputs": []
    },
    {
      "cell_type": "code",
      "metadata": {
        "id": "2bnON5DOI3Hj"
      },
      "source": [
        "svm_kernel_result = []\r\n",
        "\r\n",
        "for kernel in svm_kernel_type:\r\n",
        "  model = SVC(kernel=kernel)\r\n",
        "  accuracy, _ = test_model(model, data_tr, target_attribute)\r\n",
        "\r\n",
        "  svm_kernel_result.append((kernel, accuracy))"
      ],
      "execution_count": 242,
      "outputs": []
    },
    {
      "cell_type": "code",
      "metadata": {
        "id": "nITG6FJ4JMeQ"
      },
      "source": [
        "svm_kernel_values = svm_kernel_type[:]\r\n",
        "svm_kernel_acc_stats = [acc_statistic(accuracy) for _, accuracy in svm_kernel_result]\r\n",
        "svm_kernel_mean_accuracy = [mean_acc for mean_acc, _, _ in svm_kernel_acc_stats]\r\n",
        "svm_kernel_min_accuracy = [min_acc for _, min_acc, _ in svm_kernel_acc_stats]\r\n",
        "svm_kernel_max_accuracy = [max_acc for _, _, max_acc in svm_kernel_acc_stats]"
      ],
      "execution_count": 243,
      "outputs": []
    },
    {
      "cell_type": "code",
      "metadata": {
        "colab": {
          "base_uri": "https://localhost:8080/",
          "height": 404
        },
        "id": "3BmpxixpJUj0",
        "outputId": "a59f6638-aec4-4ab5-e11a-398a85559e6f"
      },
      "source": [
        "analyse_result_with_bar(svm_kernel_values,\r\n",
        "                        svm_kernel_mean_accuracy, \r\n",
        "                        svm_kernel_min_accuracy, \r\n",
        "                        svm_kernel_max_accuracy, \r\n",
        "                        'Type de kernel',\r\n",
        "                        'Précision',\r\n",
        "                        'Précision en fonction du type de kernel')"
      ],
      "execution_count": 244,
      "outputs": [
        {
          "output_type": "display_data",
          "data": {
            "image/png": "[encoded data removed]",
            "text/plain": [
              "<Figure size 864x432 with 1 Axes>"
            ]
          },
          "metadata": {
            "tags": [],
            "needs_background": "light"
          }
        }
      ]
    },
    {
      "cell_type": "code",
      "metadata": {
        "id": "sgCJKQTxJjPS"
      },
      "source": [
        "svm_kernel_type = ['rbf']"
      ],
      "execution_count": 245,
      "outputs": []
    },
    {
      "cell_type": "markdown",
      "metadata": {
        "id": "fFuiot2jIlUm"
      },
      "source": [
        "#### Influence du `gamma`"
      ]
    },
    {
      "cell_type": "code",
      "metadata": {
        "id": "Niip9_Q3IpbG"
      },
      "source": [
        "svm_gamma_range = [1e-3, 1e-2, 1e-1, 1, 1e+1, 1e+2]"
      ],
      "execution_count": 246,
      "outputs": []
    },
    {
      "cell_type": "code",
      "metadata": {
        "id": "lPZQUh8TJtB6"
      },
      "source": [
        "svm_gamma_result = []\r\n",
        "\r\n",
        "for gamma in svm_gamma_range:\r\n",
        "  model = SVC(gamma=gamma)\r\n",
        "  accuracy, _ = test_model(model, data_tr, target_attribute)\r\n",
        "\r\n",
        "  svm_gamma_result.append((gamma, accuracy))"
      ],
      "execution_count": 247,
      "outputs": []
    },
    {
      "cell_type": "code",
      "metadata": {
        "id": "dcI2sF14KCAY"
      },
      "source": [
        "svm_gamma_values = svm_gamma_range[:]\r\n",
        "svm_gamma_acc_stats = [acc_statistic(accuracy) for _, accuracy in svm_gamma_result]\r\n",
        "svm_gamma_mean_accuracy = [mean_acc for mean_acc, _, _ in svm_gamma_acc_stats]\r\n",
        "svm_gamma_min_accuracy = [min_acc for _, min_acc, _ in svm_gamma_acc_stats]\r\n",
        "svm_gamma_max_accuracy = [max_acc for _, _, max_acc in svm_gamma_acc_stats]"
      ],
      "execution_count": 248,
      "outputs": []
    },
    {
      "cell_type": "code",
      "metadata": {
        "colab": {
          "base_uri": "https://localhost:8080/",
          "height": 404
        },
        "id": "Q_nhT5PnKKXq",
        "outputId": "4f841fbb-39df-4e21-e1ee-b4913712a03f"
      },
      "source": [
        "analyse_result_with_plot(svm_gamma_values, \r\n",
        "                         svm_gamma_mean_accuracy, \r\n",
        "                         svm_gamma_min_accuracy, \r\n",
        "                         svm_gamma_max_accuracy, \r\n",
        "                         'Gamma',\r\n",
        "                         'Précision',\r\n",
        "                         'Précision en fonction du gamma')"
      ],
      "execution_count": 249,
      "outputs": [
        {
          "output_type": "display_data",
          "data": {
            "image/png": "[encoded data removed]",
            "text/plain": [
              "<Figure size 864x432 with 1 Axes>"
            ]
          },
          "metadata": {
            "tags": [],
            "needs_background": "light"
          }
        }
      ]
    },
    {
      "cell_type": "code",
      "metadata": {
        "id": "V58_jl1uKTD8"
      },
      "source": [
        "svm_gamma_range = [1e-1, 1]"
      ],
      "execution_count": 250,
      "outputs": []
    },
    {
      "cell_type": "markdown",
      "metadata": {
        "id": "0utlqgL3Ip0H"
      },
      "source": [
        "#### Influence de `C`"
      ]
    },
    {
      "cell_type": "code",
      "metadata": {
        "id": "sFYfaPV4It2r"
      },
      "source": [
        "svm_c_range = [1e-2, 1e-1, 1, 10, 25, 50, 100, 1000]"
      ],
      "execution_count": 251,
      "outputs": []
    },
    {
      "cell_type": "code",
      "metadata": {
        "id": "jwjTqWsIKjeS"
      },
      "source": [
        "svm_c_result = []\r\n",
        "\r\n",
        "for c in svm_c_range:\r\n",
        "  model = SVC(C=c)\r\n",
        "  accuracy, _ = test_model(model, data_tr, target_attribute)\r\n",
        "\r\n",
        "  svm_c_result.append((gamma, accuracy))"
      ],
      "execution_count": 252,
      "outputs": []
    },
    {
      "cell_type": "code",
      "metadata": {
        "id": "Dw0Qk-KhKu4s"
      },
      "source": [
        "svm_c_values = svm_c_range[:]\r\n",
        "svm_c_acc_stats = [acc_statistic(accuracy) for _, accuracy in svm_c_result]\r\n",
        "svm_c_mean_accuracy = [mean_acc for mean_acc, _, _ in svm_c_acc_stats]\r\n",
        "svm_c_min_accuracy = [min_acc for _, min_acc, _ in svm_c_acc_stats]\r\n",
        "svm_c_max_accuracy = [max_acc for _, _, max_acc in svm_c_acc_stats]"
      ],
      "execution_count": 253,
      "outputs": []
    },
    {
      "cell_type": "code",
      "metadata": {
        "colab": {
          "base_uri": "https://localhost:8080/",
          "height": 404
        },
        "id": "QO1wHH6gK25P",
        "outputId": "89e20e70-9a86-4d07-850b-0be5417455b2"
      },
      "source": [
        "analyse_result_with_plot(svm_c_values, \r\n",
        "                         svm_c_mean_accuracy, \r\n",
        "                         svm_c_min_accuracy, \r\n",
        "                         svm_c_max_accuracy, \r\n",
        "                         'Valeur de C',\r\n",
        "                         'Précision',\r\n",
        "                         'Précision en fonction de la valeur de C')"
      ],
      "execution_count": 254,
      "outputs": [
        {
          "output_type": "display_data",
          "data": {
            "image/png": "[encoded data removed]",
            "text/plain": [
              "<Figure size 864x432 with 1 Axes>"
            ]
          },
          "metadata": {
            "tags": [],
            "needs_background": "light"
          }
        }
      ]
    },
    {
      "cell_type": "code",
      "metadata": {
        "id": "vEdwRRxTK4kU"
      },
      "source": [
        "svm_c_range = [10, 25, 50, 100]"
      ],
      "execution_count": 255,
      "outputs": []
    },
    {
      "cell_type": "markdown",
      "metadata": {
        "id": "W3-vahUUIuXE"
      },
      "source": [
        "### Recherche du meilleur modele"
      ]
    },
    {
      "cell_type": "code",
      "metadata": {
        "colab": {
          "base_uri": "https://localhost:8080/"
        },
        "id": "2KP_wbxw7rgi",
        "outputId": "511d7344-f301-4036-ffb8-864a4bbb45aa"
      },
      "source": [
        "svm_parameters = {\r\n",
        "    'kernel': svm_kernel_type, \r\n",
        "    'gamma': svm_gamma_range, \r\n",
        "    'C': svm_c_range\r\n",
        "}\r\n",
        "\r\n",
        "svm_best_param, svm_best_model = train_model(svm_model, svm_parameters, data_tr, target_attribute)"
      ],
      "execution_count": 256,
      "outputs": [
        {
          "output_type": "stream",
          "text": [
            "Fitting 3 folds for each of 8 candidates, totalling 24 fits\n"
          ],
          "name": "stdout"
        },
        {
          "output_type": "stream",
          "text": [
            "[Parallel(n_jobs=-1)]: Using backend LokyBackend with 2 concurrent workers.\n",
            "[Parallel(n_jobs=-1)]: Done  24 out of  24 | elapsed:  1.0min finished\n"
          ],
          "name": "stderr"
        }
      ]
    },
    {
      "cell_type": "code",
      "metadata": {
        "colab": {
          "base_uri": "https://localhost:8080/"
        },
        "id": "-kjt4BDV8aKA",
        "outputId": "f7cb8a64-41b4-493d-c3b2-7becc95fd318"
      },
      "source": [
        "print(\"Meilleure parametres trouvés :\")\r\n",
        "print(svm_best_param)"
      ],
      "execution_count": 293,
      "outputs": [
        {
          "output_type": "stream",
          "text": [
            "Meilleure parametres trouvés :\n",
            "{'C': 100, 'gamma': 0.1, 'kernel': 'rbf'}\n"
          ],
          "name": "stdout"
        }
      ]
    },
    {
      "cell_type": "code",
      "metadata": {
        "id": "SvkwtJLrEYX7"
      },
      "source": [
        "svm_model = svm_best_model"
      ],
      "execution_count": 258,
      "outputs": []
    },
    {
      "cell_type": "markdown",
      "metadata": {
        "id": "seNMTxNZElGl"
      },
      "source": [
        "### Comparaison"
      ]
    },
    {
      "cell_type": "code",
      "metadata": {
        "id": "2etYKcaJEaXY"
      },
      "source": [
        "svm_accuracy_mean_old, svm_accuracy_min_old, svm_accuracy_max_old = svm_accuracy_mean, svm_accuracy_min, svm_accuracy_max"
      ],
      "execution_count": 259,
      "outputs": []
    },
    {
      "cell_type": "code",
      "metadata": {
        "id": "dg_zScsRUItI"
      },
      "source": [
        "svm_accuracy, svm_predictions = test_model(svm_model, data_tr, target_attribute)"
      ],
      "execution_count": 260,
      "outputs": []
    },
    {
      "cell_type": "code",
      "metadata": {
        "colab": {
          "base_uri": "https://localhost:8080/"
        },
        "id": "cFmuEAzOYCUz",
        "outputId": "412d9d2c-a085-4787-8b7f-b8de611066c2"
      },
      "source": [
        "svm_accuracy_mean, svm_accuracy_min, svm_accuracy_max = acc_statistic(svm_accuracy)\r\n",
        "\r\n",
        "print(f'Ancienne précision\\t', \r\n",
        "      f'moy.: {round(svm_accuracy_mean_old, 8)}\\t',\r\n",
        "      f'min.: {round(svm_accuracy_min_old, 8)}\\t',\r\n",
        "      f'max.: {round(svm_accuracy_max_old, 8)}\\t')\r\n",
        "\r\n",
        "print(f'Nouvelle précision\\t', \r\n",
        "      f'moy.: {round(svm_accuracy_mean, 8)}\\t',\r\n",
        "      f'min.: {round(svm_accuracy_min, 8)}\\t',\r\n",
        "      f'max.: {round(svm_accuracy_max, 8)}\\t')"
      ],
      "execution_count": 261,
      "outputs": [
        {
          "output_type": "stream",
          "text": [
            "Ancienne précision\t moy.: 0.66119632\t min.: 0.63611963\t max.: 0.70513804\t\n",
            "Nouvelle précision\t moy.: 0.80253067\t min.: 0.79447853\t max.: 0.81403374\t\n"
          ],
          "name": "stdout"
        }
      ]
    },
    {
      "cell_type": "markdown",
      "metadata": {
        "id": "IWzewIUm_JpO"
      },
      "source": [
        "## Random forest"
      ]
    },
    {
      "cell_type": "code",
      "metadata": {
        "id": "E3Y8t14u_NS1"
      },
      "source": [
        "from sklearn.ensemble import RandomForestClassifier"
      ],
      "execution_count": 262,
      "outputs": []
    },
    {
      "cell_type": "code",
      "metadata": {
        "id": "KQeVpFknFOc-"
      },
      "source": [
        "rf_model = RandomForestClassifier()"
      ],
      "execution_count": 263,
      "outputs": []
    },
    {
      "cell_type": "markdown",
      "metadata": {
        "id": "1pfbKDdtZ0IW"
      },
      "source": [
        "### Test du modele par defaut"
      ]
    },
    {
      "cell_type": "code",
      "metadata": {
        "id": "yDZ8pJBBZ3id"
      },
      "source": [
        "rf_accuracy, rf_predictions = test_model(rf_model, data_tr, target_attribute)"
      ],
      "execution_count": 264,
      "outputs": []
    },
    {
      "cell_type": "code",
      "metadata": {
        "colab": {
          "base_uri": "https://localhost:8080/"
        },
        "id": "lzX7tIwEaEti",
        "outputId": "759f6963-d070-4274-a776-323f122a429e"
      },
      "source": [
        "rf_accuracy_mean, rf_accuracy_min, rf_accuracy_max = acc_statistic(rf_accuracy)\r\n",
        "\r\n",
        "print(f'Précision\\t', \r\n",
        "      f'moy.: {round(rf_accuracy_mean, 8)}\\t',\r\n",
        "      f'min.: {round(rf_accuracy_min, 8)}\\t',\r\n",
        "      f'max.: {round(rf_accuracy_max, 8)}\\t')"
      ],
      "execution_count": 265,
      "outputs": [
        {
          "output_type": "stream",
          "text": [
            "Précision\t moy.: 0.97607362\t min.: 0.97162577\t max.: 0.97967791\t\n"
          ],
          "name": "stdout"
        }
      ]
    },
    {
      "cell_type": "markdown",
      "metadata": {
        "id": "mMY272r4_NiI"
      },
      "source": [
        "## Decision tree"
      ]
    },
    {
      "cell_type": "code",
      "metadata": {
        "id": "jE8VAORt_Ru9"
      },
      "source": [
        "from sklearn.tree import DecisionTreeClassifier"
      ],
      "execution_count": 266,
      "outputs": []
    },
    {
      "cell_type": "code",
      "metadata": {
        "id": "1yqNAchuFuEQ"
      },
      "source": [
        "dt_model = DecisionTreeClassifier()"
      ],
      "execution_count": 267,
      "outputs": []
    },
    {
      "cell_type": "markdown",
      "metadata": {
        "id": "z0H6myARFnuk"
      },
      "source": [
        "### Test du model par defaut"
      ]
    },
    {
      "cell_type": "code",
      "metadata": {
        "id": "T_QBbaGyFp23"
      },
      "source": [
        "dt_accuracy, dt_predictions = test_model(dt_model, data_tr, target_attribute)"
      ],
      "execution_count": 268,
      "outputs": []
    },
    {
      "cell_type": "code",
      "metadata": {
        "colab": {
          "base_uri": "https://localhost:8080/"
        },
        "id": "ZdFN1-BNWbTo",
        "outputId": "2ef64be9-9917-4974-e344-cc6a494ba688"
      },
      "source": [
        "dt_accuracy_mean, dt_accuracy_min, dt_accuracy_max = acc_statistic(dt_accuracy)\r\n",
        "\r\n",
        "print(f'Précision\\t', \r\n",
        "      f'moy.: {round(dt_accuracy_mean, 8)}\\t',\r\n",
        "      f'min.: {round(dt_accuracy_min, 8)}\\t',\r\n",
        "      f'max.: {round(dt_accuracy_max, 8)}\\t')"
      ],
      "execution_count": 269,
      "outputs": [
        {
          "output_type": "stream",
          "text": [
            "Précision\t moy.: 0.94819785\t min.: 0.92599693\t max.: 0.97776074\t\n"
          ],
          "name": "stdout"
        }
      ]
    },
    {
      "cell_type": "markdown",
      "metadata": {
        "id": "gjEaO1uf_XBW"
      },
      "source": [
        "## Naive Bayes"
      ]
    },
    {
      "cell_type": "code",
      "metadata": {
        "id": "cnjmwCMJ_Y3U"
      },
      "source": [
        "from sklearn.naive_bayes import GaussianNB"
      ],
      "execution_count": 270,
      "outputs": []
    },
    {
      "cell_type": "code",
      "metadata": {
        "id": "2aBaAKuaGBH1"
      },
      "source": [
        "nb_model = GaussianNB()"
      ],
      "execution_count": 271,
      "outputs": []
    },
    {
      "cell_type": "markdown",
      "metadata": {
        "id": "CBYyY_AGF-8Q"
      },
      "source": [
        "### Test du model par defaut"
      ]
    },
    {
      "cell_type": "code",
      "metadata": {
        "id": "vWFW6_EMGDc7"
      },
      "source": [
        "nb_accuracy, nb_predictions = test_model(nb_model, data_tr, target_attribute)"
      ],
      "execution_count": 272,
      "outputs": []
    },
    {
      "cell_type": "code",
      "metadata": {
        "colab": {
          "base_uri": "https://localhost:8080/"
        },
        "id": "eKDWwH-9WtH_",
        "outputId": "987ee058-60b4-4b14-dee3-5db4a35bdb03"
      },
      "source": [
        "nb_accuracy_mean, nb_accuracy_min, nb_accuracy_max = acc_statistic(nb_accuracy)\r\n",
        "\r\n",
        "print(f'Précision\\t', \r\n",
        "      f'moy.: {round(nb_accuracy_mean, 8)}\\t',\r\n",
        "      f'min.: {round(nb_accuracy_min, 8)}\\t',\r\n",
        "      f'max.: {round(nb_accuracy_max, 8)}\\t')"
      ],
      "execution_count": 273,
      "outputs": [
        {
          "output_type": "stream",
          "text": [
            "Précision\t moy.: 0.30226227\t min.: 0.27760736\t max.: 0.34509202\t\n"
          ],
          "name": "stdout"
        }
      ]
    },
    {
      "cell_type": "markdown",
      "metadata": {
        "id": "T6FX3vzScknn"
      },
      "source": [
        "### Recherche de meilleurs parametres"
      ]
    },
    {
      "cell_type": "markdown",
      "metadata": {
        "id": "PaLaSAUgcoqm"
      },
      "source": [
        "#### Influence de `var_smoothing`"
      ]
    },
    {
      "cell_type": "code",
      "metadata": {
        "id": "25pZFShWcu4R"
      },
      "source": [
        "nb_smoothing_range = list(np.logspace(0, -9, 10))"
      ],
      "execution_count": 274,
      "outputs": []
    },
    {
      "cell_type": "code",
      "metadata": {
        "id": "X6bNJ8XXdZhN"
      },
      "source": [
        "nb_smoothing_result = []\r\n",
        "\r\n",
        "for smooth_val in nb_smoothing_range:\r\n",
        "  model = GaussianNB(var_smoothing=smooth_val)\r\n",
        "  accuracy, _ = test_model(model, data_tr, target_attribute)\r\n",
        "\r\n",
        "  nb_smoothing_result.append((smooth_val, accuracy))"
      ],
      "execution_count": 275,
      "outputs": []
    },
    {
      "cell_type": "code",
      "metadata": {
        "id": "xZSv2kQfdxl6"
      },
      "source": [
        "nb_smoothing_values = nb_smoothing_range[:]\r\n",
        "nb_smoothing_acc_stats = [acc_statistic(accuracy) for _, accuracy in nb_smoothing_result]\r\n",
        "nb_smoothing_mean_accuracy = [mean_acc for mean_acc, _, _ in nb_smoothing_acc_stats]\r\n",
        "nb_smoothing_min_accuracy = [min_acc for _, min_acc, _ in nb_smoothing_acc_stats]\r\n",
        "nb_smoothing_max_accuracy = [max_acc for _, _, max_acc in nb_smoothing_acc_stats]"
      ],
      "execution_count": 276,
      "outputs": []
    },
    {
      "cell_type": "code",
      "metadata": {
        "colab": {
          "base_uri": "https://localhost:8080/",
          "height": 404
        },
        "id": "jSSZkZqQd8Cl",
        "outputId": "01218d63-714b-4639-f923-43294a7b540b"
      },
      "source": [
        "analyse_result_with_plot(nb_smoothing_values, \r\n",
        "                         nb_smoothing_mean_accuracy, \r\n",
        "                         nb_smoothing_min_accuracy, \r\n",
        "                         nb_smoothing_max_accuracy, \r\n",
        "                         'Valeur de smoothing',\r\n",
        "                         'Précision',\r\n",
        "                         'Précision en fonction de la valeur de smoothing')"
      ],
      "execution_count": 277,
      "outputs": [
        {
          "output_type": "display_data",
          "data": {
            "image/png": "[encoded data removed]",
            "text/plain": [
              "<Figure size 864x432 with 1 Axes>"
            ]
          },
          "metadata": {
            "tags": [],
            "needs_background": "light"
          }
        }
      ]
    },
    {
      "cell_type": "markdown",
      "metadata": {
        "id": "ZnMlj5mIeSrr"
      },
      "source": [
        "### Recherche du meilleur modele"
      ]
    },
    {
      "cell_type": "code",
      "metadata": {
        "colab": {
          "base_uri": "https://localhost:8080/"
        },
        "id": "zV-4C17LeV_H",
        "outputId": "3ba92862-5d79-410e-c024-aa5cc4cf8c53"
      },
      "source": [
        "nb_parameters = {\r\n",
        "    'var_smoothing': nb_smoothing_range\r\n",
        "}\r\n",
        "\r\n",
        "nb_best_param, nb_best_model = train_model(nb_model, nb_parameters, data_tr, target_attribute)"
      ],
      "execution_count": 278,
      "outputs": [
        {
          "output_type": "stream",
          "text": [
            "Fitting 3 folds for each of 10 candidates, totalling 30 fits\n"
          ],
          "name": "stdout"
        },
        {
          "output_type": "stream",
          "text": [
            "[Parallel(n_jobs=-1)]: Using backend LokyBackend with 2 concurrent workers.\n",
            "[Parallel(n_jobs=-1)]: Done  30 out of  30 | elapsed:    0.5s finished\n"
          ],
          "name": "stderr"
        }
      ]
    },
    {
      "cell_type": "code",
      "metadata": {
        "colab": {
          "base_uri": "https://localhost:8080/"
        },
        "id": "Y6wb6Gghebg0",
        "outputId": "f3c6c29a-911c-47cd-fbf3-5b30873a6815"
      },
      "source": [
        "print(\"Meilleure parametres trouvés :\")\r\n",
        "print(nb_best_param)"
      ],
      "execution_count": 294,
      "outputs": [
        {
          "output_type": "stream",
          "text": [
            "Meilleure parametres trouvés :\n",
            "{'var_smoothing': 1.0}\n"
          ],
          "name": "stdout"
        }
      ]
    },
    {
      "cell_type": "code",
      "metadata": {
        "id": "-7qEzSBwe5zV"
      },
      "source": [
        "nb_model = nb_best_model"
      ],
      "execution_count": 280,
      "outputs": []
    },
    {
      "cell_type": "markdown",
      "metadata": {
        "id": "UMp9_Yh7e80F"
      },
      "source": [
        "### Comparaison"
      ]
    },
    {
      "cell_type": "code",
      "metadata": {
        "id": "KdycbGmue-xT"
      },
      "source": [
        "nb_accuracy_mean_old, nb_accuracy_min_old, nb_accuracy_max_old = nb_accuracy_mean, nb_accuracy_min, nb_accuracy_max"
      ],
      "execution_count": 281,
      "outputs": []
    },
    {
      "cell_type": "code",
      "metadata": {
        "id": "suGzD8_YfJTa"
      },
      "source": [
        "nb_accuracy, nb_predictions = test_model(nb_model, data_tr, target_attribute)"
      ],
      "execution_count": 282,
      "outputs": []
    },
    {
      "cell_type": "code",
      "metadata": {
        "colab": {
          "base_uri": "https://localhost:8080/"
        },
        "id": "X8unSpuTfbYN",
        "outputId": "4e657573-c37d-4a0f-d46e-ef1e73e133ae"
      },
      "source": [
        "nb_accuracy_mean, nb_accuracy_min, nb_accuracy_max = acc_statistic(nb_accuracy)\r\n",
        "\r\n",
        "print(f'Ancienne precision\\t', \r\n",
        "      f'moy.: {round(nb_accuracy_mean_old, 8)}\\t',\r\n",
        "      f'min.: {round(nb_accuracy_min_old, 8)}\\t',\r\n",
        "      f'max.: {round(nb_accuracy_max_old, 8)}\\t')\r\n",
        "\r\n",
        "print(f'Nouvelle precision\\t', \r\n",
        "      f'moy.: {round(nb_accuracy_mean, 8)}\\t',\r\n",
        "      f'min.: {round(nb_accuracy_min, 8)}\\t',\r\n",
        "      f'max.: {round(nb_accuracy_max, 8)}\\t')"
      ],
      "execution_count": 283,
      "outputs": [
        {
          "output_type": "stream",
          "text": [
            "Ancienne precision\t moy.: 0.30226227\t min.: 0.27760736\t max.: 0.34509202\t\n",
            "Nouvelle precision\t moy.: 0.35843558\t min.: 0.27223926\t max.: 0.41679448\t\n"
          ],
          "name": "stdout"
        }
      ]
    },
    {
      "cell_type": "markdown",
      "metadata": {
        "id": "bEngKTKJG_tW"
      },
      "source": [
        "# Evaluation des modeles"
      ]
    },
    {
      "cell_type": "markdown",
      "metadata": {
        "id": "EvV8RY0-aMYF"
      },
      "source": [
        "## Enumération des modeles"
      ]
    },
    {
      "cell_type": "code",
      "metadata": {
        "id": "GHp094skHBji"
      },
      "source": [
        "model_enum = {\r\n",
        "    'knn' : (knn_model, 'K-NN'),\r\n",
        "    'lr'  : (lr_model, 'Logstic Regression'),\r\n",
        "    'svm' : (svm_model, 'SVM'),\r\n",
        "    'rf'  : (rf_model, 'Random Forest'),\r\n",
        "    'dt'  : (dt_model, 'Decision Tree'),\r\n",
        "    'nb'  : (nb_model, 'Naive Bayes')\r\n",
        "}"
      ],
      "execution_count": 284,
      "outputs": []
    },
    {
      "cell_type": "markdown",
      "metadata": {
        "id": "f3I2ogM1aPsn"
      },
      "source": [
        "## Test des modeles"
      ]
    },
    {
      "cell_type": "code",
      "metadata": {
        "id": "1WLQHHzLgjZw"
      },
      "source": [
        "@ignore_warnings(category=ConvergenceWarning)\r\n",
        "def test(model, X_train, X_test, y_train, y_test):\r\n",
        "  model.fit(X_train, y_train)\r\n",
        "\r\n",
        "  predictions = model.predict(X_test)\r\n",
        "  accuracy = metrics.accuracy_score(y_test, predictions)\r\n",
        "\r\n",
        "  return accuracy, predictions"
      ],
      "execution_count": 285,
      "outputs": []
    },
    {
      "cell_type": "code",
      "metadata": {
        "id": "f7gFF864HGa1"
      },
      "source": [
        "# test les modele avec les données d'entrainement\r\n",
        "\r\n",
        "model_result = {}\r\n",
        "\r\n",
        "X_train = data_tr.loc[:, data_tr.columns != target_attribute]\r\n",
        "y_train = data_tr[target_attribute]\r\n",
        "\r\n",
        "X_test = data_ts.loc[:, data_ts.columns != target_attribute]\r\n",
        "y_test = data_ts[target_attribute]\r\n",
        "\r\n",
        "for model_name in model_enum:\r\n",
        "  model, _ = model_enum.get(model_name)\r\n",
        "\r\n",
        "  accuracy, predictions = test(model, X_train, X_test, y_train, y_test)\r\n",
        "\r\n",
        "  model_result[model_name] = accuracy"
      ],
      "execution_count": 286,
      "outputs": []
    },
    {
      "cell_type": "markdown",
      "metadata": {
        "id": "tesuLX8Fae3U"
      },
      "source": [
        "## Récupération du meilleure modele"
      ]
    },
    {
      "cell_type": "code",
      "metadata": {
        "colab": {
          "base_uri": "https://localhost:8080/"
        },
        "id": "VXhTsSzHHslE",
        "outputId": "64ee7275-7b17-4904-9271-743c8fbf78c8"
      },
      "source": [
        "best_result = None\r\n",
        "\r\n",
        "for key in model_result.keys():\r\n",
        "  accuracy = model_result[key]\r\n",
        "\r\n",
        "  _, model_name = model_enum.get(key)\r\n",
        "\r\n",
        "  if best_result is None:\r\n",
        "    best_result = (key, model_name, accuracy)\r\n",
        "  else:\r\n",
        "    if best_result[2] < accuracy:\r\n",
        "      best_result = (key, model_name, accuracy)\r\n",
        "\r\n",
        "  name = model_name.ljust(18, ' ')\r\n",
        "\r\n",
        "  print(f'{key}\\t', f'{name}\\t', f'précision : {round(accuracy, 6)}')"
      ],
      "execution_count": 287,
      "outputs": [
        {
          "output_type": "stream",
          "text": [
            "knn\t K-NN              \t précision : 0.850436\n",
            "lr\t Logstic Regression\t précision : 0.561272\n",
            "svm\t SVM               \t précision : 0.815752\n",
            "rf\t Random Forest     \t précision : 0.984862\n",
            "dt\t Decision Tree     \t précision : 0.969723\n",
            "nb\t Naive Bayes       \t précision : 0.331034\n"
          ],
          "name": "stdout"
        }
      ]
    },
    {
      "cell_type": "code",
      "metadata": {
        "colab": {
          "base_uri": "https://localhost:8080/"
        },
        "id": "4hRt98BsH6Hl",
        "outputId": "87c6a5b6-9ed6-4ca1-a858-31d7741e1f07"
      },
      "source": [
        "best_model_name = best_result[1]\r\n",
        "\r\n",
        "print(f'Meilleur model: {best_model_name}')\r\n",
        "\r\n",
        "best_model, _ = model_enum.get(best_result[0])"
      ],
      "execution_count": 288,
      "outputs": [
        {
          "output_type": "stream",
          "text": [
            "Meilleur model: Random Forest\n"
          ],
          "name": "stdout"
        }
      ]
    },
    {
      "cell_type": "markdown",
      "metadata": {
        "id": "S-xfTt6udvvS"
      },
      "source": [
        "# Enregistrement"
      ]
    },
    {
      "cell_type": "code",
      "metadata": {
        "id": "Sme-6z5tcz3d"
      },
      "source": [
        "import joblib"
      ],
      "execution_count": 289,
      "outputs": []
    },
    {
      "cell_type": "code",
      "metadata": {
        "colab": {
          "base_uri": "https://localhost:8080/"
        },
        "id": "PmXENGikd3o0",
        "outputId": "4756c21b-c502-4436-b40f-b64e584dcf0c"
      },
      "source": [
        "model_filename = 'model.sav'\r\n",
        "\r\n",
        "joblib.dump(best_model, model_filename)"
      ],
      "execution_count": 290,
      "outputs": [
        {
          "output_type": "execute_result",
          "data": {
            "text/plain": [
              "['model.sav']"
            ]
          },
          "metadata": {
            "tags": []
          },
          "execution_count": 290
        }
      ]
    },
    {
      "cell_type": "markdown",
      "metadata": {
        "id": "1PVtBJWdeDfo"
      },
      "source": [
        "# Chargement"
      ]
    },
    {
      "cell_type": "code",
      "metadata": {
        "id": "APKOGpJ_eB4U"
      },
      "source": [
        "loaded_model = joblib.load(model_filename)"
      ],
      "execution_count": 291,
      "outputs": []
    },
    {
      "cell_type": "code",
      "metadata": {
        "colab": {
          "base_uri": "https://localhost:8080/"
        },
        "id": "zyPW4Uh9eLG8",
        "outputId": "79b41150-541e-4835-9a25-242985f821a6"
      },
      "source": [
        "# resultat attendu : A\r\n",
        "x = [[0.31545, -0.236281, 0.37077, 0.812174, 0.261718, 0.14879, 0.408929, 0.690469, -0.123005, 0.029367]]\r\n",
        "\r\n",
        "prediction = loaded_model.predict(x)[0]\r\n",
        "print(f'Classe prédite: {prediction}')"
      ],
      "execution_count": 292,
      "outputs": [
        {
          "output_type": "stream",
          "text": [
            "Classe prédite: A\n"
          ],
          "name": "stdout"
        }
      ]
    }
  ]
}