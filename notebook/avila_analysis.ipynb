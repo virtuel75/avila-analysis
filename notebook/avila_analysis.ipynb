{
  "nbformat": 4,
  "nbformat_minor": 0,
  "metadata": {
    "colab": {
      "name": "avila_analysis.ipynb",
      "provenance": [],
      "collapsed_sections": [],
      "include_colab_link": true
    },
    "kernelspec": {
      "name": "python3",
      "display_name": "Python 3"
    },
    "accelerator": "GPU"
  },
  "cells": [
    {
      "cell_type": "markdown",
      "metadata": {
        "id": "view-in-github",
        "colab_type": "text"
      },
      "source": [
        "<a href=\"https://colab.research.google.com/github/virtuel75/avila-analysis/blob/main/notebook/avila_analysis.ipynb\" target=\"_parent\"><img src=\"https://colab.research.google.com/assets/colab-badge.svg\" alt=\"Open In Colab\"/></a>"
      ]
    },
    {
      "cell_type": "markdown",
      "metadata": {
        "id": "KXbx7mGfo3Hz"
      },
      "source": [
        "# Recuperation des données"
      ]
    },
    {
      "cell_type": "code",
      "metadata": {
        "id": "VPdj-GMIp3K8"
      },
      "source": [
        "!pip install wget"
      ],
      "execution_count": null,
      "outputs": []
    },
    {
      "cell_type": "code",
      "metadata": {
        "id": "Ua-x3zVlqccB"
      },
      "source": [
        "from os import path\r\n",
        "import wget"
      ],
      "execution_count": 2,
      "outputs": []
    },
    {
      "cell_type": "code",
      "metadata": {
        "id": "XxwDrEN6pARa"
      },
      "source": [
        "data_file = 'avila.zip'"
      ],
      "execution_count": 3,
      "outputs": []
    },
    {
      "cell_type": "markdown",
      "metadata": {
        "id": "Gla2ynHDrtpG"
      },
      "source": [
        "## Téléchargement des données"
      ]
    },
    {
      "cell_type": "code",
      "metadata": {
        "id": "IEVZUQH0p7ho"
      },
      "source": [
        "data_url = 'https://archive.ics.uci.edu/ml/machine-learning-databases/00459/avila.zip'\r\n",
        "\r\n",
        "if not path.exists(data_file):\r\n",
        "  wget.download(url=data_url, out=data_file)"
      ],
      "execution_count": 4,
      "outputs": []
    },
    {
      "cell_type": "markdown",
      "metadata": {
        "id": "lRcnqTr8rxAD"
      },
      "source": [
        "## Extraction des données"
      ]
    },
    {
      "cell_type": "code",
      "metadata": {
        "id": "CbrkGSdJr0UV"
      },
      "source": [
        "from zipfile import ZipFile"
      ],
      "execution_count": 5,
      "outputs": []
    },
    {
      "cell_type": "code",
      "metadata": {
        "id": "oWmOETt0oXrL"
      },
      "source": [
        "# train file\r\n",
        "avila_tr_filename = './avila/avila-tr.txt'\r\n",
        "\r\n",
        "# test file\r\n",
        "avila_ts_filename = './avila/avila-ts.txt'"
      ],
      "execution_count": 6,
      "outputs": []
    },
    {
      "cell_type": "code",
      "metadata": {
        "id": "CaA46r6Rr85v"
      },
      "source": [
        "if not path.exists(avila_tr_filename) or not path.exists(avila_ts_filename):\r\n",
        "  with ZipFile(data_file, 'r') as zip_ref:\r\n",
        "      zip_ref.extractall()"
      ],
      "execution_count": 7,
      "outputs": []
    },
    {
      "cell_type": "markdown",
      "metadata": {
        "id": "E67nM-UGo7YM"
      },
      "source": [
        "# Lecture"
      ]
    },
    {
      "cell_type": "code",
      "metadata": {
        "id": "DofkJhqKudB4"
      },
      "source": [
        "import pandas as pd"
      ],
      "execution_count": 8,
      "outputs": []
    },
    {
      "cell_type": "code",
      "metadata": {
        "id": "uPTA47oWuWdv"
      },
      "source": [
        "data_tr = pd.read_csv(avila_tr_filename, '\\n', ',', header=None)\r\n",
        "data_ts = pd.read_csv(avila_ts_filename, '\\n', ',', header=None)"
      ],
      "execution_count": 9,
      "outputs": []
    },
    {
      "cell_type": "code",
      "metadata": {
        "colab": {
          "base_uri": "https://localhost:8080/",
          "height": 204
        },
        "id": "wEFPd17Lux0s",
        "outputId": "728a4752-a818-4661-c123-78e8a1ff3707"
      },
      "source": [
        "data_tr.sample(5)"
      ],
      "execution_count": 10,
      "outputs": [
        {
          "output_type": "execute_result",
          "data": {
            "text/html": [
              "<div>\n",
              "<style scoped>\n",
              "    .dataframe tbody tr th:only-of-type {\n",
              "        vertical-align: middle;\n",
              "    }\n",
              "\n",
              "    .dataframe tbody tr th {\n",
              "        vertical-align: top;\n",
              "    }\n",
              "\n",
              "    .dataframe thead th {\n",
              "        text-align: right;\n",
              "    }\n",
              "</style>\n",
              "<table border=\"1\" class=\"dataframe\">\n",
              "  <thead>\n",
              "    <tr style=\"text-align: right;\">\n",
              "      <th></th>\n",
              "      <th>0</th>\n",
              "      <th>1</th>\n",
              "      <th>2</th>\n",
              "      <th>3</th>\n",
              "      <th>4</th>\n",
              "      <th>5</th>\n",
              "      <th>6</th>\n",
              "      <th>7</th>\n",
              "      <th>8</th>\n",
              "      <th>9</th>\n",
              "      <th>10</th>\n",
              "    </tr>\n",
              "  </thead>\n",
              "  <tbody>\n",
              "    <tr>\n",
              "      <th>8890</th>\n",
              "      <td>0.068573</td>\n",
              "      <td>0.226939</td>\n",
              "      <td>0.015130</td>\n",
              "      <td>-0.609818</td>\n",
              "      <td>-1.078955</td>\n",
              "      <td>0.397939</td>\n",
              "      <td>0.069175</td>\n",
              "      <td>-0.364040</td>\n",
              "      <td>0.344717</td>\n",
              "      <td>0.445655</td>\n",
              "      <td>A</td>\n",
              "    </tr>\n",
              "    <tr>\n",
              "      <th>10131</th>\n",
              "      <td>0.080916</td>\n",
              "      <td>0.164129</td>\n",
              "      <td>0.192950</td>\n",
              "      <td>0.819007</td>\n",
              "      <td>0.261718</td>\n",
              "      <td>1.228436</td>\n",
              "      <td>0.824183</td>\n",
              "      <td>0.169690</td>\n",
              "      <td>-0.247731</td>\n",
              "      <td>0.746611</td>\n",
              "      <td>A</td>\n",
              "    </tr>\n",
              "    <tr>\n",
              "      <th>9582</th>\n",
              "      <td>-0.128929</td>\n",
              "      <td>0.289748</td>\n",
              "      <td>0.235627</td>\n",
              "      <td>1.057473</td>\n",
              "      <td>0.172340</td>\n",
              "      <td>-0.474083</td>\n",
              "      <td>0.220177</td>\n",
              "      <td>1.347371</td>\n",
              "      <td>0.407080</td>\n",
              "      <td>-0.441313</td>\n",
              "      <td>E</td>\n",
              "    </tr>\n",
              "    <tr>\n",
              "      <th>9883</th>\n",
              "      <td>-0.128929</td>\n",
              "      <td>-0.283388</td>\n",
              "      <td>0.488131</td>\n",
              "      <td>0.833628</td>\n",
              "      <td>0.797987</td>\n",
              "      <td>-0.474083</td>\n",
              "      <td>-1.138838</td>\n",
              "      <td>0.137868</td>\n",
              "      <td>0.438262</td>\n",
              "      <td>0.398145</td>\n",
              "      <td>Y</td>\n",
              "    </tr>\n",
              "    <tr>\n",
              "      <th>8877</th>\n",
              "      <td>0.192011</td>\n",
              "      <td>-0.032150</td>\n",
              "      <td>0.452567</td>\n",
              "      <td>-0.877078</td>\n",
              "      <td>0.261718</td>\n",
              "      <td>0.397939</td>\n",
              "      <td>0.144676</td>\n",
              "      <td>-0.304745</td>\n",
              "      <td>0.001721</td>\n",
              "      <td>0.394228</td>\n",
              "      <td>A</td>\n",
              "    </tr>\n",
              "  </tbody>\n",
              "</table>\n",
              "</div>"
            ],
            "text/plain": [
              "             0         1         2         3   ...        7         8         9   10\n",
              "8890   0.068573  0.226939  0.015130 -0.609818  ... -0.364040  0.344717  0.445655   A\n",
              "10131  0.080916  0.164129  0.192950  0.819007  ...  0.169690 -0.247731  0.746611   A\n",
              "9582  -0.128929  0.289748  0.235627  1.057473  ...  1.347371  0.407080 -0.441313   E\n",
              "9883  -0.128929 -0.283388  0.488131  0.833628  ...  0.137868  0.438262  0.398145   Y\n",
              "8877   0.192011 -0.032150  0.452567 -0.877078  ... -0.304745  0.001721  0.394228   A\n",
              "\n",
              "[5 rows x 11 columns]"
            ]
          },
          "metadata": {
            "tags": []
          },
          "execution_count": 10
        }
      ]
    },
    {
      "cell_type": "code",
      "metadata": {
        "colab": {
          "base_uri": "https://localhost:8080/",
          "height": 204
        },
        "id": "8przYkNQu02D",
        "outputId": "1f501687-12cc-43a5-b58c-7552ae7aab33"
      },
      "source": [
        "data_ts.sample(5)"
      ],
      "execution_count": 11,
      "outputs": [
        {
          "output_type": "execute_result",
          "data": {
            "text/html": [
              "<div>\n",
              "<style scoped>\n",
              "    .dataframe tbody tr th:only-of-type {\n",
              "        vertical-align: middle;\n",
              "    }\n",
              "\n",
              "    .dataframe tbody tr th {\n",
              "        vertical-align: top;\n",
              "    }\n",
              "\n",
              "    .dataframe thead th {\n",
              "        text-align: right;\n",
              "    }\n",
              "</style>\n",
              "<table border=\"1\" class=\"dataframe\">\n",
              "  <thead>\n",
              "    <tr style=\"text-align: right;\">\n",
              "      <th></th>\n",
              "      <th>0</th>\n",
              "      <th>1</th>\n",
              "      <th>2</th>\n",
              "      <th>3</th>\n",
              "      <th>4</th>\n",
              "      <th>5</th>\n",
              "      <th>6</th>\n",
              "      <th>7</th>\n",
              "      <th>8</th>\n",
              "      <th>9</th>\n",
              "      <th>10</th>\n",
              "    </tr>\n",
              "  </thead>\n",
              "  <tbody>\n",
              "    <tr>\n",
              "      <th>5508</th>\n",
              "      <td>-0.252367</td>\n",
              "      <td>0.062064</td>\n",
              "      <td>0.171611</td>\n",
              "      <td>-0.420108</td>\n",
              "      <td>0.261718</td>\n",
              "      <td>-1.138481</td>\n",
              "      <td>-0.308329</td>\n",
              "      <td>0.364562</td>\n",
              "      <td>0.718895</td>\n",
              "      <td>-0.772142</td>\n",
              "      <td>E</td>\n",
              "    </tr>\n",
              "    <tr>\n",
              "      <th>8417</th>\n",
              "      <td>0.154980</td>\n",
              "      <td>-0.275537</td>\n",
              "      <td>0.417003</td>\n",
              "      <td>0.813815</td>\n",
              "      <td>0.261718</td>\n",
              "      <td>-0.640182</td>\n",
              "      <td>0.257927</td>\n",
              "      <td>0.526409</td>\n",
              "      <td>-0.091823</td>\n",
              "      <td>-0.594595</td>\n",
              "      <td>A</td>\n",
              "    </tr>\n",
              "    <tr>\n",
              "      <th>4078</th>\n",
              "      <td>0.154980</td>\n",
              "      <td>0.234790</td>\n",
              "      <td>0.210732</td>\n",
              "      <td>0.643738</td>\n",
              "      <td>0.172340</td>\n",
              "      <td>0.148790</td>\n",
              "      <td>-0.157328</td>\n",
              "      <td>0.353068</td>\n",
              "      <td>-0.216549</td>\n",
              "      <td>0.355542</td>\n",
              "      <td>A</td>\n",
              "    </tr>\n",
              "    <tr>\n",
              "      <th>9395</th>\n",
              "      <td>0.154980</td>\n",
              "      <td>-0.448263</td>\n",
              "      <td>0.356544</td>\n",
              "      <td>-0.003837</td>\n",
              "      <td>0.261718</td>\n",
              "      <td>0.937762</td>\n",
              "      <td>-0.157328</td>\n",
              "      <td>-0.776326</td>\n",
              "      <td>-0.310094</td>\n",
              "      <td>1.085602</td>\n",
              "      <td>F</td>\n",
              "    </tr>\n",
              "    <tr>\n",
              "      <th>7071</th>\n",
              "      <td>-0.363462</td>\n",
              "      <td>-0.008597</td>\n",
              "      <td>0.256965</td>\n",
              "      <td>-0.226340</td>\n",
              "      <td>0.261718</td>\n",
              "      <td>0.480988</td>\n",
              "      <td>0.144676</td>\n",
              "      <td>1.525235</td>\n",
              "      <td>1.061891</td>\n",
              "      <td>0.481085</td>\n",
              "      <td>E</td>\n",
              "    </tr>\n",
              "  </tbody>\n",
              "</table>\n",
              "</div>"
            ],
            "text/plain": [
              "            0         1         2         3   ...        7         8         9   10\n",
              "5508 -0.252367  0.062064  0.171611 -0.420108  ...  0.364562  0.718895 -0.772142   E\n",
              "8417  0.154980 -0.275537  0.417003  0.813815  ...  0.526409 -0.091823 -0.594595   A\n",
              "4078  0.154980  0.234790  0.210732  0.643738  ...  0.353068 -0.216549  0.355542   A\n",
              "9395  0.154980 -0.448263  0.356544 -0.003837  ... -0.776326 -0.310094  1.085602   F\n",
              "7071 -0.363462 -0.008597  0.256965 -0.226340  ...  1.525235  1.061891  0.481085   E\n",
              "\n",
              "[5 rows x 11 columns]"
            ]
          },
          "metadata": {
            "tags": []
          },
          "execution_count": 11
        }
      ]
    },
    {
      "cell_type": "markdown",
      "metadata": {
        "id": "aHRJBpeNpG8W"
      },
      "source": [
        "# Pré-traitement"
      ]
    },
    {
      "cell_type": "markdown",
      "metadata": {
        "id": "9F5n_-IIy029"
      },
      "source": [
        "## Test de chauvechement"
      ]
    },
    {
      "cell_type": "code",
      "metadata": {
        "colab": {
          "base_uri": "https://localhost:8080/"
        },
        "id": "WBEeOju9zaf6",
        "outputId": "7fb5fb55-2fe4-42bc-cae6-407180e8d44d"
      },
      "source": [
        "# on vérifie d'abord que les données d'entrainement et les données\r\n",
        "# ont la même structure\r\n",
        "len(data_tr.columns) == len(data_ts.columns)"
      ],
      "execution_count": 12,
      "outputs": [
        {
          "output_type": "execute_result",
          "data": {
            "text/plain": [
              "True"
            ]
          },
          "metadata": {
            "tags": []
          },
          "execution_count": 12
        }
      ]
    },
    {
      "cell_type": "code",
      "metadata": {
        "colab": {
          "base_uri": "https://localhost:8080/"
        },
        "id": "TjjsFMg_zk3k",
        "outputId": "216bf6b6-b9b0-4854-ef8f-6f35e09db906"
      },
      "source": [
        "# on vérifie que les données d'entrainement et les données\r\n",
        "# ne se chevauche pas\r\n",
        "len(data_tr.merge(data_ts, how = 'inner' ,indicator=False)) > 0"
      ],
      "execution_count": 13,
      "outputs": [
        {
          "output_type": "execute_result",
          "data": {
            "text/plain": [
              "False"
            ]
          },
          "metadata": {
            "tags": []
          },
          "execution_count": 13
        }
      ]
    },
    {
      "cell_type": "markdown",
      "metadata": {
        "id": "XEcfdn4dvRot"
      },
      "source": [
        "## Renommage des colonnes"
      ]
    },
    {
      "cell_type": "code",
      "metadata": {
        "id": "6VYRIMARpNpn"
      },
      "source": [
        "columns = [f'f{i}' for i in range(10)] + ['class']\r\n",
        "\r\n",
        "data_tr.columns = columns\r\n",
        "data_ts.columns = columns"
      ],
      "execution_count": 14,
      "outputs": []
    },
    {
      "cell_type": "markdown",
      "metadata": {
        "id": "D4D2Hs9Vveeh"
      },
      "source": [
        "## Vérification des types d'attributs"
      ]
    },
    {
      "cell_type": "code",
      "metadata": {
        "colab": {
          "base_uri": "https://localhost:8080/"
        },
        "id": "FA1XrNCYvpXZ",
        "outputId": "07a41c7d-147b-48ed-f543-ac1e6d583a2b"
      },
      "source": [
        "data_tr.dtypes"
      ],
      "execution_count": 15,
      "outputs": [
        {
          "output_type": "execute_result",
          "data": {
            "text/plain": [
              "f0       float64\n",
              "f1       float64\n",
              "f2       float64\n",
              "f3       float64\n",
              "f4       float64\n",
              "f5       float64\n",
              "f6       float64\n",
              "f7       float64\n",
              "f8       float64\n",
              "f9       float64\n",
              "class     object\n",
              "dtype: object"
            ]
          },
          "metadata": {
            "tags": []
          },
          "execution_count": 15
        }
      ]
    },
    {
      "cell_type": "code",
      "metadata": {
        "colab": {
          "base_uri": "https://localhost:8080/"
        },
        "id": "dYjdqZWDv15s",
        "outputId": "ab9d2266-2064-4610-efc8-51e4fc7aa18e"
      },
      "source": [
        "data_ts.dtypes"
      ],
      "execution_count": 16,
      "outputs": [
        {
          "output_type": "execute_result",
          "data": {
            "text/plain": [
              "f0       float64\n",
              "f1       float64\n",
              "f2       float64\n",
              "f3       float64\n",
              "f4       float64\n",
              "f5       float64\n",
              "f6       float64\n",
              "f7       float64\n",
              "f8       float64\n",
              "f9       float64\n",
              "class     object\n",
              "dtype: object"
            ]
          },
          "metadata": {
            "tags": []
          },
          "execution_count": 16
        }
      ]
    },
    {
      "cell_type": "markdown",
      "metadata": {
        "id": "wXxKJAZtv583"
      },
      "source": [
        "Remplacement du type de l'attribut **class** par le type `category`"
      ]
    },
    {
      "cell_type": "code",
      "metadata": {
        "id": "0_hxHa5Sv5FX"
      },
      "source": [
        "data_tr['class'] = data_tr['class'].astype('category')\r\n",
        "data_ts['class'] = data_ts['class'].astype('category')"
      ],
      "execution_count": 17,
      "outputs": []
    },
    {
      "cell_type": "code",
      "metadata": {
        "colab": {
          "base_uri": "https://localhost:8080/"
        },
        "id": "AyOTnVTS2beT",
        "outputId": "ad66ff86-1492-4c4f-8a56-cc67d0aa8c0c"
      },
      "source": [
        "data_tr.dtypes"
      ],
      "execution_count": 18,
      "outputs": [
        {
          "output_type": "execute_result",
          "data": {
            "text/plain": [
              "f0        float64\n",
              "f1        float64\n",
              "f2        float64\n",
              "f3        float64\n",
              "f4        float64\n",
              "f5        float64\n",
              "f6        float64\n",
              "f7        float64\n",
              "f8        float64\n",
              "f9        float64\n",
              "class    category\n",
              "dtype: object"
            ]
          },
          "metadata": {
            "tags": []
          },
          "execution_count": 18
        }
      ]
    },
    {
      "cell_type": "code",
      "metadata": {
        "colab": {
          "base_uri": "https://localhost:8080/"
        },
        "id": "fJSH8hm22cB9",
        "outputId": "9ef34b5d-7003-4ead-9d23-f2d7c7a5acc3"
      },
      "source": [
        "data_ts.dtypes"
      ],
      "execution_count": 19,
      "outputs": [
        {
          "output_type": "execute_result",
          "data": {
            "text/plain": [
              "f0        float64\n",
              "f1        float64\n",
              "f2        float64\n",
              "f3        float64\n",
              "f4        float64\n",
              "f5        float64\n",
              "f6        float64\n",
              "f7        float64\n",
              "f8        float64\n",
              "f9        float64\n",
              "class    category\n",
              "dtype: object"
            ]
          },
          "metadata": {
            "tags": []
          },
          "execution_count": 19
        }
      ]
    },
    {
      "cell_type": "markdown",
      "metadata": {
        "id": "egKGzaq_3JUx"
      },
      "source": [
        "## Vérification des valeurs manquantes"
      ]
    },
    {
      "cell_type": "code",
      "metadata": {
        "id": "iipq4_m97BiF"
      },
      "source": [
        "data_all = pd.concat([data_tr, data_ts])"
      ],
      "execution_count": 20,
      "outputs": []
    },
    {
      "cell_type": "code",
      "metadata": {
        "colab": {
          "base_uri": "https://localhost:8080/"
        },
        "id": "AOC5pGnq3Rwp",
        "outputId": "545cbbf0-ab4a-4de7-dc81-55f259bab55c"
      },
      "source": [
        "data_all.iloc[:, :10].isnull().any()"
      ],
      "execution_count": 21,
      "outputs": [
        {
          "output_type": "execute_result",
          "data": {
            "text/plain": [
              "f0    False\n",
              "f1    False\n",
              "f2    False\n",
              "f3    False\n",
              "f4    False\n",
              "f5    False\n",
              "f6    False\n",
              "f7    False\n",
              "f8    False\n",
              "f9    False\n",
              "dtype: bool"
            ]
          },
          "metadata": {
            "tags": []
          },
          "execution_count": 21
        }
      ]
    },
    {
      "cell_type": "code",
      "metadata": {
        "colab": {
          "base_uri": "https://localhost:8080/"
        },
        "id": "0Jzotp2633eb",
        "outputId": "5d49cad4-fc83-4c53-bd99-fc6a9868d017"
      },
      "source": [
        "data_all.iloc[:, :10].isna().any()"
      ],
      "execution_count": 22,
      "outputs": [
        {
          "output_type": "execute_result",
          "data": {
            "text/plain": [
              "f0    False\n",
              "f1    False\n",
              "f2    False\n",
              "f3    False\n",
              "f4    False\n",
              "f5    False\n",
              "f6    False\n",
              "f7    False\n",
              "f8    False\n",
              "f9    False\n",
              "dtype: bool"
            ]
          },
          "metadata": {
            "tags": []
          },
          "execution_count": 22
        }
      ]
    },
    {
      "cell_type": "markdown",
      "metadata": {
        "id": "WGfgRwegpN6d"
      },
      "source": [
        "# Analyse"
      ]
    },
    {
      "cell_type": "code",
      "metadata": {
        "id": "2vF7ZLNypPpq"
      },
      "source": [
        "!pip install seaborn"
      ],
      "execution_count": null,
      "outputs": []
    },
    {
      "cell_type": "code",
      "metadata": {
        "id": "qIcEx482xfCG"
      },
      "source": [
        "import matplotlib.pyplot as plt\r\n",
        "import seaborn as sns"
      ],
      "execution_count": 24,
      "outputs": []
    },
    {
      "cell_type": "markdown",
      "metadata": {
        "id": "TRushklUxlqp"
      },
      "source": [
        "## Description des attributs"
      ]
    },
    {
      "cell_type": "code",
      "metadata": {
        "colab": {
          "base_uri": "https://localhost:8080/"
        },
        "id": "pxt8hdOyxoqO",
        "outputId": "3badc2a6-20be-4ea7-fd6f-67e2508a7506"
      },
      "source": [
        "n_attributes = len(data_tr.columns)\r\n",
        "print(f'Number of attributes: {n_attributes}')"
      ],
      "execution_count": 25,
      "outputs": [
        {
          "output_type": "stream",
          "text": [
            "Number of attributes: 11\n"
          ],
          "name": "stdout"
        }
      ]
    },
    {
      "cell_type": "markdown",
      "metadata": {
        "id": "wR7FgJNr1e_C"
      },
      "source": [
        "* `f1` :       intercolumnar distance\r\n",
        "* `f2` :       upper margin \r\n",
        "* `f3` :       lower margin \r\n",
        "* `f4` :       exploitation \r\n",
        "* `f5` :       row number \r\n",
        "* `f6` :       modular ratio \r\n",
        "* `f7` :       interlinear spacing \r\n",
        "* `f8` :       weight \r\n",
        "* `f9` :       peak number \r\n",
        "* `f10` :      modular ratio/ interlinear spacing\r\n",
        "* `class` :\r\n",
        "  - A\r\n",
        "  - B\r\n",
        "  - C\r\n",
        "  - D\r\n",
        "  - E\r\n",
        "  - F\r\n",
        "  - G\r\n",
        "  - I\r\n",
        "  - W\r\n",
        "  - X\r\n",
        "  - Y"
      ]
    },
    {
      "cell_type": "code",
      "metadata": {
        "id": "Ll46HB_t2gMA"
      },
      "source": [
        "target_attribute = 'class'"
      ],
      "execution_count": 26,
      "outputs": []
    },
    {
      "cell_type": "markdown",
      "metadata": {
        "id": "g9W8D2DY2tm3"
      },
      "source": [
        "## Etude des classes"
      ]
    },
    {
      "cell_type": "code",
      "metadata": {
        "id": "fDRvJVrT23Ck"
      },
      "source": [
        "n_target_type = data_all[target_attribute].nunique()"
      ],
      "execution_count": 27,
      "outputs": []
    },
    {
      "cell_type": "markdown",
      "metadata": {
        "id": "lKDL0LTW5R79"
      },
      "source": [
        "On vérifie que les données d'entrainement comporte bien toutes les type de classes"
      ]
    },
    {
      "cell_type": "code",
      "metadata": {
        "colab": {
          "base_uri": "https://localhost:8080/"
        },
        "id": "TPOS4mM45MdH",
        "outputId": "92fd8851-fb21-463e-a61b-b713b4b65b34"
      },
      "source": [
        "data_tr[target_attribute].nunique() == n_target_type"
      ],
      "execution_count": 28,
      "outputs": [
        {
          "output_type": "execute_result",
          "data": {
            "text/plain": [
              "True"
            ]
          },
          "metadata": {
            "tags": []
          },
          "execution_count": 28
        }
      ]
    },
    {
      "cell_type": "markdown",
      "metadata": {
        "id": "P44UD2t16DP9"
      },
      "source": [
        "Nombre de type de classe"
      ]
    },
    {
      "cell_type": "code",
      "metadata": {
        "colab": {
          "base_uri": "https://localhost:8080/"
        },
        "id": "buJA2an45Qyj",
        "outputId": "d339fbc4-ea8c-4467-c1b0-274b656d902d"
      },
      "source": [
        "print(f'Nombre de type de classe : {n_target_type}')"
      ],
      "execution_count": 29,
      "outputs": [
        {
          "output_type": "stream",
          "text": [
            "Nombre de type de classe : 12\n"
          ],
          "name": "stdout"
        }
      ]
    },
    {
      "cell_type": "markdown",
      "metadata": {
        "id": "ubIR1eVM6J8k"
      },
      "source": [
        "Distribution de l'ensemble des données par classe"
      ]
    },
    {
      "cell_type": "code",
      "metadata": {
        "colab": {
          "base_uri": "https://localhost:8080/",
          "height": 421
        },
        "id": "Cjsp3Xz754ps",
        "outputId": "23012e30-f3b3-4740-bd71-3e67d6bcb765"
      },
      "source": [
        "n_sample_per_target_type = data_all.groupby(target_attribute).size().reset_index()\r\n",
        "n_sample_per_target_type.columns = [target_attribute, 'count']\r\n",
        "n_sample_per_target_type"
      ],
      "execution_count": 30,
      "outputs": [
        {
          "output_type": "execute_result",
          "data": {
            "text/html": [
              "<div>\n",
              "<style scoped>\n",
              "    .dataframe tbody tr th:only-of-type {\n",
              "        vertical-align: middle;\n",
              "    }\n",
              "\n",
              "    .dataframe tbody tr th {\n",
              "        vertical-align: top;\n",
              "    }\n",
              "\n",
              "    .dataframe thead th {\n",
              "        text-align: right;\n",
              "    }\n",
              "</style>\n",
              "<table border=\"1\" class=\"dataframe\">\n",
              "  <thead>\n",
              "    <tr style=\"text-align: right;\">\n",
              "      <th></th>\n",
              "      <th>class</th>\n",
              "      <th>count</th>\n",
              "    </tr>\n",
              "  </thead>\n",
              "  <tbody>\n",
              "    <tr>\n",
              "      <th>0</th>\n",
              "      <td>A</td>\n",
              "      <td>8572</td>\n",
              "    </tr>\n",
              "    <tr>\n",
              "      <th>1</th>\n",
              "      <td>B</td>\n",
              "      <td>10</td>\n",
              "    </tr>\n",
              "    <tr>\n",
              "      <th>2</th>\n",
              "      <td>C</td>\n",
              "      <td>206</td>\n",
              "    </tr>\n",
              "    <tr>\n",
              "      <th>3</th>\n",
              "      <td>D</td>\n",
              "      <td>705</td>\n",
              "    </tr>\n",
              "    <tr>\n",
              "      <th>4</th>\n",
              "      <td>E</td>\n",
              "      <td>2190</td>\n",
              "    </tr>\n",
              "    <tr>\n",
              "      <th>5</th>\n",
              "      <td>F</td>\n",
              "      <td>3923</td>\n",
              "    </tr>\n",
              "    <tr>\n",
              "      <th>6</th>\n",
              "      <td>G</td>\n",
              "      <td>893</td>\n",
              "    </tr>\n",
              "    <tr>\n",
              "      <th>7</th>\n",
              "      <td>H</td>\n",
              "      <td>1039</td>\n",
              "    </tr>\n",
              "    <tr>\n",
              "      <th>8</th>\n",
              "      <td>I</td>\n",
              "      <td>1663</td>\n",
              "    </tr>\n",
              "    <tr>\n",
              "      <th>9</th>\n",
              "      <td>W</td>\n",
              "      <td>89</td>\n",
              "    </tr>\n",
              "    <tr>\n",
              "      <th>10</th>\n",
              "      <td>X</td>\n",
              "      <td>1044</td>\n",
              "    </tr>\n",
              "    <tr>\n",
              "      <th>11</th>\n",
              "      <td>Y</td>\n",
              "      <td>533</td>\n",
              "    </tr>\n",
              "  </tbody>\n",
              "</table>\n",
              "</div>"
            ],
            "text/plain": [
              "   class  count\n",
              "0      A   8572\n",
              "1      B     10\n",
              "2      C    206\n",
              "3      D    705\n",
              "4      E   2190\n",
              "5      F   3923\n",
              "6      G    893\n",
              "7      H   1039\n",
              "8      I   1663\n",
              "9      W     89\n",
              "10     X   1044\n",
              "11     Y    533"
            ]
          },
          "metadata": {
            "tags": []
          },
          "execution_count": 30
        }
      ]
    },
    {
      "cell_type": "markdown",
      "metadata": {
        "id": "P9inuDkj8aMV"
      },
      "source": [
        "## Résumé statistique"
      ]
    },
    {
      "cell_type": "code",
      "metadata": {
        "colab": {
          "base_uri": "https://localhost:8080/",
          "height": 173
        },
        "id": "_qcGV82p8hI4",
        "outputId": "af4d54af-6f7d-4dd1-e448-43a7124519b6"
      },
      "source": [
        "data_all.describe().loc[['mean', 'std', 'min', 'max']]"
      ],
      "execution_count": 31,
      "outputs": [
        {
          "output_type": "execute_result",
          "data": {
            "text/html": [
              "<div>\n",
              "<style scoped>\n",
              "    .dataframe tbody tr th:only-of-type {\n",
              "        vertical-align: middle;\n",
              "    }\n",
              "\n",
              "    .dataframe tbody tr th {\n",
              "        vertical-align: top;\n",
              "    }\n",
              "\n",
              "    .dataframe thead th {\n",
              "        text-align: right;\n",
              "    }\n",
              "</style>\n",
              "<table border=\"1\" class=\"dataframe\">\n",
              "  <thead>\n",
              "    <tr style=\"text-align: right;\">\n",
              "      <th></th>\n",
              "      <th>f0</th>\n",
              "      <th>f1</th>\n",
              "      <th>f2</th>\n",
              "      <th>f3</th>\n",
              "      <th>f4</th>\n",
              "      <th>f5</th>\n",
              "      <th>f6</th>\n",
              "      <th>f7</th>\n",
              "      <th>f8</th>\n",
              "      <th>f9</th>\n",
              "    </tr>\n",
              "  </thead>\n",
              "  <tbody>\n",
              "    <tr>\n",
              "      <th>mean</th>\n",
              "      <td>-3.306656e-09</td>\n",
              "      <td>0.018498</td>\n",
              "      <td>0.002329</td>\n",
              "      <td>0.000115</td>\n",
              "      <td>5.697992e-08</td>\n",
              "      <td>0.002540</td>\n",
              "      <td>0.003977</td>\n",
              "      <td>0.000028</td>\n",
              "      <td>0.002108</td>\n",
              "      <td>0.000069</td>\n",
              "    </tr>\n",
              "    <tr>\n",
              "      <th>std</th>\n",
              "      <td>1.000007e+00</td>\n",
              "      <td>2.853117</td>\n",
              "      <td>1.058203</td>\n",
              "      <td>0.999997</td>\n",
              "      <td>9.999948e-01</td>\n",
              "      <td>1.065179</td>\n",
              "      <td>1.153325</td>\n",
              "      <td>1.000003</td>\n",
              "      <td>1.045362</td>\n",
              "      <td>1.000010</td>\n",
              "    </tr>\n",
              "    <tr>\n",
              "      <th>min</th>\n",
              "      <td>-3.498799e+00</td>\n",
              "      <td>-2.426761</td>\n",
              "      <td>-3.210528</td>\n",
              "      <td>-5.440122</td>\n",
              "      <td>-4.922215e+00</td>\n",
              "      <td>-7.450257</td>\n",
              "      <td>-11.935457</td>\n",
              "      <td>-4.247781</td>\n",
              "      <td>-5.486218</td>\n",
              "      <td>-6.719324</td>\n",
              "    </tr>\n",
              "    <tr>\n",
              "      <th>max</th>\n",
              "      <td>1.181992e+01</td>\n",
              "      <td>386.000000</td>\n",
              "      <td>50.000000</td>\n",
              "      <td>3.987152</td>\n",
              "      <td>1.066121e+00</td>\n",
              "      <td>53.000000</td>\n",
              "      <td>83.000000</td>\n",
              "      <td>13.173081</td>\n",
              "      <td>44.000000</td>\n",
              "      <td>11.911338</td>\n",
              "    </tr>\n",
              "  </tbody>\n",
              "</table>\n",
              "</div>"
            ],
            "text/plain": [
              "                f0          f1         f2  ...         f7         f8         f9\n",
              "mean -3.306656e-09    0.018498   0.002329  ...   0.000028   0.002108   0.000069\n",
              "std   1.000007e+00    2.853117   1.058203  ...   1.000003   1.045362   1.000010\n",
              "min  -3.498799e+00   -2.426761  -3.210528  ...  -4.247781  -5.486218  -6.719324\n",
              "max   1.181992e+01  386.000000  50.000000  ...  13.173081  44.000000  11.911338\n",
              "\n",
              "[4 rows x 10 columns]"
            ]
          },
          "metadata": {
            "tags": []
          },
          "execution_count": 31
        }
      ]
    },
    {
      "cell_type": "markdown",
      "metadata": {
        "id": "NYGf7G2k8qNv"
      },
      "source": [
        "## Correlation des attributs"
      ]
    },
    {
      "cell_type": "code",
      "metadata": {
        "colab": {
          "base_uri": "https://localhost:8080/",
          "height": 607
        },
        "id": "DmFmW-gU8sMN",
        "outputId": "91dfb97a-aa74-419b-ed9d-a6b4974a0637"
      },
      "source": [
        "attributes_correlation = data_all.corr().abs()\r\n",
        "\r\n",
        "plt.figure(figsize=(10, 10))\r\n",
        "sns.heatmap(attributes_correlation, annot=True)\r\n",
        "plt.title('Correlation des attributs')\r\n",
        "plt.show()"
      ],
      "execution_count": 32,
      "outputs": [
        {
          "output_type": "display_data",
          "data": {
            "image/png": "[encoded data removed]",
            "text/plain": [
              "<Figure size 720x720 with 2 Axes>"
            ]
          },
          "metadata": {
            "tags": [],
            "needs_background": "light"
          }
        }
      ]
    },
    {
      "cell_type": "markdown",
      "metadata": {
        "id": "2_SI7JKa9bCR"
      },
      "source": [
        "# Entrainement des modeles"
      ]
    },
    {
      "cell_type": "code",
      "metadata": {
        "id": "hTJa9DLe9mYq"
      },
      "source": [
        "!pip install scikit-learn"
      ],
      "execution_count": null,
      "outputs": []
    },
    {
      "cell_type": "markdown",
      "metadata": {
        "id": "C9IIw_4T-UBB"
      },
      "source": [
        "### Fonctions"
      ]
    },
    {
      "cell_type": "code",
      "metadata": {
        "id": "NYVyjIz8-oIP"
      },
      "source": [
        "import numpy as np\r\n",
        "from sklearn.model_selection import train_test_split\r\n",
        "from sklearn import metrics\r\n",
        "from sklearn.model_selection import GridSearchCV\r\n",
        "from sklearn.utils.testing import ignore_warnings\r\n",
        "from sklearn.exceptions import ConvergenceWarning\r\n",
        "from math import sqrt"
      ],
      "execution_count": null,
      "outputs": []
    },
    {
      "cell_type": "code",
      "metadata": {
        "id": "ohoGAtie-qU7"
      },
      "source": [
        "@ignore_warnings(category=ConvergenceWarning)\r\n",
        "def test_model(model, data, target_attribute, n=10):\r\n",
        "  \"\"\"\r\n",
        "  Tester un modele\r\n",
        "  \"\"\"\r\n",
        "  X = data.loc[:, data.columns != target_attribute]   # data input\r\n",
        "  y = data[target_attribute]                          # data target\r\n",
        "\r\n",
        "  accuracy = []\r\n",
        "  predictions = []\r\n",
        "\r\n",
        "  for i in range(n):\r\n",
        "    X_train, X_test, y_train, y_test = train_test_split(X, y, test_size=0.25)\r\n",
        "\r\n",
        "    model.fit(X_train, y_train)\r\n",
        "\r\n",
        "    pred = model.predict(X_test)\r\n",
        "    acc = metrics.accuracy_score(y_test, pred)\r\n",
        "\r\n",
        "    predictions.append(pred)\r\n",
        "    accuracy.append(acc)\r\n",
        "\r\n",
        "  return accuracy, predictions"
      ],
      "execution_count": 35,
      "outputs": []
    },
    {
      "cell_type": "code",
      "metadata": {
        "id": "YbdsvQqd5Z3J"
      },
      "source": [
        "@ignore_warnings(category=ConvergenceWarning)\r\n",
        "def train_model(model, params, data, target_attribute):\r\n",
        "  \"\"\"\r\n",
        "  Entrainer un modele\r\n",
        "  \"\"\"\r\n",
        "  grid = GridSearchCV(model, params, n_jobs=-1, verbose=1, cv=3)\r\n",
        "\r\n",
        "  x_train = data.loc[:, data.columns != target_attribute]\r\n",
        "  y_train = data[target_attribute]\r\n",
        "\r\n",
        "  grid.fit(x_train, y_train)\r\n",
        "\r\n",
        "  best_params = grid.best_params_\r\n",
        "  best_model = grid.best_estimator_\r\n",
        "\r\n",
        "  return best_params, best_model"
      ],
      "execution_count": 36,
      "outputs": []
    },
    {
      "cell_type": "code",
      "metadata": {
        "id": "vhJ1tz3PUOju"
      },
      "source": [
        "def acc_statistic(accuracies):\r\n",
        "  \"\"\"\r\n",
        "  Génère les stats de plusieur précision\r\n",
        "  \"\"\"\r\n",
        "  mean_val = sum(accuracies) / len(accuracies)\r\n",
        "  min_val = min(accuracies)\r\n",
        "  max_val = max(accuracies)\r\n",
        "\r\n",
        "  return mean_val, min_val, max_val"
      ],
      "execution_count": 37,
      "outputs": []
    },
    {
      "cell_type": "code",
      "metadata": {
        "id": "i6l8Q85a6-D8"
      },
      "source": [
        "def analyse_result_with_plot(x, y1, y2, y3, x_label, y_label, title, figsize=(12, 6)):\r\n",
        "  plt.figure(figsize=figsize)\r\n",
        "  plt.plot(x, y1, linestyle='dashed', marker='o', label='précision moy.')\r\n",
        "  plt.plot(x, y2, linestyle='dashed', marker='o', label='précision min.')\r\n",
        "  plt.plot(x, y3, linestyle='dashed', marker='o', label='précision max.')\r\n",
        "  plt.xlabel(x_label)\r\n",
        "  plt.ylabel(y_label)\r\n",
        "  plt.title(title)\r\n",
        "  plt.legend()\r\n",
        "  plt.grid(b=True, which='major', color='#bdc3c7', linestyle='--')\r\n",
        "  plt.show()"
      ],
      "execution_count": 38,
      "outputs": []
    },
    {
      "cell_type": "code",
      "metadata": {
        "id": "UPgxCIEI7Vox"
      },
      "source": [
        "def analyse_result_with_bar(x, y1, y2, y3, x_label, y_label, title, figsize=(12, 6)):\r\n",
        "  x_values = np.arange(len(x)) \r\n",
        "  barWidth = 0.15\r\n",
        "\r\n",
        "  plt.figure(figsize=(12,6))\r\n",
        "  plt.bar(x_values, y1, width=barWidth, label='precision moy.')\r\n",
        "  plt.bar(x_values - barWidth, y2, width=barWidth, label='precision min.')\r\n",
        "  plt.bar(x_values + barWidth, y3, width=barWidth, label='precision max.')\r\n",
        "  plt.xlabel(x_label)\r\n",
        "  plt.ylabel(y_label)\r\n",
        "  plt.xticks([r for r in range(len(y1))], x)\r\n",
        "  plt.legend()\r\n",
        "  plt.title(title)\r\n",
        "  plt.show()"
      ],
      "execution_count": 39,
      "outputs": []
    },
    {
      "cell_type": "markdown",
      "metadata": {
        "id": "kNP5xO1B-2mW"
      },
      "source": [
        "## K-NN"
      ]
    },
    {
      "cell_type": "code",
      "metadata": {
        "id": "iYFXl-Vh-7Io"
      },
      "source": [
        "from sklearn.neighbors import KNeighborsClassifier"
      ],
      "execution_count": 40,
      "outputs": []
    },
    {
      "cell_type": "code",
      "metadata": {
        "id": "Bg1-7o1GU_Sj"
      },
      "source": [
        "knn_model = KNeighborsClassifier()"
      ],
      "execution_count": 41,
      "outputs": []
    },
    {
      "cell_type": "markdown",
      "metadata": {
        "id": "jXYxUjdGVBbS"
      },
      "source": [
        "### Test du modele par defaut"
      ]
    },
    {
      "cell_type": "code",
      "metadata": {
        "id": "zUY9-utONFwA"
      },
      "source": [
        "knn_accuracy, knn_predictions = test_model(knn_model, data_tr, target_attribute)"
      ],
      "execution_count": 42,
      "outputs": []
    },
    {
      "cell_type": "code",
      "metadata": {
        "id": "RD3QdvIbQlkU",
        "outputId": "5e7ecaaa-20ac-4c35-8cbc-ac50bac959bb",
        "colab": {
          "base_uri": "https://localhost:8080/"
        }
      },
      "source": [
        "knn_accuracy_mean, knn_accuracy_min, knn_accuracy_max = acc_statistic(knn_accuracy)\r\n",
        "\r\n",
        "print(f'Precision\\t', \r\n",
        "      f'moy.: {round(knn_accuracy_mean, 8)}\\t',\r\n",
        "      f'min.: {round(knn_accuracy_min, 8)}\\t',\r\n",
        "      f'max.: {round(knn_accuracy_max, 8)}\\t')"
      ],
      "execution_count": 43,
      "outputs": [
        {
          "output_type": "stream",
          "text": [
            "Precision\t moy.: 0.71775307\t min.: 0.71242331\t max.: 0.73121166\t\n"
          ],
          "name": "stdout"
        }
      ]
    },
    {
      "cell_type": "markdown",
      "metadata": {
        "id": "lphAikPs_mju"
      },
      "source": [
        "### Recherche des meilleurs parametres"
      ]
    },
    {
      "cell_type": "code",
      "metadata": {
        "id": "_NnByjdJ_qRy"
      },
      "source": [
        "from math import sqrt"
      ],
      "execution_count": 44,
      "outputs": []
    },
    {
      "cell_type": "markdown",
      "metadata": {
        "id": "sd7BCfV7VoiB"
      },
      "source": [
        "#### Influence de `k` (nombre de voisins)"
      ]
    },
    {
      "cell_type": "code",
      "metadata": {
        "id": "Eo-Y4ndbkhEA"
      },
      "source": [
        "knn_min_k = 1\r\n",
        "knn_max_k = int(sqrt(len(data_tr)))"
      ],
      "execution_count": 45,
      "outputs": []
    },
    {
      "cell_type": "code",
      "metadata": {
        "id": "Fqzt0Jsr_tu6"
      },
      "source": [
        "knn_k_result = []\r\n",
        "\r\n",
        "for k in range(knn_min_k, knn_max_k):\r\n",
        "  model = KNeighborsClassifier(n_neighbors=k)\r\n",
        "  accuracy, _ = test_model(model, data_tr, target_attribute)\r\n",
        "\r\n",
        "  knn_k_result.append((k, accuracy))"
      ],
      "execution_count": 46,
      "outputs": []
    },
    {
      "cell_type": "code",
      "metadata": {
        "id": "MXrQwFGm__qA"
      },
      "source": [
        "knn_k_values = [i for i in range(knn_min_k, knn_max_k)]\r\n",
        "knn_k_acc_stats = [acc_statistic(accuracy) for _, accuracy in knn_k_result]\r\n",
        "knn_k_mean_accuracy = [mean_acc for mean_acc, _, _ in knn_k_acc_stats]\r\n",
        "knn_k_min_accuracy = [min_acc for _, min_acc, _ in knn_k_acc_stats]\r\n",
        "knn_k_max_accuracy = [max_acc for _, _, max_acc in knn_k_acc_stats]"
      ],
      "execution_count": 47,
      "outputs": []
    },
    {
      "cell_type": "code",
      "metadata": {
        "colab": {
          "base_uri": "https://localhost:8080/",
          "height": 404
        },
        "id": "48w5Efb8AEAA",
        "outputId": "5bc01ef6-7e73-44b8-f02b-771faebdab80"
      },
      "source": [
        "analyse_result_with_plot(knn_k_values, \r\n",
        "                         knn_k_mean_accuracy, \r\n",
        "                         knn_k_min_accuracy, \r\n",
        "                         knn_k_max_accuracy, \r\n",
        "                         'Valeur de k',\r\n",
        "                         'Précision',\r\n",
        "                         'Précision en fonction de la valeur de k')"
      ],
      "execution_count": 48,
      "outputs": [
        {
          "output_type": "display_data",
          "data": {
            "image/png": "[encoded data removed]",
            "text/plain": [
              "<Figure size 864x432 with 1 Axes>"
            ]
          },
          "metadata": {
            "tags": [],
            "needs_background": "light"
          }
        }
      ]
    },
    {
      "cell_type": "markdown",
      "metadata": {
        "id": "euZFdG7gZ_uD"
      },
      "source": [
        "On remarque qu'avec des valeur de k entre 0 et 8 on obtiens les meilleures précision"
      ]
    },
    {
      "cell_type": "code",
      "metadata": {
        "id": "rZEr2MTaaRPo"
      },
      "source": [
        "knn_max_k = 9"
      ],
      "execution_count": 49,
      "outputs": []
    },
    {
      "cell_type": "markdown",
      "metadata": {
        "id": "qdzKkzTQaTgz"
      },
      "source": [
        "#### Influence de `weights`"
      ]
    },
    {
      "cell_type": "code",
      "metadata": {
        "id": "ynD6mphEkqke"
      },
      "source": [
        "knn_weights_type = ['uniform', 'distance']"
      ],
      "execution_count": 50,
      "outputs": []
    },
    {
      "cell_type": "code",
      "metadata": {
        "id": "Jqx1o_KCa0H1"
      },
      "source": [
        "knn_weights_result = []\r\n",
        "\r\n",
        "for weights in knn_weights_type:\r\n",
        "  model = KNeighborsClassifier(weights=weights)\r\n",
        "  accuracy, _ = test_model(model, data_tr, target_attribute)\r\n",
        "\r\n",
        "  knn_weights_result.append((k, accuracy))"
      ],
      "execution_count": 51,
      "outputs": []
    },
    {
      "cell_type": "code",
      "metadata": {
        "id": "g-_pKWTjbJTl"
      },
      "source": [
        "knn_weights_values = knn_weights_type[:]\r\n",
        "knn_weights_acc_stats = [acc_statistic(accuracy) for _, accuracy in knn_weights_result]\r\n",
        "knn_weights_mean_accuracy = [mean_acc for mean_acc, _, _ in knn_weights_acc_stats]\r\n",
        "knn_weights_min_accuracy = [min_acc for _, min_acc, _ in knn_weights_acc_stats]\r\n",
        "knn_weights_max_accuracy = [max_acc for _, _, max_acc in knn_weights_acc_stats]"
      ],
      "execution_count": 52,
      "outputs": []
    },
    {
      "cell_type": "code",
      "metadata": {
        "id": "TdWtVoi7bhFq",
        "outputId": "563153d3-cbb4-4fca-e829-1136a8b3e92a",
        "colab": {
          "base_uri": "https://localhost:8080/",
          "height": 404
        }
      },
      "source": [
        "analyse_result_with_bar(knn_weights_values,\r\n",
        "                        knn_weights_mean_accuracy, \r\n",
        "                        knn_weights_min_accuracy, \r\n",
        "                        knn_weights_max_accuracy, \r\n",
        "                        'Type de weights',\r\n",
        "                        'Précision',\r\n",
        "                        'Précision en fonction du type de weights')"
      ],
      "execution_count": 53,
      "outputs": [
        {
          "output_type": "display_data",
          "data": {
            "image/png": "[encoded data removed]",
            "text/plain": [
              "<Figure size 864x432 with 1 Axes>"
            ]
          },
          "metadata": {
            "tags": [],
            "needs_background": "light"
          }
        }
      ]
    },
    {
      "cell_type": "code",
      "metadata": {
        "id": "xi6ooXRTpoBn"
      },
      "source": [
        "knn_weights_type = ['distance']"
      ],
      "execution_count": 54,
      "outputs": []
    },
    {
      "cell_type": "markdown",
      "metadata": {
        "id": "BROE2DU2huih"
      },
      "source": [
        "#### Influence de `p`"
      ]
    },
    {
      "cell_type": "code",
      "metadata": {
        "id": "JF3P86ODkwNs"
      },
      "source": [
        "knn_min_p = 1\r\n",
        "knn_max_p = 10"
      ],
      "execution_count": 55,
      "outputs": []
    },
    {
      "cell_type": "code",
      "metadata": {
        "id": "l2WaZOf8iC1J"
      },
      "source": [
        "knn_p_result = []\r\n",
        "\r\n",
        "for p in range(knn_min_p, knn_max_p):\r\n",
        "  model = KNeighborsClassifier(p=p)\r\n",
        "  accuracy, _ = test_model(model, data_tr, target_attribute)\r\n",
        "\r\n",
        "  knn_p_result.append((p, accuracy))"
      ],
      "execution_count": 56,
      "outputs": []
    },
    {
      "cell_type": "code",
      "metadata": {
        "id": "zF3N3RqciNze"
      },
      "source": [
        "knn_p_values = [p for p in range(knn_min_p, knn_max_p)]\r\n",
        "knn_p_acc_stats = [acc_statistic(accuracy) for _, accuracy in knn_p_result]\r\n",
        "knn_p_mean_accuracy = [mean_acc for mean_acc, _, _ in knn_p_acc_stats]\r\n",
        "knn_p_min_accuracy = [min_acc for _, min_acc, _ in knn_p_acc_stats]\r\n",
        "knn_p_max_accuracy = [max_acc for _, _, max_acc in knn_p_acc_stats]"
      ],
      "execution_count": 57,
      "outputs": []
    },
    {
      "cell_type": "code",
      "metadata": {
        "id": "HojDtOMsiele",
        "outputId": "dc846f62-c116-4b70-8409-1d4a703ec8cc",
        "colab": {
          "base_uri": "https://localhost:8080/",
          "height": 404
        }
      },
      "source": [
        "analyse_result_with_plot(knn_p_values,\r\n",
        "                         knn_p_mean_accuracy,\r\n",
        "                         knn_p_min_accuracy,\r\n",
        "                         knn_p_max_accuracy,\r\n",
        "                         'Valeur de p',\r\n",
        "                         'Précision',\r\n",
        "                         'Précision en fonction de p')"
      ],
      "execution_count": 58,
      "outputs": [
        {
          "output_type": "display_data",
          "data": {
            "image/png": "[encoded data removed]",
            "text/plain": [
              "<Figure size 864x432 with 1 Axes>"
            ]
          },
          "metadata": {
            "tags": [],
            "needs_background": "light"
          }
        }
      ]
    },
    {
      "cell_type": "code",
      "metadata": {
        "id": "pWrmZjfWi-XS"
      },
      "source": [
        "knn_max_p = 3"
      ],
      "execution_count": 59,
      "outputs": []
    },
    {
      "cell_type": "markdown",
      "metadata": {
        "id": "gjf68a0vh89c"
      },
      "source": [
        "### Recherche du meilleur modele"
      ]
    },
    {
      "cell_type": "code",
      "metadata": {
        "id": "wy2aFz8wh_pI",
        "outputId": "fea8aa78-d74e-4b9d-bbe5-4d4fb97e8af0",
        "colab": {
          "base_uri": "https://localhost:8080/"
        }
      },
      "source": [
        "knn_parameters = {\r\n",
        "    'n_neighbors': [k for k in range(knn_min_k, knn_max_k)], \r\n",
        "    'weights': knn_weights_type, \r\n",
        "    'p': [p for p in range(knn_min_p, knn_max_p)]\r\n",
        "}\r\n",
        "\r\n",
        "knn_best_param, knn_best_model = train_model(knn_model, knn_parameters, data_tr, target_attribute)"
      ],
      "execution_count": 60,
      "outputs": [
        {
          "output_type": "stream",
          "text": [
            "Fitting 3 folds for each of 16 candidates, totalling 48 fits\n"
          ],
          "name": "stdout"
        },
        {
          "output_type": "stream",
          "text": [
            "[Parallel(n_jobs=-1)]: Using backend LokyBackend with 2 concurrent workers.\n",
            "[Parallel(n_jobs=-1)]: Done  48 out of  48 | elapsed:   13.5s finished\n"
          ],
          "name": "stderr"
        }
      ]
    },
    {
      "cell_type": "code",
      "metadata": {
        "id": "-LQTPpTXl3U9",
        "outputId": "d5af0cdd-91b7-4740-fca5-5b325bb44fc0",
        "colab": {
          "base_uri": "https://localhost:8080/"
        }
      },
      "source": [
        "print(\"Meilleure parametres pour knn :\")\r\n",
        "print(knn_best_param)"
      ],
      "execution_count": 61,
      "outputs": [
        {
          "output_type": "stream",
          "text": [
            "Meilleure parametres pour knn :\n",
            "{'n_neighbors': 4, 'p': 1, 'weights': 'distance'}\n"
          ],
          "name": "stdout"
        }
      ]
    },
    {
      "cell_type": "code",
      "metadata": {
        "id": "9hyWeG_CmIr8"
      },
      "source": [
        "knn_model = knn_best_model"
      ],
      "execution_count": 62,
      "outputs": []
    },
    {
      "cell_type": "markdown",
      "metadata": {
        "id": "Cdc0iLZkDfEZ"
      },
      "source": [
        "### Comparaison"
      ]
    },
    {
      "cell_type": "code",
      "metadata": {
        "id": "J6toZVpgvfyg"
      },
      "source": [
        "knn_accuracy_mean_old, knn_accuracy_min_old, knn_accuracy_max_old = knn_accuracy_mean, knn_accuracy_min, knn_accuracy_max"
      ],
      "execution_count": 63,
      "outputs": []
    },
    {
      "cell_type": "code",
      "metadata": {
        "id": "55cP-FmFKbAd"
      },
      "source": [
        "knn_accuracy, knn_predictions = test_model(knn_model, data_tr, target_attribute)"
      ],
      "execution_count": 64,
      "outputs": []
    },
    {
      "cell_type": "code",
      "metadata": {
        "id": "8c4mQLmJvrGg",
        "outputId": "4186a5f5-236c-415d-faf6-0dbcd28cd37d",
        "colab": {
          "base_uri": "https://localhost:8080/"
        }
      },
      "source": [
        "knn_accuracy_mean, knn_accuracy_min, knn_accuracy_max = acc_statistic(knn_accuracy)\r\n",
        "\r\n",
        "print(f'Ancienne precision\\t', \r\n",
        "      f'moy.: {round(knn_accuracy_mean_old, 8)}\\t',\r\n",
        "      f'min.: {round(knn_accuracy_min_old, 8)}\\t',\r\n",
        "      f'max.: {round(knn_accuracy_max_old, 8)}\\t')\r\n",
        "\r\n",
        "print(f'Nouvelle precision\\t', \r\n",
        "      f'moy.: {round(knn_accuracy_mean, 8)}\\t',\r\n",
        "      f'min.: {round(knn_accuracy_min, 8)}\\t',\r\n",
        "      f'max.: {round(knn_accuracy_max, 8)}\\t')"
      ],
      "execution_count": 65,
      "outputs": [
        {
          "output_type": "stream",
          "text": [
            "Ancienne precision\t moy.: 0.71775307\t min.: 0.71242331\t max.: 0.73121166\t\n",
            "Nouvelle precision\t moy.: 0.8205138\t min.: 0.81288344\t max.: 0.82937117\t\n"
          ],
          "name": "stdout"
        }
      ]
    },
    {
      "cell_type": "markdown",
      "metadata": {
        "id": "w7rGmar3-8Yk"
      },
      "source": [
        "## Logistic regression"
      ]
    },
    {
      "cell_type": "code",
      "metadata": {
        "id": "yHinZP6b--p3"
      },
      "source": [
        "from sklearn.linear_model import LogisticRegression"
      ],
      "execution_count": 66,
      "outputs": []
    },
    {
      "cell_type": "code",
      "metadata": {
        "id": "FnPUNYKdwmQK"
      },
      "source": [
        "lr_model = LogisticRegression(multi_class='multinomial')"
      ],
      "execution_count": 67,
      "outputs": []
    },
    {
      "cell_type": "markdown",
      "metadata": {
        "id": "BtDvpzfowiqh"
      },
      "source": [
        "### Test du modele par defaut"
      ]
    },
    {
      "cell_type": "code",
      "metadata": {
        "id": "X9zZmYulyM02"
      },
      "source": [
        "lr_accuracy, lr_predictions = test_model(lr_model, data_tr, target_attribute)"
      ],
      "execution_count": 68,
      "outputs": []
    },
    {
      "cell_type": "code",
      "metadata": {
        "id": "C0U5JVAxyU5J",
        "outputId": "0d549722-d393-4638-e07d-335e3b633308",
        "colab": {
          "base_uri": "https://localhost:8080/"
        }
      },
      "source": [
        "lr_accuracy_mean, lr_accuracy_min, lr_accuracy_max = acc_statistic(lr_accuracy)\r\n",
        "\r\n",
        "print(f'Precision\\t', \r\n",
        "      f'moy.: {round(lr_accuracy_mean, 8)}\\t',\r\n",
        "      f'min.: {round(lr_accuracy_min, 8)}\\t',\r\n",
        "      f'max.: {round(lr_accuracy_max, 8)}\\t')"
      ],
      "execution_count": 69,
      "outputs": [
        {
          "output_type": "stream",
          "text": [
            "Precision\t moy.: 0.56019939\t min.: 0.53220859\t max.: 0.57592025\t\n"
          ],
          "name": "stdout"
        }
      ]
    },
    {
      "cell_type": "markdown",
      "metadata": {
        "id": "dgVu9uwvyZTZ"
      },
      "source": [
        "### Recherche des meilleurs parametres"
      ]
    },
    {
      "cell_type": "markdown",
      "metadata": {
        "id": "lqrjJ16H6BGz"
      },
      "source": [
        "#### Influence de `max_iter`"
      ]
    },
    {
      "cell_type": "code",
      "metadata": {
        "id": "jUswOQ8Y6JNV"
      },
      "source": [
        "lr_max_iter_range = [i for i in range(100, 1000, 100)]"
      ],
      "execution_count": 70,
      "outputs": []
    },
    {
      "cell_type": "code",
      "metadata": {
        "id": "ASwve6Yb6Sdt"
      },
      "source": [
        "lr_max_iter_result = []\r\n",
        "\r\n",
        "for max_iter in lr_max_iter_range:\r\n",
        "  model = LogisticRegression(multi_class='multinomial', max_iter=max_iter)\r\n",
        "  accuracy, _ = test_model(model, data_tr, target_attribute)\r\n",
        "\r\n",
        "  lr_max_iter_result.append((k, accuracy))"
      ],
      "execution_count": 71,
      "outputs": []
    },
    {
      "cell_type": "code",
      "metadata": {
        "id": "R2ibTKFa6eaN"
      },
      "source": [
        "lr_max_iter_values = lr_max_iter_range[:]\r\n",
        "lr_max_iter_acc_stats = [acc_statistic(accuracy) for _, accuracy in lr_max_iter_result]\r\n",
        "lr_max_iter_mean_accuracy = [mean_acc for mean_acc, _, _ in lr_max_iter_acc_stats]\r\n",
        "lr_max_iter_min_accuracy = [min_acc for _, min_acc, _ in lr_max_iter_acc_stats]\r\n",
        "lr_max_iter_max_accuracy = [max_acc for _, _, max_acc in lr_max_iter_acc_stats]"
      ],
      "execution_count": 72,
      "outputs": []
    },
    {
      "cell_type": "code",
      "metadata": {
        "id": "f55PMsX57oNw",
        "outputId": "a728f503-f00e-4d38-c0a5-944b09fc8858",
        "colab": {
          "base_uri": "https://localhost:8080/",
          "height": 404
        }
      },
      "source": [
        "analyse_result_with_plot(lr_max_iter_values, \r\n",
        "                         lr_max_iter_mean_accuracy, \r\n",
        "                         lr_max_iter_min_accuracy, \r\n",
        "                         lr_max_iter_max_accuracy, \r\n",
        "                         'Max iteration',\r\n",
        "                         'Précision',\r\n",
        "                         'Précision en fonction de max iteration')"
      ],
      "execution_count": 73,
      "outputs": [
        {
          "output_type": "display_data",
          "data": {
            "image/png": "[encoded data removed]",
            "text/plain": [
              "<Figure size 864x432 with 1 Axes>"
            ]
          },
          "metadata": {
            "tags": [],
            "needs_background": "light"
          }
        }
      ]
    },
    {
      "cell_type": "code",
      "metadata": {
        "id": "IMrlaOt59Bo_"
      },
      "source": [
        "lr_max_iter_range = [i for i in range(100, 600, 100)]"
      ],
      "execution_count": 74,
      "outputs": []
    },
    {
      "cell_type": "markdown",
      "metadata": {
        "id": "R-nS3WLcyceS"
      },
      "source": [
        "#### Influence de `c`"
      ]
    },
    {
      "cell_type": "code",
      "metadata": {
        "id": "2b6ChqeCymBP"
      },
      "source": [
        "lr_c_range = [0.001, 0.01, 0.1, 1, 10, 100, 1000]"
      ],
      "execution_count": 75,
      "outputs": []
    },
    {
      "cell_type": "code",
      "metadata": {
        "id": "WRJ5vhuHzCG8"
      },
      "source": [
        "lr_c_result = []\r\n",
        "\r\n",
        "for c in lr_c_range:\r\n",
        "  model = LogisticRegression(multi_class='multinomial')\r\n",
        "  accuracy, _ = test_model(model, data_tr, target_attribute)\r\n",
        "\r\n",
        "  lr_c_result.append((k, accuracy))"
      ],
      "execution_count": 76,
      "outputs": []
    },
    {
      "cell_type": "code",
      "metadata": {
        "id": "ihGFHc7VzcVr"
      },
      "source": [
        "lr_c_values = lr_c_range[:]\r\n",
        "lr_c_acc_stats = [acc_statistic(accuracy) for _, accuracy in lr_c_result]\r\n",
        "lr_c_mean_accuracy = [mean_acc for mean_acc, _, _ in lr_c_acc_stats]\r\n",
        "lr_c_min_accuracy = [min_acc for _, min_acc, _ in lr_c_acc_stats]\r\n",
        "lr_c_max_accuracy = [max_acc for _, _, max_acc in lr_c_acc_stats]"
      ],
      "execution_count": 77,
      "outputs": []
    },
    {
      "cell_type": "code",
      "metadata": {
        "id": "dL2apQp4zqSd",
        "outputId": "9d05ec71-cbd5-43b1-8fae-4341170aa594",
        "colab": {
          "base_uri": "https://localhost:8080/",
          "height": 404
        }
      },
      "source": [
        "analyse_result_with_plot(lr_c_values, \r\n",
        "                         lr_c_mean_accuracy, \r\n",
        "                         lr_c_min_accuracy, \r\n",
        "                         lr_c_max_accuracy, \r\n",
        "                         'Valeur de c',\r\n",
        "                         'Précision',\r\n",
        "                         'Précision en fonction de la valeur de c')"
      ],
      "execution_count": 78,
      "outputs": [
        {
          "output_type": "display_data",
          "data": {
            "image/png": "[encoded data removed]",
            "text/plain": [
              "<Figure size 864x432 with 1 Axes>"
            ]
          },
          "metadata": {
            "tags": [],
            "needs_background": "light"
          }
        }
      ]
    },
    {
      "cell_type": "code",
      "metadata": {
        "id": "4sI0P0fW1CQd"
      },
      "source": [
        "lr_c_range = [1, 10, 100]"
      ],
      "execution_count": 79,
      "outputs": []
    },
    {
      "cell_type": "markdown",
      "metadata": {
        "id": "P8osM8701xe0"
      },
      "source": [
        "#### Influence de `solver`"
      ]
    },
    {
      "cell_type": "code",
      "metadata": {
        "id": "A7R03pSi2VVw"
      },
      "source": [
        "lr_solver_type = ['newton-cg', 'sag', 'saga', 'lbfgs']"
      ],
      "execution_count": 80,
      "outputs": []
    },
    {
      "cell_type": "code",
      "metadata": {
        "id": "QKC7tdNP2nkl"
      },
      "source": [
        "lr_solver_result = []\r\n",
        "\r\n",
        "for solver in lr_solver_type:\r\n",
        "  model = LogisticRegression(multi_class='multinomial', solver=solver)\r\n",
        "  accuracy, _ = test_model(model, data_tr, target_attribute)\r\n",
        "\r\n",
        "  lr_solver_result.append((solver, accuracy))"
      ],
      "execution_count": 81,
      "outputs": []
    },
    {
      "cell_type": "code",
      "metadata": {
        "id": "_FvPOAQ728Fu"
      },
      "source": [
        "lr_solver_values = lr_solver_type[:]\r\n",
        "lr_solver_acc_stats = [acc_statistic(accuracy) for _, accuracy in lr_solver_result]\r\n",
        "lr_solver_mean_accuracy = [mean_acc for mean_acc, _, _ in lr_solver_acc_stats]\r\n",
        "lr_solver_min_accuracy = [min_acc for _, min_acc, _ in lr_solver_acc_stats]\r\n",
        "lr_solver_max_accuracy = [max_acc for _, _, max_acc in lr_solver_acc_stats]"
      ],
      "execution_count": 82,
      "outputs": []
    },
    {
      "cell_type": "code",
      "metadata": {
        "id": "ZUs6JsNy_cbS",
        "outputId": "94786dd9-57f2-4ed4-ef17-f87b0da0cdba",
        "colab": {
          "base_uri": "https://localhost:8080/",
          "height": 404
        }
      },
      "source": [
        "analyse_result_with_bar(lr_solver_values,\r\n",
        "                        lr_solver_mean_accuracy, \r\n",
        "                        lr_solver_min_accuracy, \r\n",
        "                        lr_solver_max_accuracy, \r\n",
        "                        'Type de solver',\r\n",
        "                        'Précision',\r\n",
        "                        'Précision en fonction du solver')"
      ],
      "execution_count": 83,
      "outputs": [
        {
          "output_type": "display_data",
          "data": {
            "image/png": "[encoded data removed]",
            "text/plain": [
              "<Figure size 864x432 with 1 Axes>"
            ]
          },
          "metadata": {
            "tags": [],
            "needs_background": "light"
          }
        }
      ]
    },
    {
      "cell_type": "code",
      "metadata": {
        "id": "iakDTa-kAAbf"
      },
      "source": [
        "lr_solver_type = ['newton-cg', 'sag', 'saga', 'lbfgs']"
      ],
      "execution_count": 84,
      "outputs": []
    },
    {
      "cell_type": "markdown",
      "metadata": {
        "id": "EwOagZRhDmea"
      },
      "source": [
        "### Recherche du meilleur modele"
      ]
    },
    {
      "cell_type": "code",
      "metadata": {
        "colab": {
          "base_uri": "https://localhost:8080/"
        },
        "id": "R21TGMWlDorN",
        "outputId": "bdbc8322-3ecf-4474-cac5-00a0e29ed54d"
      },
      "source": [
        "lr_parameters = {\r\n",
        "    'max_iter': lr_max_iter_range, \r\n",
        "    'C': lr_c_range, \r\n",
        "    'solver': lr_solver_type\r\n",
        "}\r\n",
        "\r\n",
        "lr_best_param, lr_best_model = train_model(lr_model, lr_parameters, data_tr, target_attribute)"
      ],
      "execution_count": 85,
      "outputs": [
        {
          "output_type": "stream",
          "text": [
            "Fitting 3 folds for each of 60 candidates, totalling 180 fits\n"
          ],
          "name": "stdout"
        },
        {
          "output_type": "stream",
          "text": [
            "[Parallel(n_jobs=-1)]: Using backend LokyBackend with 2 concurrent workers.\n",
            "[Parallel(n_jobs=-1)]: Done  46 tasks      | elapsed:  1.0min\n",
            "[Parallel(n_jobs=-1)]: Done 180 out of 180 | elapsed:  5.4min finished\n"
          ],
          "name": "stderr"
        }
      ]
    },
    {
      "cell_type": "code",
      "metadata": {
        "colab": {
          "base_uri": "https://localhost:8080/"
        },
        "id": "o5T4WNRGDtHz",
        "outputId": "af26185a-ded2-4083-d35b-07bc863dbfd6"
      },
      "source": [
        "print(\"Meilleure parametres pour knn :\")\r\n",
        "print(lr_best_param)"
      ],
      "execution_count": 86,
      "outputs": [
        {
          "output_type": "stream",
          "text": [
            "Meilleure parametres pour knn :\n",
            "{'C': 10, 'max_iter': 400, 'solver': 'lbfgs'}\n"
          ],
          "name": "stdout"
        }
      ]
    },
    {
      "cell_type": "code",
      "metadata": {
        "id": "7oSirgnPVp54"
      },
      "source": [
        "lr_model = lr_best_model"
      ],
      "execution_count": 87,
      "outputs": []
    },
    {
      "cell_type": "markdown",
      "metadata": {
        "id": "l3ih75lCBkIO"
      },
      "source": [
        "### Comparaison"
      ]
    },
    {
      "cell_type": "code",
      "metadata": {
        "id": "JcDKxDbVBzYW"
      },
      "source": [
        "lr_accuracy_mean_old, lr_accuracy_min_old, lr_accuracy_max_old = lr_accuracy_mean, lr_accuracy_min, lr_accuracy_max"
      ],
      "execution_count": 88,
      "outputs": []
    },
    {
      "cell_type": "code",
      "metadata": {
        "id": "WHaE1ULhB6-g"
      },
      "source": [
        "lr_accuracy, lr_predictions = test_model(lr_model, data_tr, target_attribute)"
      ],
      "execution_count": 89,
      "outputs": []
    },
    {
      "cell_type": "code",
      "metadata": {
        "id": "PTvVSZH8CEXa",
        "outputId": "aa8067f6-c249-4971-84a4-607ac07f21bb",
        "colab": {
          "base_uri": "https://localhost:8080/"
        }
      },
      "source": [
        "lr_accuracy_mean, lr_accuracy_min, lr_accuracy_max = acc_statistic(lr_accuracy)\r\n",
        "\r\n",
        "print(f'Ancienne precision\\t', \r\n",
        "      f'moy.: {round(lr_accuracy_mean_old, 8)}\\t',\r\n",
        "      f'min.: {round(lr_accuracy_min_old, 8)}\\t',\r\n",
        "      f'max.: {round(lr_accuracy_max_old, 8)}\\t')\r\n",
        "\r\n",
        "print(f'Nouvelle precision\\t', \r\n",
        "      f'moy.: {round(lr_accuracy_mean, 8)}\\t',\r\n",
        "      f'min.: {round(lr_accuracy_min, 8)}\\t',\r\n",
        "      f'max.: {round(lr_accuracy_max, 8)}\\t')"
      ],
      "execution_count": 90,
      "outputs": [
        {
          "output_type": "stream",
          "text": [
            "Ancienne precision\t moy.: 0.56019939\t min.: 0.53220859\t max.: 0.57592025\t\n",
            "Nouvelle precision\t moy.: 0.55751534\t min.: 0.53834356\t max.: 0.57400307\t\n"
          ],
          "name": "stdout"
        }
      ]
    },
    {
      "cell_type": "markdown",
      "metadata": {
        "id": "QAwLRH4C-_A7"
      },
      "source": [
        "## Support Vector Machine (SVM)"
      ]
    },
    {
      "cell_type": "code",
      "metadata": {
        "id": "e6As91SI_HsS"
      },
      "source": [
        "from sklearn.svm import SVC"
      ],
      "execution_count": 91,
      "outputs": []
    },
    {
      "cell_type": "code",
      "metadata": {
        "id": "V75kPZR3H4Qs"
      },
      "source": [
        "svm_model = SVC()"
      ],
      "execution_count": 92,
      "outputs": []
    },
    {
      "cell_type": "markdown",
      "metadata": {
        "id": "t_Ps2pABIFa9"
      },
      "source": [
        "### Test du modele par defaut"
      ]
    },
    {
      "cell_type": "code",
      "metadata": {
        "id": "mx5ngxZ2IKMC"
      },
      "source": [
        "svm_accuracy, svm_predictions = test_model(svm_model, data_tr, target_attribute)"
      ],
      "execution_count": 93,
      "outputs": []
    },
    {
      "cell_type": "code",
      "metadata": {
        "id": "wdAjBN71IQJV",
        "outputId": "a19f404e-1dca-45a3-caf9-b6f11afb5e89",
        "colab": {
          "base_uri": "https://localhost:8080/"
        }
      },
      "source": [
        "svm_accuracy_mean, svm_accuracy_min, svm_accuracy_max = acc_statistic(svm_accuracy)\r\n",
        "\r\n",
        "print(f'Precision\\t', \r\n",
        "      f'moy.: {round(svm_accuracy_mean, 8)}\\t',\r\n",
        "      f'min.: {round(svm_accuracy_min, 8)}\\t',\r\n",
        "      f'max.: {round(svm_accuracy_max, 8)}\\t')"
      ],
      "execution_count": 94,
      "outputs": [
        {
          "output_type": "stream",
          "text": [
            "Precision\t moy.: 0.6646089\t min.: 0.64263804\t max.: 0.71203988\t\n"
          ],
          "name": "stdout"
        }
      ]
    },
    {
      "cell_type": "markdown",
      "metadata": {
        "id": "TncqLpU7qZkk"
      },
      "source": [
        "### Recherche des meilleurs parametres"
      ]
    },
    {
      "cell_type": "markdown",
      "metadata": {
        "id": "4SrwOt-2Ihw7"
      },
      "source": [
        "#### Influence du `kernel`"
      ]
    },
    {
      "cell_type": "code",
      "metadata": {
        "id": "2vUhhGUjIlCT"
      },
      "source": [
        "svm_kernel_type = ['rbf', 'sigmoid', 'linear']"
      ],
      "execution_count": 95,
      "outputs": []
    },
    {
      "cell_type": "code",
      "metadata": {
        "id": "2bnON5DOI3Hj"
      },
      "source": [
        "svm_kernel_result = []\r\n",
        "\r\n",
        "for kernel in svm_kernel_type:\r\n",
        "  model = SVC(kernel=kernel)\r\n",
        "  accuracy, _ = test_model(model, data_tr, target_attribute)\r\n",
        "\r\n",
        "  svm_kernel_result.append((kernel, accuracy))"
      ],
      "execution_count": 96,
      "outputs": []
    },
    {
      "cell_type": "code",
      "metadata": {
        "id": "nITG6FJ4JMeQ"
      },
      "source": [
        "svm_kernel_values = svm_kernel_type[:]\r\n",
        "svm_kernel_acc_stats = [acc_statistic(accuracy) for _, accuracy in svm_kernel_result]\r\n",
        "svm_kernel_mean_accuracy = [mean_acc for mean_acc, _, _ in svm_kernel_acc_stats]\r\n",
        "svm_kernel_min_accuracy = [min_acc for _, min_acc, _ in svm_kernel_acc_stats]\r\n",
        "svm_kernel_max_accuracy = [max_acc for _, _, max_acc in svm_kernel_acc_stats]"
      ],
      "execution_count": 97,
      "outputs": []
    },
    {
      "cell_type": "code",
      "metadata": {
        "id": "3BmpxixpJUj0",
        "outputId": "cebf66bd-b786-462b-9b4d-7208e48d9c0f",
        "colab": {
          "base_uri": "https://localhost:8080/",
          "height": 404
        }
      },
      "source": [
        "analyse_result_with_bar(svm_kernel_values,\r\n",
        "                        svm_kernel_mean_accuracy, \r\n",
        "                        svm_kernel_min_accuracy, \r\n",
        "                        svm_kernel_max_accuracy, \r\n",
        "                        'Type de kernel',\r\n",
        "                        'Précision',\r\n",
        "                        'Précision en fonction du kernel')"
      ],
      "execution_count": 98,
      "outputs": [
        {
          "output_type": "display_data",
          "data": {
            "image/png": "[encoded data removed]",
            "text/plain": [
              "<Figure size 864x432 with 1 Axes>"
            ]
          },
          "metadata": {
            "tags": [],
            "needs_background": "light"
          }
        }
      ]
    },
    {
      "cell_type": "code",
      "metadata": {
        "id": "sgCJKQTxJjPS"
      },
      "source": [
        "svm_kernel_type = ['rbf']"
      ],
      "execution_count": 99,
      "outputs": []
    },
    {
      "cell_type": "markdown",
      "metadata": {
        "id": "fFuiot2jIlUm"
      },
      "source": [
        "#### Influence du `gamma`"
      ]
    },
    {
      "cell_type": "code",
      "metadata": {
        "id": "Niip9_Q3IpbG"
      },
      "source": [
        "svm_gamma_range = [1e-3, 1e-2, 1e-1, 1, 1e+1, 1e+2]"
      ],
      "execution_count": 100,
      "outputs": []
    },
    {
      "cell_type": "code",
      "metadata": {
        "id": "lPZQUh8TJtB6"
      },
      "source": [
        "svm_gamma_result = []\r\n",
        "\r\n",
        "for gamma in svm_gamma_range:\r\n",
        "  model = SVC(gamma=gamma)\r\n",
        "  accuracy, _ = test_model(model, data_tr, target_attribute)\r\n",
        "\r\n",
        "  svm_gamma_result.append((gamma, accuracy))"
      ],
      "execution_count": 101,
      "outputs": []
    },
    {
      "cell_type": "code",
      "metadata": {
        "id": "dcI2sF14KCAY"
      },
      "source": [
        "svm_gamma_values = svm_gamma_range[:]\r\n",
        "svm_gamma_acc_stats = [acc_statistic(accuracy) for _, accuracy in svm_gamma_result]\r\n",
        "svm_gamma_mean_accuracy = [mean_acc for mean_acc, _, _ in svm_gamma_acc_stats]\r\n",
        "svm_gamma_min_accuracy = [min_acc for _, min_acc, _ in svm_gamma_acc_stats]\r\n",
        "svm_gamma_max_accuracy = [max_acc for _, _, max_acc in svm_gamma_acc_stats]"
      ],
      "execution_count": 102,
      "outputs": []
    },
    {
      "cell_type": "code",
      "metadata": {
        "id": "Q_nhT5PnKKXq",
        "outputId": "0943ee1e-1ecf-44fc-bceb-449c48678f43",
        "colab": {
          "base_uri": "https://localhost:8080/",
          "height": 404
        }
      },
      "source": [
        "analyse_result_with_plot(svm_gamma_values, \r\n",
        "                         svm_gamma_mean_accuracy, \r\n",
        "                         svm_gamma_min_accuracy, \r\n",
        "                         svm_gamma_max_accuracy, \r\n",
        "                         'Gamma',\r\n",
        "                         'Précision',\r\n",
        "                         'Précision en fonction du gamma')"
      ],
      "execution_count": 103,
      "outputs": [
        {
          "output_type": "display_data",
          "data": {
            "image/png": "[encoded data removed]",
            "text/plain": [
              "<Figure size 864x432 with 1 Axes>"
            ]
          },
          "metadata": {
            "tags": [],
            "needs_background": "light"
          }
        }
      ]
    },
    {
      "cell_type": "code",
      "metadata": {
        "id": "V58_jl1uKTD8"
      },
      "source": [
        "svm_gamma_range = [1e-1, 1]"
      ],
      "execution_count": 104,
      "outputs": []
    },
    {
      "cell_type": "markdown",
      "metadata": {
        "id": "0utlqgL3Ip0H"
      },
      "source": [
        "#### Influence de `C`"
      ]
    },
    {
      "cell_type": "code",
      "metadata": {
        "id": "sFYfaPV4It2r"
      },
      "source": [
        "svm_c_range = [1e-2, 1e-1, 1, 10, 25, 50, 100, 1000]"
      ],
      "execution_count": 105,
      "outputs": []
    },
    {
      "cell_type": "code",
      "metadata": {
        "id": "jwjTqWsIKjeS"
      },
      "source": [
        "svm_c_result = []\r\n",
        "\r\n",
        "for c in svm_c_range:\r\n",
        "  model = SVC(C=c)\r\n",
        "  accuracy, _ = test_model(model, data_tr, target_attribute)\r\n",
        "\r\n",
        "  svm_c_result.append((gamma, accuracy))"
      ],
      "execution_count": 106,
      "outputs": []
    },
    {
      "cell_type": "code",
      "metadata": {
        "id": "Dw0Qk-KhKu4s"
      },
      "source": [
        "svm_c_values = svm_c_range[:]\r\n",
        "svm_c_acc_stats = [acc_statistic(accuracy) for _, accuracy in svm_c_result]\r\n",
        "svm_c_mean_accuracy = [mean_acc for mean_acc, _, _ in svm_c_acc_stats]\r\n",
        "svm_c_min_accuracy = [min_acc for _, min_acc, _ in svm_c_acc_stats]\r\n",
        "svm_c_max_accuracy = [max_acc for _, _, max_acc in svm_c_acc_stats]"
      ],
      "execution_count": 107,
      "outputs": []
    },
    {
      "cell_type": "code",
      "metadata": {
        "id": "QO1wHH6gK25P",
        "outputId": "1a07f927-577f-4a8c-998b-c54b48625f3b",
        "colab": {
          "base_uri": "https://localhost:8080/",
          "height": 404
        }
      },
      "source": [
        "analyse_result_with_plot(svm_c_values, \r\n",
        "                         svm_c_mean_accuracy, \r\n",
        "                         svm_c_min_accuracy, \r\n",
        "                         svm_c_max_accuracy, \r\n",
        "                         'Gamma',\r\n",
        "                         'Précision',\r\n",
        "                         'Précision en fonction du gamma')"
      ],
      "execution_count": 108,
      "outputs": [
        {
          "output_type": "display_data",
          "data": {
            "image/png": "[encoded data removed]",
            "text/plain": [
              "<Figure size 864x432 with 1 Axes>"
            ]
          },
          "metadata": {
            "tags": [],
            "needs_background": "light"
          }
        }
      ]
    },
    {
      "cell_type": "code",
      "metadata": {
        "id": "vEdwRRxTK4kU"
      },
      "source": [
        "svm_c_range = [10, 25, 50, 100]"
      ],
      "execution_count": 109,
      "outputs": []
    },
    {
      "cell_type": "markdown",
      "metadata": {
        "id": "W3-vahUUIuXE"
      },
      "source": [
        "### Recherche du meilleur modele"
      ]
    },
    {
      "cell_type": "code",
      "metadata": {
        "colab": {
          "base_uri": "https://localhost:8080/"
        },
        "id": "2KP_wbxw7rgi",
        "outputId": "c926f543-4b2e-4e62-8cf8-5f66c2fe7efa"
      },
      "source": [
        "svm_parameters = {\r\n",
        "    'kernel': svm_kernel_type, \r\n",
        "    'gamma': svm_gamma_range, \r\n",
        "    'C': svm_c_range\r\n",
        "}\r\n",
        "\r\n",
        "svm_best_param, svm_best_model = train_model(svm_model, svm_parameters, data_tr, target_attribute)"
      ],
      "execution_count": 110,
      "outputs": [
        {
          "output_type": "stream",
          "text": [
            "Fitting 3 folds for each of 8 candidates, totalling 24 fits\n"
          ],
          "name": "stdout"
        },
        {
          "output_type": "stream",
          "text": [
            "[Parallel(n_jobs=-1)]: Using backend LokyBackend with 2 concurrent workers.\n",
            "[Parallel(n_jobs=-1)]: Done  24 out of  24 | elapsed:  1.0min finished\n"
          ],
          "name": "stderr"
        }
      ]
    },
    {
      "cell_type": "code",
      "metadata": {
        "colab": {
          "base_uri": "https://localhost:8080/"
        },
        "id": "-kjt4BDV8aKA",
        "outputId": "598673af-0235-453a-e4ae-57ba001553d9"
      },
      "source": [
        "print(\"\\nMeilleure parametres trouves :\")\r\n",
        "print(svm_best_param)"
      ],
      "execution_count": 111,
      "outputs": [
        {
          "output_type": "stream",
          "text": [
            "\n",
            "Meilleure parametres trouves :\n",
            "{'C': 100, 'gamma': 0.1, 'kernel': 'rbf'}\n"
          ],
          "name": "stdout"
        }
      ]
    },
    {
      "cell_type": "code",
      "metadata": {
        "id": "SvkwtJLrEYX7"
      },
      "source": [
        "svm_model = svm_best_model"
      ],
      "execution_count": 112,
      "outputs": []
    },
    {
      "cell_type": "markdown",
      "metadata": {
        "id": "seNMTxNZElGl"
      },
      "source": [
        "### Comparaison"
      ]
    },
    {
      "cell_type": "code",
      "metadata": {
        "id": "2etYKcaJEaXY"
      },
      "source": [
        "svm_accuracy_mean_old, svm_accuracy_min_old, svm_accuracy_max_old = svm_accuracy_mean, svm_accuracy_min, svm_accuracy_max"
      ],
      "execution_count": 113,
      "outputs": []
    },
    {
      "cell_type": "code",
      "metadata": {
        "id": "dg_zScsRUItI"
      },
      "source": [
        "svm_accuracy, svm_predictions = test_model(svm_model, data_tr, target_attribute)"
      ],
      "execution_count": 114,
      "outputs": []
    },
    {
      "cell_type": "code",
      "metadata": {
        "id": "cFmuEAzOYCUz",
        "outputId": "7684c348-c79d-4090-c603-c03d2197cdc5",
        "colab": {
          "base_uri": "https://localhost:8080/"
        }
      },
      "source": [
        "svm_accuracy_mean, svm_accuracy_min, svm_accuracy_max = acc_statistic(svm_accuracy)\r\n",
        "\r\n",
        "print(f'Ancienne precision\\t', \r\n",
        "      f'moy.: {round(svm_accuracy_mean_old, 8)}\\t',\r\n",
        "      f'min.: {round(svm_accuracy_min_old, 8)}\\t',\r\n",
        "      f'max.: {round(svm_accuracy_max_old, 8)}\\t')\r\n",
        "\r\n",
        "print(f'Nouvelle precision\\t', \r\n",
        "      f'moy.: {round(svm_accuracy_mean, 8)}\\t',\r\n",
        "      f'min.: {round(svm_accuracy_min, 8)}\\t',\r\n",
        "      f'max.: {round(svm_accuracy_max, 8)}\\t')"
      ],
      "execution_count": 115,
      "outputs": [
        {
          "output_type": "stream",
          "text": [
            "Ancienne precision\t moy.: 0.6646089\t min.: 0.64263804\t max.: 0.71203988\t\n",
            "Nouvelle precision\t moy.: 0.80345092\t min.: 0.79141104\t max.: 0.81058282\t\n"
          ],
          "name": "stdout"
        }
      ]
    },
    {
      "cell_type": "markdown",
      "metadata": {
        "id": "IWzewIUm_JpO"
      },
      "source": [
        "## Random forest"
      ]
    },
    {
      "cell_type": "code",
      "metadata": {
        "id": "E3Y8t14u_NS1"
      },
      "source": [
        "from sklearn.ensemble import RandomForestClassifier"
      ],
      "execution_count": 116,
      "outputs": []
    },
    {
      "cell_type": "code",
      "metadata": {
        "id": "KQeVpFknFOc-"
      },
      "source": [
        "rf_model = RandomForestClassifier()"
      ],
      "execution_count": 117,
      "outputs": []
    },
    {
      "cell_type": "markdown",
      "metadata": {
        "id": "1pfbKDdtZ0IW"
      },
      "source": [
        "### Test du modele par defaut"
      ]
    },
    {
      "cell_type": "code",
      "metadata": {
        "id": "yDZ8pJBBZ3id"
      },
      "source": [
        "rf_accuracy, rf_predictions = test_model(rf_model, data_tr, target_attribute)"
      ],
      "execution_count": 118,
      "outputs": []
    },
    {
      "cell_type": "code",
      "metadata": {
        "id": "lzX7tIwEaEti",
        "outputId": "1b038945-c9cb-4e65-e43c-f52091317d19",
        "colab": {
          "base_uri": "https://localhost:8080/"
        }
      },
      "source": [
        "rf_accuracy_mean, rf_accuracy_min, rf_accuracy_max = acc_statistic(rf_accuracy)\r\n",
        "\r\n",
        "print(f'Precision\\t', \r\n",
        "      f'moy.: {round(rf_accuracy_mean, 8)}\\t',\r\n",
        "      f'min.: {round(rf_accuracy_min, 8)}\\t',\r\n",
        "      f'max.: {round(rf_accuracy_max, 8)}\\t')"
      ],
      "execution_count": 119,
      "outputs": [
        {
          "output_type": "stream",
          "text": [
            "Precision\t moy.: 0.97779908\t min.: 0.9720092\t max.: 0.9827454\t\n"
          ],
          "name": "stdout"
        }
      ]
    },
    {
      "cell_type": "markdown",
      "metadata": {
        "id": "mMY272r4_NiI"
      },
      "source": [
        "## Decision tree"
      ]
    },
    {
      "cell_type": "code",
      "metadata": {
        "id": "jE8VAORt_Ru9"
      },
      "source": [
        "from sklearn.tree import DecisionTreeClassifier"
      ],
      "execution_count": 120,
      "outputs": []
    },
    {
      "cell_type": "code",
      "metadata": {
        "id": "1yqNAchuFuEQ"
      },
      "source": [
        "dt_model = DecisionTreeClassifier()"
      ],
      "execution_count": 121,
      "outputs": []
    },
    {
      "cell_type": "markdown",
      "metadata": {
        "id": "z0H6myARFnuk"
      },
      "source": [
        "### Test du model par defaut"
      ]
    },
    {
      "cell_type": "code",
      "metadata": {
        "id": "T_QBbaGyFp23"
      },
      "source": [
        "dt_accuracy, dt_predictions = test_model(dt_model, data_tr, target_attribute)"
      ],
      "execution_count": 122,
      "outputs": []
    },
    {
      "cell_type": "code",
      "metadata": {
        "colab": {
          "base_uri": "https://localhost:8080/"
        },
        "id": "ZdFN1-BNWbTo",
        "outputId": "0dbd4092-2cc3-4512-bb77-c417d1f8c7f9"
      },
      "source": [
        "dt_accuracy_mean, dt_accuracy_min, dt_accuracy_max = acc_statistic(dt_accuracy)\r\n",
        "\r\n",
        "print(f'Precision\\t', \r\n",
        "      f'moy.: {round(dt_accuracy_mean, 8)}\\t',\r\n",
        "      f'min.: {round(dt_accuracy_min, 8)}\\t',\r\n",
        "      f'max.: {round(dt_accuracy_max, 8)}\\t')"
      ],
      "execution_count": 123,
      "outputs": [
        {
          "output_type": "stream",
          "text": [
            "Precision\t moy.: 0.95130368\t min.: 0.92868098\t max.: 0.96740798\t\n"
          ],
          "name": "stdout"
        }
      ]
    },
    {
      "cell_type": "markdown",
      "metadata": {
        "id": "gjEaO1uf_XBW"
      },
      "source": [
        "## Naive Bayes"
      ]
    },
    {
      "cell_type": "code",
      "metadata": {
        "id": "cnjmwCMJ_Y3U"
      },
      "source": [
        "from sklearn.naive_bayes import GaussianNB"
      ],
      "execution_count": 124,
      "outputs": []
    },
    {
      "cell_type": "code",
      "metadata": {
        "id": "2aBaAKuaGBH1"
      },
      "source": [
        "nb_model = GaussianNB()"
      ],
      "execution_count": 125,
      "outputs": []
    },
    {
      "cell_type": "markdown",
      "metadata": {
        "id": "CBYyY_AGF-8Q"
      },
      "source": [
        "### Test du model par defaut"
      ]
    },
    {
      "cell_type": "code",
      "metadata": {
        "id": "vWFW6_EMGDc7"
      },
      "source": [
        "nb_accuracy, nb_predictions = test_model(nb_model, data_tr, target_attribute)"
      ],
      "execution_count": 126,
      "outputs": []
    },
    {
      "cell_type": "code",
      "metadata": {
        "colab": {
          "base_uri": "https://localhost:8080/"
        },
        "id": "eKDWwH-9WtH_",
        "outputId": "d2fea518-d671-4851-976a-955cceebca71"
      },
      "source": [
        "nb_accuracy_mean, nb_accuracy_min, nb_accuracy_max = acc_statistic(nb_accuracy)\r\n",
        "\r\n",
        "print(f'Precision\\t', \r\n",
        "      f'moy.: {round(nb_accuracy_mean, 8)}\\t',\r\n",
        "      f'min.: {round(nb_accuracy_min, 8)}\\t',\r\n",
        "      f'max.: {round(nb_accuracy_max, 8)}\\t')"
      ],
      "execution_count": 127,
      "outputs": [
        {
          "output_type": "stream",
          "text": [
            "Precision\t moy.: 0.29332822\t min.: 0.28259202\t max.: 0.3232362\t\n"
          ],
          "name": "stdout"
        }
      ]
    },
    {
      "cell_type": "markdown",
      "metadata": {
        "id": "T6FX3vzScknn"
      },
      "source": [
        "### Recherche de meilleurs parametres"
      ]
    },
    {
      "cell_type": "markdown",
      "metadata": {
        "id": "PaLaSAUgcoqm"
      },
      "source": [
        "#### Influence de `var_smoothing`"
      ]
    },
    {
      "cell_type": "code",
      "metadata": {
        "id": "25pZFShWcu4R"
      },
      "source": [
        "nb_smoothing_range = list(np.logspace(0, -9, 10))"
      ],
      "execution_count": 128,
      "outputs": []
    },
    {
      "cell_type": "code",
      "metadata": {
        "id": "X6bNJ8XXdZhN"
      },
      "source": [
        "nb_smoothing_result = []\r\n",
        "\r\n",
        "for smooth_val in nb_smoothing_range:\r\n",
        "  model = GaussianNB(var_smoothing=smooth_val)\r\n",
        "  accuracy, _ = test_model(model, data_tr, target_attribute)\r\n",
        "\r\n",
        "  nb_smoothing_result.append((smooth_val, accuracy))"
      ],
      "execution_count": 129,
      "outputs": []
    },
    {
      "cell_type": "code",
      "metadata": {
        "id": "xZSv2kQfdxl6"
      },
      "source": [
        "nb_smoothing_values = nb_smoothing_range[:]\r\n",
        "nb_smoothing_acc_stats = [acc_statistic(accuracy) for _, accuracy in nb_smoothing_result]\r\n",
        "nb_smoothing_mean_accuracy = [mean_acc for mean_acc, _, _ in nb_smoothing_acc_stats]\r\n",
        "nb_smoothing_min_accuracy = [min_acc for _, min_acc, _ in nb_smoothing_acc_stats]\r\n",
        "nb_smoothing_max_accuracy = [max_acc for _, _, max_acc in nb_smoothing_acc_stats]"
      ],
      "execution_count": 130,
      "outputs": []
    },
    {
      "cell_type": "code",
      "metadata": {
        "id": "jSSZkZqQd8Cl",
        "outputId": "5071d134-2871-48ab-e6aa-848d4459044c",
        "colab": {
          "base_uri": "https://localhost:8080/",
          "height": 404
        }
      },
      "source": [
        "analyse_result_with_plot(nb_smoothing_values, \r\n",
        "                         nb_smoothing_mean_accuracy, \r\n",
        "                         nb_smoothing_min_accuracy, \r\n",
        "                         nb_smoothing_max_accuracy, \r\n",
        "                         'Gamma',\r\n",
        "                         'Précision',\r\n",
        "                         'Précision en fonction du gamma')"
      ],
      "execution_count": 131,
      "outputs": [
        {
          "output_type": "display_data",
          "data": {
            "image/png": "[encoded data removed]",
            "text/plain": [
              "<Figure size 864x432 with 1 Axes>"
            ]
          },
          "metadata": {
            "tags": [],
            "needs_background": "light"
          }
        }
      ]
    },
    {
      "cell_type": "markdown",
      "metadata": {
        "id": "ZnMlj5mIeSrr"
      },
      "source": [
        "### Recherche du meilleur modele"
      ]
    },
    {
      "cell_type": "code",
      "metadata": {
        "id": "zV-4C17LeV_H",
        "outputId": "15a3d662-f70d-4196-9084-cda3741287a4",
        "colab": {
          "base_uri": "https://localhost:8080/"
        }
      },
      "source": [
        "nb_parameters = {\r\n",
        "    'var_smoothing': nb_smoothing_range\r\n",
        "}\r\n",
        "\r\n",
        "nb_best_param, nb_best_model = train_model(nb_model, nb_parameters, data_tr, target_attribute)"
      ],
      "execution_count": 132,
      "outputs": [
        {
          "output_type": "stream",
          "text": [
            "Fitting 3 folds for each of 10 candidates, totalling 30 fits\n"
          ],
          "name": "stdout"
        },
        {
          "output_type": "stream",
          "text": [
            "[Parallel(n_jobs=-1)]: Using backend LokyBackend with 2 concurrent workers.\n",
            "[Parallel(n_jobs=-1)]: Done  30 out of  30 | elapsed:    0.5s finished\n"
          ],
          "name": "stderr"
        }
      ]
    },
    {
      "cell_type": "code",
      "metadata": {
        "id": "Y6wb6Gghebg0",
        "outputId": "4245b3af-37ce-47b4-d8df-e16259a62757",
        "colab": {
          "base_uri": "https://localhost:8080/"
        }
      },
      "source": [
        "print(\"\\nMeilleure parametres trouves :\")\r\n",
        "print(nb_best_param)"
      ],
      "execution_count": 133,
      "outputs": [
        {
          "output_type": "stream",
          "text": [
            "\n",
            "Meilleure parametres trouves :\n",
            "{'var_smoothing': 1.0}\n"
          ],
          "name": "stdout"
        }
      ]
    },
    {
      "cell_type": "code",
      "metadata": {
        "id": "-7qEzSBwe5zV"
      },
      "source": [
        "nb_model = nb_best_model"
      ],
      "execution_count": 134,
      "outputs": []
    },
    {
      "cell_type": "markdown",
      "metadata": {
        "id": "UMp9_Yh7e80F"
      },
      "source": [
        "### Comparaison"
      ]
    },
    {
      "cell_type": "code",
      "metadata": {
        "id": "KdycbGmue-xT"
      },
      "source": [
        "nb_accuracy_mean_old, nb_accuracy_min_old, nb_accuracy_max_old = nb_accuracy_mean, nb_accuracy_min, nb_accuracy_max"
      ],
      "execution_count": 135,
      "outputs": []
    },
    {
      "cell_type": "code",
      "metadata": {
        "id": "suGzD8_YfJTa"
      },
      "source": [
        "nb_accuracy, nb_predictions = test_model(nb_model, data_tr, target_attribute)"
      ],
      "execution_count": 136,
      "outputs": []
    },
    {
      "cell_type": "code",
      "metadata": {
        "id": "X8unSpuTfbYN",
        "outputId": "955aa19b-085b-48f8-8107-4b3857ce4ec5",
        "colab": {
          "base_uri": "https://localhost:8080/"
        }
      },
      "source": [
        "nb_accuracy_mean, nb_accuracy_min, nb_accuracy_max = acc_statistic(nb_accuracy)\r\n",
        "\r\n",
        "print(f'Ancienne precision\\t', \r\n",
        "      f'moy.: {round(nb_accuracy_mean_old, 8)}\\t',\r\n",
        "      f'min.: {round(nb_accuracy_min_old, 8)}\\t',\r\n",
        "      f'max.: {round(nb_accuracy_max_old, 8)}\\t')\r\n",
        "\r\n",
        "print(f'Nouvelle precision\\t', \r\n",
        "      f'moy.: {round(nb_accuracy_mean, 8)}\\t',\r\n",
        "      f'min.: {round(nb_accuracy_min, 8)}\\t',\r\n",
        "      f'max.: {round(nb_accuracy_max, 8)}\\t')"
      ],
      "execution_count": 137,
      "outputs": [
        {
          "output_type": "stream",
          "text": [
            "Ancienne precision\t moy.: 0.29332822\t min.: 0.28259202\t max.: 0.3232362\t\n",
            "Nouvelle precision\t moy.: 0.35855061\t min.: 0.24616564\t max.: 0.4202454\t\n"
          ],
          "name": "stdout"
        }
      ]
    },
    {
      "cell_type": "markdown",
      "metadata": {
        "id": "bEngKTKJG_tW"
      },
      "source": [
        "# Evaluation des modeles"
      ]
    },
    {
      "cell_type": "markdown",
      "metadata": {
        "id": "EvV8RY0-aMYF"
      },
      "source": [
        "## Enumération des modeles"
      ]
    },
    {
      "cell_type": "code",
      "metadata": {
        "id": "GHp094skHBji"
      },
      "source": [
        "model_enum = {\r\n",
        "    'knn' : (knn_model, 'K-NN'),\r\n",
        "    'lr'  : (lr_model, 'Logstic Regression'),\r\n",
        "    'svm' : (svm_model, 'SVM'),\r\n",
        "    'rf'  : (rf_model, 'Random Forest'),\r\n",
        "    'dt'  : (dt_model, 'Decision Tree'),\r\n",
        "    'nb'  : (nb_model, 'Naive Bayes')\r\n",
        "}"
      ],
      "execution_count": 138,
      "outputs": []
    },
    {
      "cell_type": "markdown",
      "metadata": {
        "id": "f3I2ogM1aPsn"
      },
      "source": [
        "## Test des modeles"
      ]
    },
    {
      "cell_type": "code",
      "metadata": {
        "id": "1WLQHHzLgjZw"
      },
      "source": [
        "@ignore_warnings(category=ConvergenceWarning)\r\n",
        "def test(model, X_train, X_test, y_train, y_test):\r\n",
        "  model.fit(X_train, y_train)\r\n",
        "\r\n",
        "  predictions = model.predict(X_test)\r\n",
        "  accuracy = metrics.accuracy_score(y_test, predictions)\r\n",
        "\r\n",
        "  return accuracy, predictions"
      ],
      "execution_count": 139,
      "outputs": []
    },
    {
      "cell_type": "code",
      "metadata": {
        "id": "f7gFF864HGa1"
      },
      "source": [
        "model_result = {}\r\n",
        "\r\n",
        "X_train = data_tr.loc[:, data_tr.columns != target_attribute]\r\n",
        "y_train = data_tr[target_attribute]\r\n",
        "\r\n",
        "X_test = data_ts.loc[:, data_ts.columns != target_attribute]\r\n",
        "y_test = data_ts[target_attribute]\r\n",
        "\r\n",
        "for model_name in model_enum:\r\n",
        "  model, _ = model_enum.get(model_name)\r\n",
        "\r\n",
        "  accuracy, predictions = test(model, X_train, X_test, y_train, y_test)\r\n",
        "\r\n",
        "  model_result[model_name] = accuracy"
      ],
      "execution_count": 140,
      "outputs": []
    },
    {
      "cell_type": "markdown",
      "metadata": {
        "id": "tesuLX8Fae3U"
      },
      "source": [
        "## Récupération du meilleure modele"
      ]
    },
    {
      "cell_type": "code",
      "metadata": {
        "colab": {
          "base_uri": "https://localhost:8080/"
        },
        "id": "VXhTsSzHHslE",
        "outputId": "78cfa1ae-45f0-4455-afcd-c15ee7f03107"
      },
      "source": [
        "best_result = None\r\n",
        "\r\n",
        "for key in model_result.keys():\r\n",
        "  accuracy = model_result[key]\r\n",
        "\r\n",
        "  _, model_name = model_enum.get(key)\r\n",
        "\r\n",
        "  if best_result is None:\r\n",
        "    best_result = (key, model_name, accuracy)\r\n",
        "  else:\r\n",
        "    if best_result[2] < accuracy:\r\n",
        "      best_result = (key, model_name, accuracy)\r\n",
        "\r\n",
        "  name = model_name.ljust(18, ' ')\r\n",
        "\r\n",
        "  print(f'{key}\\t', f'{name}\\t', f'précision : {round(accuracy, 6)}')"
      ],
      "execution_count": 141,
      "outputs": [
        {
          "output_type": "stream",
          "text": [
            "knn\t K-NN              \t précision : 0.850436\n",
            "lr\t Logstic Regression\t précision : 0.561272\n",
            "svm\t SVM               \t précision : 0.815752\n",
            "rf\t Random Forest     \t précision : 0.981125\n",
            "dt\t Decision Tree     \t précision : 0.970298\n",
            "nb\t Naive Bayes       \t précision : 0.331034\n"
          ],
          "name": "stdout"
        }
      ]
    },
    {
      "cell_type": "code",
      "metadata": {
        "colab": {
          "base_uri": "https://localhost:8080/"
        },
        "id": "4hRt98BsH6Hl",
        "outputId": "6896db1d-8b5a-4e34-f502-5e14dd769082"
      },
      "source": [
        "best_model_name = best_result[1]\r\n",
        "\r\n",
        "print(f'Meilleur model: {best_model_name}')\r\n",
        "\r\n",
        "best_model, _ = model_enum.get(best_result[0])"
      ],
      "execution_count": 142,
      "outputs": [
        {
          "output_type": "stream",
          "text": [
            "Meilleur model: Random Forest\n"
          ],
          "name": "stdout"
        }
      ]
    },
    {
      "cell_type": "markdown",
      "metadata": {
        "id": "S-xfTt6udvvS"
      },
      "source": [
        "# Enregistrement"
      ]
    },
    {
      "cell_type": "code",
      "metadata": {
        "id": "Sme-6z5tcz3d"
      },
      "source": [
        "import joblib"
      ],
      "execution_count": 143,
      "outputs": []
    },
    {
      "cell_type": "code",
      "metadata": {
        "colab": {
          "base_uri": "https://localhost:8080/"
        },
        "id": "PmXENGikd3o0",
        "outputId": "95316cb0-9df6-47a8-e359-5b8ee13ecaf1"
      },
      "source": [
        "model_filename = 'model.sav'\r\n",
        "\r\n",
        "joblib.dump(best_model, model_filename)"
      ],
      "execution_count": 144,
      "outputs": [
        {
          "output_type": "execute_result",
          "data": {
            "text/plain": [
              "['model.sav']"
            ]
          },
          "metadata": {
            "tags": []
          },
          "execution_count": 144
        }
      ]
    },
    {
      "cell_type": "markdown",
      "metadata": {
        "id": "1PVtBJWdeDfo"
      },
      "source": [
        "# Chargement"
      ]
    },
    {
      "cell_type": "code",
      "metadata": {
        "id": "APKOGpJ_eB4U"
      },
      "source": [
        "loaded_model = joblib.load(model_filename)"
      ],
      "execution_count": 145,
      "outputs": []
    },
    {
      "cell_type": "code",
      "metadata": {
        "colab": {
          "base_uri": "https://localhost:8080/"
        },
        "id": "zyPW4Uh9eLG8",
        "outputId": "105244d3-ea7f-4fae-8c7d-ec526695ab58"
      },
      "source": [
        "# resultat attendu : A\r\n",
        "x = [[0.31545, -0.236281, 0.37077, 0.812174, 0.261718, 0.14879, 0.408929, 0.690469, -0.123005, 0.029367]]\r\n",
        "\r\n",
        "prediction = loaded_model.predict(x)[0]\r\n",
        "print(f'Classe prédit: {prediction}')"
      ],
      "execution_count": 146,
      "outputs": [
        {
          "output_type": "stream",
          "text": [
            "Classe prédit: A\n"
          ],
          "name": "stdout"
        }
      ]
    }
  ]
}