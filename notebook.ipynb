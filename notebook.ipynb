{
  "nbformat": 4,
  "nbformat_minor": 0,
  "metadata": {
    "colab": {
      "name": "avila_analysis.ipynb",
      "provenance": [],
      "collapsed_sections": [],
      "toc_visible": true,
      "include_colab_link": true
    },
    "kernelspec": {
      "name": "python3",
      "display_name": "Python 3"
    }
  },
  "cells": [
    {
      "cell_type": "markdown",
      "metadata": {
        "id": "view-in-github",
        "colab_type": "text"
      },
      "source": [
        "<a href=\"https://colab.research.google.com/github/virtuel75/avila-analysis/blob/main/notebook/avila_analysis.ipynb\" target=\"_parent\"><img src=\"https://colab.research.google.com/assets/colab-badge.svg\" alt=\"Open In Colab\"/></a>"
      ]
    },
    {
      "cell_type": "markdown",
      "metadata": {
        "id": "KXbx7mGfo3Hz"
      },
      "source": [
        "# Recuperation des données"
      ]
    },
    {
      "cell_type": "code",
      "metadata": {
        "id": "VPdj-GMIp3K8"
      },
      "source": [
        "!pip install wget"
      ],
      "execution_count": null,
      "outputs": []
    },
    {
      "cell_type": "code",
      "metadata": {
        "id": "Ua-x3zVlqccB"
      },
      "source": [
        "from os import path\r\n",
        "import wget"
      ],
      "execution_count": 2,
      "outputs": []
    },
    {
      "cell_type": "code",
      "metadata": {
        "id": "XxwDrEN6pARa"
      },
      "source": [
        "data_file = 'avila.zip'"
      ],
      "execution_count": 3,
      "outputs": []
    },
    {
      "cell_type": "markdown",
      "metadata": {
        "id": "Gla2ynHDrtpG"
      },
      "source": [
        "## Téléchargement des données"
      ]
    },
    {
      "cell_type": "code",
      "metadata": {
        "id": "IEVZUQH0p7ho"
      },
      "source": [
        "data_url = 'https://archive.ics.uci.edu/ml/machine-learning-databases/00459/avila.zip'\r\n",
        "\r\n",
        "if not path.exists(data_file):\r\n",
        "  wget.download(url=data_url, out=data_file)"
      ],
      "execution_count": 4,
      "outputs": []
    },
    {
      "cell_type": "markdown",
      "metadata": {
        "id": "lRcnqTr8rxAD"
      },
      "source": [
        "## Extraction des données"
      ]
    },
    {
      "cell_type": "code",
      "metadata": {
        "id": "CbrkGSdJr0UV"
      },
      "source": [
        "from zipfile import ZipFile"
      ],
      "execution_count": 5,
      "outputs": []
    },
    {
      "cell_type": "code",
      "metadata": {
        "id": "oWmOETt0oXrL"
      },
      "source": [
        "# train file\r\n",
        "avila_tr_filename = './avila/avila-tr.txt'\r\n",
        "\r\n",
        "# test file\r\n",
        "avila_ts_filename = './avila/avila-ts.txt'"
      ],
      "execution_count": 6,
      "outputs": []
    },
    {
      "cell_type": "code",
      "metadata": {
        "id": "CaA46r6Rr85v"
      },
      "source": [
        "if not path.exists(avila_tr_filename) or not path.exists(avila_ts_filename):\r\n",
        "  with ZipFile(data_file, 'r') as zip_ref:\r\n",
        "      zip_ref.extractall()"
      ],
      "execution_count": 7,
      "outputs": []
    },
    {
      "cell_type": "markdown",
      "metadata": {
        "id": "E67nM-UGo7YM"
      },
      "source": [
        "# Lecture"
      ]
    },
    {
      "cell_type": "code",
      "metadata": {
        "id": "17Lrk-13M3Er"
      },
      "source": [
        "!pip install pandas"
      ],
      "execution_count": null,
      "outputs": []
    },
    {
      "cell_type": "code",
      "metadata": {
        "id": "DofkJhqKudB4"
      },
      "source": [
        "import pandas as pd"
      ],
      "execution_count": 9,
      "outputs": []
    },
    {
      "cell_type": "code",
      "metadata": {
        "id": "uPTA47oWuWdv"
      },
      "source": [
        "data_tr = pd.read_csv(avila_tr_filename, '\\n', ',', header=None)\r\n",
        "data_ts = pd.read_csv(avila_ts_filename, '\\n', ',', header=None)"
      ],
      "execution_count": 10,
      "outputs": []
    },
    {
      "cell_type": "code",
      "metadata": {
        "colab": {
          "base_uri": "https://localhost:8080/",
          "height": 204
        },
        "id": "wEFPd17Lux0s",
        "outputId": "0012806a-5885-4eb2-9f5b-f9a7d8f8364e"
      },
      "source": [
        "data_tr.sample(5)"
      ],
      "execution_count": 11,
      "outputs": [
        {
          "output_type": "execute_result",
          "data": {
            "text/html": [
              "<div>\n",
              "<style scoped>\n",
              "    .dataframe tbody tr th:only-of-type {\n",
              "        vertical-align: middle;\n",
              "    }\n",
              "\n",
              "    .dataframe tbody tr th {\n",
              "        vertical-align: top;\n",
              "    }\n",
              "\n",
              "    .dataframe thead th {\n",
              "        text-align: right;\n",
              "    }\n",
              "</style>\n",
              "<table border=\"1\" class=\"dataframe\">\n",
              "  <thead>\n",
              "    <tr style=\"text-align: right;\">\n",
              "      <th></th>\n",
              "      <th>0</th>\n",
              "      <th>1</th>\n",
              "      <th>2</th>\n",
              "      <th>3</th>\n",
              "      <th>4</th>\n",
              "      <th>5</th>\n",
              "      <th>6</th>\n",
              "      <th>7</th>\n",
              "      <th>8</th>\n",
              "      <th>9</th>\n",
              "      <th>10</th>\n",
              "    </tr>\n",
              "  </thead>\n",
              "  <tbody>\n",
              "    <tr>\n",
              "      <th>1444</th>\n",
              "      <td>-3.498799</td>\n",
              "      <td>0.054213</td>\n",
              "      <td>-2.083148</td>\n",
              "      <td>-2.448349</td>\n",
              "      <td>-4.922215</td>\n",
              "      <td>-2.965574</td>\n",
              "      <td>-3.252862</td>\n",
              "      <td>-2.426713</td>\n",
              "      <td>-3.802418</td>\n",
              "      <td>-2.520486</td>\n",
              "      <td>A</td>\n",
              "    </tr>\n",
              "    <tr>\n",
              "      <th>6262</th>\n",
              "      <td>-0.326430</td>\n",
              "      <td>-0.079257</td>\n",
              "      <td>0.239183</td>\n",
              "      <td>0.566935</td>\n",
              "      <td>0.261718</td>\n",
              "      <td>-0.349509</td>\n",
              "      <td>0.295677</td>\n",
              "      <td>0.834415</td>\n",
              "      <td>0.438262</td>\n",
              "      <td>-0.360882</td>\n",
              "      <td>E</td>\n",
              "    </tr>\n",
              "    <tr>\n",
              "      <th>7255</th>\n",
              "      <td>-0.128929</td>\n",
              "      <td>0.705861</td>\n",
              "      <td>0.413447</td>\n",
              "      <td>2.004055</td>\n",
              "      <td>0.619230</td>\n",
              "      <td>0.273364</td>\n",
              "      <td>-1.629594</td>\n",
              "      <td>0.313539</td>\n",
              "      <td>0.687713</td>\n",
              "      <td>1.519224</td>\n",
              "      <td>Y</td>\n",
              "    </tr>\n",
              "    <tr>\n",
              "      <th>2485</th>\n",
              "      <td>-0.091897</td>\n",
              "      <td>0.226939</td>\n",
              "      <td>0.267634</td>\n",
              "      <td>0.024091</td>\n",
              "      <td>0.261718</td>\n",
              "      <td>0.024215</td>\n",
              "      <td>0.484429</td>\n",
              "      <td>-0.308919</td>\n",
              "      <td>-0.029461</td>\n",
              "      <td>-0.126518</td>\n",
              "      <td>H</td>\n",
              "    </tr>\n",
              "    <tr>\n",
              "      <th>10258</th>\n",
              "      <td>0.130292</td>\n",
              "      <td>-0.126364</td>\n",
              "      <td>0.377883</td>\n",
              "      <td>0.755362</td>\n",
              "      <td>0.261718</td>\n",
              "      <td>0.439463</td>\n",
              "      <td>0.371178</td>\n",
              "      <td>0.665385</td>\n",
              "      <td>0.157628</td>\n",
              "      <td>0.305381</td>\n",
              "      <td>A</td>\n",
              "    </tr>\n",
              "  </tbody>\n",
              "</table>\n",
              "</div>"
            ],
            "text/plain": [
              "             0         1         2         3   ...        7         8         9   10\n",
              "1444  -3.498799  0.054213 -2.083148 -2.448349  ... -2.426713 -3.802418 -2.520486   A\n",
              "6262  -0.326430 -0.079257  0.239183  0.566935  ...  0.834415  0.438262 -0.360882   E\n",
              "7255  -0.128929  0.705861  0.413447  2.004055  ...  0.313539  0.687713  1.519224   Y\n",
              "2485  -0.091897  0.226939  0.267634  0.024091  ... -0.308919 -0.029461 -0.126518   H\n",
              "10258  0.130292 -0.126364  0.377883  0.755362  ...  0.665385  0.157628  0.305381   A\n",
              "\n",
              "[5 rows x 11 columns]"
            ]
          },
          "metadata": {
            "tags": []
          },
          "execution_count": 11
        }
      ]
    },
    {
      "cell_type": "code",
      "metadata": {
        "colab": {
          "base_uri": "https://localhost:8080/",
          "height": 204
        },
        "id": "8przYkNQu02D",
        "outputId": "8cf7805f-cbb9-4644-fb12-05741e6b4fb1"
      },
      "source": [
        "data_ts.sample(5)"
      ],
      "execution_count": 12,
      "outputs": [
        {
          "output_type": "execute_result",
          "data": {
            "text/html": [
              "<div>\n",
              "<style scoped>\n",
              "    .dataframe tbody tr th:only-of-type {\n",
              "        vertical-align: middle;\n",
              "    }\n",
              "\n",
              "    .dataframe tbody tr th {\n",
              "        vertical-align: top;\n",
              "    }\n",
              "\n",
              "    .dataframe thead th {\n",
              "        text-align: right;\n",
              "    }\n",
              "</style>\n",
              "<table border=\"1\" class=\"dataframe\">\n",
              "  <thead>\n",
              "    <tr style=\"text-align: right;\">\n",
              "      <th></th>\n",
              "      <th>0</th>\n",
              "      <th>1</th>\n",
              "      <th>2</th>\n",
              "      <th>3</th>\n",
              "      <th>4</th>\n",
              "      <th>5</th>\n",
              "      <th>6</th>\n",
              "      <th>7</th>\n",
              "      <th>8</th>\n",
              "      <th>9</th>\n",
              "      <th>10</th>\n",
              "    </tr>\n",
              "  </thead>\n",
              "  <tbody>\n",
              "    <tr>\n",
              "      <th>5132</th>\n",
              "      <td>0.130292</td>\n",
              "      <td>-0.126364</td>\n",
              "      <td>0.271191</td>\n",
              "      <td>0.816262</td>\n",
              "      <td>0.261718</td>\n",
              "      <td>0.480988</td>\n",
              "      <td>0.069175</td>\n",
              "      <td>0.434691</td>\n",
              "      <td>0.064084</td>\n",
              "      <td>0.524821</td>\n",
              "      <td>A</td>\n",
              "    </tr>\n",
              "    <tr>\n",
              "      <th>8137</th>\n",
              "      <td>-0.314087</td>\n",
              "      <td>-2.426761</td>\n",
              "      <td>-0.006209</td>\n",
              "      <td>-0.194681</td>\n",
              "      <td>0.261718</td>\n",
              "      <td>1.228436</td>\n",
              "      <td>1.012935</td>\n",
              "      <td>-0.363845</td>\n",
              "      <td>-0.154186</td>\n",
              "      <td>0.646759</td>\n",
              "      <td>A</td>\n",
              "    </tr>\n",
              "    <tr>\n",
              "      <th>5930</th>\n",
              "      <td>-0.054866</td>\n",
              "      <td>0.313302</td>\n",
              "      <td>0.054250</td>\n",
              "      <td>0.218427</td>\n",
              "      <td>0.261718</td>\n",
              "      <td>0.647088</td>\n",
              "      <td>0.144676</td>\n",
              "      <td>0.423430</td>\n",
              "      <td>0.313536</td>\n",
              "      <td>0.610653</td>\n",
              "      <td>A</td>\n",
              "    </tr>\n",
              "    <tr>\n",
              "      <th>3824</th>\n",
              "      <td>-0.005490</td>\n",
              "      <td>0.760819</td>\n",
              "      <td>-0.095119</td>\n",
              "      <td>-0.016936</td>\n",
              "      <td>0.261718</td>\n",
              "      <td>-1.221530</td>\n",
              "      <td>0.333428</td>\n",
              "      <td>-0.280592</td>\n",
              "      <td>0.313536</td>\n",
              "      <td>-1.151300</td>\n",
              "      <td>F</td>\n",
              "    </tr>\n",
              "    <tr>\n",
              "      <th>6478</th>\n",
              "      <td>-0.054866</td>\n",
              "      <td>0.226939</td>\n",
              "      <td>0.320980</td>\n",
              "      <td>-0.905841</td>\n",
              "      <td>0.261718</td>\n",
              "      <td>-0.432558</td>\n",
              "      <td>0.220177</td>\n",
              "      <td>-0.711692</td>\n",
              "      <td>0.407080</td>\n",
              "      <td>-0.390236</td>\n",
              "      <td>H</td>\n",
              "    </tr>\n",
              "  </tbody>\n",
              "</table>\n",
              "</div>"
            ],
            "text/plain": [
              "            0         1         2         3   ...        7         8         9   10\n",
              "5132  0.130292 -0.126364  0.271191  0.816262  ...  0.434691  0.064084  0.524821   A\n",
              "8137 -0.314087 -2.426761 -0.006209 -0.194681  ... -0.363845 -0.154186  0.646759   A\n",
              "5930 -0.054866  0.313302  0.054250  0.218427  ...  0.423430  0.313536  0.610653   A\n",
              "3824 -0.005490  0.760819 -0.095119 -0.016936  ... -0.280592  0.313536 -1.151300   F\n",
              "6478 -0.054866  0.226939  0.320980 -0.905841  ... -0.711692  0.407080 -0.390236   H\n",
              "\n",
              "[5 rows x 11 columns]"
            ]
          },
          "metadata": {
            "tags": []
          },
          "execution_count": 12
        }
      ]
    },
    {
      "cell_type": "markdown",
      "metadata": {
        "id": "WGfgRwegpN6d"
      },
      "source": [
        "# Prétraitement"
      ]
    },
    {
      "cell_type": "markdown",
      "metadata": {
        "id": "XEcfdn4dvRot"
      },
      "source": [
        "## Renommage des colonnes"
      ]
    },
    {
      "cell_type": "code",
      "metadata": {
        "id": "seZoa8c33eW5",
        "outputId": "d118104d-bdac-44ba-dbcd-f864d3b8c658",
        "colab": {
          "base_uri": "https://localhost:8080/"
        }
      },
      "source": [
        "# on vérifie d'abord que les données d'entrainement \r\n",
        "# et les données ont la même structure\r\n",
        "all(column == True for column in (data_tr.columns == data_ts.columns))"
      ],
      "execution_count": 13,
      "outputs": [
        {
          "output_type": "execute_result",
          "data": {
            "text/plain": [
              "True"
            ]
          },
          "metadata": {
            "tags": []
          },
          "execution_count": 13
        }
      ]
    },
    {
      "cell_type": "code",
      "metadata": {
        "id": "6VYRIMARpNpn"
      },
      "source": [
        "columns = [f'f{i+1}' for i in range(10)] + ['class']\r\n",
        "\r\n",
        "data_tr.columns = columns\r\n",
        "data_ts.columns = columns"
      ],
      "execution_count": 14,
      "outputs": []
    },
    {
      "cell_type": "markdown",
      "metadata": {
        "id": "wR7FgJNr1e_C"
      },
      "source": [
        "* `f1` :       intercolumnar distance\r\n",
        "* `f2` :       upper margin \r\n",
        "* `f3` :       lower margin \r\n",
        "* `f4` :       exploitation \r\n",
        "* `f5` :       row number \r\n",
        "* `f6` :       modular ratio \r\n",
        "* `f7` :       interlinear spacing \r\n",
        "* `f8` :       weight \r\n",
        "* `f9` :       peak number \r\n",
        "* `f10` :      modular ratio/ interlinear spacing\r\n",
        "* `class` :\r\n",
        "  - A\r\n",
        "  - B\r\n",
        "  - C\r\n",
        "  - D\r\n",
        "  - E\r\n",
        "  - F\r\n",
        "  - G\r\n",
        "  - I\r\n",
        "  - W\r\n",
        "  - X\r\n",
        "  - Y"
      ]
    },
    {
      "cell_type": "code",
      "metadata": {
        "id": "i2x4ITXR-plB"
      },
      "source": [
        "target_attribute = 'class'"
      ],
      "execution_count": 15,
      "outputs": []
    },
    {
      "cell_type": "markdown",
      "metadata": {
        "id": "D4D2Hs9Vveeh"
      },
      "source": [
        "## Test des types d'attributs"
      ]
    },
    {
      "cell_type": "code",
      "metadata": {
        "colab": {
          "base_uri": "https://localhost:8080/"
        },
        "id": "FA1XrNCYvpXZ",
        "outputId": "d1d3d7a1-d7b9-454e-970f-19d3231d301d"
      },
      "source": [
        "data_tr.dtypes"
      ],
      "execution_count": 16,
      "outputs": [
        {
          "output_type": "execute_result",
          "data": {
            "text/plain": [
              "f1       float64\n",
              "f2       float64\n",
              "f3       float64\n",
              "f4       float64\n",
              "f5       float64\n",
              "f6       float64\n",
              "f7       float64\n",
              "f8       float64\n",
              "f9       float64\n",
              "f10      float64\n",
              "class     object\n",
              "dtype: object"
            ]
          },
          "metadata": {
            "tags": []
          },
          "execution_count": 16
        }
      ]
    },
    {
      "cell_type": "code",
      "metadata": {
        "colab": {
          "base_uri": "https://localhost:8080/"
        },
        "id": "dYjdqZWDv15s",
        "outputId": "65c1709c-48f4-47ba-acdf-95fc44453964"
      },
      "source": [
        "data_ts.dtypes"
      ],
      "execution_count": 17,
      "outputs": [
        {
          "output_type": "execute_result",
          "data": {
            "text/plain": [
              "f1       float64\n",
              "f2       float64\n",
              "f3       float64\n",
              "f4       float64\n",
              "f5       float64\n",
              "f6       float64\n",
              "f7       float64\n",
              "f8       float64\n",
              "f9       float64\n",
              "f10      float64\n",
              "class     object\n",
              "dtype: object"
            ]
          },
          "metadata": {
            "tags": []
          },
          "execution_count": 17
        }
      ]
    },
    {
      "cell_type": "markdown",
      "metadata": {
        "id": "wXxKJAZtv583"
      },
      "source": [
        "Remplacement du type de l'attribut **class** par le type `category`"
      ]
    },
    {
      "cell_type": "code",
      "metadata": {
        "id": "0_hxHa5Sv5FX"
      },
      "source": [
        "data_tr[target_attribute] = data_tr[target_attribute].astype('category')\r\n",
        "data_ts[target_attribute] = data_ts[target_attribute].astype('category')"
      ],
      "execution_count": 18,
      "outputs": []
    },
    {
      "cell_type": "code",
      "metadata": {
        "colab": {
          "base_uri": "https://localhost:8080/"
        },
        "id": "AyOTnVTS2beT",
        "outputId": "10643087-8949-4f2f-e6d0-07cfab9b917c"
      },
      "source": [
        "data_tr.dtypes"
      ],
      "execution_count": 19,
      "outputs": [
        {
          "output_type": "execute_result",
          "data": {
            "text/plain": [
              "f1        float64\n",
              "f2        float64\n",
              "f3        float64\n",
              "f4        float64\n",
              "f5        float64\n",
              "f6        float64\n",
              "f7        float64\n",
              "f8        float64\n",
              "f9        float64\n",
              "f10       float64\n",
              "class    category\n",
              "dtype: object"
            ]
          },
          "metadata": {
            "tags": []
          },
          "execution_count": 19
        }
      ]
    },
    {
      "cell_type": "code",
      "metadata": {
        "colab": {
          "base_uri": "https://localhost:8080/"
        },
        "id": "fJSH8hm22cB9",
        "outputId": "fd8ddae2-c075-460b-b6f4-39235dcf6637"
      },
      "source": [
        "data_ts.dtypes"
      ],
      "execution_count": 20,
      "outputs": [
        {
          "output_type": "execute_result",
          "data": {
            "text/plain": [
              "f1        float64\n",
              "f2        float64\n",
              "f3        float64\n",
              "f4        float64\n",
              "f5        float64\n",
              "f6        float64\n",
              "f7        float64\n",
              "f8        float64\n",
              "f9        float64\n",
              "f10       float64\n",
              "class    category\n",
              "dtype: object"
            ]
          },
          "metadata": {
            "tags": []
          },
          "execution_count": 20
        }
      ]
    },
    {
      "cell_type": "markdown",
      "metadata": {
        "id": "4y9SDnhB4hgv"
      },
      "source": [
        "## Test de chevauchements"
      ]
    },
    {
      "cell_type": "code",
      "metadata": {
        "id": "FrhGRQd03hby",
        "outputId": "9eb3aa2d-09e3-4abb-dce9-fd8a195dec02",
        "colab": {
          "base_uri": "https://localhost:8080/"
        }
      },
      "source": [
        "# on vérifie que les données d'entrainement \r\n",
        "# et les données ne se chevauche pas\r\n",
        "len(data_tr.merge(data_ts, how='inner', indicator=False)) == 0"
      ],
      "execution_count": 21,
      "outputs": [
        {
          "output_type": "execute_result",
          "data": {
            "text/plain": [
              "True"
            ]
          },
          "metadata": {
            "tags": []
          },
          "execution_count": 21
        }
      ]
    },
    {
      "cell_type": "code",
      "metadata": {
        "id": "2GNIlfMG04fF"
      },
      "source": [
        "data_all = pd.concat([data_tr, data_ts])"
      ],
      "execution_count": 22,
      "outputs": []
    },
    {
      "cell_type": "markdown",
      "metadata": {
        "id": "egKGzaq_3JUx"
      },
      "source": [
        "## Test des valeurs manquantes"
      ]
    },
    {
      "cell_type": "code",
      "metadata": {
        "colab": {
          "base_uri": "https://localhost:8080/"
        },
        "id": "AOC5pGnq3Rwp",
        "outputId": "196cc8eb-6abb-4c27-89f9-dc79801716e8"
      },
      "source": [
        "data_all.isnull().any()"
      ],
      "execution_count": 23,
      "outputs": [
        {
          "output_type": "execute_result",
          "data": {
            "text/plain": [
              "f1       False\n",
              "f2       False\n",
              "f3       False\n",
              "f4       False\n",
              "f5       False\n",
              "f6       False\n",
              "f7       False\n",
              "f8       False\n",
              "f9       False\n",
              "f10      False\n",
              "class    False\n",
              "dtype: bool"
            ]
          },
          "metadata": {
            "tags": []
          },
          "execution_count": 23
        }
      ]
    },
    {
      "cell_type": "code",
      "metadata": {
        "colab": {
          "base_uri": "https://localhost:8080/"
        },
        "id": "0Jzotp2633eb",
        "outputId": "962fd796-0a16-4843-ce2c-8ed4453c44c1"
      },
      "source": [
        "data_all.isna().any()"
      ],
      "execution_count": 24,
      "outputs": [
        {
          "output_type": "execute_result",
          "data": {
            "text/plain": [
              "f1       False\n",
              "f2       False\n",
              "f3       False\n",
              "f4       False\n",
              "f5       False\n",
              "f6       False\n",
              "f7       False\n",
              "f8       False\n",
              "f9       False\n",
              "f10      False\n",
              "class    False\n",
              "dtype: bool"
            ]
          },
          "metadata": {
            "tags": []
          },
          "execution_count": 24
        }
      ]
    },
    {
      "cell_type": "markdown",
      "metadata": {
        "id": "90YitKOvtxnS"
      },
      "source": [
        "## Etudes des attributs"
      ]
    },
    {
      "cell_type": "markdown",
      "metadata": {
        "id": "g9W8D2DY2tm3"
      },
      "source": [
        "### Etude de l'attribut cible : `class`"
      ]
    },
    {
      "cell_type": "code",
      "metadata": {
        "colab": {
          "base_uri": "https://localhost:8080/"
        },
        "id": "TPOS4mM45MdH",
        "outputId": "8e778e93-fb24-4712-93fb-f482a3294707"
      },
      "source": [
        "# On vérifie que les données d'entrainement comporte \r\n",
        "# bien toutes les types de classe\r\n",
        "data_tr[target_attribute].unique() == data_all[target_attribute].unique()"
      ],
      "execution_count": 25,
      "outputs": [
        {
          "output_type": "execute_result",
          "data": {
            "text/plain": [
              "array([ True,  True,  True,  True,  True,  True,  True,  True,  True,\n",
              "        True,  True,  True])"
            ]
          },
          "metadata": {
            "tags": []
          },
          "execution_count": 25
        }
      ]
    },
    {
      "cell_type": "code",
      "metadata": {
        "colab": {
          "base_uri": "https://localhost:8080/"
        },
        "id": "buJA2an45Qyj",
        "outputId": "e96324f6-8b0b-4a79-e4ff-6144bf3df459"
      },
      "source": [
        "# affichage du nombre de class\r\n",
        "print(f'Nombre de type de classe : {data_tr[target_attribute].nunique()}')"
      ],
      "execution_count": 26,
      "outputs": [
        {
          "output_type": "stream",
          "text": [
            "Nombre de type de classe : 12\n"
          ],
          "name": "stdout"
        }
      ]
    },
    {
      "cell_type": "code",
      "metadata": {
        "colab": {
          "base_uri": "https://localhost:8080/",
          "height": 421
        },
        "id": "Cjsp3Xz754ps",
        "outputId": "ede2e436-139e-4e08-ede7-049753820728"
      },
      "source": [
        "# Distribution de l'ensemble des données par classe\r\n",
        "n_sample_per_target_type = data_all.groupby(target_attribute).size().reset_index()\r\n",
        "n_sample_per_target_type.columns = [target_attribute, 'count']\r\n",
        "n_sample_per_target_type"
      ],
      "execution_count": 27,
      "outputs": [
        {
          "output_type": "execute_result",
          "data": {
            "text/html": [
              "<div>\n",
              "<style scoped>\n",
              "    .dataframe tbody tr th:only-of-type {\n",
              "        vertical-align: middle;\n",
              "    }\n",
              "\n",
              "    .dataframe tbody tr th {\n",
              "        vertical-align: top;\n",
              "    }\n",
              "\n",
              "    .dataframe thead th {\n",
              "        text-align: right;\n",
              "    }\n",
              "</style>\n",
              "<table border=\"1\" class=\"dataframe\">\n",
              "  <thead>\n",
              "    <tr style=\"text-align: right;\">\n",
              "      <th></th>\n",
              "      <th>class</th>\n",
              "      <th>count</th>\n",
              "    </tr>\n",
              "  </thead>\n",
              "  <tbody>\n",
              "    <tr>\n",
              "      <th>0</th>\n",
              "      <td>A</td>\n",
              "      <td>8572</td>\n",
              "    </tr>\n",
              "    <tr>\n",
              "      <th>1</th>\n",
              "      <td>B</td>\n",
              "      <td>10</td>\n",
              "    </tr>\n",
              "    <tr>\n",
              "      <th>2</th>\n",
              "      <td>C</td>\n",
              "      <td>206</td>\n",
              "    </tr>\n",
              "    <tr>\n",
              "      <th>3</th>\n",
              "      <td>D</td>\n",
              "      <td>705</td>\n",
              "    </tr>\n",
              "    <tr>\n",
              "      <th>4</th>\n",
              "      <td>E</td>\n",
              "      <td>2190</td>\n",
              "    </tr>\n",
              "    <tr>\n",
              "      <th>5</th>\n",
              "      <td>F</td>\n",
              "      <td>3923</td>\n",
              "    </tr>\n",
              "    <tr>\n",
              "      <th>6</th>\n",
              "      <td>G</td>\n",
              "      <td>893</td>\n",
              "    </tr>\n",
              "    <tr>\n",
              "      <th>7</th>\n",
              "      <td>H</td>\n",
              "      <td>1039</td>\n",
              "    </tr>\n",
              "    <tr>\n",
              "      <th>8</th>\n",
              "      <td>I</td>\n",
              "      <td>1663</td>\n",
              "    </tr>\n",
              "    <tr>\n",
              "      <th>9</th>\n",
              "      <td>W</td>\n",
              "      <td>89</td>\n",
              "    </tr>\n",
              "    <tr>\n",
              "      <th>10</th>\n",
              "      <td>X</td>\n",
              "      <td>1044</td>\n",
              "    </tr>\n",
              "    <tr>\n",
              "      <th>11</th>\n",
              "      <td>Y</td>\n",
              "      <td>533</td>\n",
              "    </tr>\n",
              "  </tbody>\n",
              "</table>\n",
              "</div>"
            ],
            "text/plain": [
              "   class  count\n",
              "0      A   8572\n",
              "1      B     10\n",
              "2      C    206\n",
              "3      D    705\n",
              "4      E   2190\n",
              "5      F   3923\n",
              "6      G    893\n",
              "7      H   1039\n",
              "8      I   1663\n",
              "9      W     89\n",
              "10     X   1044\n",
              "11     Y    533"
            ]
          },
          "metadata": {
            "tags": []
          },
          "execution_count": 27
        }
      ]
    },
    {
      "cell_type": "markdown",
      "metadata": {
        "id": "jsGJUV0l8UWM"
      },
      "source": [
        "### Etude des autres attribut : `f1` ... `f10`"
      ]
    },
    {
      "cell_type": "code",
      "metadata": {
        "id": "2vF7ZLNypPpq"
      },
      "source": [
        "!pip install seaborn\r\n",
        "!pip install matplotlib"
      ],
      "execution_count": null,
      "outputs": []
    },
    {
      "cell_type": "code",
      "metadata": {
        "id": "qIcEx482xfCG"
      },
      "source": [
        "import matplotlib.pyplot as plt\r\n",
        "import seaborn as sns"
      ],
      "execution_count": 29,
      "outputs": []
    },
    {
      "cell_type": "markdown",
      "metadata": {
        "id": "P9inuDkj8aMV"
      },
      "source": [
        "#### Résumé statistique"
      ]
    },
    {
      "cell_type": "code",
      "metadata": {
        "colab": {
          "base_uri": "https://localhost:8080/",
          "height": 173
        },
        "id": "_qcGV82p8hI4",
        "outputId": "e0aa90ea-be89-45f6-ffbd-96cb42b2ce4a"
      },
      "source": [
        "data_all.describe().loc[['mean', 'std', 'min', 'max']]"
      ],
      "execution_count": 30,
      "outputs": [
        {
          "output_type": "execute_result",
          "data": {
            "text/html": [
              "<div>\n",
              "<style scoped>\n",
              "    .dataframe tbody tr th:only-of-type {\n",
              "        vertical-align: middle;\n",
              "    }\n",
              "\n",
              "    .dataframe tbody tr th {\n",
              "        vertical-align: top;\n",
              "    }\n",
              "\n",
              "    .dataframe thead th {\n",
              "        text-align: right;\n",
              "    }\n",
              "</style>\n",
              "<table border=\"1\" class=\"dataframe\">\n",
              "  <thead>\n",
              "    <tr style=\"text-align: right;\">\n",
              "      <th></th>\n",
              "      <th>f1</th>\n",
              "      <th>f2</th>\n",
              "      <th>f3</th>\n",
              "      <th>f4</th>\n",
              "      <th>f5</th>\n",
              "      <th>f6</th>\n",
              "      <th>f7</th>\n",
              "      <th>f8</th>\n",
              "      <th>f9</th>\n",
              "      <th>f10</th>\n",
              "    </tr>\n",
              "  </thead>\n",
              "  <tbody>\n",
              "    <tr>\n",
              "      <th>mean</th>\n",
              "      <td>-3.306656e-09</td>\n",
              "      <td>0.018498</td>\n",
              "      <td>0.002329</td>\n",
              "      <td>0.000115</td>\n",
              "      <td>5.697992e-08</td>\n",
              "      <td>0.002540</td>\n",
              "      <td>0.003977</td>\n",
              "      <td>0.000028</td>\n",
              "      <td>0.002108</td>\n",
              "      <td>0.000069</td>\n",
              "    </tr>\n",
              "    <tr>\n",
              "      <th>std</th>\n",
              "      <td>1.000007e+00</td>\n",
              "      <td>2.853117</td>\n",
              "      <td>1.058203</td>\n",
              "      <td>0.999997</td>\n",
              "      <td>9.999948e-01</td>\n",
              "      <td>1.065179</td>\n",
              "      <td>1.153325</td>\n",
              "      <td>1.000003</td>\n",
              "      <td>1.045362</td>\n",
              "      <td>1.000010</td>\n",
              "    </tr>\n",
              "    <tr>\n",
              "      <th>min</th>\n",
              "      <td>-3.498799e+00</td>\n",
              "      <td>-2.426761</td>\n",
              "      <td>-3.210528</td>\n",
              "      <td>-5.440122</td>\n",
              "      <td>-4.922215e+00</td>\n",
              "      <td>-7.450257</td>\n",
              "      <td>-11.935457</td>\n",
              "      <td>-4.247781</td>\n",
              "      <td>-5.486218</td>\n",
              "      <td>-6.719324</td>\n",
              "    </tr>\n",
              "    <tr>\n",
              "      <th>max</th>\n",
              "      <td>1.181992e+01</td>\n",
              "      <td>386.000000</td>\n",
              "      <td>50.000000</td>\n",
              "      <td>3.987152</td>\n",
              "      <td>1.066121e+00</td>\n",
              "      <td>53.000000</td>\n",
              "      <td>83.000000</td>\n",
              "      <td>13.173081</td>\n",
              "      <td>44.000000</td>\n",
              "      <td>11.911338</td>\n",
              "    </tr>\n",
              "  </tbody>\n",
              "</table>\n",
              "</div>"
            ],
            "text/plain": [
              "                f1          f2         f3  ...         f8         f9        f10\n",
              "mean -3.306656e-09    0.018498   0.002329  ...   0.000028   0.002108   0.000069\n",
              "std   1.000007e+00    2.853117   1.058203  ...   1.000003   1.045362   1.000010\n",
              "min  -3.498799e+00   -2.426761  -3.210528  ...  -4.247781  -5.486218  -6.719324\n",
              "max   1.181992e+01  386.000000  50.000000  ...  13.173081  44.000000  11.911338\n",
              "\n",
              "[4 rows x 10 columns]"
            ]
          },
          "metadata": {
            "tags": []
          },
          "execution_count": 30
        }
      ]
    },
    {
      "cell_type": "markdown",
      "metadata": {
        "id": "NYGf7G2k8qNv"
      },
      "source": [
        "#### Correlation des attributs"
      ]
    },
    {
      "cell_type": "code",
      "metadata": {
        "colab": {
          "base_uri": "https://localhost:8080/",
          "height": 584
        },
        "id": "DmFmW-gU8sMN",
        "outputId": "75198e96-42be-4031-cbb5-f6a30d7109b5"
      },
      "source": [
        "attributes_correlation = data_tr.corr().abs()\r\n",
        "\r\n",
        "plt.figure(figsize=(10, 10))\r\n",
        "sns.heatmap(attributes_correlation, vmax=1, vmin=0, annot=True, square=True, linewidths=.5, cmap='YlOrBr')\r\n",
        "plt.title('Correlation des attributs')\r\n",
        "plt.show()"
      ],
      "execution_count": 31,
      "outputs": [
        {
          "output_type": "display_data",
          "data": {
            "image/png": "[encoded data removed]",
            "text/plain": [
              "<Figure size 720x720 with 2 Axes>"
            ]
          },
          "metadata": {
            "tags": [],
            "needs_background": "light"
          }
        }
      ]
    },
    {
      "cell_type": "markdown",
      "metadata": {
        "id": "kLP2D4XC7yQZ"
      },
      "source": [
        "#### Variances des attributs"
      ]
    },
    {
      "cell_type": "code",
      "metadata": {
        "id": "IE44zxVlEuX-"
      },
      "source": [
        "from sklearn.feature_selection import VarianceThreshold"
      ],
      "execution_count": 32,
      "outputs": []
    },
    {
      "cell_type": "code",
      "metadata": {
        "id": "FgWOXfR4CAvc"
      },
      "source": [
        "input = data_tr.loc[:, data_tr.columns != target_attribute]"
      ],
      "execution_count": 33,
      "outputs": []
    },
    {
      "cell_type": "code",
      "metadata": {
        "id": "1BcK55RrDaNU",
        "outputId": "7b799986-2ab7-42c6-bb10-51a3dbbfde68",
        "colab": {
          "base_uri": "https://localhost:8080/"
        }
      },
      "source": [
        "input.var(axis=0)"
      ],
      "execution_count": 34,
      "outputs": [
        {
          "output_type": "execute_result",
          "data": {
            "text/plain": [
              "f1      0.982936\n",
              "f2     15.373210\n",
              "f3      1.254852\n",
              "f4      1.017126\n",
              "f5      0.984170\n",
              "f6      1.268428\n",
              "f7      1.725950\n",
              "f8      1.007026\n",
              "f9      1.183016\n",
              "f10     1.014238\n",
              "dtype: float64"
            ]
          },
          "metadata": {
            "tags": []
          },
          "execution_count": 34
        }
      ]
    },
    {
      "cell_type": "markdown",
      "metadata": {
        "id": "cYeIvzCaTpQ2"
      },
      "source": [
        "#### Selection des attributs"
      ]
    },
    {
      "cell_type": "code",
      "metadata": {
        "id": "ADF6v4QBTxVh"
      },
      "source": [
        "features_mask = ['f1', 'f2', 'f3', 'f4', 'f5', 'f8', 'f9', 'f10']"
      ],
      "execution_count": 35,
      "outputs": []
    },
    {
      "cell_type": "markdown",
      "metadata": {
        "id": "6HFehwmu_vGX"
      },
      "source": [
        "# Création des `'input'` & `'output'`"
      ]
    },
    {
      "cell_type": "code",
      "metadata": {
        "id": "AcV1Pj3FAFoh"
      },
      "source": [
        "X_train = data_tr.loc[:, data_tr.columns != target_attribute]\r\n",
        "X_train = X_train.filter(features_mask)\r\n",
        "\r\n",
        "y_train = data_tr.loc[:, target_attribute]"
      ],
      "execution_count": 36,
      "outputs": []
    },
    {
      "cell_type": "code",
      "metadata": {
        "id": "C9biwjM8AO9d"
      },
      "source": [
        "X_test = data_ts.loc[:, data_ts.columns != target_attribute]\r\n",
        "X_test = X_test.filter(features_mask)\r\n",
        "\r\n",
        "y_test = data_ts.loc[:, target_attribute]"
      ],
      "execution_count": 37,
      "outputs": []
    },
    {
      "cell_type": "markdown",
      "metadata": {
        "id": "2_SI7JKa9bCR"
      },
      "source": [
        "# Entrainement des modeles"
      ]
    },
    {
      "cell_type": "markdown",
      "metadata": {
        "id": "C9IIw_4T-UBB"
      },
      "source": [
        "### Fonctions"
      ]
    },
    {
      "cell_type": "code",
      "metadata": {
        "id": "hTJa9DLe9mYq"
      },
      "source": [
        "!pip install scikit-learn\r\n",
        "!pip install numpy"
      ],
      "execution_count": null,
      "outputs": []
    },
    {
      "cell_type": "code",
      "metadata": {
        "id": "NYVyjIz8-oIP"
      },
      "source": [
        "import numpy as np\r\n",
        "from sklearn.model_selection import validation_curve, cross_val_score, GridSearchCV\r\n",
        "from sklearn.utils.testing import ignore_warnings\r\n",
        "from sklearn.exceptions import ConvergenceWarning"
      ],
      "execution_count": null,
      "outputs": []
    },
    {
      "cell_type": "markdown",
      "metadata": {
        "id": "zJL7lPYyCY8_"
      },
      "source": [
        "#### Train & test fonctions"
      ]
    },
    {
      "cell_type": "code",
      "metadata": {
        "id": "ohoGAtie-qU7"
      },
      "source": [
        "@ignore_warnings(category=ConvergenceWarning)\r\n",
        "def test_model(model, X, y):\r\n",
        "  \"\"\"\r\n",
        "  Tester un modele\r\n",
        "  \"\"\"\r\n",
        "  accuracy = cross_val_score(model, X, y, scoring='accuracy', verbose=1)\r\n",
        "  avg_accuracy = accuracy.mean()\r\n",
        "\r\n",
        "  return avg_accuracy"
      ],
      "execution_count": 40,
      "outputs": []
    },
    {
      "cell_type": "code",
      "metadata": {
        "id": "YbdsvQqd5Z3J"
      },
      "source": [
        "@ignore_warnings(category=ConvergenceWarning)\r\n",
        "def train_model(model, params, X, y):\r\n",
        "  \"\"\"\r\n",
        "  Entrainer un modele\r\n",
        "  \"\"\"\r\n",
        "  grid = GridSearchCV(model, params, n_jobs=-1, verbose=1)\r\n",
        "\r\n",
        "  grid.fit(X, y)\r\n",
        "\r\n",
        "  best_params = grid.best_params_\r\n",
        "  best_model = grid.best_estimator_\r\n",
        "\r\n",
        "  return best_params, best_model"
      ],
      "execution_count": 41,
      "outputs": []
    },
    {
      "cell_type": "markdown",
      "metadata": {
        "id": "y5fQRmQ8_xWM"
      },
      "source": [
        "#### Plot fonctions"
      ]
    },
    {
      "cell_type": "code",
      "metadata": {
        "id": "i6l8Q85a6-D8"
      },
      "source": [
        "def analyse_with_plot(x, train_score, val_score, x_label, title, figsize=(12, 6)):\r\n",
        "  \"\"\"\r\n",
        "  Génerer une analyse visuel\r\n",
        "  \"\"\"\r\n",
        "  plt.figure(figsize=figsize)\r\n",
        "  plt.plot(x, train_score, linestyle='dashed', marker='o', label='train score')\r\n",
        "  plt.plot(x, val_score, linestyle='dashed', marker='o', label='validation score')\r\n",
        "  plt.xlabel(x_label)\r\n",
        "  plt.ylabel('Précision')\r\n",
        "  plt.title(title)\r\n",
        "  plt.legend()\r\n",
        "  plt.grid(b=True, which='major', color='#bdc3c7', linestyle='--')\r\n",
        "  plt.show()"
      ],
      "execution_count": 42,
      "outputs": []
    },
    {
      "cell_type": "code",
      "metadata": {
        "id": "UPgxCIEI7Vox"
      },
      "source": [
        "def analyse_with_bar(x, y1, y2, x_label, title, figsize=(12, 6)):\r\n",
        "  \"\"\"\r\n",
        "  Générer une analyse visuel\r\n",
        "  \"\"\"\r\n",
        "  x_values = np.arange(len(x)) \r\n",
        "  barWidth = 0.15\r\n",
        "\r\n",
        "  plt.figure(figsize=(12,6))\r\n",
        "  plt.bar(x_values, y1, width=barWidth, label='train score')\r\n",
        "  plt.bar(x_values - barWidth, y2, width=barWidth, label='validation score')\r\n",
        "  plt.xlabel(x_label)\r\n",
        "  plt.ylabel('Précision')\r\n",
        "  plt.xticks([r for r in range(len(y1))], x)\r\n",
        "  plt.title(title)\r\n",
        "  plt.legend()\r\n",
        "  plt.show()"
      ],
      "execution_count": 43,
      "outputs": []
    },
    {
      "cell_type": "markdown",
      "metadata": {
        "id": "kNP5xO1B-2mW"
      },
      "source": [
        "## K-NN"
      ]
    },
    {
      "cell_type": "code",
      "metadata": {
        "id": "iYFXl-Vh-7Io"
      },
      "source": [
        "from sklearn.neighbors import KNeighborsClassifier"
      ],
      "execution_count": 44,
      "outputs": []
    },
    {
      "cell_type": "code",
      "metadata": {
        "id": "Bg1-7o1GU_Sj"
      },
      "source": [
        "knn_model = KNeighborsClassifier()"
      ],
      "execution_count": 45,
      "outputs": []
    },
    {
      "cell_type": "markdown",
      "metadata": {
        "id": "jXYxUjdGVBbS"
      },
      "source": [
        "### Test du modele par defaut"
      ]
    },
    {
      "cell_type": "code",
      "metadata": {
        "id": "zUY9-utONFwA",
        "outputId": "c4a4e77a-e521-46e7-f5ee-7bca71fc2fd5",
        "colab": {
          "base_uri": "https://localhost:8080/"
        }
      },
      "source": [
        "knn_accuracy = test_model(knn_model, X_train, y_train)"
      ],
      "execution_count": 46,
      "outputs": [
        {
          "output_type": "stream",
          "text": [
            "[Parallel(n_jobs=1)]: Using backend SequentialBackend with 1 concurrent workers.\n",
            "[Parallel(n_jobs=1)]: Done   5 out of   5 | elapsed:    0.9s finished\n"
          ],
          "name": "stderr"
        }
      ]
    },
    {
      "cell_type": "code",
      "metadata": {
        "colab": {
          "base_uri": "https://localhost:8080/"
        },
        "id": "RD3QdvIbQlkU",
        "outputId": "3110f07a-0f9f-418c-e6e4-319cd6e9c848"
      },
      "source": [
        "print(f'Précision:\\t', knn_accuracy)"
      ],
      "execution_count": 47,
      "outputs": [
        {
          "output_type": "stream",
          "text": [
            "Précision:\t 0.7534995206136146\n"
          ],
          "name": "stdout"
        }
      ]
    },
    {
      "cell_type": "markdown",
      "metadata": {
        "id": "lphAikPs_mju"
      },
      "source": [
        "### Recherche des meilleurs parametres"
      ]
    },
    {
      "cell_type": "markdown",
      "metadata": {
        "id": "sd7BCfV7VoiB"
      },
      "source": [
        "#### Influence de `k` (nombre de voisins)"
      ]
    },
    {
      "cell_type": "code",
      "metadata": {
        "id": "Eo-Y4ndbkhEA"
      },
      "source": [
        "knn_k_range = np.arange(1, 40)"
      ],
      "execution_count": 48,
      "outputs": []
    },
    {
      "cell_type": "code",
      "metadata": {
        "id": "Fqzt0Jsr_tu6",
        "outputId": "496911a0-fabe-48dd-c362-d4276bdb97fa",
        "colab": {
          "base_uri": "https://localhost:8080/"
        }
      },
      "source": [
        "knn_k_train_score, knn_k_val_score = validation_curve(knn_model, X_train, y_train, 'n_neighbors', knn_k_range, verbose=1, n_jobs=-1)\r\n",
        "\r\n",
        "knn_k_train_score = knn_k_train_score.mean(axis=1)\r\n",
        "knn_k_val_score = knn_k_val_score.mean(axis=1)"
      ],
      "execution_count": 49,
      "outputs": [
        {
          "output_type": "stream",
          "text": [
            "[Parallel(n_jobs=-1)]: Using backend LokyBackend with 2 concurrent workers.\n",
            "[Parallel(n_jobs=-1)]: Done 195 out of 195 | elapsed:  3.0min finished\n"
          ],
          "name": "stderr"
        }
      ]
    },
    {
      "cell_type": "code",
      "metadata": {
        "id": "oigz0SQz4g2k",
        "outputId": "3e167ece-955a-4a8c-c09c-ab0fc8cb0c99",
        "colab": {
          "base_uri": "https://localhost:8080/",
          "height": 0
        }
      },
      "source": [
        "analyse_with_plot(knn_k_range,\r\n",
        "                  knn_k_train_score, \r\n",
        "                  knn_k_val_score,\r\n",
        "                  'Valeur de k',\r\n",
        "                  'Précision en fonction de la valeur de k')"
      ],
      "execution_count": 50,
      "outputs": [
        {
          "output_type": "display_data",
          "data": {
            "image/png": "[encoded data removed]",
            "text/plain": [
              "<Figure size 864x432 with 1 Axes>"
            ]
          },
          "metadata": {
            "tags": [],
            "needs_background": "light"
          }
        }
      ]
    },
    {
      "cell_type": "code",
      "metadata": {
        "id": "rZEr2MTaaRPo"
      },
      "source": [
        "knn_k_range = np.arange(1, 5)"
      ],
      "execution_count": 51,
      "outputs": []
    },
    {
      "cell_type": "markdown",
      "metadata": {
        "id": "qdzKkzTQaTgz"
      },
      "source": [
        "#### Influence de `weights`"
      ]
    },
    {
      "cell_type": "code",
      "metadata": {
        "id": "ynD6mphEkqke"
      },
      "source": [
        "knn_weights_range = ['uniform', 'distance']"
      ],
      "execution_count": 52,
      "outputs": []
    },
    {
      "cell_type": "code",
      "metadata": {
        "id": "Jqx1o_KCa0H1",
        "outputId": "0a71079e-2a7b-44d2-9884-0d05579eb173",
        "colab": {
          "base_uri": "https://localhost:8080/"
        }
      },
      "source": [
        "knn_weights_train_score, knn_weights_val_score = validation_curve(knn_model, X_train, y_train, 'weights', knn_weights_range, verbose=1, n_jobs=-1)\r\n",
        "\r\n",
        "knn_weights_train_score = knn_weights_train_score.mean(axis=1)\r\n",
        "knn_weights_val_score = knn_weights_val_score.mean(axis=1)"
      ],
      "execution_count": 53,
      "outputs": [
        {
          "output_type": "stream",
          "text": [
            "[Parallel(n_jobs=-1)]: Using backend LokyBackend with 2 concurrent workers.\n",
            "[Parallel(n_jobs=-1)]: Done  10 out of  10 | elapsed:    5.7s finished\n"
          ],
          "name": "stderr"
        }
      ]
    },
    {
      "cell_type": "code",
      "metadata": {
        "colab": {
          "base_uri": "https://localhost:8080/",
          "height": 0
        },
        "id": "TdWtVoi7bhFq",
        "outputId": "be423665-57d0-48f8-c60d-73cf6c1f0e3b"
      },
      "source": [
        "analyse_with_bar(knn_weights_range, \r\n",
        "                 knn_weights_train_score, \r\n",
        "                 knn_weights_val_score,\r\n",
        "                 'Type de weights',\r\n",
        "                 'Précision en fonction du type de weights')"
      ],
      "execution_count": 54,
      "outputs": [
        {
          "output_type": "display_data",
          "data": {
            "image/png": "[encoded data removed]",
            "text/plain": [
              "<Figure size 864x432 with 1 Axes>"
            ]
          },
          "metadata": {
            "tags": [],
            "needs_background": "light"
          }
        }
      ]
    },
    {
      "cell_type": "code",
      "metadata": {
        "id": "xi6ooXRTpoBn"
      },
      "source": [
        "knn_weights_range = ['distance']"
      ],
      "execution_count": 55,
      "outputs": []
    },
    {
      "cell_type": "markdown",
      "metadata": {
        "id": "BROE2DU2huih"
      },
      "source": [
        "#### Influence de `p`"
      ]
    },
    {
      "cell_type": "code",
      "metadata": {
        "id": "JF3P86ODkwNs"
      },
      "source": [
        "knn_p_range = np.arange(1, 10)"
      ],
      "execution_count": 56,
      "outputs": []
    },
    {
      "cell_type": "code",
      "metadata": {
        "id": "l2WaZOf8iC1J",
        "outputId": "9f68497e-6176-4b29-820b-7df7765f02e5",
        "colab": {
          "base_uri": "https://localhost:8080/"
        }
      },
      "source": [
        "knn_p_train_score, knn_p_val_score = validation_curve(knn_model, X_train, y_train, 'p', knn_p_range, verbose=1, n_jobs=-1)\r\n",
        "\r\n",
        "knn_p_train_score = knn_p_train_score.mean(axis=1)\r\n",
        "knn_p_val_score = knn_p_val_score.mean(axis=1)"
      ],
      "execution_count": 57,
      "outputs": [
        {
          "output_type": "stream",
          "text": [
            "[Parallel(n_jobs=-1)]: Using backend LokyBackend with 2 concurrent workers.\n",
            "[Parallel(n_jobs=-1)]: Done  45 out of  45 | elapsed:  3.3min finished\n"
          ],
          "name": "stderr"
        }
      ]
    },
    {
      "cell_type": "code",
      "metadata": {
        "colab": {
          "base_uri": "https://localhost:8080/",
          "height": 0
        },
        "id": "HojDtOMsiele",
        "outputId": "55799200-1be2-4255-8b1d-d9abd073c27a"
      },
      "source": [
        "analyse_with_plot(knn_p_range, \r\n",
        "                  knn_p_train_score, \r\n",
        "                  knn_p_val_score,\r\n",
        "                  'Valeur de p',\r\n",
        "                  'Précision en fonction de la valeur de p')"
      ],
      "execution_count": 58,
      "outputs": [
        {
          "output_type": "display_data",
          "data": {
            "image/png": "[encoded data removed]",
            "text/plain": [
              "<Figure size 864x432 with 1 Axes>"
            ]
          },
          "metadata": {
            "tags": [],
            "needs_background": "light"
          }
        }
      ]
    },
    {
      "cell_type": "code",
      "metadata": {
        "id": "pWrmZjfWi-XS"
      },
      "source": [
        "knn_p_range = np.arange(1, 3)"
      ],
      "execution_count": 59,
      "outputs": []
    },
    {
      "cell_type": "markdown",
      "metadata": {
        "id": "gjf68a0vh89c"
      },
      "source": [
        "### Recherche du meilleur modele"
      ]
    },
    {
      "cell_type": "code",
      "metadata": {
        "colab": {
          "base_uri": "https://localhost:8080/"
        },
        "id": "wy2aFz8wh_pI",
        "outputId": "487f0635-43c0-4900-8ca2-cfc21bffaaf5"
      },
      "source": [
        "knn_parameters = {\r\n",
        "    'n_neighbors': knn_k_range, \r\n",
        "    'weights': knn_weights_range, \r\n",
        "    'p': knn_p_range\r\n",
        "}\r\n",
        "\r\n",
        "knn_best_param, knn_best_model = train_model(knn_model, knn_parameters, X_train, y_train)"
      ],
      "execution_count": 60,
      "outputs": [
        {
          "output_type": "stream",
          "text": [
            "Fitting 5 folds for each of 8 candidates, totalling 40 fits\n"
          ],
          "name": "stdout"
        },
        {
          "output_type": "stream",
          "text": [
            "[Parallel(n_jobs=-1)]: Using backend LokyBackend with 2 concurrent workers.\n",
            "[Parallel(n_jobs=-1)]: Done  40 out of  40 | elapsed:    4.4s finished\n"
          ],
          "name": "stderr"
        }
      ]
    },
    {
      "cell_type": "code",
      "metadata": {
        "colab": {
          "base_uri": "https://localhost:8080/"
        },
        "id": "-LQTPpTXl3U9",
        "outputId": "0d1677e8-2128-401d-d561-15a0198a3a27"
      },
      "source": [
        "print(\"Meilleurs paramètres trouvés :\")\r\n",
        "print(knn_best_param)"
      ],
      "execution_count": 61,
      "outputs": [
        {
          "output_type": "stream",
          "text": [
            "Meilleurs paramètres trouvés :\n",
            "{'n_neighbors': 4, 'p': 1, 'weights': 'distance'}\n"
          ],
          "name": "stdout"
        }
      ]
    },
    {
      "cell_type": "code",
      "metadata": {
        "id": "9hyWeG_CmIr8"
      },
      "source": [
        "knn_model = knn_best_model"
      ],
      "execution_count": 62,
      "outputs": []
    },
    {
      "cell_type": "markdown",
      "metadata": {
        "id": "Cdc0iLZkDfEZ"
      },
      "source": [
        "### Comparaison"
      ]
    },
    {
      "cell_type": "code",
      "metadata": {
        "id": "J6toZVpgvfyg"
      },
      "source": [
        "knn_accuracy_old = knn_accuracy"
      ],
      "execution_count": 63,
      "outputs": []
    },
    {
      "cell_type": "code",
      "metadata": {
        "id": "55cP-FmFKbAd",
        "outputId": "a9ecc488-4d93-43a6-c5fc-7431131f42b6",
        "colab": {
          "base_uri": "https://localhost:8080/"
        }
      },
      "source": [
        "knn_accuracy = test_model(knn_model, X_train, y_train)"
      ],
      "execution_count": 64,
      "outputs": [
        {
          "output_type": "stream",
          "text": [
            "[Parallel(n_jobs=1)]: Using backend SequentialBackend with 1 concurrent workers.\n",
            "[Parallel(n_jobs=1)]: Done   5 out of   5 | elapsed:    0.9s finished\n"
          ],
          "name": "stderr"
        }
      ]
    },
    {
      "cell_type": "code",
      "metadata": {
        "colab": {
          "base_uri": "https://localhost:8080/"
        },
        "id": "8c4mQLmJvrGg",
        "outputId": "df048c31-0be4-478a-b1b4-8630a3d6f63d"
      },
      "source": [
        "knn_accuracy_diffrence = round(((knn_accuracy - knn_accuracy_old) * 100) / knn_accuracy_old, 2)\r\n",
        "knn_accuracy_diffrence_signe = '-' if knn_accuracy_diffrence < 0 else '+'\r\n",
        "\r\n",
        "print(f'Ancienne précision:\\t', knn_accuracy_old)\r\n",
        "print(f'Nouvelle précision:\\t', knn_accuracy, f'({knn_accuracy_diffrence_signe}{knn_accuracy_diffrence}%)')"
      ],
      "execution_count": 65,
      "outputs": [
        {
          "output_type": "stream",
          "text": [
            "Ancienne précision:\t 0.7534995206136146\n",
            "Nouvelle précision:\t 0.889837008628955 (+18.09%)\n"
          ],
          "name": "stdout"
        }
      ]
    },
    {
      "cell_type": "markdown",
      "metadata": {
        "id": "w7rGmar3-8Yk"
      },
      "source": [
        "## Logistic regression"
      ]
    },
    {
      "cell_type": "code",
      "metadata": {
        "id": "yHinZP6b--p3"
      },
      "source": [
        "from sklearn.linear_model import LogisticRegression"
      ],
      "execution_count": 66,
      "outputs": []
    },
    {
      "cell_type": "code",
      "metadata": {
        "id": "FnPUNYKdwmQK"
      },
      "source": [
        "lr_model = LogisticRegression()"
      ],
      "execution_count": 67,
      "outputs": []
    },
    {
      "cell_type": "markdown",
      "metadata": {
        "id": "BtDvpzfowiqh"
      },
      "source": [
        "### Test du modele par defaut"
      ]
    },
    {
      "cell_type": "code",
      "metadata": {
        "id": "X9zZmYulyM02",
        "outputId": "b1164a85-ba63-44bc-d47b-920f227397f1",
        "colab": {
          "base_uri": "https://localhost:8080/"
        }
      },
      "source": [
        "lr_accuracy = test_model(lr_model, X_train, y_train)"
      ],
      "execution_count": 68,
      "outputs": [
        {
          "output_type": "stream",
          "text": [
            "[Parallel(n_jobs=1)]: Using backend SequentialBackend with 1 concurrent workers.\n",
            "[Parallel(n_jobs=1)]: Done   5 out of   5 | elapsed:    6.4s finished\n"
          ],
          "name": "stderr"
        }
      ]
    },
    {
      "cell_type": "code",
      "metadata": {
        "colab": {
          "base_uri": "https://localhost:8080/"
        },
        "id": "C0U5JVAxyU5J",
        "outputId": "0dc4d36a-1982-46ac-a562-76dc292e3c16"
      },
      "source": [
        "print(f'Précision:\\t', lr_accuracy)"
      ],
      "execution_count": 69,
      "outputs": [
        {
          "output_type": "stream",
          "text": [
            "Précision:\t 0.5405560882070949\n"
          ],
          "name": "stdout"
        }
      ]
    },
    {
      "cell_type": "markdown",
      "metadata": {
        "id": "dgVu9uwvyZTZ"
      },
      "source": [
        "### Recherche des meilleurs parametres"
      ]
    },
    {
      "cell_type": "markdown",
      "metadata": {
        "id": "lqrjJ16H6BGz"
      },
      "source": [
        "#### Influence de `max_iter`"
      ]
    },
    {
      "cell_type": "code",
      "metadata": {
        "id": "jUswOQ8Y6JNV"
      },
      "source": [
        "lr_max_iter_range = np.arange(100, 1000, 100)"
      ],
      "execution_count": 70,
      "outputs": []
    },
    {
      "cell_type": "code",
      "metadata": {
        "id": "ASwve6Yb6Sdt",
        "outputId": "96f901d8-9574-4de2-9d1f-052e01da3751",
        "colab": {
          "base_uri": "https://localhost:8080/"
        }
      },
      "source": [
        "lr_max_iter_train_score, lr_max_iter_val_score = validation_curve(lr_model, X_train, y_train, 'max_iter', lr_max_iter_range, verbose=1, n_jobs=-1)\r\n",
        "\r\n",
        "lr_max_iter_train_score = lr_max_iter_train_score.mean(axis=1)\r\n",
        "lr_max_iter_val_score = lr_max_iter_val_score.mean(axis=1)"
      ],
      "execution_count": 71,
      "outputs": [
        {
          "output_type": "stream",
          "text": [
            "[Parallel(n_jobs=-1)]: Using backend LokyBackend with 2 concurrent workers.\n",
            "[Parallel(n_jobs=-1)]: Done  45 out of  45 | elapsed:  1.7min finished\n"
          ],
          "name": "stderr"
        }
      ]
    },
    {
      "cell_type": "code",
      "metadata": {
        "colab": {
          "base_uri": "https://localhost:8080/",
          "height": 0
        },
        "id": "f55PMsX57oNw",
        "outputId": "a9af40bb-9c0b-492d-b29e-a24470cfc275"
      },
      "source": [
        "analyse_with_plot(lr_max_iter_range,\r\n",
        "                  lr_max_iter_train_score, \r\n",
        "                  lr_max_iter_val_score,\r\n",
        "                  'Valeur de max_iter',\r\n",
        "                  'Précision en fonction de la valeur de max_iter')"
      ],
      "execution_count": 72,
      "outputs": [
        {
          "output_type": "display_data",
          "data": {
            "image/png": "[encoded data removed]",
            "text/plain": [
              "<Figure size 864x432 with 1 Axes>"
            ]
          },
          "metadata": {
            "tags": [],
            "needs_background": "light"
          }
        }
      ]
    },
    {
      "cell_type": "code",
      "metadata": {
        "id": "IMrlaOt59Bo_"
      },
      "source": [
        "lr_max_iter_range = np.array([100])"
      ],
      "execution_count": 73,
      "outputs": []
    },
    {
      "cell_type": "markdown",
      "metadata": {
        "id": "R-nS3WLcyceS"
      },
      "source": [
        "#### Influence de `c`"
      ]
    },
    {
      "cell_type": "code",
      "metadata": {
        "id": "2b6ChqeCymBP"
      },
      "source": [
        "lr_c_range = np.logspace(-3, 2, 6)"
      ],
      "execution_count": 74,
      "outputs": []
    },
    {
      "cell_type": "code",
      "metadata": {
        "id": "WRJ5vhuHzCG8",
        "outputId": "6c9a0c89-e872-4aa6-838b-56f1ac45be51",
        "colab": {
          "base_uri": "https://localhost:8080/"
        }
      },
      "source": [
        "lr_c_train_score, lr_c_val_score = validation_curve(lr_model, X_train, y_train, 'C', lr_c_range, verbose=1, n_jobs=-1)\r\n",
        "\r\n",
        "lr_c_train_score = lr_c_train_score.mean(axis=1)\r\n",
        "lr_c_val_score = lr_c_val_score.mean(axis=1)"
      ],
      "execution_count": 75,
      "outputs": [
        {
          "output_type": "stream",
          "text": [
            "[Parallel(n_jobs=-1)]: Using backend LokyBackend with 2 concurrent workers.\n",
            "[Parallel(n_jobs=-1)]: Done  30 out of  30 | elapsed:   21.1s finished\n"
          ],
          "name": "stderr"
        }
      ]
    },
    {
      "cell_type": "code",
      "metadata": {
        "colab": {
          "base_uri": "https://localhost:8080/",
          "height": 0
        },
        "id": "dL2apQp4zqSd",
        "outputId": "996474a7-d274-4551-ae95-e79f70f3e0c4"
      },
      "source": [
        "analyse_with_plot(lr_c_range,\r\n",
        "                  lr_c_train_score, \r\n",
        "                  lr_c_val_score,\r\n",
        "                  'Valeur de C',\r\n",
        "                  'Précision en fonction de la valeur de C')"
      ],
      "execution_count": 76,
      "outputs": [
        {
          "output_type": "display_data",
          "data": {
            "image/png": "[encoded data removed]",
            "text/plain": [
              "<Figure size 864x432 with 1 Axes>"
            ]
          },
          "metadata": {
            "tags": [],
            "needs_background": "light"
          }
        }
      ]
    },
    {
      "cell_type": "code",
      "metadata": {
        "id": "4sI0P0fW1CQd"
      },
      "source": [
        "lr_c_range = np.logspace(0, 2, 3)"
      ],
      "execution_count": 77,
      "outputs": []
    },
    {
      "cell_type": "markdown",
      "metadata": {
        "id": "P8osM8701xe0"
      },
      "source": [
        "#### Influence de `solver`"
      ]
    },
    {
      "cell_type": "code",
      "metadata": {
        "id": "A7R03pSi2VVw"
      },
      "source": [
        "lr_solver_range = ['newton-cg', 'sag', 'saga', 'lbfgs']"
      ],
      "execution_count": 78,
      "outputs": []
    },
    {
      "cell_type": "code",
      "metadata": {
        "id": "QKC7tdNP2nkl",
        "outputId": "e3328fd8-662f-46de-dd3d-c4ea4f3d0f7e",
        "colab": {
          "base_uri": "https://localhost:8080/"
        }
      },
      "source": [
        "lr_solver_train_score, lr_solver_val_score = validation_curve(lr_model, X_train, y_train, 'solver', lr_solver_range, verbose=1, n_jobs=-1)\r\n",
        "\r\n",
        "lr_solver_train_score = lr_solver_train_score.mean(axis=1)\r\n",
        "lr_solver_val_score = lr_solver_val_score.mean(axis=1)"
      ],
      "execution_count": 79,
      "outputs": [
        {
          "output_type": "stream",
          "text": [
            "[Parallel(n_jobs=-1)]: Using backend LokyBackend with 2 concurrent workers.\n",
            "[Parallel(n_jobs=-1)]: Done  20 out of  20 | elapsed:   22.3s finished\n"
          ],
          "name": "stderr"
        }
      ]
    },
    {
      "cell_type": "code",
      "metadata": {
        "colab": {
          "base_uri": "https://localhost:8080/",
          "height": 0
        },
        "id": "ZUs6JsNy_cbS",
        "outputId": "282bff71-ee60-4862-ecce-75bf297d0685"
      },
      "source": [
        "analyse_with_bar(lr_solver_range,\r\n",
        "                 lr_solver_train_score, \r\n",
        "                 lr_solver_val_score,\r\n",
        "                 'Valeur de C',\r\n",
        "                 'Précision en fonction de la valeur de C')"
      ],
      "execution_count": 80,
      "outputs": [
        {
          "output_type": "display_data",
          "data": {
            "image/png": "[encoded data removed]",
            "text/plain": [
              "<Figure size 864x432 with 1 Axes>"
            ]
          },
          "metadata": {
            "tags": [],
            "needs_background": "light"
          }
        }
      ]
    },
    {
      "cell_type": "code",
      "metadata": {
        "id": "iakDTa-kAAbf"
      },
      "source": [
        "lr_solver_type = ['newton-cg', 'lbfgs']"
      ],
      "execution_count": 81,
      "outputs": []
    },
    {
      "cell_type": "markdown",
      "metadata": {
        "id": "EwOagZRhDmea"
      },
      "source": [
        "### Recherche du meilleur modele"
      ]
    },
    {
      "cell_type": "code",
      "metadata": {
        "colab": {
          "base_uri": "https://localhost:8080/"
        },
        "id": "R21TGMWlDorN",
        "outputId": "fceb8926-9d4d-46cd-a562-c0dff05ff1da"
      },
      "source": [
        "lr_parameters = {\r\n",
        "    'max_iter': lr_max_iter_range, \r\n",
        "    'C': lr_c_range, \r\n",
        "    'solver': lr_solver_range\r\n",
        "}\r\n",
        "\r\n",
        "lr_best_param, lr_best_model = train_model(lr_model, lr_parameters, X_train, y_train)"
      ],
      "execution_count": 82,
      "outputs": [
        {
          "output_type": "stream",
          "text": [
            "Fitting 5 folds for each of 12 candidates, totalling 60 fits\n"
          ],
          "name": "stdout"
        },
        {
          "output_type": "stream",
          "text": [
            "[Parallel(n_jobs=-1)]: Using backend LokyBackend with 2 concurrent workers.\n",
            "[Parallel(n_jobs=-1)]: Done  46 tasks      | elapsed:  1.4min\n",
            "[Parallel(n_jobs=-1)]: Done  60 out of  60 | elapsed:  1.7min finished\n"
          ],
          "name": "stderr"
        }
      ]
    },
    {
      "cell_type": "code",
      "metadata": {
        "colab": {
          "base_uri": "https://localhost:8080/"
        },
        "id": "o5T4WNRGDtHz",
        "outputId": "eb9b1586-03e7-4a45-cd23-a3458d662644"
      },
      "source": [
        "print(\"Meilleurs paramètres trouvés :\")\r\n",
        "print(lr_best_param)"
      ],
      "execution_count": 83,
      "outputs": [
        {
          "output_type": "stream",
          "text": [
            "Meilleurs paramètres trouvés :\n",
            "{'C': 10.0, 'max_iter': 100, 'solver': 'lbfgs'}\n"
          ],
          "name": "stdout"
        }
      ]
    },
    {
      "cell_type": "code",
      "metadata": {
        "id": "7oSirgnPVp54"
      },
      "source": [
        "lr_model = lr_best_model"
      ],
      "execution_count": 84,
      "outputs": []
    },
    {
      "cell_type": "markdown",
      "metadata": {
        "id": "l3ih75lCBkIO"
      },
      "source": [
        "### Comparaison"
      ]
    },
    {
      "cell_type": "code",
      "metadata": {
        "id": "JcDKxDbVBzYW"
      },
      "source": [
        "lr_accuracy_old = lr_accuracy"
      ],
      "execution_count": 85,
      "outputs": []
    },
    {
      "cell_type": "code",
      "metadata": {
        "id": "WHaE1ULhB6-g",
        "outputId": "a4cf6dc9-5ff5-4d5b-98db-6ca9d601310a",
        "colab": {
          "base_uri": "https://localhost:8080/"
        }
      },
      "source": [
        "lr_accuracy = test_model(lr_model, X_train, y_train)"
      ],
      "execution_count": 86,
      "outputs": [
        {
          "output_type": "stream",
          "text": [
            "[Parallel(n_jobs=1)]: Using backend SequentialBackend with 1 concurrent workers.\n",
            "[Parallel(n_jobs=1)]: Done   5 out of   5 | elapsed:    6.5s finished\n"
          ],
          "name": "stderr"
        }
      ]
    },
    {
      "cell_type": "code",
      "metadata": {
        "colab": {
          "base_uri": "https://localhost:8080/"
        },
        "id": "PTvVSZH8CEXa",
        "outputId": "33a7a490-245c-447f-ab09-784e76900fc5"
      },
      "source": [
        "lr_accuracy_diffrence = round(((lr_accuracy - lr_accuracy_old) * 100) / lr_accuracy_old, 2)\r\n",
        "lr_accuracy_diffrence_signe = '-' if lr_accuracy_diffrence < 0 else '+'\r\n",
        "\r\n",
        "print(f'Ancienne précision:\\t', lr_accuracy_old)\r\n",
        "print(f'Nouvelle précision:\\t', lr_accuracy, f'({lr_accuracy_diffrence_signe}{lr_accuracy_diffrence}%)')"
      ],
      "execution_count": 87,
      "outputs": [
        {
          "output_type": "stream",
          "text": [
            "Ancienne précision:\t 0.5405560882070949\n",
            "Nouvelle précision:\t 0.5413231064237776 (+0.14%)\n"
          ],
          "name": "stdout"
        }
      ]
    },
    {
      "cell_type": "markdown",
      "metadata": {
        "id": "QAwLRH4C-_A7"
      },
      "source": [
        "## Support Vector Machine (SVM)"
      ]
    },
    {
      "cell_type": "code",
      "metadata": {
        "id": "e6As91SI_HsS"
      },
      "source": [
        "from sklearn.svm import SVC"
      ],
      "execution_count": 88,
      "outputs": []
    },
    {
      "cell_type": "code",
      "metadata": {
        "id": "V75kPZR3H4Qs"
      },
      "source": [
        "svm_model = SVC()"
      ],
      "execution_count": 89,
      "outputs": []
    },
    {
      "cell_type": "markdown",
      "metadata": {
        "id": "t_Ps2pABIFa9"
      },
      "source": [
        "### Test du modele par defaut"
      ]
    },
    {
      "cell_type": "code",
      "metadata": {
        "id": "mx5ngxZ2IKMC",
        "outputId": "c128420a-409b-4275-88ed-3601f1bc8e4c",
        "colab": {
          "base_uri": "https://localhost:8080/"
        }
      },
      "source": [
        "svm_accuracy = test_model(svm_model, X_train, y_train)"
      ],
      "execution_count": 90,
      "outputs": [
        {
          "output_type": "stream",
          "text": [
            "[Parallel(n_jobs=1)]: Using backend SequentialBackend with 1 concurrent workers.\n",
            "[Parallel(n_jobs=1)]: Done   5 out of   5 | elapsed:   15.3s finished\n"
          ],
          "name": "stderr"
        }
      ]
    },
    {
      "cell_type": "code",
      "metadata": {
        "colab": {
          "base_uri": "https://localhost:8080/"
        },
        "id": "wdAjBN71IQJV",
        "outputId": "3ef0e3ff-b14c-4fd3-937c-f11222c04a6b"
      },
      "source": [
        "print(f'Précision:\\t', svm_accuracy)"
      ],
      "execution_count": 91,
      "outputs": [
        {
          "output_type": "stream",
          "text": [
            "Précision:\t 0.653307766059444\n"
          ],
          "name": "stdout"
        }
      ]
    },
    {
      "cell_type": "markdown",
      "metadata": {
        "id": "TncqLpU7qZkk"
      },
      "source": [
        "### Recherche des meilleurs parametres"
      ]
    },
    {
      "cell_type": "markdown",
      "metadata": {
        "id": "4SrwOt-2Ihw7"
      },
      "source": [
        "#### Influence du `kernel`"
      ]
    },
    {
      "cell_type": "code",
      "metadata": {
        "id": "2vUhhGUjIlCT"
      },
      "source": [
        "svm_kernel_range = ['rbf', 'sigmoid', 'linear']"
      ],
      "execution_count": 92,
      "outputs": []
    },
    {
      "cell_type": "code",
      "metadata": {
        "id": "2bnON5DOI3Hj",
        "outputId": "0d30c484-76e9-4c79-8ea7-3d6ec3557b35",
        "colab": {
          "base_uri": "https://localhost:8080/"
        }
      },
      "source": [
        "svm_kernel_train_score, svm_kernel_val_score = validation_curve(svm_model, X_train, y_train, 'kernel', svm_kernel_range, verbose=1, n_jobs=-1)\r\n",
        "\r\n",
        "svm_kernel_train_score = svm_kernel_train_score.mean(axis=1)\r\n",
        "svm_kernel_val_score = svm_kernel_val_score.mean(axis=1)"
      ],
      "execution_count": 93,
      "outputs": [
        {
          "output_type": "stream",
          "text": [
            "[Parallel(n_jobs=-1)]: Using backend LokyBackend with 2 concurrent workers.\n",
            "[Parallel(n_jobs=-1)]: Done  15 out of  15 | elapsed:  1.0min finished\n"
          ],
          "name": "stderr"
        }
      ]
    },
    {
      "cell_type": "code",
      "metadata": {
        "colab": {
          "base_uri": "https://localhost:8080/",
          "height": 404
        },
        "id": "3BmpxixpJUj0",
        "outputId": "ed91b575-8853-4ddb-9df4-abc2721b4523"
      },
      "source": [
        "analyse_with_bar(svm_kernel_range,\r\n",
        "                 svm_kernel_train_score, \r\n",
        "                 svm_kernel_val_score,\r\n",
        "                 'Valeur du type de solver',\r\n",
        "                 'Précision en fonction du type de solver')"
      ],
      "execution_count": 94,
      "outputs": [
        {
          "output_type": "display_data",
          "data": {
            "image/png": "[encoded data removed]",
            "text/plain": [
              "<Figure size 864x432 with 1 Axes>"
            ]
          },
          "metadata": {
            "tags": [],
            "needs_background": "light"
          }
        }
      ]
    },
    {
      "cell_type": "code",
      "metadata": {
        "id": "sgCJKQTxJjPS"
      },
      "source": [
        "svm_kernel_range = ['rbf']"
      ],
      "execution_count": 95,
      "outputs": []
    },
    {
      "cell_type": "markdown",
      "metadata": {
        "id": "fFuiot2jIlUm"
      },
      "source": [
        "#### Influence du `gamma`"
      ]
    },
    {
      "cell_type": "code",
      "metadata": {
        "id": "Niip9_Q3IpbG"
      },
      "source": [
        "svm_gamma_range = np.logspace(-3, 2, 6)"
      ],
      "execution_count": 96,
      "outputs": []
    },
    {
      "cell_type": "code",
      "metadata": {
        "id": "lPZQUh8TJtB6",
        "outputId": "4e38053c-dc19-4e50-e690-048c60cf0b3f",
        "colab": {
          "base_uri": "https://localhost:8080/"
        }
      },
      "source": [
        "svm_gamma_train_score, svm_gamma_val_score = validation_curve(svm_model, X_train, y_train, 'gamma', svm_gamma_range, verbose=1, n_jobs=-1)\r\n",
        "\r\n",
        "svm_gamma_train_score = svm_gamma_train_score.mean(axis=1)\r\n",
        "svm_gamma_val_score = svm_gamma_val_score.mean(axis=1)"
      ],
      "execution_count": 97,
      "outputs": [
        {
          "output_type": "stream",
          "text": [
            "[Parallel(n_jobs=-1)]: Using backend LokyBackend with 2 concurrent workers.\n",
            "[Parallel(n_jobs=-1)]: Done  30 out of  30 | elapsed:  3.8min finished\n"
          ],
          "name": "stderr"
        }
      ]
    },
    {
      "cell_type": "code",
      "metadata": {
        "colab": {
          "base_uri": "https://localhost:8080/",
          "height": 404
        },
        "id": "Q_nhT5PnKKXq",
        "outputId": "039a31c4-7087-48cf-d84e-d8e6f38b34d2"
      },
      "source": [
        "analyse_with_plot(svm_gamma_range,\r\n",
        "                  svm_gamma_train_score, \r\n",
        "                  svm_gamma_val_score,\r\n",
        "                  'Valeur du gamma',\r\n",
        "                  'Précision en fonction du gamma')"
      ],
      "execution_count": 98,
      "outputs": [
        {
          "output_type": "display_data",
          "data": {
            "image/png": "[encoded data removed]",
            "text/plain": [
              "<Figure size 864x432 with 1 Axes>"
            ]
          },
          "metadata": {
            "tags": [],
            "needs_background": "light"
          }
        }
      ]
    },
    {
      "cell_type": "code",
      "metadata": {
        "id": "V58_jl1uKTD8"
      },
      "source": [
        "svm_gamma_range = np.logspace(-1, 0, 2)"
      ],
      "execution_count": 99,
      "outputs": []
    },
    {
      "cell_type": "markdown",
      "metadata": {
        "id": "0utlqgL3Ip0H"
      },
      "source": [
        "#### Influence de `C`"
      ]
    },
    {
      "cell_type": "code",
      "metadata": {
        "id": "sFYfaPV4It2r"
      },
      "source": [
        "svm_c_range = np.logspace(1, 4, 4)"
      ],
      "execution_count": 100,
      "outputs": []
    },
    {
      "cell_type": "code",
      "metadata": {
        "id": "jwjTqWsIKjeS",
        "outputId": "e1c0b29b-d424-4724-a0e8-b5c37025c830",
        "colab": {
          "base_uri": "https://localhost:8080/"
        }
      },
      "source": [
        "svm_c_train_score, svm_c_val_score = validation_curve(svm_model, X_train, y_train, 'C', svm_c_range, verbose=1, n_jobs=-1)\r\n",
        "\r\n",
        "svm_c_train_score = svm_c_train_score.mean(axis=1)\r\n",
        "svm_c_val_score = svm_c_val_score.mean(axis=1)"
      ],
      "execution_count": 101,
      "outputs": [
        {
          "output_type": "stream",
          "text": [
            "[Parallel(n_jobs=-1)]: Using backend LokyBackend with 2 concurrent workers.\n",
            "[Parallel(n_jobs=-1)]: Done  20 out of  20 | elapsed:  3.6min finished\n"
          ],
          "name": "stderr"
        }
      ]
    },
    {
      "cell_type": "code",
      "metadata": {
        "colab": {
          "base_uri": "https://localhost:8080/",
          "height": 404
        },
        "id": "QO1wHH6gK25P",
        "outputId": "30aef9da-1346-4011-8ead-d233aaf3d151"
      },
      "source": [
        "analyse_with_plot(svm_c_range,\r\n",
        "                  svm_c_train_score, \r\n",
        "                  svm_c_val_score,\r\n",
        "                  'Valeur de C',\r\n",
        "                  'Précision en fonction de C')"
      ],
      "execution_count": 102,
      "outputs": [
        {
          "output_type": "display_data",
          "data": {
            "image/png": "[encoded data removed]",
            "text/plain": [
              "<Figure size 864x432 with 1 Axes>"
            ]
          },
          "metadata": {
            "tags": [],
            "needs_background": "light"
          }
        }
      ]
    },
    {
      "cell_type": "code",
      "metadata": {
        "id": "vEdwRRxTK4kU"
      },
      "source": [
        "svm_c_range = np.logspace(2, 4, 3)"
      ],
      "execution_count": 103,
      "outputs": []
    },
    {
      "cell_type": "markdown",
      "metadata": {
        "id": "W3-vahUUIuXE"
      },
      "source": [
        "### Recherche du meilleur modele"
      ]
    },
    {
      "cell_type": "code",
      "metadata": {
        "colab": {
          "base_uri": "https://localhost:8080/"
        },
        "id": "2KP_wbxw7rgi",
        "outputId": "48d2902c-3cb6-49ef-b064-dea74bbdc06b"
      },
      "source": [
        "svm_parameters = {\r\n",
        "    'kernel': svm_kernel_range, \r\n",
        "    'gamma': svm_gamma_range, \r\n",
        "    'C': svm_c_range\r\n",
        "}\r\n",
        "\r\n",
        "svm_best_param, svm_best_model = train_model(svm_model, svm_parameters, X_train, y_train)"
      ],
      "execution_count": 104,
      "outputs": [
        {
          "output_type": "stream",
          "text": [
            "Fitting 5 folds for each of 6 candidates, totalling 30 fits\n"
          ],
          "name": "stdout"
        },
        {
          "output_type": "stream",
          "text": [
            "[Parallel(n_jobs=-1)]: Using backend LokyBackend with 2 concurrent workers.\n",
            "[Parallel(n_jobs=-1)]: Done  30 out of  30 | elapsed:  6.0min finished\n"
          ],
          "name": "stderr"
        }
      ]
    },
    {
      "cell_type": "code",
      "metadata": {
        "colab": {
          "base_uri": "https://localhost:8080/"
        },
        "id": "-kjt4BDV8aKA",
        "outputId": "d9612dcc-1bd6-4c91-98ba-7c7621de48bd"
      },
      "source": [
        "print(\"Meilleurs paramètres trouvés :\")\r\n",
        "print(svm_best_param)"
      ],
      "execution_count": 105,
      "outputs": [
        {
          "output_type": "stream",
          "text": [
            "Meilleurs paramètres trouvés :\n",
            "{'C': 10000.0, 'gamma': 0.1, 'kernel': 'rbf'}\n"
          ],
          "name": "stdout"
        }
      ]
    },
    {
      "cell_type": "code",
      "metadata": {
        "id": "SvkwtJLrEYX7"
      },
      "source": [
        "svm_model = svm_best_model"
      ],
      "execution_count": 106,
      "outputs": []
    },
    {
      "cell_type": "markdown",
      "metadata": {
        "id": "seNMTxNZElGl"
      },
      "source": [
        "### Comparaison"
      ]
    },
    {
      "cell_type": "code",
      "metadata": {
        "id": "2etYKcaJEaXY"
      },
      "source": [
        "svm_accuracy_old = svm_accuracy"
      ],
      "execution_count": 107,
      "outputs": []
    },
    {
      "cell_type": "code",
      "metadata": {
        "id": "dg_zScsRUItI",
        "outputId": "51fb2167-e8f7-4f4a-d0ea-0dc51c0e6503",
        "colab": {
          "base_uri": "https://localhost:8080/"
        }
      },
      "source": [
        "svm_accuracy = test_model(svm_model, X_train, y_train)"
      ],
      "execution_count": 108,
      "outputs": [
        {
          "output_type": "stream",
          "text": [
            "[Parallel(n_jobs=1)]: Using backend SequentialBackend with 1 concurrent workers.\n",
            "[Parallel(n_jobs=1)]: Done   5 out of   5 | elapsed:  3.1min finished\n"
          ],
          "name": "stderr"
        }
      ]
    },
    {
      "cell_type": "code",
      "metadata": {
        "colab": {
          "base_uri": "https://localhost:8080/"
        },
        "id": "cFmuEAzOYCUz",
        "outputId": "49df9786-8430-4929-cb1f-7dea6d42789e"
      },
      "source": [
        "svm_accuracy_diffrence = round(((svm_accuracy - svm_accuracy_old) * 100) / svm_accuracy_old, 2)\r\n",
        "svm_accuracy_diffrence_signe = '-' if svm_accuracy_diffrence < 0 else '+'\r\n",
        "\r\n",
        "print(f'Ancienne précision:\\t', svm_accuracy_old)\r\n",
        "print(f'Nouvelle précision:\\t', svm_accuracy, f'({svm_accuracy_diffrence_signe}{svm_accuracy_diffrence}%)')"
      ],
      "execution_count": 109,
      "outputs": [
        {
          "output_type": "stream",
          "text": [
            "Ancienne précision:\t 0.653307766059444\n",
            "Nouvelle précision:\t 0.8574304889741132 (+31.24%)\n"
          ],
          "name": "stdout"
        }
      ]
    },
    {
      "cell_type": "markdown",
      "metadata": {
        "id": "IWzewIUm_JpO"
      },
      "source": [
        "## Random forest"
      ]
    },
    {
      "cell_type": "code",
      "metadata": {
        "id": "E3Y8t14u_NS1"
      },
      "source": [
        "from sklearn.ensemble import RandomForestClassifier"
      ],
      "execution_count": 110,
      "outputs": []
    },
    {
      "cell_type": "code",
      "metadata": {
        "id": "KQeVpFknFOc-"
      },
      "source": [
        "rf_model = RandomForestClassifier()"
      ],
      "execution_count": 111,
      "outputs": []
    },
    {
      "cell_type": "markdown",
      "metadata": {
        "id": "1pfbKDdtZ0IW"
      },
      "source": [
        "### Test du modele par defaut"
      ]
    },
    {
      "cell_type": "code",
      "metadata": {
        "id": "yDZ8pJBBZ3id",
        "outputId": "2a3ce8f9-4b38-4d00-8d09-c7c6791a0bec",
        "colab": {
          "base_uri": "https://localhost:8080/"
        }
      },
      "source": [
        "rf_accuracy = test_model(rf_model, X_train, y_train)"
      ],
      "execution_count": 112,
      "outputs": [
        {
          "output_type": "stream",
          "text": [
            "[Parallel(n_jobs=1)]: Using backend SequentialBackend with 1 concurrent workers.\n",
            "[Parallel(n_jobs=1)]: Done   5 out of   5 | elapsed:    7.1s finished\n"
          ],
          "name": "stderr"
        }
      ]
    },
    {
      "cell_type": "code",
      "metadata": {
        "colab": {
          "base_uri": "https://localhost:8080/"
        },
        "id": "lzX7tIwEaEti",
        "outputId": "02144699-27c3-4191-d2c4-8e2807ec422c"
      },
      "source": [
        "print(f'Précision:\\t', rf_accuracy)"
      ],
      "execution_count": 113,
      "outputs": [
        {
          "output_type": "stream",
          "text": [
            "Précision:\t 0.9910834132310642\n"
          ],
          "name": "stdout"
        }
      ]
    },
    {
      "cell_type": "markdown",
      "metadata": {
        "id": "nqVQjfcWYsLF"
      },
      "source": [
        "### Recherche des meilleurs parametres"
      ]
    },
    {
      "cell_type": "markdown",
      "metadata": {
        "id": "txs-QBotZALI"
      },
      "source": [
        "#### Influence de `n_estimators`"
      ]
    },
    {
      "cell_type": "code",
      "metadata": {
        "id": "zWnoJSsIZEn-"
      },
      "source": [
        "rf_estimators_range = np.arange(100, 1100, 200)"
      ],
      "execution_count": 114,
      "outputs": []
    },
    {
      "cell_type": "code",
      "metadata": {
        "id": "eo6zZHMsamFQ",
        "outputId": "e0747376-a65d-4edd-f975-a54260d40861",
        "colab": {
          "base_uri": "https://localhost:8080/"
        }
      },
      "source": [
        "rf_estimators_train_score, rf_estimators_val_score = validation_curve(rf_model, X_train, y_train, 'n_estimators', rf_estimators_range, verbose=1)\r\n",
        "\r\n",
        "rf_estimators_train_score = rf_estimators_train_score.mean(axis=1)\r\n",
        "rf_estimators_val_score = rf_estimators_val_score.mean(axis=1)"
      ],
      "execution_count": 115,
      "outputs": [
        {
          "output_type": "stream",
          "text": [
            "[Parallel(n_jobs=1)]: Using backend SequentialBackend with 1 concurrent workers.\n",
            "[Parallel(n_jobs=1)]: Done  25 out of  25 | elapsed:  3.3min finished\n"
          ],
          "name": "stderr"
        }
      ]
    },
    {
      "cell_type": "code",
      "metadata": {
        "id": "mNUoixWza9zo",
        "outputId": "a6f54404-a7e2-4486-a67c-42e52aada33b",
        "colab": {
          "base_uri": "https://localhost:8080/",
          "height": 404
        }
      },
      "source": [
        "analyse_with_plot(rf_estimators_range,\r\n",
        "                  rf_estimators_train_score, \r\n",
        "                  rf_estimators_val_score,\r\n",
        "                  'Nombre d\\'estimations',\r\n",
        "                  'Précision en fonction du nombre d\\'estimations')"
      ],
      "execution_count": 116,
      "outputs": [
        {
          "output_type": "display_data",
          "data": {
            "image/png": "[encoded data removed]",
            "text/plain": [
              "<Figure size 864x432 with 1 Axes>"
            ]
          },
          "metadata": {
            "tags": [],
            "needs_background": "light"
          }
        }
      ]
    },
    {
      "cell_type": "code",
      "metadata": {
        "id": "36YvVlr3coux"
      },
      "source": [
        "rf_estimators_range = [700]"
      ],
      "execution_count": 117,
      "outputs": []
    },
    {
      "cell_type": "markdown",
      "metadata": {
        "id": "7_VOF9rQZaKx"
      },
      "source": [
        "#### Influence de `criterion`"
      ]
    },
    {
      "cell_type": "code",
      "metadata": {
        "id": "vNNqQCIOZfFG"
      },
      "source": [
        "rf_criterion_range = ['gini', 'entropy']"
      ],
      "execution_count": 118,
      "outputs": []
    },
    {
      "cell_type": "code",
      "metadata": {
        "id": "2iOiGgd5eWWv",
        "outputId": "cdb3a331-85c3-445c-a847-75b32129c555",
        "colab": {
          "base_uri": "https://localhost:8080/"
        }
      },
      "source": [
        "rf_criterion_train_score, rf_criterion_val_score = validation_curve(rf_model, X_train, y_train, 'criterion', rf_criterion_range, verbose=1)\r\n",
        "\r\n",
        "rf_criterion_train_score = rf_criterion_train_score.mean(axis=1)\r\n",
        "rf_criterion_val_score = rf_criterion_val_score.mean(axis=1)"
      ],
      "execution_count": 119,
      "outputs": [
        {
          "output_type": "stream",
          "text": [
            "[Parallel(n_jobs=1)]: Using backend SequentialBackend with 1 concurrent workers.\n",
            "[Parallel(n_jobs=1)]: Done  10 out of  10 | elapsed:   22.2s finished\n"
          ],
          "name": "stderr"
        }
      ]
    },
    {
      "cell_type": "code",
      "metadata": {
        "id": "6vrsNA5Me9SE",
        "outputId": "596c6a67-5374-412a-c818-cb9f5d773960",
        "colab": {
          "base_uri": "https://localhost:8080/",
          "height": 404
        }
      },
      "source": [
        "analyse_with_bar(rf_criterion_range,\r\n",
        "                 rf_criterion_train_score, \r\n",
        "                 rf_criterion_val_score,\r\n",
        "                 'Type de criterion',\r\n",
        "                 'Précision en fonction du type de criterion')"
      ],
      "execution_count": 120,
      "outputs": [
        {
          "output_type": "display_data",
          "data": {
            "image/png": "[encoded data removed]",
            "text/plain": [
              "<Figure size 864x432 with 1 Axes>"
            ]
          },
          "metadata": {
            "tags": [],
            "needs_background": "light"
          }
        }
      ]
    },
    {
      "cell_type": "code",
      "metadata": {
        "id": "Usbqv_T6fLMv"
      },
      "source": [
        "rf_criterion_range = ['gini', 'entropy']"
      ],
      "execution_count": 121,
      "outputs": []
    },
    {
      "cell_type": "markdown",
      "metadata": {
        "id": "htiX2eUnZkGg"
      },
      "source": [
        "#### Influence de `max_depth`"
      ]
    },
    {
      "cell_type": "code",
      "metadata": {
        "id": "L9xsJp5bZnHq"
      },
      "source": [
        "rf_depth_range = np.arange(10, 40, 5)"
      ],
      "execution_count": 122,
      "outputs": []
    },
    {
      "cell_type": "code",
      "metadata": {
        "id": "T9ZCDwmBgbLL",
        "outputId": "c7c44d76-0676-45fe-b9d1-87d9838b2371",
        "colab": {
          "base_uri": "https://localhost:8080/"
        }
      },
      "source": [
        "rf_depth_train_score, rf_depth_val_score = validation_curve(rf_model, X_train, y_train, 'max_depth', rf_depth_range, verbose=1)\r\n",
        "\r\n",
        "rf_depth_train_score = rf_depth_train_score.mean(axis=1)\r\n",
        "rf_depth_val_score = rf_depth_val_score.mean(axis=1)"
      ],
      "execution_count": 123,
      "outputs": [
        {
          "output_type": "stream",
          "text": [
            "[Parallel(n_jobs=1)]: Using backend SequentialBackend with 1 concurrent workers.\n",
            "[Parallel(n_jobs=1)]: Done  30 out of  30 | elapsed:   45.1s finished\n"
          ],
          "name": "stderr"
        }
      ]
    },
    {
      "cell_type": "code",
      "metadata": {
        "id": "ZhCXZmW0gpCP",
        "outputId": "12bb26e3-f9f5-4eb4-ff7d-9d6c75d53f5f",
        "colab": {
          "base_uri": "https://localhost:8080/",
          "height": 0
        }
      },
      "source": [
        "analyse_with_plot(rf_depth_range,\r\n",
        "                  rf_depth_train_score, \r\n",
        "                  rf_depth_val_score,\r\n",
        "                  'Profondeur maximal',\r\n",
        "                  'Précision en fonction de la profondeur maximal')"
      ],
      "execution_count": 124,
      "outputs": [
        {
          "output_type": "display_data",
          "data": {
            "image/png": "[encoded data removed]",
            "text/plain": [
              "<Figure size 864x432 with 1 Axes>"
            ]
          },
          "metadata": {
            "tags": [],
            "needs_background": "light"
          }
        }
      ]
    },
    {
      "cell_type": "code",
      "metadata": {
        "id": "u8vSjZ2qhNGZ"
      },
      "source": [
        "rf_depth_range = [20]"
      ],
      "execution_count": 125,
      "outputs": []
    },
    {
      "cell_type": "markdown",
      "metadata": {
        "id": "ceju_ojZZx50"
      },
      "source": [
        "#### Influence de `min_samples_split`"
      ]
    },
    {
      "cell_type": "code",
      "metadata": {
        "id": "FWVRFvghZ0R1"
      },
      "source": [
        "rf_min_samples_split_range = list(np.arange(2, 11, 2))"
      ],
      "execution_count": 126,
      "outputs": []
    },
    {
      "cell_type": "code",
      "metadata": {
        "colab": {
          "base_uri": "https://localhost:8080/"
        },
        "id": "BC1maRw9iF8E",
        "outputId": "93a8399c-e718-4f73-cc74-05eb7f129e86"
      },
      "source": [
        "rf_min_samples_split_train_score, rf_min_samples_split_val_score = validation_curve(rf_model, X_train, y_train, 'min_samples_split', rf_min_samples_split_range, verbose=1)\r\n",
        "\r\n",
        "rf_min_samples_split_train_score = rf_min_samples_split_train_score.mean(axis=1)\r\n",
        "rf_min_samples_split_val_score = rf_min_samples_split_val_score.mean(axis=1)"
      ],
      "execution_count": 127,
      "outputs": [
        {
          "output_type": "stream",
          "text": [
            "[Parallel(n_jobs=1)]: Using backend SequentialBackend with 1 concurrent workers.\n",
            "[Parallel(n_jobs=1)]: Done  25 out of  25 | elapsed:   38.6s finished\n"
          ],
          "name": "stderr"
        }
      ]
    },
    {
      "cell_type": "code",
      "metadata": {
        "colab": {
          "base_uri": "https://localhost:8080/",
          "height": 405
        },
        "id": "CtOzGwRAi5hi",
        "outputId": "df4810cf-1af9-43d7-a9ec-ea76422f395a"
      },
      "source": [
        "analyse_with_plot(rf_min_samples_split_range,\r\n",
        "                  rf_min_samples_split_train_score, \r\n",
        "                  rf_min_samples_split_val_score,\r\n",
        "                  'Nombre minimal de séparation',\r\n",
        "                  'Précision en fonction du nombre du nombre minimal de séparation')"
      ],
      "execution_count": 128,
      "outputs": [
        {
          "output_type": "display_data",
          "data": {
            "image/png": "[encoded data removed]",
            "text/plain": [
              "<Figure size 864x432 with 1 Axes>"
            ]
          },
          "metadata": {
            "tags": [],
            "needs_background": "light"
          }
        }
      ]
    },
    {
      "cell_type": "code",
      "metadata": {
        "id": "YJ5V2HqgjRtG"
      },
      "source": [
        "rf_min_samples_split_range = [2]"
      ],
      "execution_count": 129,
      "outputs": []
    },
    {
      "cell_type": "markdown",
      "metadata": {
        "id": "_Y8_cjAkZ2iv"
      },
      "source": [
        "#### Influence de `min_samples_leaf`"
      ]
    },
    {
      "cell_type": "code",
      "metadata": {
        "id": "5pnc9oqcZ5hd"
      },
      "source": [
        "rf_min_samples_leaf_range = list(np.arange(1, 5, 1))"
      ],
      "execution_count": 130,
      "outputs": []
    },
    {
      "cell_type": "code",
      "metadata": {
        "colab": {
          "base_uri": "https://localhost:8080/"
        },
        "id": "m_18w4Mzj0Xx",
        "outputId": "f3397fa7-aa5f-4924-a110-5235d79463cc"
      },
      "source": [
        "rf_min_samples_leaf_train_score, rf_min_samples_leaf_val_score = validation_curve(rf_model, X_train, y_train, 'min_samples_leaf', rf_min_samples_leaf_range, verbose=1)\r\n",
        "\r\n",
        "rf_min_samples_leaf_train_score = rf_min_samples_leaf_train_score.mean(axis=1)\r\n",
        "rf_min_samples_leaf_val_score = rf_min_samples_leaf_val_score.mean(axis=1)"
      ],
      "execution_count": 131,
      "outputs": [
        {
          "output_type": "stream",
          "text": [
            "[Parallel(n_jobs=1)]: Using backend SequentialBackend with 1 concurrent workers.\n",
            "[Parallel(n_jobs=1)]: Done  20 out of  20 | elapsed:   30.9s finished\n"
          ],
          "name": "stderr"
        }
      ]
    },
    {
      "cell_type": "code",
      "metadata": {
        "colab": {
          "base_uri": "https://localhost:8080/",
          "height": 404
        },
        "id": "TvMjp_yfj8YG",
        "outputId": "43ce05ae-9da4-4933-cc62-e7ca819f5a3a"
      },
      "source": [
        "analyse_with_plot(rf_min_samples_leaf_range,\r\n",
        "                  rf_min_samples_leaf_train_score, \r\n",
        "                  rf_min_samples_leaf_val_score,\r\n",
        "                  'Nombre minimal de feuilles',\r\n",
        "                  'Précision en fonction du nombre du nombre minimal de feuilles')"
      ],
      "execution_count": 132,
      "outputs": [
        {
          "output_type": "display_data",
          "data": {
            "image/png": "[encoded data removed]",
            "text/plain": [
              "<Figure size 864x432 with 1 Axes>"
            ]
          },
          "metadata": {
            "tags": [],
            "needs_background": "light"
          }
        }
      ]
    },
    {
      "cell_type": "code",
      "metadata": {
        "id": "elnPM0kXkR76"
      },
      "source": [
        "rf_min_samples_leaf_range = [1]"
      ],
      "execution_count": 133,
      "outputs": []
    },
    {
      "cell_type": "markdown",
      "metadata": {
        "id": "BgPQ3me5ZE6Y"
      },
      "source": [
        "#### Influence de `max_features`"
      ]
    },
    {
      "cell_type": "code",
      "metadata": {
        "id": "C4he2d9NZZ0g"
      },
      "source": [
        "rf_max_features_range = ['auto', 'sqrt']"
      ],
      "execution_count": 134,
      "outputs": []
    },
    {
      "cell_type": "code",
      "metadata": {
        "id": "dh5A_4thkgJC",
        "outputId": "084415e2-bd54-44ae-bc44-24fa20b8f69b",
        "colab": {
          "base_uri": "https://localhost:8080/"
        }
      },
      "source": [
        "rf_max_features_train_score, rf_max_features_val_score = validation_curve(rf_model, X_train, y_train, 'max_features', rf_max_features_range, verbose=1)\r\n",
        "\r\n",
        "rf_max_features_train_score = rf_max_features_train_score.mean(axis=1)\r\n",
        "rf_max_features_val_score = rf_max_features_val_score.mean(axis=1)"
      ],
      "execution_count": 135,
      "outputs": [
        {
          "output_type": "stream",
          "text": [
            "[Parallel(n_jobs=1)]: Using backend SequentialBackend with 1 concurrent workers.\n",
            "[Parallel(n_jobs=1)]: Done  10 out of  10 | elapsed:   15.8s finished\n"
          ],
          "name": "stderr"
        }
      ]
    },
    {
      "cell_type": "code",
      "metadata": {
        "id": "n4RMsbBUkhX6",
        "outputId": "46f33231-68c1-49c8-c7d2-9f9456a9b513",
        "colab": {
          "base_uri": "https://localhost:8080/",
          "height": 404
        }
      },
      "source": [
        "analyse_with_bar(rf_max_features_range,\r\n",
        "                 rf_max_features_train_score, \r\n",
        "                 rf_max_features_val_score,\r\n",
        "                 'Nombre maximal de features',\r\n",
        "                 'Précision en fonction du nombre du nombre maximal de features')"
      ],
      "execution_count": 136,
      "outputs": [
        {
          "output_type": "display_data",
          "data": {
            "image/png": "[encoded data removed]",
            "text/plain": [
              "<Figure size 864x432 with 1 Axes>"
            ]
          },
          "metadata": {
            "tags": [],
            "needs_background": "light"
          }
        }
      ]
    },
    {
      "cell_type": "code",
      "metadata": {
        "id": "v2N1z8i5kyyU"
      },
      "source": [
        "rf_max_features_range = ['auto', 'sqrt']"
      ],
      "execution_count": 137,
      "outputs": []
    },
    {
      "cell_type": "markdown",
      "metadata": {
        "id": "-4QVLj-Ilrpw"
      },
      "source": [
        "### Recherche du meilleur modele"
      ]
    },
    {
      "cell_type": "code",
      "metadata": {
        "colab": {
          "base_uri": "https://localhost:8080/"
        },
        "id": "0NAvX-uplvKm",
        "outputId": "87db00db-ee21-44ed-fee3-190cc882f154"
      },
      "source": [
        "rf_parameters = {\r\n",
        "    'n_estimators': rf_estimators_range,\r\n",
        "    'criterion': rf_criterion_range,\r\n",
        "    'max_depth': rf_depth_range,\r\n",
        "    'min_samples_split': rf_min_samples_split_range,\r\n",
        "    'min_samples_leaf': rf_min_samples_leaf_range,\r\n",
        "    'max_features': rf_max_features_range\r\n",
        "}\r\n",
        "\r\n",
        "rf_best_param, rf_best_model = train_model(rf_model, rf_parameters, X_train, y_train)"
      ],
      "execution_count": 138,
      "outputs": [
        {
          "output_type": "stream",
          "text": [
            "Fitting 5 folds for each of 4 candidates, totalling 20 fits\n"
          ],
          "name": "stdout"
        },
        {
          "output_type": "stream",
          "text": [
            "[Parallel(n_jobs=-1)]: Using backend LokyBackend with 2 concurrent workers.\n",
            "[Parallel(n_jobs=-1)]: Done  20 out of  20 | elapsed:  3.5min finished\n"
          ],
          "name": "stderr"
        }
      ]
    },
    {
      "cell_type": "code",
      "metadata": {
        "colab": {
          "base_uri": "https://localhost:8080/"
        },
        "id": "AZDHc_6tmb99",
        "outputId": "d41b6fff-2c35-4406-9d20-c9a8e9c83aff"
      },
      "source": [
        "print(\"Meilleurs paramètres trouvés :\")\r\n",
        "print(rf_best_param)"
      ],
      "execution_count": 139,
      "outputs": [
        {
          "output_type": "stream",
          "text": [
            "Meilleurs paramètres trouvés :\n",
            "{'criterion': 'entropy', 'max_depth': 20, 'max_features': 'sqrt', 'min_samples_leaf': 1, 'min_samples_split': 2, 'n_estimators': 700}\n"
          ],
          "name": "stdout"
        }
      ]
    },
    {
      "cell_type": "code",
      "metadata": {
        "id": "cqXczAPbmfin"
      },
      "source": [
        "rf_model = rf_best_model"
      ],
      "execution_count": 140,
      "outputs": []
    },
    {
      "cell_type": "markdown",
      "metadata": {
        "id": "KmS2PFp_oEDS"
      },
      "source": [
        "### Comparaison"
      ]
    },
    {
      "cell_type": "code",
      "metadata": {
        "id": "J0v43zvRoGkn"
      },
      "source": [
        "rf_accuracy_old = rf_accuracy"
      ],
      "execution_count": 141,
      "outputs": []
    },
    {
      "cell_type": "code",
      "metadata": {
        "colab": {
          "base_uri": "https://localhost:8080/"
        },
        "id": "phjvM19YoV35",
        "outputId": "de03f99a-d7fc-4841-be4e-1315257a39e9"
      },
      "source": [
        "rf_accuracy = test_model(rf_model, X_train, y_train)"
      ],
      "execution_count": 142,
      "outputs": [
        {
          "output_type": "stream",
          "text": [
            "[Parallel(n_jobs=1)]: Using backend SequentialBackend with 1 concurrent workers.\n",
            "[Parallel(n_jobs=1)]: Done   5 out of   5 | elapsed:  1.6min finished\n"
          ],
          "name": "stderr"
        }
      ]
    },
    {
      "cell_type": "code",
      "metadata": {
        "colab": {
          "base_uri": "https://localhost:8080/"
        },
        "id": "0ME6ssYqodPy",
        "outputId": "4b1c7bb6-c4b9-4907-ee3c-09135011907d"
      },
      "source": [
        "rf_accuracy_diffrence = round(((rf_accuracy - rf_accuracy_old) * 100) / rf_accuracy_old, 2)\r\n",
        "rf_accuracy_diffrence_signe = '-' if rf_accuracy_diffrence < 0 else '+'\r\n",
        "\r\n",
        "print(f'Ancienne précision:\\t', rf_accuracy_old)\r\n",
        "print(f'Nouvelle précision:\\t', rf_accuracy, f'({rf_accuracy_diffrence_signe}{rf_accuracy_diffrence}%)')"
      ],
      "execution_count": 143,
      "outputs": [
        {
          "output_type": "stream",
          "text": [
            "Ancienne précision:\t 0.9910834132310642\n",
            "Nouvelle précision:\t 0.9941514860977948 (+0.31%)\n"
          ],
          "name": "stdout"
        }
      ]
    },
    {
      "cell_type": "markdown",
      "metadata": {
        "id": "mMY272r4_NiI"
      },
      "source": [
        "## Decision tree"
      ]
    },
    {
      "cell_type": "code",
      "metadata": {
        "id": "jE8VAORt_Ru9"
      },
      "source": [
        "from sklearn.tree import DecisionTreeClassifier"
      ],
      "execution_count": 144,
      "outputs": []
    },
    {
      "cell_type": "code",
      "metadata": {
        "id": "1yqNAchuFuEQ"
      },
      "source": [
        "dt_model = DecisionTreeClassifier()"
      ],
      "execution_count": 145,
      "outputs": []
    },
    {
      "cell_type": "markdown",
      "metadata": {
        "id": "z0H6myARFnuk"
      },
      "source": [
        "### Test du model par defaut"
      ]
    },
    {
      "cell_type": "code",
      "metadata": {
        "id": "T_QBbaGyFp23",
        "outputId": "805ca8c9-d047-4df4-ec70-f1ee1a16006b",
        "colab": {
          "base_uri": "https://localhost:8080/"
        }
      },
      "source": [
        "dt_accuracy = test_model(dt_model, X_train, y_train)"
      ],
      "execution_count": 146,
      "outputs": [
        {
          "output_type": "stream",
          "text": [
            "[Parallel(n_jobs=1)]: Using backend SequentialBackend with 1 concurrent workers.\n",
            "[Parallel(n_jobs=1)]: Done   5 out of   5 | elapsed:    0.3s finished\n"
          ],
          "name": "stderr"
        }
      ]
    },
    {
      "cell_type": "code",
      "metadata": {
        "colab": {
          "base_uri": "https://localhost:8080/"
        },
        "id": "ZdFN1-BNWbTo",
        "outputId": "5cd07437-6ab8-40ae-cd75-c6142315aeaa"
      },
      "source": [
        "print(f'Précision:\\t', dt_accuracy)"
      ],
      "execution_count": 147,
      "outputs": [
        {
          "output_type": "stream",
          "text": [
            "Précision:\t 0.9699904122722914\n"
          ],
          "name": "stdout"
        }
      ]
    },
    {
      "cell_type": "markdown",
      "metadata": {
        "id": "21nxxHV7sXnW"
      },
      "source": [
        "### Recherche des meilleures parametres"
      ]
    },
    {
      "cell_type": "markdown",
      "metadata": {
        "id": "Vr3OXZpdsb2-"
      },
      "source": [
        "#### Influence de `criterion`"
      ]
    },
    {
      "cell_type": "code",
      "metadata": {
        "id": "JgXwZgqfspKX"
      },
      "source": [
        "dt_criterion_range = ['gini', 'entropy']"
      ],
      "execution_count": 148,
      "outputs": []
    },
    {
      "cell_type": "code",
      "metadata": {
        "id": "kSGAIWkFtIF6",
        "outputId": "b98b9226-734f-4c73-d3ed-19c7775fb7be",
        "colab": {
          "base_uri": "https://localhost:8080/"
        }
      },
      "source": [
        "dt_criterion_train_score, dt_criterion_val_score = validation_curve(dt_model, X_train, y_train, 'criterion', dt_criterion_range, verbose=1)\r\n",
        "\r\n",
        "dt_criterion_train_score = dt_criterion_train_score.mean(axis=1)\r\n",
        "dt_criterion_val_score = dt_criterion_val_score.mean(axis=1)"
      ],
      "execution_count": 149,
      "outputs": [
        {
          "output_type": "stream",
          "text": [
            "[Parallel(n_jobs=1)]: Using backend SequentialBackend with 1 concurrent workers.\n",
            "[Parallel(n_jobs=1)]: Done  10 out of  10 | elapsed:    1.1s finished\n"
          ],
          "name": "stderr"
        }
      ]
    },
    {
      "cell_type": "code",
      "metadata": {
        "id": "IoEi92AwtQVY",
        "outputId": "a42647eb-59c5-4d6c-c8f7-61e3905b79bc",
        "colab": {
          "base_uri": "https://localhost:8080/",
          "height": 404
        }
      },
      "source": [
        "analyse_with_bar(dt_criterion_range,\r\n",
        "                 dt_criterion_train_score, \r\n",
        "                 dt_criterion_val_score,\r\n",
        "                 'Type de criterion',\r\n",
        "                 'Précision en fonction du type de criterion')"
      ],
      "execution_count": 150,
      "outputs": [
        {
          "output_type": "display_data",
          "data": {
            "image/png": "[encoded data removed]",
            "text/plain": [
              "<Figure size 864x432 with 1 Axes>"
            ]
          },
          "metadata": {
            "tags": [],
            "needs_background": "light"
          }
        }
      ]
    },
    {
      "cell_type": "code",
      "metadata": {
        "id": "hAYkUCWvtUsf"
      },
      "source": [
        "dt_criterion_range = ['gini', 'entropy']"
      ],
      "execution_count": 151,
      "outputs": []
    },
    {
      "cell_type": "markdown",
      "metadata": {
        "id": "jPpPBalmsrRL"
      },
      "source": [
        "#### Influence de `max_depth`"
      ]
    },
    {
      "cell_type": "code",
      "metadata": {
        "id": "IgLA3VXmsv1Z"
      },
      "source": [
        "dt_depth_range = np.arange(10, 40, 5)"
      ],
      "execution_count": 152,
      "outputs": []
    },
    {
      "cell_type": "code",
      "metadata": {
        "id": "pnovLu72tcXt",
        "outputId": "c2b69820-bb0e-4ba1-d7c3-cce0af01f97a",
        "colab": {
          "base_uri": "https://localhost:8080/"
        }
      },
      "source": [
        "dt_depth_train_score, dt_depth_val_score = validation_curve(dt_model, X_train, y_train, 'max_depth', dt_depth_range, verbose=1)\r\n",
        "\r\n",
        "dt_depth_train_score = dt_depth_train_score.mean(axis=1)\r\n",
        "dt_depth_val_score = dt_depth_val_score.mean(axis=1)"
      ],
      "execution_count": 153,
      "outputs": [
        {
          "output_type": "stream",
          "text": [
            "[Parallel(n_jobs=1)]: Using backend SequentialBackend with 1 concurrent workers.\n",
            "[Parallel(n_jobs=1)]: Done  30 out of  30 | elapsed:    2.3s finished\n"
          ],
          "name": "stderr"
        }
      ]
    },
    {
      "cell_type": "code",
      "metadata": {
        "id": "XRKqjpKbti7I",
        "outputId": "1772f60f-17e5-498f-8bdd-8b0178e67d22",
        "colab": {
          "base_uri": "https://localhost:8080/",
          "height": 404
        }
      },
      "source": [
        "analyse_with_plot(dt_depth_range,\r\n",
        "                  dt_depth_train_score, \r\n",
        "                  dt_depth_val_score,\r\n",
        "                  'Nombre d\\'estimations',\r\n",
        "                  'Précision en fonction du nombre d\\'estimations')"
      ],
      "execution_count": 154,
      "outputs": [
        {
          "output_type": "display_data",
          "data": {
            "image/png": "[encoded data removed]",
            "text/plain": [
              "<Figure size 864x432 with 1 Axes>"
            ]
          },
          "metadata": {
            "tags": [],
            "needs_background": "light"
          }
        }
      ]
    },
    {
      "cell_type": "code",
      "metadata": {
        "id": "74toMtkMt9QM"
      },
      "source": [
        "dt_depth_range = np.arange(20, 40, 5)"
      ],
      "execution_count": 155,
      "outputs": []
    },
    {
      "cell_type": "markdown",
      "metadata": {
        "id": "M_aHbdDZvPW0"
      },
      "source": [
        "#### Influence de `min_samples_split`"
      ]
    },
    {
      "cell_type": "code",
      "metadata": {
        "id": "DvDP91u-vPW9"
      },
      "source": [
        "dt_min_samples_split_range = list(np.arange(2, 11, 2))"
      ],
      "execution_count": 156,
      "outputs": []
    },
    {
      "cell_type": "code",
      "metadata": {
        "colab": {
          "base_uri": "https://localhost:8080/"
        },
        "id": "cYDff3rxvPW-",
        "outputId": "074c57fd-0b6c-43dd-9040-773cec92d62e"
      },
      "source": [
        "dt_min_samples_split_train_score, dt_min_samples_split_val_score = validation_curve(dt_model, X_train, y_train, 'min_samples_split', dt_min_samples_split_range, verbose=1)\r\n",
        "\r\n",
        "dt_min_samples_split_train_score = dt_min_samples_split_train_score.mean(axis=1)\r\n",
        "dt_min_samples_split_val_score = dt_min_samples_split_val_score.mean(axis=1)"
      ],
      "execution_count": 157,
      "outputs": [
        {
          "output_type": "stream",
          "text": [
            "[Parallel(n_jobs=1)]: Using backend SequentialBackend with 1 concurrent workers.\n",
            "[Parallel(n_jobs=1)]: Done  25 out of  25 | elapsed:    1.9s finished\n"
          ],
          "name": "stderr"
        }
      ]
    },
    {
      "cell_type": "code",
      "metadata": {
        "colab": {
          "base_uri": "https://localhost:8080/",
          "height": 405
        },
        "id": "TsaUXkDyvPW-",
        "outputId": "ea5da5a8-1477-4c46-e878-1a797e380084"
      },
      "source": [
        "analyse_with_plot(dt_min_samples_split_range,\r\n",
        "                  dt_min_samples_split_train_score, \r\n",
        "                  dt_min_samples_split_val_score,\r\n",
        "                  'Nombre minimal de séparation',\r\n",
        "                  'Précision en fonction du nombre du nombre minimal de séparation')"
      ],
      "execution_count": 158,
      "outputs": [
        {
          "output_type": "display_data",
          "data": {
            "image/png": "[encoded data removed]",
            "text/plain": [
              "<Figure size 864x432 with 1 Axes>"
            ]
          },
          "metadata": {
            "tags": [],
            "needs_background": "light"
          }
        }
      ]
    },
    {
      "cell_type": "code",
      "metadata": {
        "id": "sjxjCbA1vPW_"
      },
      "source": [
        "dt_min_samples_split_range = [2]"
      ],
      "execution_count": 159,
      "outputs": []
    },
    {
      "cell_type": "markdown",
      "metadata": {
        "id": "Wiluy-SKwNFK"
      },
      "source": [
        "#### Influence de `min_samples_leaf`"
      ]
    },
    {
      "cell_type": "code",
      "metadata": {
        "id": "OF1aJHL8wNFL"
      },
      "source": [
        "dt_min_samples_leaf_range = list(np.arange(1, 5, 1))"
      ],
      "execution_count": 160,
      "outputs": []
    },
    {
      "cell_type": "code",
      "metadata": {
        "colab": {
          "base_uri": "https://localhost:8080/"
        },
        "id": "00rx-kGrwNFL",
        "outputId": "5604f3da-ceb4-4db7-f41b-dd4d56e10147"
      },
      "source": [
        "dt_min_samples_leaf_train_score, dt_min_samples_leaf_val_score = validation_curve(dt_model, X_train, y_train, 'min_samples_leaf', dt_min_samples_leaf_range, verbose=1)\r\n",
        "\r\n",
        "dt_min_samples_leaf_train_score = dt_min_samples_leaf_train_score.mean(axis=1)\r\n",
        "dt_min_samples_leaf_val_score = dt_min_samples_leaf_val_score.mean(axis=1)"
      ],
      "execution_count": 161,
      "outputs": [
        {
          "output_type": "stream",
          "text": [
            "[Parallel(n_jobs=1)]: Using backend SequentialBackend with 1 concurrent workers.\n",
            "[Parallel(n_jobs=1)]: Done  20 out of  20 | elapsed:    1.5s finished\n"
          ],
          "name": "stderr"
        }
      ]
    },
    {
      "cell_type": "code",
      "metadata": {
        "colab": {
          "base_uri": "https://localhost:8080/",
          "height": 404
        },
        "id": "_M69wgFjwNFL",
        "outputId": "2cda3ba8-5f68-40e1-d115-ec5956aace46"
      },
      "source": [
        "analyse_with_plot(dt_min_samples_leaf_range,\r\n",
        "                  dt_min_samples_leaf_train_score, \r\n",
        "                  dt_min_samples_leaf_val_score,\r\n",
        "                  'Nombre minimal de feuilles',\r\n",
        "                  'Précision en fonction du nombre du nombre minimal de feuilles')"
      ],
      "execution_count": 162,
      "outputs": [
        {
          "output_type": "display_data",
          "data": {
            "image/png": "[encoded data removed]",
            "text/plain": [
              "<Figure size 864x432 with 1 Axes>"
            ]
          },
          "metadata": {
            "tags": [],
            "needs_background": "light"
          }
        }
      ]
    },
    {
      "cell_type": "code",
      "metadata": {
        "id": "UGahS1FpwNFM"
      },
      "source": [
        "rf_min_samples_leaf_range = [1]"
      ],
      "execution_count": 163,
      "outputs": []
    },
    {
      "cell_type": "markdown",
      "metadata": {
        "id": "igqu2TmQwsm0"
      },
      "source": [
        "### Recherche du meilleur modele"
      ]
    },
    {
      "cell_type": "code",
      "metadata": {
        "colab": {
          "base_uri": "https://localhost:8080/"
        },
        "id": "RnXJ6-I0wsm1",
        "outputId": "e23289e7-8f0e-40e4-bd32-cc66f3d17341"
      },
      "source": [
        "dt_parameters = {\r\n",
        "    'criterion': rf_criterion_range,\r\n",
        "    'max_depth': rf_depth_range,\r\n",
        "    'min_samples_split': rf_min_samples_split_range,\r\n",
        "    'min_samples_leaf': rf_min_samples_leaf_range,\r\n",
        "}\r\n",
        "\r\n",
        "dt_best_param, dt_best_model = train_model(dt_model, dt_parameters, X_train, y_train)"
      ],
      "execution_count": 164,
      "outputs": [
        {
          "output_type": "stream",
          "text": [
            "Fitting 5 folds for each of 2 candidates, totalling 10 fits\n"
          ],
          "name": "stdout"
        },
        {
          "output_type": "stream",
          "text": [
            "[Parallel(n_jobs=-1)]: Using backend LokyBackend with 2 concurrent workers.\n",
            "[Parallel(n_jobs=-1)]: Done  10 out of  10 | elapsed:    0.8s finished\n"
          ],
          "name": "stderr"
        }
      ]
    },
    {
      "cell_type": "code",
      "metadata": {
        "colab": {
          "base_uri": "https://localhost:8080/"
        },
        "id": "ErQAltVAwsm2",
        "outputId": "1fa0a9a3-19af-40cc-bb79-79982946e814"
      },
      "source": [
        "print(\"Meilleurs paramètres trouvés :\")\r\n",
        "print(dt_best_param)"
      ],
      "execution_count": 165,
      "outputs": [
        {
          "output_type": "stream",
          "text": [
            "Meilleurs paramètres trouvés :\n",
            "{'criterion': 'entropy', 'max_depth': 20, 'min_samples_leaf': 1, 'min_samples_split': 2}\n"
          ],
          "name": "stdout"
        }
      ]
    },
    {
      "cell_type": "code",
      "metadata": {
        "id": "SZ2nPW7Zwsm2"
      },
      "source": [
        "dt_model = dt_best_model"
      ],
      "execution_count": 166,
      "outputs": []
    },
    {
      "cell_type": "markdown",
      "metadata": {
        "id": "pPPx-xxtw7k4"
      },
      "source": [
        "### Comparaison"
      ]
    },
    {
      "cell_type": "code",
      "metadata": {
        "id": "OEk0fefqw7k4"
      },
      "source": [
        "dt_accuracy_old = dt_accuracy"
      ],
      "execution_count": 167,
      "outputs": []
    },
    {
      "cell_type": "code",
      "metadata": {
        "colab": {
          "base_uri": "https://localhost:8080/"
        },
        "id": "ysvn9mOKw7k5",
        "outputId": "daaad4f7-0406-401a-8e5b-cbce9e7a546e"
      },
      "source": [
        "dt_accuracy = test_model(dt_model, X_train, y_train)"
      ],
      "execution_count": 168,
      "outputs": [
        {
          "output_type": "stream",
          "text": [
            "[Parallel(n_jobs=1)]: Using backend SequentialBackend with 1 concurrent workers.\n",
            "[Parallel(n_jobs=1)]: Done   5 out of   5 | elapsed:    0.6s finished\n"
          ],
          "name": "stderr"
        }
      ]
    },
    {
      "cell_type": "code",
      "metadata": {
        "colab": {
          "base_uri": "https://localhost:8080/"
        },
        "id": "sFFCNQGnw7k5",
        "outputId": "1958a740-a78d-4ab9-f954-ec2321af488b"
      },
      "source": [
        "dt_accuracy_diffrence = round(((dt_accuracy - dt_accuracy_old) * 100) / dt_accuracy_old, 2)\r\n",
        "dt_accuracy_diffrence_signe = '-' if dt_accuracy_diffrence < 0 else '+'\r\n",
        "\r\n",
        "print(f'Ancienne précision:\\t', dt_accuracy_old)\r\n",
        "print(f'Nouvelle précision:\\t', dt_accuracy, f'({dt_accuracy_diffrence_signe}{dt_accuracy_diffrence}%)')"
      ],
      "execution_count": 169,
      "outputs": [
        {
          "output_type": "stream",
          "text": [
            "Ancienne précision:\t 0.9699904122722914\n",
            "Nouvelle précision:\t 0.9845637583892618 (+1.5%)\n"
          ],
          "name": "stdout"
        }
      ]
    },
    {
      "cell_type": "markdown",
      "metadata": {
        "id": "gjEaO1uf_XBW"
      },
      "source": [
        "## Naive Bayes"
      ]
    },
    {
      "cell_type": "code",
      "metadata": {
        "id": "cnjmwCMJ_Y3U"
      },
      "source": [
        "from sklearn.naive_bayes import GaussianNB"
      ],
      "execution_count": 170,
      "outputs": []
    },
    {
      "cell_type": "code",
      "metadata": {
        "id": "2aBaAKuaGBH1"
      },
      "source": [
        "nb_model = GaussianNB()"
      ],
      "execution_count": 171,
      "outputs": []
    },
    {
      "cell_type": "markdown",
      "metadata": {
        "id": "CBYyY_AGF-8Q"
      },
      "source": [
        "### Test du model par defaut"
      ]
    },
    {
      "cell_type": "code",
      "metadata": {
        "id": "vWFW6_EMGDc7",
        "outputId": "71bf9d06-4737-43ab-c797-3d9775190235",
        "colab": {
          "base_uri": "https://localhost:8080/"
        }
      },
      "source": [
        "nb_accuracy = test_model(nb_model, X_train, y_train)"
      ],
      "execution_count": 172,
      "outputs": [
        {
          "output_type": "stream",
          "text": [
            "[Parallel(n_jobs=1)]: Using backend SequentialBackend with 1 concurrent workers.\n",
            "[Parallel(n_jobs=1)]: Done   5 out of   5 | elapsed:    0.1s finished\n"
          ],
          "name": "stderr"
        }
      ]
    },
    {
      "cell_type": "code",
      "metadata": {
        "colab": {
          "base_uri": "https://localhost:8080/"
        },
        "id": "eKDWwH-9WtH_",
        "outputId": "61ae1a01-fd49-4774-ca50-ddbb3d6a2f32"
      },
      "source": [
        "print(f'Précision:\\t', nb_accuracy)"
      ],
      "execution_count": 173,
      "outputs": [
        {
          "output_type": "stream",
          "text": [
            "Précision:\t 0.2792905081495686\n"
          ],
          "name": "stdout"
        }
      ]
    },
    {
      "cell_type": "markdown",
      "metadata": {
        "id": "T6FX3vzScknn"
      },
      "source": [
        "### Recherche de meilleurs parametres"
      ]
    },
    {
      "cell_type": "markdown",
      "metadata": {
        "id": "PaLaSAUgcoqm"
      },
      "source": [
        "#### Influence de `var_smoothing`"
      ]
    },
    {
      "cell_type": "code",
      "metadata": {
        "id": "25pZFShWcu4R"
      },
      "source": [
        "nb_smoothing_range = np.arange(1, 10, 1)"
      ],
      "execution_count": 174,
      "outputs": []
    },
    {
      "cell_type": "code",
      "metadata": {
        "id": "X6bNJ8XXdZhN",
        "outputId": "ced73fcc-26d1-4284-b2ab-65e13213783e",
        "colab": {
          "base_uri": "https://localhost:8080/"
        }
      },
      "source": [
        "nb_smoothing_train_score, nb_smoothing_val_score = validation_curve(nb_model, X_train, y_train, 'var_smoothing', nb_smoothing_range, verbose=1)\r\n",
        "\r\n",
        "nb_smoothing_train_score = nb_smoothing_train_score.mean(axis=1)\r\n",
        "nb_smoothing_val_score = nb_smoothing_val_score.mean(axis=1)"
      ],
      "execution_count": 175,
      "outputs": [
        {
          "output_type": "stream",
          "text": [
            "[Parallel(n_jobs=1)]: Using backend SequentialBackend with 1 concurrent workers.\n",
            "[Parallel(n_jobs=1)]: Done  45 out of  45 | elapsed:    1.4s finished\n"
          ],
          "name": "stderr"
        }
      ]
    },
    {
      "cell_type": "code",
      "metadata": {
        "colab": {
          "base_uri": "https://localhost:8080/",
          "height": 405
        },
        "id": "jSSZkZqQd8Cl",
        "outputId": "b5d6951c-66b7-4c83-839c-383741129330"
      },
      "source": [
        "analyse_with_plot(nb_smoothing_range,\r\n",
        "                  nb_smoothing_train_score, \r\n",
        "                  nb_smoothing_val_score,\r\n",
        "                  'Valeur de statibilité ajoutée',\r\n",
        "                  'Précision en fonction de la valeur de stabilité ajoutée')"
      ],
      "execution_count": 176,
      "outputs": [
        {
          "output_type": "display_data",
          "data": {
            "image/png": "[encoded data removed]",
            "text/plain": [
              "<Figure size 864x432 with 1 Axes>"
            ]
          },
          "metadata": {
            "tags": [],
            "needs_background": "light"
          }
        }
      ]
    },
    {
      "cell_type": "code",
      "metadata": {
        "id": "QnkbSzRs07OF"
      },
      "source": [
        "nb_smoothing_range = np.arange(1, 10, 1)"
      ],
      "execution_count": 177,
      "outputs": []
    },
    {
      "cell_type": "markdown",
      "metadata": {
        "id": "ZnMlj5mIeSrr"
      },
      "source": [
        "### Recherche du meilleur modele"
      ]
    },
    {
      "cell_type": "code",
      "metadata": {
        "colab": {
          "base_uri": "https://localhost:8080/"
        },
        "id": "zV-4C17LeV_H",
        "outputId": "8fadd719-20f2-4733-d148-e6cd292060c7"
      },
      "source": [
        "nb_parameters = {\r\n",
        "    'var_smoothing': nb_smoothing_range\r\n",
        "}\r\n",
        "\r\n",
        "nb_best_param, nb_best_model = train_model(nb_model, nb_parameters, X_train, y_train)"
      ],
      "execution_count": 178,
      "outputs": [
        {
          "output_type": "stream",
          "text": [
            "Fitting 5 folds for each of 9 candidates, totalling 45 fits\n"
          ],
          "name": "stdout"
        },
        {
          "output_type": "stream",
          "text": [
            "[Parallel(n_jobs=-1)]: Using backend LokyBackend with 2 concurrent workers.\n",
            "[Parallel(n_jobs=-1)]: Done  45 out of  45 | elapsed:    1.0s finished\n"
          ],
          "name": "stderr"
        }
      ]
    },
    {
      "cell_type": "code",
      "metadata": {
        "colab": {
          "base_uri": "https://localhost:8080/"
        },
        "id": "Y6wb6Gghebg0",
        "outputId": "a7401626-7ee4-43e9-cd25-a584e6466091"
      },
      "source": [
        "print(\"Meilleurs paramètres trouvés :\")\r\n",
        "print(nb_best_param)"
      ],
      "execution_count": 179,
      "outputs": [
        {
          "output_type": "stream",
          "text": [
            "Meilleurs paramètres trouvés :\n",
            "{'var_smoothing': 2}\n"
          ],
          "name": "stdout"
        }
      ]
    },
    {
      "cell_type": "code",
      "metadata": {
        "id": "-7qEzSBwe5zV"
      },
      "source": [
        "nb_model = nb_best_model"
      ],
      "execution_count": 180,
      "outputs": []
    },
    {
      "cell_type": "markdown",
      "metadata": {
        "id": "UMp9_Yh7e80F"
      },
      "source": [
        "### Comparaison"
      ]
    },
    {
      "cell_type": "code",
      "metadata": {
        "id": "KdycbGmue-xT"
      },
      "source": [
        "nb_accuracy_old = nb_accuracy"
      ],
      "execution_count": 181,
      "outputs": []
    },
    {
      "cell_type": "code",
      "metadata": {
        "id": "suGzD8_YfJTa",
        "outputId": "ab14c046-7fa8-4fd1-ae91-8804bb839ebc",
        "colab": {
          "base_uri": "https://localhost:8080/"
        }
      },
      "source": [
        "nb_accuracy = test_model(nb_model, X_train, y_train)"
      ],
      "execution_count": 182,
      "outputs": [
        {
          "output_type": "stream",
          "text": [
            "[Parallel(n_jobs=1)]: Using backend SequentialBackend with 1 concurrent workers.\n",
            "[Parallel(n_jobs=1)]: Done   5 out of   5 | elapsed:    0.1s finished\n"
          ],
          "name": "stderr"
        }
      ]
    },
    {
      "cell_type": "code",
      "metadata": {
        "colab": {
          "base_uri": "https://localhost:8080/"
        },
        "id": "X8unSpuTfbYN",
        "outputId": "d7d5c812-37c3-4c21-c120-2f9bf682b9b8"
      },
      "source": [
        "nb_accuracy_diffrence = round(((nb_accuracy - nb_accuracy_old) * 100) / nb_accuracy_old, 2)\r\n",
        "nb_accuracy_diffrence_signe = '-' if nb_accuracy_diffrence < 0 else '+'\r\n",
        "\r\n",
        "print(f'Ancienne précision:\\t', nb_accuracy_old)\r\n",
        "print(f'Nouvelle précision:\\t', nb_accuracy, f'({nb_accuracy_diffrence_signe}{nb_accuracy_diffrence}%)')"
      ],
      "execution_count": 183,
      "outputs": [
        {
          "output_type": "stream",
          "text": [
            "Ancienne précision:\t 0.2792905081495686\n",
            "Nouvelle précision:\t 0.412464046021093 (+47.68%)\n"
          ],
          "name": "stdout"
        }
      ]
    },
    {
      "cell_type": "markdown",
      "metadata": {
        "id": "bEngKTKJG_tW"
      },
      "source": [
        "# Evaluation des modeles"
      ]
    },
    {
      "cell_type": "markdown",
      "metadata": {
        "id": "EvV8RY0-aMYF"
      },
      "source": [
        "## Enumération des modeles"
      ]
    },
    {
      "cell_type": "code",
      "metadata": {
        "id": "mNwN6royDbuU"
      },
      "source": [
        "from sklearn.metrics import accuracy_score, confusion_matrix"
      ],
      "execution_count": 244,
      "outputs": []
    },
    {
      "cell_type": "code",
      "metadata": {
        "id": "GHp094skHBji"
      },
      "source": [
        "model_enum = {\r\n",
        "    'knn' : (knn_model, 'K-NN'),\r\n",
        "    'lr'  : (lr_model, 'Logstic Regression'),\r\n",
        "    'svm' : (svm_model, 'SVM'),\r\n",
        "    'rf'  : (rf_model, 'Random Forest'),\r\n",
        "    'dt'  : (dt_model, 'Decision Tree'),\r\n",
        "    'nb'  : (nb_model, 'Naive Bayes')\r\n",
        "}"
      ],
      "execution_count": 184,
      "outputs": []
    },
    {
      "cell_type": "markdown",
      "metadata": {
        "id": "f3I2ogM1aPsn"
      },
      "source": [
        "## Test des modeles"
      ]
    },
    {
      "cell_type": "code",
      "metadata": {
        "id": "1WLQHHzLgjZw"
      },
      "source": [
        "@ignore_warnings(category=ConvergenceWarning)\r\n",
        "def final_test(model, x1, x2, y1, y2):\r\n",
        "  model.fit(x1, y1)\r\n",
        "\r\n",
        "  predictions = model.predict(x2)\r\n",
        "  accuracy = accuracy_score(y2, predictions)\r\n",
        "\r\n",
        "  return accuracy, predictions"
      ],
      "execution_count": 233,
      "outputs": []
    },
    {
      "cell_type": "code",
      "metadata": {
        "id": "f7gFF864HGa1"
      },
      "source": [
        "# test les modele avec les données d'entrainement\r\n",
        "\r\n",
        "model_result = {}\r\n",
        "\r\n",
        "for model_name in model_enum:\r\n",
        "  model, _ = model_enum.get(model_name)\r\n",
        "\r\n",
        "  accuracy, predictions = final_test(model, X_train, X_test, y_train, y_test)\r\n",
        "\r\n",
        "  model_result[model_name] = (accuracy, predictions)"
      ],
      "execution_count": 234,
      "outputs": []
    },
    {
      "cell_type": "markdown",
      "metadata": {
        "id": "tesuLX8Fae3U"
      },
      "source": [
        "## Récupération du meilleur modele"
      ]
    },
    {
      "cell_type": "code",
      "metadata": {
        "colab": {
          "base_uri": "https://localhost:8080/"
        },
        "id": "VXhTsSzHHslE",
        "outputId": "491f3bdf-92d2-49a1-80dd-3e8b71c7d007"
      },
      "source": [
        "best_result = None\r\n",
        "\r\n",
        "for key in model_result.keys():\r\n",
        "  accuracy, predictions = model_result[key]\r\n",
        "\r\n",
        "  _, model_name = model_enum.get(key)\r\n",
        "\r\n",
        "  if best_result is None:\r\n",
        "    best_result = (key, model_name, accuracy, predictions)\r\n",
        "  else:\r\n",
        "    if best_result[2] < accuracy:\r\n",
        "      best_result = (key, model_name, accuracy, predictions)\r\n",
        "\r\n",
        "  name = model_name.ljust(18, ' ')\r\n",
        "\r\n",
        "  print(f'{key}\\t', f'{name}\\t', f'précision : {round(accuracy, 6)}')"
      ],
      "execution_count": 235,
      "outputs": [
        {
          "output_type": "stream",
          "text": [
            "knn\t K-NN              \t précision : 0.900929\n",
            "lr\t Logstic Regression\t précision : 0.538565\n",
            "svm\t SVM               \t précision : 0.868449\n",
            "rf\t Random Forest     \t précision : 0.996167\n",
            "dt\t Decision Tree     \t précision : 0.98879\n",
            "nb\t Naive Bayes       \t précision : 0.410654\n"
          ],
          "name": "stdout"
        }
      ]
    },
    {
      "cell_type": "code",
      "metadata": {
        "colab": {
          "base_uri": "https://localhost:8080/"
        },
        "id": "4hRt98BsH6Hl",
        "outputId": "2b573031-bc79-404e-c55d-26bbd690b40f"
      },
      "source": [
        "best_model_id, best_model_name, best_model_accuracy, best_model_predictions = best_result\r\n",
        "\r\n",
        "accuracy_displayed = round(best_model_accuracy * 100, 2)\r\n",
        "print(f'Meilleur model : {best_model_name} - score : {accuracy_displayed}%')\r\n",
        "\r\n",
        "best_model, _ = model_enum.get(best_model_id)"
      ],
      "execution_count": 243,
      "outputs": [
        {
          "output_type": "stream",
          "text": [
            "Meilleur model : Random Forest - score : 99.62%\n"
          ],
          "name": "stdout"
        }
      ]
    },
    {
      "cell_type": "code",
      "metadata": {
        "id": "W9r6Vwb04Jxa"
      },
      "source": [
        "conf_matrix = confusion_matrix(y_test, best_model_predictions)"
      ],
      "execution_count": 237,
      "outputs": []
    },
    {
      "cell_type": "code",
      "metadata": {
        "id": "5lmtj7I7KRjo",
        "outputId": "94f7316f-20c1-4fdc-f3d0-8474ae5c3a0b",
        "colab": {
          "base_uri": "https://localhost:8080/",
          "height": 607
        }
      },
      "source": [
        "target_names = ['A', 'B', 'C', 'D', 'E', 'F', 'G', 'H', 'I', 'W', 'X', 'Y']\r\n",
        "df_conf_matrix = pd.DataFrame(conf_matrix, columns=target_names, index=target_names)\r\n",
        "\r\n",
        "plt.figure(figsize=(12, 10))\r\n",
        "sns.heatmap(df_conf_matrix, annot=True, linewidths=.5, cmap='Blues')\r\n",
        "plt.title('Matrice de confusion des prédictions')\r\n",
        "plt.show()"
      ],
      "execution_count": 238,
      "outputs": [
        {
          "output_type": "display_data",
          "data": {
            "image/png": "[encoded data removed]",
            "text/plain": [
              "<Figure size 864x720 with 2 Axes>"
            ]
          },
          "metadata": {
            "tags": [],
            "needs_background": "light"
          }
        }
      ]
    },
    {
      "cell_type": "markdown",
      "metadata": {
        "id": "S-xfTt6udvvS"
      },
      "source": [
        "# Enregistrement"
      ]
    },
    {
      "cell_type": "code",
      "metadata": {
        "id": "Sme-6z5tcz3d"
      },
      "source": [
        "import joblib"
      ],
      "execution_count": 245,
      "outputs": []
    },
    {
      "cell_type": "code",
      "metadata": {
        "colab": {
          "base_uri": "https://localhost:8080/"
        },
        "id": "PmXENGikd3o0",
        "outputId": "f3489933-724c-4271-d1c2-8ec55357f471"
      },
      "source": [
        "model_filename = 'model.sav'\r\n",
        "\r\n",
        "joblib.dump(best_model, model_filename, compress=3)"
      ],
      "execution_count": 247,
      "outputs": [
        {
          "output_type": "execute_result",
          "data": {
            "text/plain": [
              "['model.sav']"
            ]
          },
          "metadata": {
            "tags": []
          },
          "execution_count": 247
        }
      ]
    },
    {
      "cell_type": "markdown",
      "metadata": {
        "id": "1PVtBJWdeDfo"
      },
      "source": [
        "# Chargement"
      ]
    },
    {
      "cell_type": "code",
      "metadata": {
        "id": "APKOGpJ_eB4U"
      },
      "source": [
        "loaded_model = joblib.load(model_filename)"
      ],
      "execution_count": 248,
      "outputs": []
    },
    {
      "cell_type": "code",
      "metadata": {
        "colab": {
          "base_uri": "https://localhost:8080/"
        },
        "id": "zyPW4Uh9eLG8",
        "outputId": "4321b40a-6c36-4a5f-be56-e84a41f1a384"
      },
      "source": [
        "# resultat attendu : I\r\n",
        "# 0.624046, -0.071406, 0.221401, -0.586246, 0.887365, -0.889332, -1.25209, 0.116938, 1.373706, 0.021326, I\r\n",
        "x = [[0.624046, -0.071406, 0.221401, -0.586246, 0.887365, 0.116938, 1.373706, 0.021326]]\r\n",
        "\r\n",
        "predictions = loaded_model.predict(x)\r\n",
        "probability = loaded_model.predict_proba(x)\r\n",
        "\r\n",
        "results = list(zip(predictions, [max(p) for p in probability]))\r\n",
        "\r\n",
        "print('Prédictions :')\r\n",
        "for r in results:\r\n",
        "  print(f'- classe: {r[0]}\\t', f'précision: {r[1]}')"
      ],
      "execution_count": 249,
      "outputs": [
        {
          "output_type": "stream",
          "text": [
            "Prédictions :\n",
            "- classe: I\t précision: 1.0\n"
          ],
          "name": "stdout"
        }
      ]
    }
  ]
}